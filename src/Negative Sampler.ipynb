{
 "cells": [
  {
   "cell_type": "code",
   "execution_count": 68,
   "id": "funded-anchor",
   "metadata": {},
   "outputs": [],
   "source": [
    "import json\n",
    "import os\n",
    "import random\n",
    "import csv"
   ]
  },
  {
   "cell_type": "code",
   "execution_count": 17,
   "id": "mexican-front",
   "metadata": {},
   "outputs": [],
   "source": [
    "def get_metadata():\n",
    "    with open('../data/arxiv-metadata-oai-snapshot.json') as f:\n",
    "        for line in f:\n",
    "            yield line"
   ]
  },
  {
   "cell_type": "code",
   "execution_count": 18,
   "id": "center-argentina",
   "metadata": {},
   "outputs": [],
   "source": [
    "metadata = get_metadata()\n",
    "papers = []\n",
    "\n",
    "for paper in metadata:\n",
    "    papers.append(json.loads(paper))"
   ]
  },
  {
   "cell_type": "code",
   "execution_count": 49,
   "id": "positive-emission",
   "metadata": {
    "scrolled": true
   },
   "outputs": [],
   "source": [
    "cs_papers = []\n",
    "\n",
    "for paper in papers:\n",
    "    if 'cs.' in paper['categories'].split(' ')[0] and not 'physics' in paper['categories'] and '2020' in paper['update_date'] and 'cs.CL' not in paper['categories']:\n",
    "        cs_papers.append(paper)"
   ]
  },
  {
   "cell_type": "code",
   "execution_count": 50,
   "id": "banned-hardwood",
   "metadata": {},
   "outputs": [],
   "source": [
    "papers_by_cat = {}\n",
    "exclusions = ['cs.IR', 'cs.CL', 'cs.CY', 'cs.SI', 'cs.GL']\n",
    "for paper in cs_papers:\n",
    "    \n",
    "    cat = paper['categories'].split(' ')[0]\n",
    "    \n",
    "    if cat not in exclusions:\n",
    "        try:\n",
    "            papers_by_cat[cat].append(paper)\n",
    "        except:\n",
    "            papers_by_cat.update({cat:[paper]})\n"
   ]
  },
  {
   "cell_type": "code",
   "execution_count": 51,
   "id": "designed-third",
   "metadata": {},
   "outputs": [
    {
     "name": "stdout",
     "output_type": "stream",
     "text": [
      "cs.HC 1128\n",
      "cs.CG 426\n",
      "cs.IT 2900\n",
      "cs.NI 1480\n",
      "cs.OH 103\n",
      "cs.DS 1804\n",
      "cs.DM 400\n",
      "cs.CC 467\n",
      "cs.GT 754\n",
      "cs.SC 89\n",
      "cs.NA 33\n",
      "cs.AI 1851\n",
      "cs.DB 637\n",
      "cs.PL 511\n",
      "cs.RO 2758\n",
      "cs.CV 11357\n",
      "cs.CR 2595\n",
      "cs.SD 483\n",
      "cs.SY 235\n",
      "cs.LO 1010\n",
      "cs.GR 314\n",
      "cs.LG 11966\n",
      "cs.NE 818\n",
      "cs.FL 276\n",
      "cs.DC 1567\n",
      "cs.SE 1180\n",
      "cs.MS 129\n",
      "cs.CE 383\n",
      "cs.DL 260\n",
      "cs.MM 197\n",
      "cs.AR 279\n",
      "cs.ET 203\n",
      "cs.MA 276\n",
      "cs.OS 52\n",
      "cs.PF 145\n"
     ]
    }
   ],
   "source": [
    "for k in papers_by_cat:\n",
    "    print(k, len(papers_by_cat[k]))"
   ]
  },
  {
   "cell_type": "code",
   "execution_count": 64,
   "id": "democratic-singer",
   "metadata": {},
   "outputs": [],
   "source": [
    "negative_sample = []\n",
    "n = 20\n",
    "\n",
    "for k,v in papers_by_cat.items():\n",
    "    negative_sample += random.sample(v, n)\n",
    "    "
   ]
  },
  {
   "cell_type": "code",
   "execution_count": 65,
   "id": "conventional-violin",
   "metadata": {},
   "outputs": [
    {
     "name": "stdout",
     "output_type": "stream",
     "text": [
      "700\n"
     ]
    }
   ],
   "source": [
    "print(len(negative_sample))"
   ]
  },
  {
   "cell_type": "code",
   "execution_count": 72,
   "id": "configured-pharmacy",
   "metadata": {},
   "outputs": [],
   "source": [
    "# title,abstract,authors,pdf_url,url,label1,label2\n",
    "\n",
    "label = 11\n",
    "output = []\n",
    "\n",
    "for paper in negative_sample:\n",
    "    output.append({\n",
    "        'title': paper['title'],\n",
    "        'abstract' : paper['abstract'].replace('\\n', ''),\n",
    "        'authors' : paper['authors'],\n",
    "        'pdf_url' : None,\n",
    "        'url' : None,\n",
    "        'label1' : label,\n",
    "        'label2' : None\n",
    "    })"
   ]
  },
  {
   "cell_type": "code",
   "execution_count": 73,
   "id": "metric-country",
   "metadata": {},
   "outputs": [],
   "source": [
    "with open('../data/EMNLP2020_negative.csv', 'w', newline='', encoding=\"utf-8\") as f:\n",
    "    dict_writer = csv.DictWriter(f, output[0].keys())\n",
    "    dict_writer.writeheader()\n",
    "    dict_writer.writerows(output)"
   ]
  },
  {
   "cell_type": "code",
   "execution_count": null,
   "id": "crazy-lottery",
   "metadata": {},
   "outputs": [],
   "source": []
  }
 ],
 "metadata": {
  "kernelspec": {
   "display_name": "Python 3",
   "language": "python",
   "name": "python3"
  },
  "language_info": {
   "codemirror_mode": {
    "name": "ipython",
    "version": 3
   },
   "file_extension": ".py",
   "mimetype": "text/x-python",
   "name": "python",
   "nbconvert_exporter": "python",
   "pygments_lexer": "ipython3",
   "version": "3.6.12"
  }
 },
 "nbformat": 4,
 "nbformat_minor": 5
}
