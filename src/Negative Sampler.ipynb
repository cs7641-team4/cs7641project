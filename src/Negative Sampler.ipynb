{
 "cells": [
  {
   "cell_type": "code",
   "execution_count": 1,
   "id": "funded-anchor",
   "metadata": {},
   "outputs": [],
   "source": [
    "import json\n",
    "import os\n",
    "import random\n",
    "import csv"
   ]
  },
  {
   "cell_type": "code",
   "execution_count": 2,
   "id": "mexican-front",
   "metadata": {},
   "outputs": [],
   "source": [
    "def get_metadata():\n",
    "    with open('../data/arxiv-metadata-oai-snapshot.json') as f:\n",
    "        for line in f:\n",
    "            yield line"
   ]
  },
  {
   "cell_type": "code",
   "execution_count": 4,
   "id": "center-argentina",
   "metadata": {},
   "outputs": [],
   "source": [
    "metadata = get_metadata()\n",
    "papers = []\n",
    "\n",
    "for paper in metadata:\n",
    "    papers.append(json.loads(paper))"
   ]
  },
  {
   "cell_type": "code",
   "execution_count": 5,
   "id": "positive-emission",
   "metadata": {
    "scrolled": true
   },
   "outputs": [],
   "source": [
    "cs_papers = []\n",
    "\n",
    "for paper in papers:\n",
    "    if 'cs.' in paper['categories'].split(' ')[0] and not 'physics' in paper['categories'] and '2020' in paper['update_date'] and 'cs.CL' not in paper['categories']:\n",
    "        cs_papers.append(paper)"
   ]
  },
  {
   "cell_type": "code",
   "execution_count": 6,
   "id": "banned-hardwood",
   "metadata": {},
   "outputs": [],
   "source": [
    "papers_by_cat = {}\n",
    "exclusions = ['cs.IR', 'cs.CL', 'cs.CY', 'cs.SI', 'cs.GL']\n",
    "for paper in cs_papers:\n",
    "    \n",
    "    cat = paper['categories'].split(' ')[0]\n",
    "    \n",
    "    if cat not in exclusions:\n",
    "        try:\n",
    "            papers_by_cat[cat].append(paper)\n",
    "        except:\n",
    "            papers_by_cat.update({cat:[paper]})\n"
   ]
  },
  {
   "cell_type": "code",
   "execution_count": 7,
   "id": "designed-third",
   "metadata": {},
   "outputs": [
    {
     "name": "stdout",
     "output_type": "stream",
     "text": [
      "cs.HC 1128\n",
      "cs.CG 426\n",
      "cs.IT 2900\n",
      "cs.NI 1480\n",
      "cs.OH 103\n",
      "cs.DS 1804\n",
      "cs.DM 400\n",
      "cs.CC 467\n",
      "cs.GT 754\n",
      "cs.SC 89\n",
      "cs.NA 33\n",
      "cs.AI 1851\n",
      "cs.DB 637\n",
      "cs.PL 511\n",
      "cs.RO 2758\n",
      "cs.CV 11357\n",
      "cs.CR 2595\n",
      "cs.SD 483\n",
      "cs.SY 235\n",
      "cs.LO 1010\n",
      "cs.GR 314\n",
      "cs.LG 11966\n",
      "cs.NE 818\n",
      "cs.FL 276\n",
      "cs.DC 1567\n",
      "cs.SE 1180\n",
      "cs.MS 129\n",
      "cs.CE 383\n",
      "cs.DL 260\n",
      "cs.MM 197\n",
      "cs.AR 279\n",
      "cs.ET 203\n",
      "cs.MA 276\n",
      "cs.OS 52\n",
      "cs.PF 145\n"
     ]
    }
   ],
   "source": [
    "for k in papers_by_cat:\n",
    "    print(k, len(papers_by_cat[k]))"
   ]
  },
  {
   "cell_type": "code",
   "execution_count": 8,
   "id": "democratic-singer",
   "metadata": {},
   "outputs": [],
   "source": [
    "negative_sample = []\n",
    "n = 20\n",
    "\n",
    "for k,v in papers_by_cat.items():\n",
    "    negative_sample += random.sample(v, n)\n",
    "    "
   ]
  },
  {
   "cell_type": "code",
   "execution_count": 9,
   "id": "conventional-violin",
   "metadata": {},
   "outputs": [
    {
     "name": "stdout",
     "output_type": "stream",
     "text": [
      "700\n"
     ]
    }
   ],
   "source": [
    "print(len(negative_sample))"
   ]
  },
  {
   "cell_type": "code",
   "execution_count": 21,
   "id": "configured-pharmacy",
   "metadata": {},
   "outputs": [],
   "source": [
    "# title,abstract,authors,pdf_url,url,label1,label2\n",
    "\n",
    "label = 11\n",
    "output = []\n",
    "\n",
    "for paper in negative_sample:\n",
    "    output.append({\n",
    "        'title': paper['title'].replace('\\n', ' '),\n",
    "        'abstract' : paper['abstract'].replace('\\n', ' '),\n",
    "        'authors' : paper['authors'].replace('\\n', ' '),\n",
    "        'pdf_url' : None,\n",
    "        'url' : None,\n",
    "        'label1' : label,\n",
    "        'label2' : None\n",
    "    })"
   ]
  },
  {
   "cell_type": "code",
   "execution_count": 22,
   "id": "metric-country",
   "metadata": {},
   "outputs": [],
   "source": [
    "with open('../data/EMNLP2020_negative.csv', 'w', newline='', encoding=\"utf-8\") as f:\n",
    "    dict_writer = csv.DictWriter(f, output[0].keys())\n",
    "    dict_writer.writeheader()\n",
    "    dict_writer.writerows(output)"
   ]
  },
  {
   "cell_type": "code",
   "execution_count": 23,
   "id": "crazy-lottery",
   "metadata": {},
   "outputs": [
    {
     "data": {
      "text/plain": [
       "\"  Bulk email is a primary communication channel within organizations, with all-company messages and regular newsletters serving as a mechanism for making employees aware of policies, events, and other needed messages. Ineffective communication could result in substantial wasted employee time and lack of awareness or compliance. Previous studies on organizational emails focused mostly on recipients. However, organizational bulk email systems are a multi-stakeholder problem including recipients, communicators, and organization itself. Thus we study the effectiveness, experience, practice, and assessments of organizational bulk email systems from different stakeholders' perspectives.   We conducted a quantitative study within a large organization to understand the extent to which the recipients retained the messages from the organizational bulk emails they received.   We conducted a qualitative study with communicators and recipients within the organization. We delved into the bulk email distributing mechanisms of the communicators, the reading behaviors of recipients, and the bulk emails' values from communicators and recipients' points of view.   We found that the recipients were not retaining most of the messages from the bulk emails though they opened a large number of them. The tools for designing and distributing organizational bulk email for communicators were very limited. The assessments on bulk emails' values and effectiveness were different between communicators and recipients. We discussed possible solutions that could improve organizational bulk emails' designing and distributing mechanisms. \""
      ]
     },
     "execution_count": 23,
     "metadata": {},
     "output_type": "execute_result"
    }
   ],
   "source": [
    "output[11]['abstract']"
   ]
  },
  {
   "cell_type": "code",
   "execution_count": null,
   "id": "first-merit",
   "metadata": {},
   "outputs": [],
   "source": []
  }
 ],
 "metadata": {
  "kernelspec": {
   "display_name": "Python 3",
   "language": "python",
   "name": "python3"
  },
  "language_info": {
   "codemirror_mode": {
    "name": "ipython",
    "version": 3
   },
   "file_extension": ".py",
   "mimetype": "text/x-python",
   "name": "python",
   "nbconvert_exporter": "python",
   "pygments_lexer": "ipython3",
   "version": "3.6.12"
  }
 },
 "nbformat": 4,
 "nbformat_minor": 5
}
