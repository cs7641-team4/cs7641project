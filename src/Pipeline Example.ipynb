{
 "cells": [
  {
   "cell_type": "code",
   "execution_count": 6,
   "id": "ranking-bermuda",
   "metadata": {},
   "outputs": [],
   "source": [
    "from LanguageModels.Word2Vec import Word2Vec\n",
    "from LanguageModels.BagOfWords import BagOfWords\n",
    "from LanguageModels.CustomWord2Vec import CustomWord2Vec\n",
    "from Preprocessing.LemmatizerPreprocessor import LemmatizerPreprocessor\n",
    "from Preprocessing.DataLoader import DataLoader\n",
    "import numpy as np"
   ]
  },
  {
   "cell_type": "code",
   "execution_count": 7,
   "id": "angry-passenger",
   "metadata": {},
   "outputs": [],
   "source": [
    "# Load data\n",
    "data = DataLoader('../data/EMNLP2020.csv').load()"
   ]
  },
  {
   "cell_type": "code",
   "execution_count": 8,
   "id": "strange-bloom",
   "metadata": {},
   "outputs": [],
   "source": [
    "# Load preprocessor\n",
    "lp = LemmatizerPreprocessor()"
   ]
  },
  {
   "cell_type": "code",
   "execution_count": 12,
   "id": "toxic-mobile",
   "metadata": {},
   "outputs": [],
   "source": [
    "#### Load language model\n",
    "\n",
    "## Word2Vec Pretrained\n",
    "# !wget http://nlp.stanford.edu/data/glove.6B.zip\n",
    "# w2v = Word2Vec(path='../data/glove.6B/glove.6B.200d.txt') \n",
    "\n",
    "## Word2Vec Pretrained + Finetuned\n",
    "# w2v = CustomWord2Vec('../data/glove.6B/glove.6B.200d.finetuned.p')\n",
    "\n",
    "\n",
    "## Custom word2vec\n",
    "w2v = CustomWord2Vec('../data/customw2v.p')\n",
    "\n",
    "## Bag Of Words\n",
    "# bow = BagOfWords()"
   ]
  },
  {
   "cell_type": "code",
   "execution_count": 14,
   "id": "refined-offense",
   "metadata": {},
   "outputs": [
    {
     "data": {
      "application/vnd.jupyter.widget-view+json": {
       "model_id": "8f8354f8d67042739ddcd5fbc8542fee",
       "version_major": 2,
       "version_minor": 0
      },
      "text/plain": [
       "  0%|          | 0/1450 [00:00<?, ?it/s]"
      ]
     },
     "metadata": {},
     "output_type": "display_data"
    },
    {
     "name": "stdout",
     "output_type": "stream",
     "text": [
      "(1327, 13) (1327, 2)\n"
     ]
    },
    {
     "data": {
      "application/vnd.jupyter.widget-view+json": {
       "model_id": "28f1deee086c46eab2a14efc7e7151ac",
       "version_major": 2,
       "version_minor": 0
      },
      "text/plain": [
       "  0%|          | 0/1450 [00:00<?, ?it/s]"
      ]
     },
     "metadata": {},
     "output_type": "display_data"
    },
    {
     "name": "stdout",
     "output_type": "stream",
     "text": [
      "(1327, 13) (1327, 1) [11]\n"
     ]
    },
    {
     "data": {
      "application/vnd.jupyter.widget-view+json": {
       "model_id": "733d649119754ad49b847082daefa6bd",
       "version_major": 2,
       "version_minor": 0
      },
      "text/plain": [
       "  0%|          | 0/1450 [00:00<?, ?it/s]"
      ]
     },
     "metadata": {},
     "output_type": "display_data"
    },
    {
     "name": "stdout",
     "output_type": "stream",
     "text": [
      "(1327, 13) (1327, 1) [1]\n"
     ]
    }
   ],
   "source": [
    "# apply preprocessing and vectorization to create text features\n",
    "\n",
    "#### multilabel case\n",
    "X_multilabel, y_multilabel = w2v.featurize(data, lp, mode='multilabel')\n",
    "# X, y = bow.featurize(data, lp, mode='multilabel')\n",
    "\n",
    "print(X_multilabel.shape, y_multilabel.shape)\n",
    "\n",
    "#### multiclass case\n",
    "X_multiclass, y_multiclass = w2v.featurize(data, lp, mode='multiclass')\n",
    "# X, y = bow.featurize(data, lp, mode='multiclass')\n",
    "\n",
    "print(X_multiclass.shape, y_multiclass.shape, max(y_multiclass))\n",
    "\n",
    "#### binary case (note 0=in conference, 1=not in conference)\n",
    "X_binary, y_binary = w2v.featurize(data, lp, mode='binary')\n",
    "# X, y = bow.featurize(data, lp, mode='binary')\n",
    "\n",
    "print(X_binary.shape, y_binary.shape, max(y_binary))"
   ]
  },
  {
   "cell_type": "code",
   "execution_count": null,
   "id": "homeless-sperm",
   "metadata": {},
   "outputs": [],
   "source": []
  }
 ],
 "metadata": {
  "kernelspec": {
   "display_name": "Python 3",
   "language": "python",
   "name": "python3"
  },
  "language_info": {
   "codemirror_mode": {
    "name": "ipython",
    "version": 3
   },
   "file_extension": ".py",
   "mimetype": "text/x-python",
   "name": "python",
   "nbconvert_exporter": "python",
   "pygments_lexer": "ipython3",
   "version": "3.6.12"
  }
 },
 "nbformat": 4,
 "nbformat_minor": 5
}
