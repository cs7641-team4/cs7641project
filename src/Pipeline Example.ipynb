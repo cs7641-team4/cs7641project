{
 "cells": [
  {
   "cell_type": "code",
   "execution_count": 1,
   "id": "quarterly-experiment",
   "metadata": {},
   "outputs": [
    {
     "name": "stderr",
     "output_type": "stream",
     "text": [
      "[nltk_data] Downloading package wordnet to\n",
      "[nltk_data]     C:\\Users\\Ryan\\AppData\\Roaming\\nltk_data...\n",
      "[nltk_data]   Package wordnet is already up-to-date!\n",
      "[nltk_data] Downloading package punkt to\n",
      "[nltk_data]     C:\\Users\\Ryan\\AppData\\Roaming\\nltk_data...\n",
      "[nltk_data]   Package punkt is already up-to-date!\n",
      "[nltk_data] Downloading package stopwords to\n",
      "[nltk_data]     C:\\Users\\Ryan\\AppData\\Roaming\\nltk_data...\n",
      "[nltk_data]   Package stopwords is already up-to-date!\n",
      "[nltk_data] Downloading package averaged_perceptron_tagger to\n",
      "[nltk_data]     C:\\Users\\Ryan\\AppData\\Roaming\\nltk_data...\n",
      "[nltk_data]   Package averaged_perceptron_tagger is already up-to-\n",
      "[nltk_data]       date!\n"
     ]
    }
   ],
   "source": [
    "from LanguageModels.Word2Vec import Word2Vec\n",
    "from Preprocessing.LemmatizerPreprocessor import LemmatizerPreprocessor\n",
    "from Preprocessing.DataLoader import DataLoader\n",
    "import numpy as np"
   ]
  },
  {
   "cell_type": "code",
   "execution_count": 2,
   "id": "cosmetic-number",
   "metadata": {},
   "outputs": [],
   "source": [
    "# Load data\n",
    "data = DataLoader('../data/EMNLP2020.csv').load()"
   ]
  },
  {
   "cell_type": "code",
   "execution_count": 3,
   "id": "departmental-wellington",
   "metadata": {},
   "outputs": [],
   "source": [
    "# Load preprocessor\n",
    "lp = LemmatizerPreprocessor()"
   ]
  },
  {
   "cell_type": "code",
   "execution_count": 4,
   "id": "powered-spray",
   "metadata": {},
   "outputs": [],
   "source": [
    "# Load language model\n",
    "# !wget http://nlp.stanford.edu/data/glove.6B.zip\n",
    "w2v = Word2Vec(path='../data/glove.6B/glove.6B.200d.txt') "
   ]
  },
  {
   "cell_type": "code",
   "execution_count": 10,
   "id": "residential-brief",
   "metadata": {},
   "outputs": [
    {
     "data": {
      "application/vnd.jupyter.widget-view+json": {
       "model_id": "7e8dd02c06be4e118d5f16b6059bd8b5",
       "version_major": 2,
       "version_minor": 0
      },
      "text/plain": [
       "  0%|          | 0/1450 [00:00<?, ?it/s]"
      ]
     },
     "metadata": {},
     "output_type": "display_data"
    },
    {
     "name": "stdout",
     "output_type": "stream",
     "text": [
      "(1327, 200) (1327, 2)\n"
     ]
    },
    {
     "data": {
      "application/vnd.jupyter.widget-view+json": {
       "model_id": "9833c033cc904ff39d7af015c673cc3a",
       "version_major": 2,
       "version_minor": 0
      },
      "text/plain": [
       "  0%|          | 0/1450 [00:00<?, ?it/s]"
      ]
     },
     "metadata": {},
     "output_type": "display_data"
    },
    {
     "name": "stdout",
     "output_type": "stream",
     "text": [
      "(1327, 200) (1327, 1) [11]\n"
     ]
    },
    {
     "data": {
      "application/vnd.jupyter.widget-view+json": {
       "model_id": "5e6578c5fed84e319ea8e5875ca13efc",
       "version_major": 2,
       "version_minor": 0
      },
      "text/plain": [
       "  0%|          | 0/1450 [00:00<?, ?it/s]"
      ]
     },
     "metadata": {},
     "output_type": "display_data"
    },
    {
     "name": "stdout",
     "output_type": "stream",
     "text": [
      "(1327, 200) (1327, 1) [1]\n"
     ]
    }
   ],
   "source": [
    "# apply preprocessing and vectorization to create text features\n",
    "\n",
    "# multilabel case\n",
    "X, y = w2v.featurize(data, lp, mode='multilabel')\n",
    "\n",
    "print(X.shape, y.shape)\n",
    "\n",
    "# multiclass case\n",
    "X, y = w2v.featurize(data, lp, mode='multiclass')\n",
    "\n",
    "print(X.shape, y.shape, max(y))\n",
    "\n",
    "# binary case (note 0=in conference, 1=not in conference)\n",
    "X, y = w2v.featurize(data, lp, mode='binary')\n",
    "\n",
    "print(X.shape, y.shape, max(y))"
   ]
  },
  {
   "cell_type": "code",
   "execution_count": null,
   "id": "entertaining-sending",
   "metadata": {},
   "outputs": [],
   "source": []
  }
 ],
 "metadata": {
  "kernelspec": {
   "display_name": "Python 3",
   "language": "python",
   "name": "python3"
  },
  "language_info": {
   "codemirror_mode": {
    "name": "ipython",
    "version": 3
   },
   "file_extension": ".py",
   "mimetype": "text/x-python",
   "name": "python",
   "nbconvert_exporter": "python",
   "pygments_lexer": "ipython3",
   "version": "3.6.12"
  }
 },
 "nbformat": 4,
 "nbformat_minor": 5
}
