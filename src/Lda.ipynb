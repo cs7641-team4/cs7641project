{
  "nbformat": 4,
  "nbformat_minor": 0,
  "metadata": {
    "colab": {
      "name": "Lda.ipynb",
      "provenance": [],
      "include_colab_link": true
    },
    "kernelspec": {
      "name": "python3",
      "display_name": "Python 3"
    },
    "language_info": {
      "name": "python"
    }
  },
  "cells": [
    {
      "cell_type": "markdown",
      "metadata": {
        "id": "view-in-github",
        "colab_type": "text"
      },
      "source": [
        "<a href=\"https://colab.research.google.com/github/cs7641-team4/cs7641project/blob/main/Lda.ipynb\" target=\"_parent\"><img src=\"https://colab.research.google.com/assets/colab-badge.svg\" alt=\"Open In Colab\"/></a>"
      ]
    },
    {
      "cell_type": "code",
      "metadata": {
        "colab": {
          "base_uri": "https://localhost:8080/"
        },
        "id": "A1RKKUlW6Qtf",
        "outputId": "a644656d-1fa9-441d-fe7c-4af0d78e8be8"
      },
      "source": [
        "!pip install pyLDAvis"
      ],
      "execution_count": 1,
      "outputs": [
        {
          "output_type": "stream",
          "text": [
            "Requirement already satisfied: pyLDAvis in /usr/local/lib/python3.7/dist-packages (3.3.1)\n",
            "Requirement already satisfied: scipy in /usr/local/lib/python3.7/dist-packages (from pyLDAvis) (1.4.1)\n",
            "Requirement already satisfied: funcy in /usr/local/lib/python3.7/dist-packages (from pyLDAvis) (1.15)\n",
            "Requirement already satisfied: scikit-learn in /usr/local/lib/python3.7/dist-packages (from pyLDAvis) (0.22.2.post1)\n",
            "Requirement already satisfied: numexpr in /usr/local/lib/python3.7/dist-packages (from pyLDAvis) (2.7.3)\n",
            "Requirement already satisfied: pandas>=1.2.0 in /usr/local/lib/python3.7/dist-packages (from pyLDAvis) (1.2.3)\n",
            "Requirement already satisfied: gensim in /usr/local/lib/python3.7/dist-packages (from pyLDAvis) (3.6.0)\n",
            "Requirement already satisfied: setuptools in /usr/local/lib/python3.7/dist-packages (from pyLDAvis) (54.2.0)\n",
            "Requirement already satisfied: sklearn in /usr/local/lib/python3.7/dist-packages (from pyLDAvis) (0.0)\n",
            "Requirement already satisfied: jinja2 in /usr/local/lib/python3.7/dist-packages (from pyLDAvis) (2.11.3)\n",
            "Requirement already satisfied: future in /usr/local/lib/python3.7/dist-packages (from pyLDAvis) (0.16.0)\n",
            "Requirement already satisfied: joblib in /usr/local/lib/python3.7/dist-packages (from pyLDAvis) (1.0.1)\n",
            "Requirement already satisfied: numpy>=1.20.0 in /usr/local/lib/python3.7/dist-packages (from pyLDAvis) (1.20.2)\n",
            "Requirement already satisfied: python-dateutil>=2.7.3 in /usr/local/lib/python3.7/dist-packages (from pandas>=1.2.0->pyLDAvis) (2.8.1)\n",
            "Requirement already satisfied: pytz>=2017.3 in /usr/local/lib/python3.7/dist-packages (from pandas>=1.2.0->pyLDAvis) (2018.9)\n",
            "Requirement already satisfied: six>=1.5.0 in /usr/local/lib/python3.7/dist-packages (from gensim->pyLDAvis) (1.15.0)\n",
            "Requirement already satisfied: smart-open>=1.2.1 in /usr/local/lib/python3.7/dist-packages (from gensim->pyLDAvis) (4.2.0)\n",
            "Requirement already satisfied: MarkupSafe>=0.23 in /usr/local/lib/python3.7/dist-packages (from jinja2->pyLDAvis) (1.1.1)\n"
          ],
          "name": "stdout"
        }
      ]
    },
    {
      "cell_type": "code",
      "metadata": {
        "colab": {
          "base_uri": "https://localhost:8080/"
        },
        "id": "Ag0Lxawa6BI6",
        "outputId": "c9aad0da-448b-489e-bcce-5c774c285107"
      },
      "source": [
        "#import numpy as np\n",
        "\n",
        "import warnings\n",
        "warnings.filterwarnings(action='once')\n",
        "\n",
        "\n",
        "import pyLDAvis\n",
        "\n",
        "import gensim\n",
        "from gensim import corpora\n",
        "from gensim.models import CoherenceModel\n",
        "\n",
        "import pyLDAvis.gensim_models as gensimvis\n",
        "\n",
        "import re\n",
        "import nltk\n",
        "nltk.download('punkt')\n",
        "nltk.download('stopwords')\n",
        "nltk.download('averaged_perceptron_tagger')\n",
        "from nltk.tokenize import word_tokenize\n",
        "from nltk.probability import FreqDist\n",
        "from nltk.corpus import stopwords\n",
        "\n",
        "from nltk.stem import WordNetLemmatizer \n",
        "lemmatizer = WordNetLemmatizer() \n",
        "nltk.download('wordnet')\n",
        "\n",
        "import pandas as pd\n",
        "\n"
      ],
      "execution_count": 31,
      "outputs": [
        {
          "output_type": "stream",
          "text": [
            "[nltk_data] Downloading package punkt to /root/nltk_data...\n",
            "[nltk_data]   Package punkt is already up-to-date!\n",
            "[nltk_data] Downloading package stopwords to /root/nltk_data...\n",
            "[nltk_data]   Package stopwords is already up-to-date!\n",
            "[nltk_data] Downloading package averaged_perceptron_tagger to\n",
            "[nltk_data]     /root/nltk_data...\n",
            "[nltk_data]   Package averaged_perceptron_tagger is already up-to-\n",
            "[nltk_data]       date!\n",
            "[nltk_data] Downloading package wordnet to /root/nltk_data...\n",
            "[nltk_data]   Package wordnet is already up-to-date!\n"
          ],
          "name": "stdout"
        }
      ]
    },
    {
      "cell_type": "code",
      "metadata": {
        "colab": {
          "base_uri": "https://localhost:8080/",
          "height": 323
        },
        "id": "gJZ3z3cb9jUx",
        "outputId": "2dbb4879-8e42-468e-d330-4285fbca7a23"
      },
      "source": [
        "#get url of dataset and load it into a dataframe\n",
        "url = 'https://raw.githubusercontent.com/cs7641-team4/cs7641project/main/data/EMNLP2020.csv'\n",
        "data = pd.read_csv(url)\n",
        "data.head()"
      ],
      "execution_count": 3,
      "outputs": [
        {
          "output_type": "execute_result",
          "data": {
            "text/html": [
              "<div>\n",
              "<style scoped>\n",
              "    .dataframe tbody tr th:only-of-type {\n",
              "        vertical-align: middle;\n",
              "    }\n",
              "\n",
              "    .dataframe tbody tr th {\n",
              "        vertical-align: top;\n",
              "    }\n",
              "\n",
              "    .dataframe thead th {\n",
              "        text-align: right;\n",
              "    }\n",
              "</style>\n",
              "<table border=\"1\" class=\"dataframe\">\n",
              "  <thead>\n",
              "    <tr style=\"text-align: right;\">\n",
              "      <th></th>\n",
              "      <th>title</th>\n",
              "      <th>abstract</th>\n",
              "      <th>authors</th>\n",
              "      <th>pdf_url</th>\n",
              "      <th>url</th>\n",
              "      <th>label1</th>\n",
              "      <th>label2</th>\n",
              "    </tr>\n",
              "  </thead>\n",
              "  <tbody>\n",
              "    <tr>\n",
              "      <th>0</th>\n",
              "      <td>Blank Language Models</td>\n",
              "      <td>We propose Blank Language Model (BLM), a model...</td>\n",
              "      <td>['Tianxiao Shen', 'Victor Quach', 'Regina Barz...</td>\n",
              "      <td>https://www.aclweb.org/anthology/2020.emnlp-ma...</td>\n",
              "      <td>https://www.aclweb.org/anthology/2020.emnlp-ma...</td>\n",
              "      <td>2.0</td>\n",
              "      <td>4.0</td>\n",
              "    </tr>\n",
              "    <tr>\n",
              "      <th>1</th>\n",
              "      <td>Acrostic Poem Generation</td>\n",
              "      <td>We propose a new task in the area of computati...</td>\n",
              "      <td>['Rajat Agarwal', 'Katharina Kann']</td>\n",
              "      <td>https://www.aclweb.org/anthology/2020.emnlp-ma...</td>\n",
              "      <td>https://www.aclweb.org/anthology/2020.emnlp-ma...</td>\n",
              "      <td>2.0</td>\n",
              "      <td>NaN</td>\n",
              "    </tr>\n",
              "    <tr>\n",
              "      <th>2</th>\n",
              "      <td>Unsupervised Adaptation of Question Answering ...</td>\n",
              "      <td>BERT-era question answering systems have recen...</td>\n",
              "      <td>['Steven Rennie', 'Etienne Marcheret', 'Neil M...</td>\n",
              "      <td>https://www.aclweb.org/anthology/2020.emnlp-ma...</td>\n",
              "      <td>https://www.aclweb.org/anthology/2020.emnlp-ma...</td>\n",
              "      <td>5.0</td>\n",
              "      <td>NaN</td>\n",
              "    </tr>\n",
              "    <tr>\n",
              "      <th>3</th>\n",
              "      <td>An Imitation Game for Learning Semantic Parser...</td>\n",
              "      <td>Despite the widely successful applications, bo...</td>\n",
              "      <td>['Ziyu Yao', 'Yiqi Tang', 'Wen-tau Yih', 'Huan...</td>\n",
              "      <td>https://www.aclweb.org/anthology/2020.emnlp-ma...</td>\n",
              "      <td>https://www.aclweb.org/anthology/2020.emnlp-ma...</td>\n",
              "      <td>8.0</td>\n",
              "      <td>1.0</td>\n",
              "    </tr>\n",
              "    <tr>\n",
              "      <th>4</th>\n",
              "      <td>Conversational Semantic Parsing</td>\n",
              "      <td>The structured representation for semantic par...</td>\n",
              "      <td>['Armen Aghajanyan', 'Jean Maillard', 'Akshat ...</td>\n",
              "      <td>https://www.aclweb.org/anthology/2020.emnlp-ma...</td>\n",
              "      <td>https://www.aclweb.org/anthology/2020.emnlp-ma...</td>\n",
              "      <td>8.0</td>\n",
              "      <td>1.0</td>\n",
              "    </tr>\n",
              "  </tbody>\n",
              "</table>\n",
              "</div>"
            ],
            "text/plain": [
              "                                               title  ... label2\n",
              "0                              Blank Language Models  ...    4.0\n",
              "1                           Acrostic Poem Generation  ...    NaN\n",
              "2  Unsupervised Adaptation of Question Answering ...  ...    NaN\n",
              "3  An Imitation Game for Learning Semantic Parser...  ...    1.0\n",
              "4                    Conversational Semantic Parsing  ...    1.0\n",
              "\n",
              "[5 rows x 7 columns]"
            ]
          },
          "metadata": {
            "tags": []
          },
          "execution_count": 3
        }
      ]
    },
    {
      "cell_type": "code",
      "metadata": {
        "colab": {
          "base_uri": "https://localhost:8080/"
        },
        "id": "As1oqWvdB4I2",
        "outputId": "b28627d2-01a2-42d0-8285-ee619453961d"
      },
      "source": [
        "#create list of documents where each document is an abstract\n",
        "\n",
        "doc_list = data['abstract'].to_list()\n",
        "doc_list[:3]"
      ],
      "execution_count": 4,
      "outputs": [
        {
          "output_type": "execute_result",
          "data": {
            "text/plain": [
              "['We propose Blank Language Model (BLM), a model that generates sequences by dynamically creating and filling in blanks. The blanks control which part of the sequence to expand, making BLM ideal for a variety of text editing and rewriting tasks. The model can start from a single blank or partially completed text with blanks at specified locations. It iteratively determines which word to place in a blank and whether to insert new blanks, and stops generating when no blanks are left to fill. BLM can be efficiently trained using a lower bound of the marginal data likelihood. On the task of filling missing text snippets, BLM significantly outperforms all other baselines in terms of both accuracy and fluency. Experiments on style transfer and damaged ancient text restoration demonstrate the potential of this framework for a wide range of applications.',\n",
              " 'We propose a new task in the area of computational creativity: acrostic poem generation in English. Acrostic poems are poems that contain a hidden message; typically, the first letter of each line spells out a word or short phrase. We define the task as a generation task with multiple constraints: given an input word, 1) the initial letters of each line should spell out the provided word, 2) the poem’s semantics should also relate to it, and 3) the poem should conform to a rhyming scheme. We further provide a baseline model for the task, which consists of a conditional neural language model in combination with a neural rhyming model. Since no dedicated datasets for acrostic poem generation exist, we create training data for our task by first training a separate topic prediction model on a small set of topic-annotated poems and then predicting topics for additional poems. Our experiments show that the acrostic poems generated by our baseline are received well by humans and do not lose much quality due to the additional constraints. Last, we confirm that poems generated by our model are indeed closely related to the provided prompts, and that pretraining on Wikipedia can boost performance.',\n",
              " 'BERT-era question answering systems have recently achieved impressive performance on several question-answering (QA) tasks. These systems are based on representations that have been pre-trained on self-supervised tasks such as word masking and sentence entailment, using massive amounts of data. Nevertheless, additional pre-training closer to the end-task, such as training on synthetic QA pairs, has been shown to improve performance. While recent work has considered augmenting labelled data and leveraging large unlabelled datasets to generate synthetic QA data, directly adapting to target data has received little attention. In this paper we investigate the iterative generation of synthetic QA pairs as a way to realize unsupervised self adaptation. Motivated by the success of the roundtrip consistency method for filtering generated QA pairs, we present iterative generalizations of the approach, which maximize an approximation of a lower bound on the probability of the adaptation data. By adapting on synthetic QA pairs generated on the target data, our method is able to improve QA systems significantly, using an order of magnitude less synthetic data and training computation than existing augmentation approaches.']"
            ]
          },
          "metadata": {
            "tags": []
          },
          "execution_count": 4
        }
      ]
    },
    {
      "cell_type": "code",
      "metadata": {
        "id": "V3HvkLNw97vr"
      },
      "source": [
        "#create function to parse the text\n",
        "\n",
        "def parse_text(txt):\n",
        "  txt = txt.lower()\n",
        "  txt = re.sub(r'[^a-z ]', ' ', txt)\n",
        "  tokenized_words=word_tokenize(txt)\n",
        "\n",
        "  filtered_words = [w for w in tokenized_words if not w in stop_words]\n",
        "\n",
        "  lemmitized_words = [lemmatizer.lemmatize(w) for w in filtered_words]\n",
        "\n",
        "  tagged = nltk.pos_tag(lemmitized_words) \n",
        "  nouns = [tup[0] for tup in tagged if tup[1][:2] == 'NN']\n",
        "  # verbs = [tup[0] for tup in tagged if tup[1][:2] == 'VB']\n",
        "  # adj_adv = [tup[0] for tup in tagged if tup[1][:2] == 'VB' or tup[1][:2] == 'JJ']\n",
        "  # adj_noun = [tup[0] for tup in tagged if tup[1][:2] == 'NN' or tup[1][:2] == 'JJ']\n",
        "\n",
        "  return nouns\n",
        "\n"
      ],
      "execution_count": 5,
      "outputs": []
    },
    {
      "cell_type": "code",
      "metadata": {
        "colab": {
          "base_uri": "https://localhost:8080/"
        },
        "id": "HetBvWa0HiVL",
        "outputId": "cc36583d-324e-4fc7-e2f0-9a31e35dde96"
      },
      "source": [
        "#set stopwords to english \n",
        "stop_words = set(stopwords.words('english')) \n",
        "\n",
        "#clean the documents based on parse function\n",
        "doc_clean = list(map(lambda x: parse_text(x), doc_list))\n",
        "\n",
        "doc_clean[:1]"
      ],
      "execution_count": 6,
      "outputs": [
        {
          "output_type": "execute_result",
          "data": {
            "text/plain": [
              "[['language',\n",
              "  'model',\n",
              "  'blm',\n",
              "  'model',\n",
              "  'blank',\n",
              "  'part',\n",
              "  'sequence',\n",
              "  'expand',\n",
              "  'variety',\n",
              "  'text',\n",
              "  'task',\n",
              "  'start',\n",
              "  'blank',\n",
              "  'blank',\n",
              "  'location',\n",
              "  'word',\n",
              "  'place',\n",
              "  'stop',\n",
              "  'fill',\n",
              "  'data',\n",
              "  'likelihood',\n",
              "  'task',\n",
              "  'text',\n",
              "  'snippet',\n",
              "  'blm',\n",
              "  'term',\n",
              "  'accuracy',\n",
              "  'fluency',\n",
              "  'experiment',\n",
              "  'style',\n",
              "  'transfer',\n",
              "  'text',\n",
              "  'restoration',\n",
              "  'framework',\n",
              "  'range',\n",
              "  'application']]"
            ]
          },
          "metadata": {
            "tags": []
          },
          "execution_count": 6
        }
      ]
    },
    {
      "cell_type": "code",
      "metadata": {
        "id": "sJon7YwfIMTD"
      },
      "source": [
        "#construct dictionary mapping unique words to an index\n",
        "dictionary = corpora.Dictionary(doc_clean)\n",
        "#create matrix where every row is a document and the columns are each unique term (BOW format)\n",
        "doc_term_matrix = [dictionary.doc2bow(rev) for rev in doc_clean]"
      ],
      "execution_count": 7,
      "outputs": []
    },
    {
      "cell_type": "code",
      "metadata": {
        "colab": {
          "base_uri": "https://localhost:8080/"
        },
        "id": "8tUaiw9ew2MV",
        "outputId": "85c9670e-d5d2-41fd-f453-4b3113b1fe9b"
      },
      "source": [
        "doc_term_matrix[1] #the first number in the tuple is the index identifier for the word and the second is the number of times that word occurs"
      ],
      "execution_count": 13,
      "outputs": [
        {
          "output_type": "execute_result",
          "data": {
            "text/plain": [
              "[(4, 1),\n",
              " (6, 1),\n",
              " (10, 1),\n",
              " (13, 5),\n",
              " (23, 5),\n",
              " (28, 3),\n",
              " (29, 1),\n",
              " (30, 2),\n",
              " (31, 1),\n",
              " (32, 1),\n",
              " (33, 1),\n",
              " (34, 2),\n",
              " (35, 1),\n",
              " (36, 1),\n",
              " (37, 1),\n",
              " (38, 1),\n",
              " (39, 3),\n",
              " (40, 1),\n",
              " (41, 2),\n",
              " (42, 2),\n",
              " (43, 1),\n",
              " (44, 1),\n",
              " (45, 1),\n",
              " (46, 8),\n",
              " (47, 1),\n",
              " (48, 1),\n",
              " (49, 1),\n",
              " (50, 1),\n",
              " (51, 2),\n",
              " (52, 2),\n",
              " (53, 1)]"
            ]
          },
          "metadata": {
            "tags": []
          },
          "execution_count": 13
        }
      ]
    },
    {
      "cell_type": "code",
      "metadata": {
        "id": "w_N-Zq-AKFd_"
      },
      "source": [
        ""
      ],
      "execution_count": null,
      "outputs": []
    },
    {
      "cell_type": "code",
      "metadata": {
        "colab": {
          "base_uri": "https://localhost:8080/"
        },
        "id": "HEstiqz_I_yj",
        "outputId": "7d149b7c-cee3-441d-9f83-c7ab6579ebc3"
      },
      "source": [
        "#the first number in the tuple is the index identifier for the word and the second is the number of times that word occurs\n",
        "#for example word index 46 occurs the most in the second abstract\n",
        "dictionary[46]\n",
        "#view the first abstract\n",
        "#dictionary[ind] for (ind, freq) in doc_term_matrix[1]]\n",
        "doc_clean[1]"
      ],
      "execution_count": 15,
      "outputs": [
        {
          "output_type": "execute_result",
          "data": {
            "text/plain": [
              "['task',\n",
              " 'area',\n",
              " 'creativity',\n",
              " 'poem',\n",
              " 'generation',\n",
              " 'poem',\n",
              " 'poem',\n",
              " 'contain',\n",
              " 'message',\n",
              " 'letter',\n",
              " 'line',\n",
              " 'spell',\n",
              " 'word',\n",
              " 'phrase',\n",
              " 'define',\n",
              " 'task',\n",
              " 'generation',\n",
              " 'task',\n",
              " 'constraint',\n",
              " 'input',\n",
              " 'word',\n",
              " 'letter',\n",
              " 'line',\n",
              " 'spell',\n",
              " 'word',\n",
              " 'poem',\n",
              " 'semantics',\n",
              " 'poem',\n",
              " 'baseline',\n",
              " 'model',\n",
              " 'task',\n",
              " 'language',\n",
              " 'model',\n",
              " 'combination',\n",
              " 'model',\n",
              " 'datasets',\n",
              " 'generation',\n",
              " 'training',\n",
              " 'data',\n",
              " 'task',\n",
              " 'topic',\n",
              " 'prediction',\n",
              " 'model',\n",
              " 'topic',\n",
              " 'poem',\n",
              " 'experiment',\n",
              " 'show',\n",
              " 'poem',\n",
              " 'baseline',\n",
              " 'quality',\n",
              " 'constraint',\n",
              " 'confirm',\n",
              " 'poem',\n",
              " 'model',\n",
              " 'boost',\n",
              " 'performance']"
            ]
          },
          "metadata": {
            "tags": []
          },
          "execution_count": 15
        }
      ]
    },
    {
      "cell_type": "code",
      "metadata": {
        "colab": {
          "base_uri": "https://localhost:8080/"
        },
        "id": "Alv6QQLDKQvP",
        "outputId": "1daec655-d4b6-49b5-f0f0-d52428108c5f"
      },
      "source": [
        "#number of documents\n",
        "n = len(doc_clean)\n",
        "n"
      ],
      "execution_count": 18,
      "outputs": [
        {
          "output_type": "execute_result",
          "data": {
            "text/plain": [
              "1450"
            ]
          },
          "metadata": {
            "tags": []
          },
          "execution_count": 18
        }
      ]
    },
    {
      "cell_type": "code",
      "metadata": {
        "colab": {
          "base_uri": "https://localhost:8080/"
        },
        "id": "XRmbvQWDKvZb",
        "outputId": "9e2a96e2-a007-4680-aae9-58da9e2f96a1"
      },
      "source": [
        "# Creating the object for LDA model using gensim library\n",
        "LDA = gensim.models.ldamodel.LdaModel\n",
        "\n",
        "# Build LDA model\n",
        "# lda_model = LDA(corpus=doc_term_matrix,\n",
        "#                 id2word=dictionary,\n",
        "#                 num_topics=3,\n",
        "#                 random_state=1,\n",
        "#                 update_every=10,\n",
        "#                 alpha='auto',\n",
        "#                 chunksize=int(n/3),\n",
        "#                 per_word_topics=True,\n",
        "#                 passes=30)\n",
        "\n",
        "\n",
        "lda_model = LDA(corpus=doc_term_matrix,\n",
        "                id2word=dictionary,\n",
        "                num_topics=11,\n",
        "                random_state=1,\n",
        "                update_every=10,\n",
        "                alpha='auto',\n",
        "                chunksize=int(n/3),\n",
        "                per_word_topics=True,\n",
        "                passes=30)"
      ],
      "execution_count": 41,
      "outputs": [
        {
          "output_type": "stream",
          "text": [
            "/usr/local/lib/python3.7/dist-packages/gensim/models/ldamodel.py:1077: DeprecationWarning: Calling np.sum(generator) is deprecated, and in the future will give a different result. Use np.sum(np.fromiter(generator)) or the python sum builtin instead.\n",
            "  score += np.sum(cnt * logsumexp(Elogthetad + Elogbeta[:, int(id)]) for id, cnt in doc)\n"
          ],
          "name": "stderr"
        }
      ]
    },
    {
      "cell_type": "code",
      "metadata": {
        "colab": {
          "base_uri": "https://localhost:8080/"
        },
        "id": "hH-sDM-aLCju",
        "outputId": "fbbff7a8-a6e5-484a-f2cd-13909936e86c"
      },
      "source": [
        "lda_model.print_topics()"
      ],
      "execution_count": 42,
      "outputs": [
        {
          "output_type": "execute_result",
          "data": {
            "text/plain": [
              "[(0,\n",
              "  '0.045*\"model\" + 0.023*\"language\" + 0.020*\"task\" + 0.020*\"data\" + 0.014*\"sentence\" + 0.012*\"method\" + 0.012*\"performance\" + 0.011*\"state\" + 0.010*\"datasets\" + 0.010*\"translation\"'),\n",
              " (1,\n",
              "  '0.048*\"model\" + 0.026*\"language\" + 0.024*\"task\" + 0.016*\"network\" + 0.014*\"knowledge\" + 0.013*\"information\" + 0.013*\"approach\" + 0.012*\"method\" + 0.011*\"performance\" + 0.010*\"show\"'),\n",
              " (2,\n",
              "  '0.053*\"game\" + 0.012*\"system\" + 0.010*\"data\" + 0.010*\"equilibrium\" + 0.009*\"cache\" + 0.008*\"engine\" + 0.008*\"model\" + 0.008*\"problem\" + 0.008*\"storage\" + 0.007*\"device\"'),\n",
              " (3,\n",
              "  '0.027*\"system\" + 0.020*\"model\" + 0.012*\"paper\" + 0.010*\"time\" + 0.009*\"approach\" + 0.008*\"video\" + 0.007*\"image\" + 0.007*\"method\" + 0.007*\"problem\" + 0.007*\"algorithm\"'),\n",
              " (4,\n",
              "  '0.016*\"level\" + 0.011*\"interaction\" + 0.011*\"system\" + 0.011*\"customer\" + 0.010*\"robot\" + 0.008*\"show\" + 0.007*\"vehicle\" + 0.007*\"service\" + 0.007*\"paper\" + 0.007*\"skill\"'),\n",
              " (5,\n",
              "  '0.022*\"problem\" + 0.015*\"system\" + 0.013*\"time\" + 0.011*\"algorithm\" + 0.009*\"method\" + 0.009*\"result\" + 0.009*\"design\" + 0.008*\"paper\" + 0.008*\"performance\" + 0.008*\"show\"'),\n",
              " (6,\n",
              "  '0.018*\"system\" + 0.010*\"agent\" + 0.009*\"result\" + 0.008*\"work\" + 0.008*\"design\" + 0.007*\"model\" + 0.007*\"memory\" + 0.007*\"process\" + 0.007*\"program\" + 0.007*\"algorithm\"'),\n",
              " (7,\n",
              "  '0.026*\"k\" + 0.016*\"v\" + 0.014*\"point\" + 0.010*\"problem\" + 0.010*\"query\" + 0.010*\"time\" + 0.010*\"e\" + 0.009*\"r\" + 0.009*\"number\" + 0.009*\"word\"'),\n",
              " (8,\n",
              "  '0.025*\"data\" + 0.020*\"dialogue\" + 0.013*\"paper\" + 0.013*\"research\" + 0.012*\"domain\" + 0.011*\"conversation\" + 0.010*\"model\" + 0.009*\"method\" + 0.009*\"response\" + 0.009*\"system\"'),\n",
              " (9,\n",
              "  '0.015*\"algorithm\" + 0.015*\"graph\" + 0.012*\"number\" + 0.010*\"method\" + 0.010*\"system\" + 0.010*\"problem\" + 0.009*\"time\" + 0.009*\"function\" + 0.008*\"paper\" + 0.008*\"data\"'),\n",
              " (10,\n",
              "  '0.030*\"task\" + 0.025*\"data\" + 0.023*\"entity\" + 0.014*\"relation\" + 0.013*\"representation\" + 0.012*\"word\" + 0.012*\"system\" + 0.011*\"time\" + 0.010*\"method\" + 0.009*\"network\"')]"
            ]
          },
          "metadata": {
            "tags": []
          },
          "execution_count": 42
        }
      ]
    },
    {
      "cell_type": "code",
      "metadata": {
        "colab": {
          "base_uri": "https://localhost:8080/",
          "height": 861
        },
        "id": "0Fcu-SK9N61h",
        "outputId": "bfcd9ba2-4ca3-4ff5-da0f-944d054388cd"
      },
      "source": [
        "#import pyLDAvis.gensim_models as gensimvis\n",
        "pyLDAvis.enable_notebook()\n",
        "viz = gensimvis.prepare(lda_model, doc_term_matrix, dictionary)\n",
        "viz"
      ],
      "execution_count": 46,
      "outputs": [
        {
          "output_type": "execute_result",
          "data": {
            "text/html": [
              "\n",
              "<link rel=\"stylesheet\" type=\"text/css\" href=\"https://cdn.jsdelivr.net/gh/bmabey/pyLDAvis@3.3.1/pyLDAvis/js/ldavis.v1.0.0.css\">\n",
              "\n",
              "\n",
              "<div id=\"ldavis_el1381396954732981284681078186\"></div>\n",
              "<script type=\"text/javascript\">\n",
              "\n",
              "var ldavis_el1381396954732981284681078186_data = {\"mdsDat\": {\"x\": [-0.19790878722044014, -0.18382546754261783, 0.08214421763392352, 0.03489469351792076, 0.012963853290535147, -0.025012868664823874, -0.10084612790225016, 0.06305243353850265, 0.0944234603757797, 0.10555683287484939, 0.11455776009862086], \"y\": [0.006879013928819292, 0.009254796687173389, -0.059628729624759444, -0.044864088850468026, -0.06232570642371671, -0.08068169876592755, 0.04779079316119493, 0.1839769917621318, -0.06642527184678121, -0.027123040059339593, 0.09314694003167308], \"topics\": [1, 2, 3, 4, 5, 6, 7, 8, 9, 10, 11], \"cluster\": [1, 1, 1, 1, 1, 1, 1, 1, 1, 1, 1], \"Freq\": [24.759679693976747, 20.73519097773671, 11.817807893512517, 8.460807954975389, 7.9438491084854235, 7.371619092533037, 5.371090403879962, 4.596479668696498, 4.1302994733131, 3.1665569999876944, 1.6466187329029152]}, \"tinfo\": {\"Term\": [\"task\", \"game\", \"data\", \"system\", \"language\", \"entity\", \"word\", \"model\", \"k\", \"dialogue\", \"level\", \"graph\", \"problem\", \"sentence\", \"representation\", \"algorithm\", \"time\", \"network\", \"text\", \"interaction\", \"relation\", \"translation\", \"training\", \"v\", \"number\", \"point\", \"domain\", \"agent\", \"conversation\", \"paper\", \"coreference\", \"mt\", \"nmt\", \"scoring\", \"constituency\", \"wsd\", \"srl\", \"phrase\", \"condolence\", \"rumor\", \"poem\", \"conll\", \"gpt\", \"meaning\", \"absa\", \"appstreamer\", \"ood\", \"translation\", \"segmentation\", \"bengali\", \"vqa\", \"cws\", \"hero\", \"hac\", \"reliance\", \"generalizability\", \"treebank\", \"grounding\", \"significance\", \"mtl\", \"sentence\", \"dialog\", \"entailment\", \"discourse\", \"wmt\", \"bleu\", \"lm\", \"qa\", \"parser\", \"annotation\", \"event\", \"pair\", \"alignment\", \"cross\", \"github\", \"http\", \"datasets\", \"question\", \"summarization\", \"model\", \"dataset\", \"language\", \"word\", \"machine\", \"data\", \"task\", \"evaluation\", \"state\", \"training\", \"domain\", \"art\", \"performance\", \"transformer\", \"method\", \"bert\", \"work\", \"benchmark\", \"representation\", \"result\", \"example\", \"source\", \"show\", \"approach\", \"text\", \"paper\", \"system\", \"emotion\", \"gender\", \"amr\", \"multimodal\", \"teacher\", \"btc\", \"triplet\", \"ideality\", \"keyphrase\", \"ir\", \"headline\", \"crf\", \"adapter\", \"kb\", \"codex\", \"keyphrases\", \"victim\", \"doctor\", \"bias\", \"connotation\", \"memristor\", \"tanh\", \"belfis\", \"cqa\", \"relay\", \"gnn\", \"modality\", \"stock\", \"intimacy\", \"router\", \"seq\", \"hop\", \"commonsense\", \"attention\", \"distillation\", \"knowledge\", \"module\", \"label\", \"network\", \"classification\", \"information\", \"language\", \"prediction\", \"model\", \"pre\", \"meta\", \"task\", \"structure\", \"self\", \"layer\", \"generation\", \"graph\", \"fact\", \"approach\", \"training\", \"text\", \"representation\", \"multi\", \"performance\", \"method\", \"show\", \"datasets\", \"transfer\", \"experiment\", \"art\", \"result\", \"paper\", \"state\", \"work\", \"data\", \"dataset\", \"job\", \"kljn\", \"deviation\", \"resistor\", \"outage\", \"ssd\", \"mahler\", \"simile\", \"pareto\", \"permutation\", \"mm\", \"placement\", \"packet\", \"client\", \"poly\", \"stego\", \"vmg\", \"gittins\", \"locomotion\", \"precoder\", \"manna\", \"chart\", \"spline\", \"travel\", \"blockchain\", \"division\", \"crack\", \"qc\", \"vn\", \"rpl\", \"subspace\", \"iot\", \"alpha\", \"server\", \"automaton\", \"security\", \"allocation\", \"policy\", \"service\", \"prisoner\", \"equation\", \"basis\", \"surface\", \"scheme\", \"problem\", \"material\", \"curve\", \"communication\", \"mathrm\", \"solution\", \"value\", \"design\", \"approximation\", \"optimization\", \"mechanism\", \"algorithm\", \"time\", \"memory\", \"cost\", \"function\", \"system\", \"rate\", \"condition\", \"block\", \"order\", \"result\", \"application\", \"number\", \"method\", \"paper\", \"show\", \"network\", \"performance\", \"agent\", \"approach\", \"study\", \"mcts\", \"gec\", \"summary\", \"kg\", \"reservoir\", \"git\", \"bandit\", \"sgx\", \"md\", \"commit\", \"hcm\", \"lts\", \"inger\", \"lada\", \"mmr\", \"sd\", \"dcc\", \"subpacketization\", \"discretizations\", \"prolog\", \"tower\", \"tss\", \"idiom\", \"oix\", \"opf\", \"dysarthria\", \"suas\", \"bipartite\", \"parallelization\", \"stare\", \"assembly\", \"varepsilon\", \"recovery\", \"register\", \"bug\", \"edge\", \"connectivity\", \"sparse\", \"regression\", \"graph\", \"algorithm\", \"field\", \"player\", \"number\", \"reward\", \"function\", \"completion\", \"strategy\", \"operation\", \"code\", \"environment\", \"technique\", \"decomposition\", \"case\", \"reinforcement\", \"application\", \"problem\", \"time\", \"matrix\", \"system\", \"method\", \"path\", \"agent\", \"paper\", \"approach\", \"performance\", \"computation\", \"data\", \"work\", \"analysis\", \"result\", \"show\", \"information\", \"simulation\", \"network\", \"use\", \"solution\", \"texture\", \"debt\", \"sheet\", \"bitstream\", \"miner\", \"familiarization\", \"multicore\", \"mission\", \"ao\", \"shield\", \"gtopx\", \"hybridization\", \"package\", \"tm\", \"dtw\", \"hk\", \"transshipment\", \"gang\", \"solidification\", \"intrusion\", \"chattopadhyay\", \"stiffness\", \"pomdps\", \"driving\", \"swarm\", \"hmms\", \"stereo\", \"masker\", \"sift\", \"tour\", \"subjectivity\", \"extractor\", \"ape\", \"site\", \"synchronization\", \"video\", \"recommendation\", \"vehicle\", \"citation\", \"collision\", \"transaction\", \"shape\", \"workload\", \"system\", \"business\", \"trajectory\", \"jump\", \"implementation\", \"image\", \"platform\", \"control\", \"motion\", \"time\", \"cnn\", \"uncertainty\", \"paper\", \"feature\", \"space\", \"model\", \"cost\", \"x\", \"approach\", \"use\", \"study\", \"algorithm\", \"property\", \"case\", \"problem\", \"network\", \"source\", \"result\", \"detection\", \"method\", \"state\", \"work\", \"framework\", \"data\", \"performance\", \"order\", \"number\", \"show\", \"task\", \"metastability\", \"conversation\", \"spam\", \"schmitt\", \"expertise\", \"payment\", \"bot\", \"quotation\", \"disentanglement\", \"pagerank\", \"neuroscience\", \"producer\", \"humanity\", \"persuasion\", \"ind\", \"da\", \"mosaicsim\", \"welfare\", \"cybercrime\", \"deduction\", \"ellipsis\", \"figure\", \"triangulation\", \"debate\", \"dialogue\", \"biology\", \"parade\", \"crqda\", \"ppr\", \"cm\", \"science\", \"country\", \"publication\", \"acceleration\", \"visualization\", \"response\", \"journal\", \"deception\", \"profile\", \"act\", \"utterance\", \"cyber\", \"research\", \"face\", \"solver\", \"data\", \"computer\", \"domain\", \"software\", \"circuit\", \"database\", \"paper\", \"argument\", \"topic\", \"tool\", \"hardware\", \"role\", \"measure\", \"consistency\", \"method\", \"system\", \"work\", \"approach\", \"application\", \"model\", \"study\", \"function\", \"result\", \"g\", \"time\", \"level\", \"use\", \"analysis\", \"show\", \"quality\", \"disfluency\", \"transducer\", \"seqmix\", \"openie\", \"gazp\", \"csp\", \"fingerprint\", \"hypervisor\", \"igt\", \"cfr\", \"resume\", \"nae\", \"surgery\", \"viscoll\", \"carryover\", \"chapter\", \"fa\", \"struct\", \"podge\", \"hodge\", \"squeeze\", \"excitation\", \"ra\", \"rm\", \"crc\", \"slack\", \"beesl\", \"taxon\", \"analyzer\", \"xglue\", \"acsa\", \"entity\", \"parsing\", \"relation\", \"refinement\", \"criticality\", \"augmentation\", \"date\", \"mention\", \"restriction\", \"metadata\", \"ell\", \"recipe\", \"task\", \"data\", \"slot\", \"representation\", \"word\", \"type\", \"time\", \"sequence\", \"sense\", \"end\", \"system\", \"state\", \"network\", \"embeddings\", \"input\", \"framework\", \"memory\", \"method\", \"e\", \"approach\", \"training\", \"performance\", \"show\", \"text\", \"application\", \"graph\", \"paper\", \"art\", \"problem\", \"information\", \"model\", \"multi\", \"leq\", \"v\", \"eccentricity\", \"pl\", \"j\", \"ilas\", \"legislator\", \"men\", \"sketch\", \"tilde\", \"ab\", \"marriage\", \"svd\", \"rfloor\", \"synopsis\", \"junction\", \"rdma\", \"mwes\", \"mwe\", \"grammaticality\", \"sqrt\", \"kappa\", \"hole\", \"geq\", \"surprisal\", \"hermes\", \"palindrome\", \"macd\", \"tasm\", \"subtrees\", \"frac\", \"w\", \"k\", \"vertex\", \"mathbb\", \"sum\", \"b\", \"r\", \"path\", \"disease\", \"point\", \"n\", \"entropy\", \"query\", \"p\", \"plot\", \"x\", \"matrix\", \"delta\", \"log\", \"e\", \"bound\", \"video\", \"story\", \"number\", \"g\", \"word\", \"graph\", \"problem\", \"time\", \"text\", \"factor\", \"result\", \"language\", \"show\", \"algorithm\", \"method\", \"paper\", \"fault\", \"dnn\", \"wheeze\", \"filterbanks\", \"crossbar\", \"rram\", \"revolution\", \"stt\", \"rom\", \"byzantine\", \"dnnexplorer\", \"gacela\", \"gu\", \"faulty\", \"nanowire\", \"conductance\", \"endurance\", \"ad\", \"sensation\", \"colony\", \"port\", \"sagiv\", \"allocate\", \"mr\", \"psnr\", \"mram\", \"fom\", \"dependability\", \"em\", \"tolerance\", \"termination\", \"mimo\", \"orientation\", \"pilot\", \"jacobi\", \"industry\", \"dnns\", \"accelerator\", \"throughput\", \"program\", \"agent\", \"tensor\", \"head\", \"failure\", \"system\", \"topic\", \"business\", \"memory\", \"simulation\", \"optimization\", \"design\", \"process\", \"complexity\", \"degree\", \"software\", \"device\", \"goal\", \"implementation\", \"result\", \"work\", \"algorithm\", \"architecture\", \"tool\", \"network\", \"paper\", \"problem\", \"space\", \"model\", \"performance\", \"number\", \"value\", \"show\", \"time\", \"qb\", \"lock\", \"mwps\", \"contention\", \"game\", \"election\", \"solap\", \"cna\", \"smell\", \"firecracker\", \"tx\", \"llc\", \"rpimc\", \"t\", \"qbricks\", \"cache\", \"repairer\", \"anarchy\", \"molecule\", \"equilibrium\", \"constellation\", \"malice\", \"cnet\", \"membrane\", \"vesicle\", \"mf\", \"orkg\", \"admission\", \"sau\", \"actuation\", \"pure\", \"collocation\", \"file\", \"storage\", \"engine\", \"kernel\", \"party\", \"position\", \"o\", \"apps\", \"device\", \"candidate\", \"quantum\", \"system\", \"node\", \"level\", \"query\", \"data\", \"code\", \"problem\", \"operation\", \"block\", \"method\", \"model\", \"strategy\", \"study\", \"technique\", \"field\", \"framework\", \"development\", \"work\", \"bulk\", \"employee\", \"recipient\", \"communicator\", \"email\", \"mir\", \"backhaul\", \"mim\", \"frp\", \"oi\", \"percent\", \"anonymity\", \"xel\", \"blank\", \"supervisor\", \"skill\", \"lyndon\", \"dbms\", \"sae\", \"emoji\", \"vp\", \"mood\", \"dsrc\", \"dmsc\", \"rfid\", \"pps\", \"adr\", \"brson\", \"lrl\", \"multisource\", \"customer\", \"genre\", \"topology\", \"swap\", \"plan\", \"music\", \"robot\", \"wireless\", \"vehicle\", \"queue\", \"positioning\", \"enterprise\", \"organization\", \"interaction\", \"level\", \"service\", \"coordination\", \"distribution\", \"radio\", \"system\", \"aggregation\", \"message\", \"show\", \"rate\", \"sentiment\", \"paper\", \"information\", \"class\", \"space\", \"agent\", \"document\", \"network\", \"time\", \"point\", \"word\", \"language\"], \"Freq\": [968.0, 144.0, 879.0, 725.0, 912.0, 194.0, 336.0, 1937.0, 165.0, 141.0, 269.0, 314.0, 551.0, 304.0, 340.0, 319.0, 437.0, 480.0, 272.0, 113.0, 121.0, 210.0, 345.0, 60.0, 271.0, 170.0, 329.0, 148.0, 65.0, 610.0, 16.77152604951264, 18.581751062190925, 14.78575441356656, 9.921989243328932, 9.920303573995968, 8.937769338428023, 8.878653512990223, 38.197785411689686, 7.956272310041629, 7.955437228125035, 7.953542234545073, 7.952778588681026, 15.65773166688097, 23.636710120043347, 6.97275070639856, 6.972474930009659, 6.970972557834779, 188.48414647366093, 29.4226250182686, 6.921686665488129, 5.989438980770338, 5.9893808351461715, 5.98900150416947, 5.988807131654401, 5.988513634694325, 5.98767966031343, 5.986905492860248, 5.977560660404998, 5.951690287793921, 6.78457208472266, 261.45495996930543, 58.97122114687322, 11.02045311682335, 32.878843005052225, 12.650445522693905, 23.117581557346497, 16.7019185384039, 43.71406188385387, 35.51662976693198, 88.78248044171039, 117.25584104302314, 99.16921602987333, 44.38436906938232, 85.57096360720266, 51.710722144441206, 42.830230675959484, 198.31027407215055, 185.6569356662124, 54.62618582648102, 861.2119620245338, 155.06763254324923, 443.91016055629837, 182.0605457463679, 120.34137347676646, 377.9170877691416, 386.2004270000456, 132.8319041350398, 206.92587401257452, 164.37518534689121, 158.31561831323387, 155.10993154664254, 234.19101063007432, 73.52561356811542, 237.21910183235582, 68.64752574622608, 172.33296224417913, 97.96127557519917, 133.4977280160611, 174.8077994938247, 83.86362201569155, 92.5277763211334, 145.5902457854718, 141.76921218484944, 100.51246190574963, 131.99416413277, 121.69763511217036, 46.49224771654036, 33.84850977424113, 16.52954363217927, 15.536012261078275, 14.594821465944817, 14.594257537072597, 9.75781153339105, 8.792315218361981, 8.790746791186118, 10.547004019654707, 7.825461021969539, 7.8235967176386785, 7.814579420770709, 6.85783188713509, 6.857699716305663, 6.853040810507699, 6.842762093793974, 6.833298662407027, 71.41456481614274, 5.890917866051433, 5.890743957065346, 5.890702218908685, 5.890509759630747, 5.890319619139292, 5.889848441726318, 5.884252746189962, 16.549114190080335, 11.65901517728291, 4.923885586857238, 4.923839674884911, 37.705111739662726, 29.41786531748301, 29.054014328062294, 138.3463848258393, 24.533551213198805, 219.41669561458878, 60.40905508787683, 75.05707786333099, 254.6916189504106, 95.62299248421473, 212.49383057804553, 408.62220784052363, 109.76009570143734, 772.0101968169126, 112.61014028082133, 22.412113866898494, 380.0674319519153, 107.4177206691529, 42.45453183167682, 65.44496959727067, 129.60842567265428, 137.403154426117, 51.10563109830643, 210.08542392689415, 134.0769980561276, 112.77381321586651, 126.90325887261372, 83.61544793106407, 179.4574377407355, 196.88334446027966, 157.4138439717162, 112.01631575825667, 64.6539554723474, 81.07313043311059, 97.0132329766892, 125.73107335077, 122.65868497327969, 98.19243050885196, 98.07366412031568, 105.18340479694929, 80.6181066142795, 42.81744598348455, 10.53496391551257, 7.653143931339055, 6.735399785995272, 6.69401989348445, 5.785967073537341, 5.785966016282621, 5.785955972362775, 5.785695359074139, 5.78554734341325, 5.785099596039062, 14.157480169512809, 11.449543168850141, 5.680822562943113, 10.504485376426187, 4.835940183926415, 4.835720803571884, 4.835598162024291, 4.835579131439319, 4.835444860089799, 4.835318518150683, 4.8340138658254235, 4.78789800079353, 9.580490212546666, 9.538810059695184, 8.634616748105744, 3.886097256636879, 3.8859873021459337, 3.885957434700076, 3.8859423688203067, 15.260768817936013, 24.595743339257478, 7.598989230038835, 28.12427810663128, 15.40348974718359, 38.18277960974376, 25.740866499721378, 60.57316783861188, 52.47607683517842, 9.585023720788737, 22.705756739485487, 29.66496889180082, 33.384596106400565, 46.379227182803355, 198.62064215125713, 17.638158301957198, 19.082030986084845, 43.26525679295551, 12.43502932453635, 56.37824753533307, 56.99312150673944, 78.74626848333149, 34.92254225831534, 52.201347081512715, 54.87952130453486, 98.26625243587212, 121.46394345333943, 57.22520160497485, 47.71684471025275, 62.562265724914816, 132.50011799975266, 35.108688867958165, 33.19333661292877, 25.82409570583898, 49.87855423126497, 82.6382599350359, 51.78162964447839, 54.91385247982323, 85.76238842823957, 76.34653709255392, 69.30886606742047, 64.98039757685028, 71.32831562224331, 40.31584598586462, 54.501353978021385, 46.60584338864253, 10.000998397162768, 9.100499376443251, 8.189588054787162, 30.169682837827953, 7.29988206976513, 7.299856334214691, 7.299530855194428, 6.338800049455516, 6.331483205387228, 5.495363556411587, 5.495207250789067, 5.495074409933122, 4.59305245016996, 4.593001735997036, 4.592764817547403, 4.592727728077652, 4.592676635440751, 4.592291359112115, 4.576504112773493, 4.455264313117773, 8.202118240139301, 3.690765944086842, 3.690747399351966, 3.6907337746487925, 3.690677761980189, 3.6906194785277235, 3.6905880660176287, 6.395384955592068, 5.724116267275458, 2.788717491845287, 5.461654905367763, 5.492958417837441, 12.511604284721429, 9.61453899013462, 7.251308489094752, 33.95511586881395, 9.524541770248273, 18.943348274588594, 11.381544154083064, 97.38285053939153, 97.66095798057441, 41.60019114740571, 16.937366573900277, 75.14623287270692, 17.910477693256418, 56.71447403602228, 13.86871555218285, 44.27745440418585, 22.88326727329418, 38.9184468771373, 26.400632755480455, 48.68665662358495, 14.703113568526895, 41.54639779156387, 17.024115059007634, 43.03190826173485, 65.43079008779536, 57.46926442557793, 18.726750312811628, 65.46905430973092, 65.78153233545348, 22.719051753652614, 29.038514564664787, 51.83126536549611, 49.54254836611356, 48.56178470514149, 21.950992417061627, 50.0693550836067, 39.50553836460663, 31.72690163465836, 37.79757887957351, 36.96666878724194, 31.503350532695052, 22.512873662091764, 28.233597378276954, 24.415795080261912, 23.270092276524156, 8.231899766503254, 5.5157263070360765, 5.515708184712786, 5.5140789523149865, 4.610166959768764, 4.609960862758792, 4.609938831699105, 4.609947359851241, 4.609923552093193, 4.609763293900956, 4.609793497773107, 4.5771829100210395, 9.121260954805752, 3.7045855814417643, 3.7045838047434025, 3.704545428058787, 3.704496746523673, 3.704475426143331, 3.7043453718232446, 3.7043371990107805, 3.704327249499954, 3.703628651704082, 3.7026653258522972, 3.702292574535985, 3.696894964912742, 2.7990290768918307, 2.799026589514124, 2.798995674962628, 2.7989922992357408, 2.7988958245146933, 5.514914355884719, 8.198020971460512, 6.420752644794839, 11.483016137677135, 9.125496603700357, 50.81581320966683, 18.227479670600896, 17.93790484343751, 13.383187928862153, 10.945726207434452, 9.779866691911648, 17.28651605507737, 11.400774902546003, 163.55419795847854, 13.55326628828484, 14.965748592734089, 6.421331848460796, 27.94743396171356, 41.76171287429699, 19.110089405128434, 25.078603380940795, 14.540894530942188, 62.41788661524962, 12.539124020634214, 15.270591654939707, 72.65120297374717, 37.28969487235077, 32.09250535247429, 123.66864444166674, 27.586127425568947, 21.046966363110194, 56.79129042169888, 33.76491294182468, 38.4568464029223, 39.888973305818645, 24.608287161466357, 27.234278610144035, 40.12244852686754, 37.55370656348413, 27.51167665741477, 39.39905939273386, 23.200083146672398, 41.361623144951636, 34.27553036558022, 32.97477680363374, 27.37994797679254, 35.67376639188495, 27.48693080263119, 23.08379610685251, 23.644873185442734, 24.872938464009973, 23.487150697107566, 9.033547164025048, 59.853257549558556, 7.253494815605268, 7.252810928603276, 6.353781781001215, 5.460104692188603, 5.4600713881446294, 5.4600779830048225, 5.458887940483035, 4.56325910279637, 4.514653664203555, 4.504511428713082, 4.474454693898475, 4.441615587568536, 3.667457809515664, 3.667411975237324, 3.6672009397111553, 3.6672144591745504, 3.6670983896351577, 3.666576406450899, 3.6529032828132117, 8.102638462251097, 8.804762231133298, 8.791064047026879, 113.60700804513876, 4.201069051265975, 2.771031653231692, 2.7710250583714995, 2.771009230707037, 2.7709145944632705, 30.70263014599904, 11.146790974478549, 17.615057549968338, 8.836030441765319, 10.817528730147686, 51.440748369887444, 12.901693823553169, 9.046285795973418, 8.149496262892825, 13.634597783413124, 18.970261750423127, 7.174959922999567, 71.81490944945679, 16.086148688951884, 13.754822084727474, 143.4220649751766, 21.454986121703598, 67.72515702184278, 29.332117956064774, 15.561966778305207, 19.033842797541702, 73.20247858579366, 15.560783660386623, 26.999758596734175, 23.108289873620315, 19.225769056816013, 21.266402137574985, 21.24326736801872, 15.72482553179383, 51.87890032931932, 49.443064975619954, 39.77585198894384, 42.682795137430446, 28.144056530279837, 56.26606512396317, 29.417903897452433, 24.38771121662785, 33.27253109358536, 22.82563944164599, 28.181230438214488, 24.86719712180399, 23.174890047735143, 24.21093203224431, 26.35137832202098, 21.37699662403584, 6.027247445384588, 6.0269841242438895, 6.025799179110746, 5.1772708288613645, 4.327570507330662, 4.326720960292788, 4.1986238745775175, 3.477455743311178, 3.4774533407460253, 3.4772820378506624, 3.4772885247765735, 3.4772508045036816, 3.477223895773975, 3.476323414354871, 3.474201228555793, 6.027706815841719, 2.6274901785876548, 2.627481048840076, 2.627418101633084, 2.627386387773073, 2.6273599595563972, 2.6273570764782144, 2.6273318495441145, 3.286805951802131, 2.6273270444138097, 2.6272684218240925, 2.6272504025854495, 2.6271953838434605, 2.627179526913455, 2.6271725594745132, 5.824871213879909, 93.4830796984647, 13.130193464382545, 56.21323587709547, 13.845494771803342, 9.239937866084187, 17.22925215596814, 9.239695687516829, 14.850248479545746, 6.552847494018488, 6.027336820808255, 6.3115655639756065, 4.32738454878787, 122.98042920263761, 101.6100465561879, 13.768294587301696, 53.56306043808273, 49.91892265296592, 27.532685486743837, 47.25590021757049, 26.31806386883867, 11.779289701801053, 18.299827499650622, 47.94547485733983, 37.200004135468355, 37.31773751614241, 18.038657135276516, 23.87119157096639, 25.513723496871467, 20.15985499956417, 39.736536320722415, 23.041872209623143, 35.44195303293363, 27.236080169450627, 33.915486146460815, 31.722993602816015, 24.4406552515869, 22.88757178733019, 24.052577551760972, 27.474520345431298, 22.813211434838635, 25.116239273961025, 22.76791827658637, 27.43118768034336, 19.287883379584137, 18.304110637885174, 56.1793665975508, 8.787534535658203, 7.919232007472288, 7.048112662358741, 7.048069896087139, 5.305394907646875, 5.304298610722924, 4.433083863926573, 4.401084001200391, 3.5636578986828047, 3.563576478281101, 3.5635119176595476, 3.563489300881297, 3.563362646923091, 3.5633548338542402, 3.563321936722239, 3.563284105020437, 3.563258198528986, 3.561530276670606, 4.18711118552288, 6.1766425515752275, 3.4449973267320835, 8.797873281817983, 2.6925550021352587, 2.6925537684928083, 2.692538759176333, 2.6925138807202567, 2.6925105910070566, 2.6924883854429553, 10.941406814337363, 13.590436032335555, 92.9265618074616, 14.99608360434756, 15.397199979698737, 8.46271730098646, 23.489841816662356, 32.78858462477144, 30.46175402973767, 7.669879148755438, 48.83432853388781, 18.900453398242792, 9.103194031209023, 34.96798343302718, 22.51037741215839, 7.4666439569632255, 26.228230336744588, 18.671232761882578, 9.33758527429158, 19.22962210105004, 33.596018412043236, 20.170901159583234, 21.460922714464584, 15.501145047683952, 32.04060911387919, 24.866678902895725, 31.45751731829179, 30.099816493743702, 37.037647278065435, 33.79535529369327, 28.09699633121934, 17.128329308448915, 26.146579655116806, 27.549106111730165, 21.631658829552492, 18.76821515187967, 20.232380964724282, 17.55527815670429, 19.381328944294307, 12.710804704026014, 5.152188222689971, 5.151785828104153, 10.336083956315722, 4.306120904518715, 4.306005248407272, 4.30575841683397, 4.304964343404288, 4.30212725834468, 3.4600022246877455, 3.4599427338444793, 3.459937930236017, 3.4590130508528185, 3.4240228277954508, 3.423883523150039, 3.4155891693687144, 5.952976357985576, 2.6145493988913437, 2.614355961273643, 2.614351527173524, 2.614334529789734, 2.6143300956896147, 2.6142595195960503, 2.614208712198851, 2.6141309306925935, 2.6134999951964644, 2.611761458441391, 5.884751076501361, 8.989775134503963, 8.522503012791498, 5.654768714143357, 5.598357353410089, 4.305893656887606, 5.005713637385381, 9.828369885449321, 4.305022725722524, 9.880585109436444, 9.88962476154614, 22.151383712399696, 30.60130641837323, 10.523353001733724, 11.214481406981163, 10.46499581006481, 57.70179028636127, 20.774628142119386, 9.078706185511512, 23.245771352988633, 17.622945157087376, 19.90571597062562, 24.488288976259998, 23.146629308423233, 17.007647254045285, 10.206002239151848, 14.933324965144443, 14.461029747013601, 13.189116996018623, 14.636426489362421, 28.923685330737577, 25.88353326600404, 21.566320460037122, 16.10346329413658, 13.583397178618723, 21.028167030869035, 19.879548867788795, 19.419629223090666, 14.707825847515304, 23.703544893229065, 18.8108006721225, 16.05939277305176, 13.50391889004864, 15.965704671632983, 14.366850938514967, 8.90175231849211, 9.632692844376871, 8.098901662240854, 8.09835548066448, 128.79702202165603, 6.493475140261726, 4.888797634925715, 4.888787436514538, 4.888422560025758, 4.086419221769799, 4.086372195762705, 4.086281826508108, 4.08624499891219, 4.086156329392789, 4.08587077387983, 21.599817871385977, 3.2837932138536385, 3.2813526774011197, 6.490590123055405, 23.75627418109633, 5.691139503774913, 2.481101482843226, 2.481101482843226, 2.481035476459774, 2.481017912529414, 2.4810130966130246, 2.480966637184329, 2.4809507729891647, 2.480917628152839, 2.480853321504583, 7.16563202412171, 4.086156329392789, 14.943064468443762, 18.805921202619263, 20.464020818592893, 11.730642002321028, 11.279961747680424, 17.8514666315933, 4.07973104706202, 6.397555117092355, 17.854215669983926, 13.350633555196245, 9.778414542215991, 29.927518622071364, 9.014210765120337, 17.215473313767294, 12.225002052033132, 23.95992285442135, 13.15441839046253, 18.92638030281592, 9.188829661029756, 8.54387760556307, 16.532143503884406, 19.708304952488575, 11.415650475234877, 11.164188250841242, 10.57866686993068, 9.472253139474006, 9.872839364991119, 9.012651541367038, 9.556536775490311, 5.52136096309375, 4.8386245339930465, 4.156531560201479, 4.156530381711902, 7.568602415830608, 3.473831958900062, 2.7917012734420257, 2.7915990394712056, 2.109160178988738, 2.10911362865044, 2.1090395311182752, 2.1087759913865796, 2.1086755251501255, 2.108279258029801, 2.106365390956471, 8.227844771343175, 1.4268637684339116, 1.4268323911489194, 1.4268133880044873, 1.426793942926464, 1.4267675742221748, 1.4267662484214003, 1.4267572624383744, 1.4267562312599944, 1.4267239701078194, 1.4267171937927505, 1.4267039357850073, 1.4266992218266987, 1.4266647510065664, 1.4264854732796388, 13.561642047292294, 6.046866553654299, 6.657462627155508, 2.1091466263586005, 5.981350193345701, 8.162835161552762, 12.099190692540487, 5.184828533212133, 8.759424297184475, 6.203369380258155, 2.0737231447143274, 3.348297776027566, 5.2060814142468805, 13.914362799250755, 20.458428213066682, 8.540337781584817, 3.289824364054552, 8.13839034149824, 3.474043497779165, 13.68197526103833, 3.804585370517615, 5.1506228732346715, 9.699485398572993, 5.361375699789345, 5.14823407486174, 8.258405952303228, 7.537883906512003, 5.792495470869277, 5.935333121581018, 5.818489415472993, 5.752052065559836, 6.363852555408916, 5.993155712685038, 5.333770759933633, 5.306894715881402, 5.215490475031034], \"Total\": [968.0, 144.0, 879.0, 725.0, 912.0, 194.0, 336.0, 1937.0, 165.0, 141.0, 269.0, 314.0, 551.0, 304.0, 340.0, 319.0, 437.0, 480.0, 272.0, 113.0, 121.0, 210.0, 345.0, 60.0, 271.0, 170.0, 329.0, 148.0, 65.0, 610.0, 17.591213550951657, 19.546621765814237, 15.622429988965306, 10.711408023760846, 10.711356792220755, 9.72796153876062, 9.720080282050072, 41.88635967988777, 8.74478701297671, 8.74472012393949, 8.744545829768219, 8.744448722178785, 17.334236984329152, 26.2664015408604, 7.761414904005078, 7.761374364138068, 7.761291304650028, 210.1743473785194, 32.96225603437178, 7.7574043317514985, 6.778059082031782, 6.778061332535525, 6.778039938947088, 6.777948231119165, 6.777892261363104, 6.777984902305426, 6.777808400291753, 6.777591169820758, 6.7774253441160885, 7.74650399264302, 304.0488347769881, 68.56815609548882, 12.601314027703166, 38.939277268663695, 14.62490094418193, 27.241578849587626, 19.524629636321446, 54.75738405167832, 44.16792467130478, 119.72807086496047, 163.99808067386473, 137.16914673116614, 57.378792502300314, 124.49312380219071, 71.18466568587384, 57.94848782510337, 330.1705170588411, 308.32006480194906, 76.91144279113472, 1937.6821968644715, 265.67121263852556, 912.8926840698971, 336.543154587441, 214.7088894096913, 879.9226564969451, 968.7974687728166, 253.50375734884886, 456.5845073519528, 345.5046869736582, 329.5853294137817, 326.2046524502468, 648.9965535185925, 128.74875719415337, 768.2170813746479, 118.41342365074215, 479.3169441568522, 205.42264965924034, 340.3241370917842, 578.425763322516, 169.22927937252265, 207.34062998609102, 547.6799689051217, 619.6986378214746, 272.99914450330766, 610.8259721266157, 725.377356851382, 47.301774757884054, 34.716199119996986, 17.320136714810843, 16.35121312314084, 15.385705123661804, 15.385691401958328, 10.549628560013486, 9.5826098981541, 9.582555506183382, 11.499343109749939, 8.615445500749145, 8.61529992679853, 8.615566134455253, 7.648221998986101, 7.648263271855702, 7.64831966940838, 7.64579080258989, 7.646660104476043, 80.29352540229249, 6.6810483106724705, 6.681020907869899, 6.681054586667711, 6.681063053186994, 6.680997926017303, 6.680952850645773, 6.680995638449507, 19.05596041732958, 13.46777575322126, 5.713870065636844, 5.713864614828106, 43.941038157669354, 34.33837616262652, 34.81086322637527, 190.34722357951478, 30.70675616802853, 338.3369926924672, 87.54707219776583, 112.23333400309187, 480.07257835968164, 160.9406161361325, 409.4684825974232, 912.8926840698971, 195.08524326647947, 1937.6821968644715, 208.6501417594332, 30.508724790270442, 968.7974687728166, 212.63508312325786, 67.35480675277412, 116.17495173769011, 275.31243010111007, 314.1867141634706, 88.81688607620606, 619.6986378214746, 345.5046869736582, 272.99914450330766, 340.3241370917842, 194.45445772555, 648.9965535185925, 768.2170813746479, 547.6799689051217, 330.1705170588411, 135.9152698647121, 221.1743517022051, 326.2046524502468, 578.425763322516, 610.8259721266157, 456.5845073519528, 479.3169441568522, 879.9226564969451, 265.67121263852556, 44.4695524936568, 11.327147540612565, 8.475747099264032, 7.527422536777429, 7.527943871051608, 6.577520373192514, 6.57751973326879, 6.57752026447033, 6.577497416716589, 6.577507125188954, 6.577495716692027, 16.096744523876787, 13.180950292377803, 6.579366409972699, 12.195763727389561, 5.627585889832312, 5.62756402969583, 5.627556303994858, 5.627563908062519, 5.627545939727659, 5.627561704709955, 5.627589715423212, 5.622451231739069, 11.273634803418776, 11.341106133959768, 10.332860361538176, 4.677650556292052, 4.677649847605057, 4.6776430905030955, 4.67764201769718, 18.48459959260542, 29.95811745625542, 9.162935912249708, 36.09034957794768, 19.668952577299283, 52.4305978041613, 34.27184525890263, 91.3775861478079, 78.38639748907536, 12.188339180187416, 34.36122649108092, 47.129971802363094, 56.31754031983154, 85.80806494394697, 551.128206280134, 26.880579417826688, 30.50188730464545, 88.48749155459309, 17.721046401237867, 128.66080138195326, 133.38023002522516, 209.70537226841356, 73.0917947989988, 128.13687851748293, 137.3700412813286, 319.20670742338444, 437.6768025378313, 153.71896948784004, 126.50938018760557, 194.09166812503742, 725.377356851382, 84.51073908142189, 77.53673702363842, 51.71043354677216, 201.62686350506857, 578.425763322516, 237.87581307096582, 271.2010198913219, 768.2170813746479, 610.8259721266157, 547.6799689051217, 480.07257835968164, 648.9965535185925, 148.36657633802568, 619.6986378214746, 294.9799358150447, 10.802784893678982, 9.900478419475496, 8.99907174224816, 33.22026253376592, 8.095775663982279, 8.095775367543464, 8.095773197152479, 7.197771820196703, 7.189735420975094, 6.291312484658544, 6.291313531762669, 6.291323739510884, 5.389076707191922, 5.389080433003653, 5.389055937426043, 5.389055542771231, 5.38908039024335, 5.389105336547368, 5.388395874449609, 5.396362594672849, 9.965198398088404, 4.486857035256365, 4.486842078108709, 4.486854621980485, 4.486854067121844, 4.486866433709153, 4.48683410083283, 8.03956390693131, 7.242018009996987, 3.5846098924255565, 7.197035242397665, 7.241343845709675, 17.702360263240504, 13.464932109830093, 9.80379828521296, 59.92457092456853, 13.667560792487242, 33.07817618363092, 18.351523649867335, 314.1867141634706, 319.20670742338444, 107.32110268022274, 31.87030017861396, 271.2010198913219, 36.738262192295274, 194.09166812503742, 27.48724812463687, 168.48288837417164, 63.01830467397085, 153.5111363736824, 83.72906453070433, 232.91850686499973, 31.9477626132355, 190.36169224427255, 42.056973622568705, 237.87581307096582, 551.128206280134, 437.6768025378313, 54.03386274069577, 725.377356851382, 768.2170813746479, 81.39385821942619, 148.36657633802568, 610.8259721266157, 619.6986378214746, 648.9965535185925, 88.98114010121215, 879.9226564969451, 479.3169441568522, 296.07921356943, 578.425763322516, 547.6799689051217, 409.4684825974232, 98.1941967558665, 480.07257835968164, 218.49532073082452, 128.66080138195326, 9.028064528717369, 6.311332153138739, 6.311329473104861, 6.311319781242952, 5.40575918233463, 5.405715605790087, 5.405762043899724, 5.405774353549782, 5.405758035615776, 5.405755647861131, 5.405792206544083, 5.405634869648056, 10.918006961056106, 4.500192416227267, 4.500190593234357, 4.500194548960374, 4.50019653760706, 4.500189858068257, 4.50017436443107, 4.500197618396171, 4.500211136043644, 4.500271945649655, 4.500295854253164, 4.500333961970619, 4.500111276467729, 3.594620967567843, 3.594620846523667, 3.594621914692447, 3.59462344639352, 3.5945918664332175, 7.278592200918461, 11.643407496417, 8.984503547083627, 17.31004183147929, 13.449313594219758, 94.28907362104559, 29.41523509062614, 31.62801183496631, 22.511652194975376, 17.93891120777514, 15.616961607620377, 32.960382310164036, 20.098916998008523, 725.377356851382, 25.577156078518684, 30.794167933239073, 9.966841043776437, 93.55349785781007, 186.68826378963303, 54.56962624504728, 89.13150925052923, 36.774733037382134, 437.6768025378313, 29.10418510744603, 41.48254797520662, 610.8259721266157, 208.01795049386152, 160.95021016507746, 1937.6821968644715, 126.50938018760557, 80.44999082206769, 619.6986378214746, 218.49532073082452, 294.9799358150447, 319.20670742338444, 137.77881001629495, 190.36169224427255, 551.128206280134, 480.07257835968164, 207.34062998609102, 578.425763322516, 136.40017174399318, 768.2170813746479, 456.5845073519528, 479.3169441568522, 261.99020775773164, 879.9226564969451, 648.9965535185925, 201.62686350506857, 271.2010198913219, 547.6799689051217, 968.7974687728166, 9.84402332985743, 65.85454956148146, 8.050015514154909, 8.049994828499793, 7.153747570307514, 6.25701320966115, 6.256985466654269, 6.257037356370611, 6.257005307123173, 5.3605255717254625, 5.364348768917231, 5.364030670787914, 5.365133084258359, 5.372148774517462, 4.463969753760631, 4.4639576707119435, 4.463955110171083, 4.463991135563986, 4.463989328304009, 4.463908101487374, 4.464110175947369, 9.918308328724038, 10.81557030625764, 10.828883107322213, 141.5908201484925, 5.395255699671822, 3.5674501699840673, 3.567451172126556, 3.567449759942039, 3.567443291344011, 42.4013146686943, 15.431988708566731, 25.61367923418814, 12.599403522916194, 16.148620975825935, 128.9843621749632, 22.120390347894187, 14.370918549994013, 12.565424458158214, 24.811420081947364, 38.37485557876826, 10.764213794740352, 234.5105327484325, 31.91660980914344, 27.08953526807203, 879.9226564969451, 54.20420502101585, 329.5853294137817, 91.24482242475601, 34.81874049384304, 54.89433704479661, 610.8259721266157, 39.32379956807214, 112.47155252727384, 95.48775123946012, 65.86903939504948, 84.3009084838165, 85.31188796125672, 43.809404609738706, 768.2170813746479, 725.377356851382, 479.3169441568522, 619.6986378214746, 237.87581307096582, 1937.6821968644715, 294.9799358150447, 194.09166812503742, 578.425763322516, 161.2919018392188, 437.6768025378313, 269.5549458581721, 218.49532073082452, 296.07921356943, 547.6799689051217, 204.08345772046295, 6.828454243195176, 6.828464668666176, 6.828525116403269, 5.978362256313187, 5.128267117235792, 5.128354482504606, 5.143369622397265, 4.278198098251458, 4.278197242620796, 4.278208759303191, 4.278224338199772, 4.278228027614855, 4.278245092397787, 4.278362919940435, 4.27844255173101, 7.778334720524665, 3.4281220764134797, 3.4281232259816012, 3.4281308053091624, 3.428134800732694, 3.4281383892007695, 3.428137740167554, 3.4281092341139745, 4.288624526524232, 3.4281405190123677, 3.4281279559739573, 3.428137195552191, 3.428140358969986, 3.4281422195242466, 3.4281716486474707, 7.843572873060064, 194.26250479691012, 21.447507901768663, 121.20655082614093, 25.567595318807456, 16.79435176342708, 39.246872272858916, 17.701016622210087, 33.91306804407789, 11.511316377527125, 10.518475087946491, 11.388922425630065, 6.9394308455195, 968.7974687728166, 879.9226564969451, 39.244366499709116, 340.3241370917842, 336.543154587441, 161.6999414668148, 437.6768025378313, 180.37392140124044, 44.19707441936547, 108.61915340761792, 725.377356851382, 456.5845073519528, 480.07257835968164, 112.85952921763801, 210.1721350612384, 261.99020775773164, 153.71896948784004, 768.2170813746479, 213.38184291510075, 619.6986378214746, 345.5046869736582, 648.9965535185925, 547.6799689051217, 272.99914450330766, 237.87581307096582, 314.1867141634706, 610.8259721266157, 326.2046524502468, 551.128206280134, 409.4684825974232, 1937.6821968644715, 194.45445772555, 19.172618597616104, 60.86507782794753, 9.589155960714681, 8.71800983871586, 7.846889429329727, 7.846879880737269, 6.104642546062791, 6.104658548365373, 5.23357641425205, 5.234708239982248, 4.362399553311103, 4.362408669157896, 4.362415251617801, 4.362402098582785, 4.36239317952983, 4.362388797688555, 4.3624311186948015, 4.362386108235692, 4.362381048441108, 4.362672853140795, 5.248092180865587, 7.825854562086182, 4.366526398218238, 11.400006159580162, 3.491275665501023, 3.4912760293298497, 3.4912777487968567, 3.4912769079891004, 3.4912790231991258, 3.4912699919024166, 15.049596673730646, 19.440519310168987, 165.9361745459568, 24.705819458677464, 25.67532952995618, 13.207503810550968, 44.68691322070228, 69.7207169205945, 81.39385821942619, 12.467075484362935, 170.1577278390031, 44.92038981076173, 16.096044033412948, 107.64844000421964, 61.428193110902015, 12.690703663442223, 80.44999082206769, 54.03386274069577, 19.323227644706677, 69.05161923982921, 213.38184291510075, 82.04356015951197, 94.28907362104559, 50.65466848461164, 271.2010198913219, 161.2919018392188, 336.543154587441, 314.1867141634706, 551.128206280134, 437.6768025378313, 272.99914450330766, 80.30541117704868, 578.425763322516, 912.8926840698971, 547.6799689051217, 319.20670742338444, 768.2170813746479, 610.8259721266157, 21.300929000995282, 14.541077322711354, 5.953214551306696, 5.953240236918086, 11.980028929221588, 5.1073566548399505, 5.107361048323981, 5.107363056020463, 5.107419274269907, 5.107918781874339, 4.261480685158541, 4.261493509003334, 4.261490745464505, 4.261641530512707, 4.266634093637671, 4.266684089773671, 4.266962125369386, 7.676665522884334, 3.4155619006170834, 3.415576210169774, 3.4155869029436787, 3.4155767002812736, 3.415579961186823, 3.4155839830734043, 3.415591000388922, 3.415587023715825, 3.4156271035396375, 3.415729797773059, 7.711277105621408, 12.015743640132696, 12.068360727864633, 7.791236914264723, 7.766259678322517, 5.957446080166421, 7.761731829971301, 20.237385169520113, 6.914533308635721, 23.099697808306054, 24.152633549788714, 84.37491551904957, 148.36657633802568, 29.457012812060608, 32.9312125399985, 32.263699354825924, 725.377356851382, 112.47155252727384, 25.577156078518684, 153.71896948784004, 98.1941967558665, 128.13687851748293, 209.70537226841356, 190.5418106356774, 103.47849739474987, 36.92043937536931, 91.24482242475601, 87.51348241161197, 70.16413591972547, 93.55349785781007, 578.425763322516, 479.3169441568522, 319.20670742338444, 149.87124558166946, 95.48775123946012, 480.07257835968164, 610.8259721266157, 551.128206280134, 160.95021016507746, 1937.6821968644715, 648.9965535185925, 271.2010198913219, 133.38023002522516, 547.6799689051217, 437.6768025378313, 9.708122699202503, 10.52603085555422, 8.905285548721347, 8.90552901086145, 144.03774213926351, 7.299880155946518, 5.694365292469955, 5.694354216679634, 5.694463312560931, 4.891565937917411, 4.8915550940765025, 4.891579962663362, 4.8915868186893725, 4.8916122432088365, 4.891685446621843, 26.259846404054244, 4.088833573273206, 4.089121135244695, 8.14650098795745, 30.650368558925198, 7.347127903215929, 3.2860938722966617, 3.286100430185481, 3.2860955863724524, 3.2860967151572176, 3.286096957831204, 3.2861112904531664, 3.2861231739706556, 3.2861111927851834, 3.2861144134102878, 9.97837395139125, 5.7416715133458265, 25.366061193437112, 33.413619702240155, 37.19807719885579, 25.886083682563118, 24.78935098081867, 51.31035264008328, 6.614714776641409, 13.012019885554889, 87.51348241161197, 54.06172937421156, 38.381770018207106, 725.377356851382, 38.20190596219635, 269.5549458581721, 107.64844000421964, 879.9226564969451, 153.5111363736824, 551.128206280134, 63.01830467397085, 51.71043354677216, 768.2170813746479, 1937.6821968644715, 168.48288837417164, 294.9799358150447, 232.91850686499973, 107.32110268022274, 261.99020775773164, 81.22904279121802, 479.3169441568522, 6.337249766293184, 5.654946149381079, 4.972414302063781, 4.972414270793134, 9.23457877578781, 4.290083498666917, 3.607579422621308, 3.607608011602985, 2.9252026353824814, 2.925227723317028, 2.925256472703098, 2.9253717873432117, 2.9254188586703775, 2.9254157277833306, 2.9258706849963696, 12.860940573213348, 2.2427481980100925, 2.2427554580272284, 2.2427628861538236, 2.2427689563484994, 2.2427709702521508, 2.2427764183982983, 2.2427780615209967, 2.2427898191812994, 2.2428011715218057, 2.242803626871301, 2.24280800289433, 2.242801240837241, 2.242827948217223, 2.2429055441825496, 26.53705538342504, 11.879040423655653, 17.726808279848935, 3.8307920452801234, 16.001712740872172, 25.211103890424887, 47.39789477583911, 14.372307444683997, 31.62801183496631, 19.866121605862265, 3.919676898304032, 8.150258946577075, 18.09976862816585, 113.5303959905189, 269.5549458581721, 78.38639748907536, 10.40814892163037, 144.86770773767842, 12.5013491988166, 725.377356851382, 16.783652605615778, 46.295458990418865, 547.6799689051217, 84.51073908142189, 70.93198666779074, 610.8259721266157, 409.4684825974232, 140.440336441603, 160.95021016507746, 148.36657633802568, 140.42080149819597, 480.07257835968164, 437.6768025378313, 170.1577278390031, 336.543154587441, 912.8926840698971], \"Category\": [\"Default\", \"Default\", \"Default\", \"Default\", \"Default\", \"Default\", \"Default\", \"Default\", \"Default\", \"Default\", \"Default\", \"Default\", \"Default\", \"Default\", \"Default\", \"Default\", \"Default\", \"Default\", \"Default\", \"Default\", \"Default\", \"Default\", \"Default\", \"Default\", \"Default\", \"Default\", \"Default\", \"Default\", \"Default\", \"Default\", \"Topic1\", \"Topic1\", \"Topic1\", \"Topic1\", \"Topic1\", \"Topic1\", \"Topic1\", \"Topic1\", \"Topic1\", \"Topic1\", \"Topic1\", \"Topic1\", \"Topic1\", \"Topic1\", \"Topic1\", \"Topic1\", \"Topic1\", \"Topic1\", \"Topic1\", \"Topic1\", \"Topic1\", \"Topic1\", \"Topic1\", \"Topic1\", \"Topic1\", \"Topic1\", \"Topic1\", \"Topic1\", \"Topic1\", \"Topic1\", \"Topic1\", \"Topic1\", \"Topic1\", \"Topic1\", \"Topic1\", \"Topic1\", \"Topic1\", \"Topic1\", \"Topic1\", \"Topic1\", \"Topic1\", \"Topic1\", \"Topic1\", \"Topic1\", \"Topic1\", \"Topic1\", \"Topic1\", \"Topic1\", \"Topic1\", \"Topic1\", \"Topic1\", \"Topic1\", \"Topic1\", \"Topic1\", \"Topic1\", \"Topic1\", \"Topic1\", \"Topic1\", \"Topic1\", \"Topic1\", \"Topic1\", \"Topic1\", \"Topic1\", \"Topic1\", \"Topic1\", \"Topic1\", \"Topic1\", \"Topic1\", \"Topic1\", \"Topic1\", \"Topic1\", \"Topic1\", \"Topic1\", \"Topic1\", \"Topic1\", \"Topic1\", \"Topic2\", \"Topic2\", \"Topic2\", \"Topic2\", \"Topic2\", \"Topic2\", \"Topic2\", \"Topic2\", \"Topic2\", \"Topic2\", \"Topic2\", \"Topic2\", \"Topic2\", \"Topic2\", \"Topic2\", \"Topic2\", \"Topic2\", \"Topic2\", \"Topic2\", \"Topic2\", \"Topic2\", \"Topic2\", \"Topic2\", \"Topic2\", \"Topic2\", \"Topic2\", \"Topic2\", \"Topic2\", \"Topic2\", \"Topic2\", \"Topic2\", \"Topic2\", \"Topic2\", \"Topic2\", \"Topic2\", \"Topic2\", \"Topic2\", \"Topic2\", \"Topic2\", \"Topic2\", \"Topic2\", \"Topic2\", \"Topic2\", \"Topic2\", \"Topic2\", \"Topic2\", \"Topic2\", \"Topic2\", \"Topic2\", \"Topic2\", \"Topic2\", \"Topic2\", \"Topic2\", \"Topic2\", \"Topic2\", \"Topic2\", \"Topic2\", \"Topic2\", \"Topic2\", \"Topic2\", \"Topic2\", \"Topic2\", \"Topic2\", \"Topic2\", \"Topic2\", \"Topic2\", \"Topic2\", \"Topic2\", \"Topic2\", \"Topic2\", \"Topic2\", \"Topic3\", \"Topic3\", \"Topic3\", \"Topic3\", \"Topic3\", \"Topic3\", \"Topic3\", \"Topic3\", \"Topic3\", \"Topic3\", \"Topic3\", \"Topic3\", \"Topic3\", \"Topic3\", \"Topic3\", \"Topic3\", \"Topic3\", \"Topic3\", \"Topic3\", \"Topic3\", \"Topic3\", \"Topic3\", \"Topic3\", \"Topic3\", \"Topic3\", \"Topic3\", \"Topic3\", \"Topic3\", \"Topic3\", \"Topic3\", \"Topic3\", \"Topic3\", \"Topic3\", \"Topic3\", \"Topic3\", \"Topic3\", \"Topic3\", \"Topic3\", \"Topic3\", \"Topic3\", \"Topic3\", \"Topic3\", \"Topic3\", \"Topic3\", \"Topic3\", \"Topic3\", \"Topic3\", \"Topic3\", \"Topic3\", \"Topic3\", \"Topic3\", \"Topic3\", \"Topic3\", \"Topic3\", \"Topic3\", \"Topic3\", \"Topic3\", \"Topic3\", \"Topic3\", \"Topic3\", \"Topic3\", \"Topic3\", \"Topic3\", \"Topic3\", \"Topic3\", \"Topic3\", \"Topic3\", \"Topic3\", \"Topic3\", \"Topic3\", \"Topic3\", \"Topic3\", \"Topic3\", \"Topic3\", \"Topic3\", \"Topic3\", \"Topic4\", \"Topic4\", \"Topic4\", \"Topic4\", \"Topic4\", \"Topic4\", \"Topic4\", \"Topic4\", \"Topic4\", \"Topic4\", \"Topic4\", \"Topic4\", \"Topic4\", \"Topic4\", \"Topic4\", \"Topic4\", \"Topic4\", \"Topic4\", \"Topic4\", \"Topic4\", \"Topic4\", \"Topic4\", \"Topic4\", \"Topic4\", \"Topic4\", \"Topic4\", \"Topic4\", \"Topic4\", \"Topic4\", \"Topic4\", \"Topic4\", \"Topic4\", \"Topic4\", \"Topic4\", \"Topic4\", \"Topic4\", \"Topic4\", \"Topic4\", \"Topic4\", \"Topic4\", \"Topic4\", \"Topic4\", \"Topic4\", \"Topic4\", \"Topic4\", \"Topic4\", \"Topic4\", \"Topic4\", \"Topic4\", \"Topic4\", \"Topic4\", \"Topic4\", \"Topic4\", \"Topic4\", \"Topic4\", \"Topic4\", \"Topic4\", \"Topic4\", \"Topic4\", \"Topic4\", \"Topic4\", \"Topic4\", \"Topic4\", \"Topic4\", \"Topic4\", \"Topic4\", \"Topic4\", \"Topic4\", \"Topic4\", \"Topic4\", \"Topic4\", \"Topic4\", \"Topic4\", \"Topic4\", \"Topic4\", \"Topic4\", \"Topic4\", \"Topic5\", \"Topic5\", \"Topic5\", \"Topic5\", \"Topic5\", \"Topic5\", \"Topic5\", \"Topic5\", \"Topic5\", \"Topic5\", \"Topic5\", \"Topic5\", \"Topic5\", \"Topic5\", \"Topic5\", \"Topic5\", \"Topic5\", \"Topic5\", \"Topic5\", \"Topic5\", \"Topic5\", \"Topic5\", \"Topic5\", \"Topic5\", \"Topic5\", \"Topic5\", \"Topic5\", \"Topic5\", \"Topic5\", \"Topic5\", \"Topic5\", \"Topic5\", \"Topic5\", \"Topic5\", \"Topic5\", \"Topic5\", \"Topic5\", \"Topic5\", \"Topic5\", \"Topic5\", \"Topic5\", \"Topic5\", \"Topic5\", \"Topic5\", \"Topic5\", \"Topic5\", \"Topic5\", \"Topic5\", \"Topic5\", \"Topic5\", \"Topic5\", \"Topic5\", \"Topic5\", \"Topic5\", \"Topic5\", \"Topic5\", \"Topic5\", \"Topic5\", \"Topic5\", \"Topic5\", \"Topic5\", \"Topic5\", \"Topic5\", \"Topic5\", \"Topic5\", \"Topic5\", \"Topic5\", \"Topic5\", \"Topic5\", \"Topic5\", \"Topic5\", \"Topic5\", \"Topic5\", \"Topic5\", \"Topic5\", \"Topic5\", \"Topic5\", \"Topic5\", \"Topic5\", \"Topic5\", \"Topic5\", \"Topic5\", \"Topic6\", \"Topic6\", \"Topic6\", \"Topic6\", \"Topic6\", \"Topic6\", \"Topic6\", \"Topic6\", \"Topic6\", \"Topic6\", \"Topic6\", \"Topic6\", \"Topic6\", \"Topic6\", \"Topic6\", \"Topic6\", \"Topic6\", \"Topic6\", \"Topic6\", \"Topic6\", \"Topic6\", \"Topic6\", \"Topic6\", \"Topic6\", \"Topic6\", \"Topic6\", \"Topic6\", \"Topic6\", \"Topic6\", \"Topic6\", \"Topic6\", \"Topic6\", \"Topic6\", \"Topic6\", \"Topic6\", \"Topic6\", \"Topic6\", \"Topic6\", \"Topic6\", \"Topic6\", \"Topic6\", \"Topic6\", \"Topic6\", \"Topic6\", \"Topic6\", \"Topic6\", \"Topic6\", \"Topic6\", \"Topic6\", \"Topic6\", \"Topic6\", \"Topic6\", \"Topic6\", \"Topic6\", \"Topic6\", \"Topic6\", \"Topic6\", \"Topic6\", \"Topic6\", \"Topic6\", \"Topic6\", \"Topic6\", \"Topic6\", \"Topic6\", \"Topic6\", \"Topic6\", \"Topic6\", \"Topic6\", \"Topic6\", \"Topic6\", \"Topic6\", \"Topic6\", \"Topic6\", \"Topic6\", \"Topic6\", \"Topic7\", \"Topic7\", \"Topic7\", \"Topic7\", \"Topic7\", \"Topic7\", \"Topic7\", \"Topic7\", \"Topic7\", \"Topic7\", \"Topic7\", \"Topic7\", \"Topic7\", \"Topic7\", \"Topic7\", \"Topic7\", \"Topic7\", \"Topic7\", \"Topic7\", \"Topic7\", \"Topic7\", \"Topic7\", \"Topic7\", \"Topic7\", \"Topic7\", \"Topic7\", \"Topic7\", \"Topic7\", \"Topic7\", \"Topic7\", \"Topic7\", \"Topic7\", \"Topic7\", \"Topic7\", \"Topic7\", \"Topic7\", \"Topic7\", \"Topic7\", \"Topic7\", \"Topic7\", \"Topic7\", \"Topic7\", \"Topic7\", \"Topic7\", \"Topic7\", \"Topic7\", \"Topic7\", \"Topic7\", \"Topic7\", \"Topic7\", \"Topic7\", \"Topic7\", \"Topic7\", \"Topic7\", \"Topic7\", \"Topic7\", \"Topic7\", \"Topic7\", \"Topic7\", \"Topic7\", \"Topic7\", \"Topic7\", \"Topic7\", \"Topic7\", \"Topic7\", \"Topic7\", \"Topic7\", \"Topic7\", \"Topic7\", \"Topic7\", \"Topic7\", \"Topic7\", \"Topic7\", \"Topic7\", \"Topic7\", \"Topic8\", \"Topic8\", \"Topic8\", \"Topic8\", \"Topic8\", \"Topic8\", \"Topic8\", \"Topic8\", \"Topic8\", \"Topic8\", \"Topic8\", \"Topic8\", \"Topic8\", \"Topic8\", \"Topic8\", \"Topic8\", \"Topic8\", \"Topic8\", \"Topic8\", \"Topic8\", \"Topic8\", \"Topic8\", \"Topic8\", \"Topic8\", \"Topic8\", \"Topic8\", \"Topic8\", \"Topic8\", \"Topic8\", \"Topic8\", \"Topic8\", \"Topic8\", \"Topic8\", \"Topic8\", \"Topic8\", \"Topic8\", \"Topic8\", \"Topic8\", \"Topic8\", \"Topic8\", \"Topic8\", \"Topic8\", \"Topic8\", \"Topic8\", \"Topic8\", \"Topic8\", \"Topic8\", \"Topic8\", \"Topic8\", \"Topic8\", \"Topic8\", \"Topic8\", \"Topic8\", \"Topic8\", \"Topic8\", \"Topic8\", \"Topic8\", \"Topic8\", \"Topic8\", \"Topic8\", \"Topic8\", \"Topic8\", \"Topic8\", \"Topic8\", \"Topic8\", \"Topic8\", \"Topic8\", \"Topic8\", \"Topic9\", \"Topic9\", \"Topic9\", \"Topic9\", \"Topic9\", \"Topic9\", \"Topic9\", \"Topic9\", \"Topic9\", \"Topic9\", \"Topic9\", \"Topic9\", \"Topic9\", \"Topic9\", \"Topic9\", \"Topic9\", \"Topic9\", \"Topic9\", \"Topic9\", \"Topic9\", \"Topic9\", \"Topic9\", \"Topic9\", \"Topic9\", \"Topic9\", \"Topic9\", \"Topic9\", \"Topic9\", \"Topic9\", \"Topic9\", \"Topic9\", \"Topic9\", \"Topic9\", \"Topic9\", \"Topic9\", \"Topic9\", \"Topic9\", \"Topic9\", \"Topic9\", \"Topic9\", \"Topic9\", \"Topic9\", \"Topic9\", \"Topic9\", \"Topic9\", \"Topic9\", \"Topic9\", \"Topic9\", \"Topic9\", \"Topic9\", \"Topic9\", \"Topic9\", \"Topic9\", \"Topic9\", \"Topic9\", \"Topic9\", \"Topic9\", \"Topic9\", \"Topic9\", \"Topic9\", \"Topic9\", \"Topic9\", \"Topic9\", \"Topic9\", \"Topic9\", \"Topic9\", \"Topic9\", \"Topic9\", \"Topic9\", \"Topic9\", \"Topic9\", \"Topic9\", \"Topic9\", \"Topic10\", \"Topic10\", \"Topic10\", \"Topic10\", \"Topic10\", \"Topic10\", \"Topic10\", \"Topic10\", \"Topic10\", \"Topic10\", \"Topic10\", \"Topic10\", \"Topic10\", \"Topic10\", \"Topic10\", \"Topic10\", \"Topic10\", \"Topic10\", \"Topic10\", \"Topic10\", \"Topic10\", \"Topic10\", \"Topic10\", \"Topic10\", \"Topic10\", \"Topic10\", \"Topic10\", \"Topic10\", \"Topic10\", \"Topic10\", \"Topic10\", \"Topic10\", \"Topic10\", \"Topic10\", \"Topic10\", \"Topic10\", \"Topic10\", \"Topic10\", \"Topic10\", \"Topic10\", \"Topic10\", \"Topic10\", \"Topic10\", \"Topic10\", \"Topic10\", \"Topic10\", \"Topic10\", \"Topic10\", \"Topic10\", \"Topic10\", \"Topic10\", \"Topic10\", \"Topic10\", \"Topic10\", \"Topic10\", \"Topic10\", \"Topic10\", \"Topic10\", \"Topic10\", \"Topic10\", \"Topic10\", \"Topic11\", \"Topic11\", \"Topic11\", \"Topic11\", \"Topic11\", \"Topic11\", \"Topic11\", \"Topic11\", \"Topic11\", \"Topic11\", \"Topic11\", \"Topic11\", \"Topic11\", \"Topic11\", \"Topic11\", \"Topic11\", \"Topic11\", \"Topic11\", \"Topic11\", \"Topic11\", \"Topic11\", \"Topic11\", \"Topic11\", \"Topic11\", \"Topic11\", \"Topic11\", \"Topic11\", \"Topic11\", \"Topic11\", \"Topic11\", \"Topic11\", \"Topic11\", \"Topic11\", \"Topic11\", \"Topic11\", \"Topic11\", \"Topic11\", \"Topic11\", \"Topic11\", \"Topic11\", \"Topic11\", \"Topic11\", \"Topic11\", \"Topic11\", \"Topic11\", \"Topic11\", \"Topic11\", \"Topic11\", \"Topic11\", \"Topic11\", \"Topic11\", \"Topic11\", \"Topic11\", \"Topic11\", \"Topic11\", \"Topic11\", \"Topic11\", \"Topic11\", \"Topic11\", \"Topic11\", \"Topic11\", \"Topic11\", \"Topic11\", \"Topic11\", \"Topic11\", \"Topic11\"], \"logprob\": [30.0, 29.0, 28.0, 27.0, 26.0, 25.0, 24.0, 23.0, 22.0, 21.0, 20.0, 19.0, 18.0, 17.0, 16.0, 15.0, 14.0, 13.0, 12.0, 11.0, 10.0, 9.0, 8.0, 7.0, 6.0, 5.0, 4.0, 3.0, 2.0, 1.0, -7.0339, -6.9315, -7.16, -7.5589, -7.559, -7.6633, -7.67, -6.2109, -7.7797, -7.7798, -7.78, -7.7801, -7.1027, -6.6908, -7.9116, -7.9117, -7.9119, -4.6146, -6.4719, -7.919, -8.0636, -8.0636, -8.0637, -8.0637, -8.0638, -8.0639, -8.0641, -8.0656, -8.07, -7.939, -4.2874, -5.7766, -7.4539, -6.3608, -7.3159, -6.713, -7.0381, -6.076, -6.2836, -5.3674, -5.0893, -5.2568, -6.0607, -5.4043, -5.908, -6.0964, -4.5638, -4.6297, -5.8531, -3.0953, -4.8098, -3.758, -4.6493, -5.0633, -3.919, -3.8973, -4.9645, -4.5213, -4.7515, -4.789, -4.8095, -4.3975, -5.556, -4.3846, -5.6246, -4.7042, -5.2691, -4.9595, -4.6899, -5.4244, -5.3261, -4.8728, -4.8994, -5.2433, -4.9709, -5.0521, -5.837, -6.1544, -6.8711, -6.9331, -6.9956, -6.9956, -7.3982, -7.5024, -7.5025, -7.3204, -7.6189, -7.6191, -7.6203, -7.7509, -7.7509, -7.7516, -7.7531, -7.7544, -5.4077, -7.9028, -7.9029, -7.9029, -7.9029, -7.9029, -7.903, -7.904, -6.8699, -7.2202, -8.0821, -8.0822, -6.0465, -6.2946, -6.3071, -4.7465, -6.4762, -4.2853, -5.5751, -5.358, -4.1362, -5.1158, -4.3173, -3.6635, -4.9779, -3.0272, -4.9523, -6.5666, -3.7359, -4.9995, -5.9278, -5.495, -4.8117, -4.7533, -5.7424, -4.3287, -4.7778, -4.9509, -4.8328, -5.25, -4.4863, -4.3936, -4.6174, -4.9576, -5.5072, -5.2809, -5.1014, -4.8421, -4.8668, -5.0893, -5.0905, -5.0205, -5.2865, -5.3571, -6.7593, -7.0789, -7.2066, -7.2128, -7.3586, -7.3586, -7.3586, -7.3586, -7.3587, -7.3587, -6.4638, -6.6761, -7.3769, -6.7622, -7.5379, -7.538, -7.538, -7.538, -7.538, -7.5381, -7.5383, -7.5479, -6.8543, -6.8587, -6.9582, -7.7566, -7.7566, -7.7567, -7.7567, -6.3887, -5.9114, -7.086, -5.7774, -6.3794, -5.4716, -5.8659, -5.0102, -5.1537, -6.8538, -5.9914, -5.7241, -5.6059, -5.2772, -3.8226, -6.244, -6.1653, -5.3467, -6.5935, -5.0819, -5.0711, -4.7478, -5.5609, -5.1589, -5.1089, -4.5263, -4.3144, -5.067, -5.2487, -4.9779, -4.2274, -5.5556, -5.6117, -5.8627, -5.2044, -4.6995, -5.167, -5.1083, -4.6624, -4.7787, -4.8754, -4.9399, -4.8467, -5.4173, -5.1158, -5.2723, -6.4772, -6.5715, -6.677, -5.373, -6.792, -6.792, -6.792, -6.9332, -6.9343, -7.076, -7.076, -7.076, -7.2553, -7.2553, -7.2554, -7.2554, -7.2554, -7.2555, -7.2589, -7.2858, -6.6755, -7.474, -7.474, -7.474, -7.474, -7.4741, -7.4741, -6.9243, -7.0352, -7.7543, -7.0821, -7.0764, -6.2532, -6.5166, -6.7987, -5.2548, -6.526, -5.8384, -6.3479, -4.2012, -4.1984, -5.0518, -5.9503, -4.4604, -5.8945, -4.7418, -6.1502, -4.9894, -5.6495, -5.1184, -5.5065, -4.8945, -6.0918, -5.053, -5.9452, -5.0179, -4.5989, -4.7286, -5.8499, -4.5983, -4.5935, -5.6567, -5.4112, -4.8319, -4.877, -4.897, -5.691, -4.8665, -5.1034, -5.3227, -5.1476, -5.1698, -5.3298, -5.6658, -5.4393, -5.5846, -5.6327, -6.6088, -7.0092, -7.0092, -7.0095, -7.1885, -7.1886, -7.1886, -7.1886, -7.1886, -7.1886, -7.1886, -7.1957, -6.5062, -7.4072, -7.4072, -7.4073, -7.4073, -7.4073, -7.4073, -7.4073, -7.4073, -7.4075, -7.4078, -7.4079, -7.4093, -7.6875, -7.6875, -7.6876, -7.6876, -7.6876, -7.0094, -6.6129, -6.8573, -6.2759, -6.5057, -4.7886, -5.8139, -5.8299, -6.1228, -6.3239, -6.4365, -5.8669, -6.2831, -3.6197, -6.1102, -6.011, -6.8572, -5.3865, -4.9848, -5.7666, -5.4948, -6.0398, -4.583, -6.188, -5.9909, -4.4311, -5.0981, -5.2482, -3.8992, -5.3995, -5.6701, -4.6774, -5.1974, -5.0673, -5.0307, -5.5137, -5.4123, -5.0249, -5.091, -5.4022, -5.0431, -5.5727, -4.9945, -5.1824, -5.2211, -5.407, -5.1424, -5.4031, -5.5777, -5.5537, -5.503, -5.5604, -6.4411, -4.5502, -6.6606, -6.6607, -6.793, -6.9446, -6.9446, -6.9446, -6.9448, -7.124, -7.1347, -7.137, -7.1437, -7.151, -7.3426, -7.3426, -7.3426, -7.3426, -7.3427, -7.3428, -7.3465, -6.5499, -6.4668, -6.4683, -3.9093, -7.2067, -7.6228, -7.6228, -7.6228, -7.6229, -5.2177, -6.2309, -5.7733, -6.4632, -6.2609, -4.7016, -6.0847, -6.4397, -6.5441, -6.0294, -5.6992, -6.6715, -4.368, -5.8641, -6.0207, -3.6763, -5.5761, -4.4266, -5.2634, -5.8972, -5.6958, -4.3488, -5.8973, -5.3462, -5.5019, -5.6858, -5.5849, -5.586, -5.8868, -4.6931, -4.7412, -4.9588, -4.8883, -5.3047, -4.612, -5.2604, -5.448, -5.1373, -5.5142, -5.3034, -5.4285, -5.499, -5.4552, -5.3705, -5.5797, -6.5292, -6.5292, -6.5294, -6.6812, -6.8604, -6.8606, -6.8907, -7.0791, -7.0791, -7.0792, -7.0792, -7.0792, -7.0792, -7.0795, -7.0801, -6.5291, -7.3594, -7.3594, -7.3594, -7.3595, -7.3595, -7.3595, -7.3595, -7.1355, -7.3595, -7.3595, -7.3595, -7.3595, -7.3595, -7.3595, -6.5633, -3.7877, -5.7505, -4.2963, -5.6975, -6.1019, -5.4788, -6.1019, -5.6274, -6.4455, -6.5291, -6.4831, -6.8605, -3.5134, -3.7043, -5.7031, -4.3446, -4.415, -5.0101, -4.4699, -5.0552, -5.8591, -5.4186, -4.4554, -4.7091, -4.706, -5.4329, -5.1528, -5.0862, -5.3218, -4.6432, -5.1881, -4.7575, -5.0209, -4.8016, -4.8684, -5.1292, -5.1949, -5.1452, -5.0122, -5.1981, -5.1019, -5.2001, -5.0138, -5.366, -5.2626, -4.1412, -5.9964, -6.1004, -6.2169, -6.217, -6.501, -6.5012, -6.6806, -6.6879, -6.8989, -6.8989, -6.899, -6.899, -6.899, -6.899, -6.899, -6.899, -6.899, -6.8995, -6.7377, -6.3489, -6.9328, -5.9952, -7.1792, -7.1792, -7.1792, -7.1792, -7.1792, -7.1792, -5.7772, -5.5603, -3.6379, -5.4619, -5.4355, -6.034, -5.0131, -4.6796, -4.7532, -6.1324, -4.2813, -5.2305, -5.9611, -4.6153, -5.0557, -6.1593, -4.9029, -5.2427, -5.9357, -5.2133, -4.6553, -5.1655, -5.1035, -5.4288, -4.7027, -4.9562, -4.7211, -4.7652, -4.5578, -4.6494, -4.834, -5.329, -4.906, -4.8537, -5.0955, -5.2375, -5.1624, -5.3044, -5.0985, -5.5203, -6.4233, -6.4234, -5.7271, -6.6027, -6.6028, -6.6028, -6.603, -6.6037, -6.8215, -6.8215, -6.8215, -6.8218, -6.8319, -6.832, -6.8344, -6.2789, -7.1017, -7.1017, -7.1017, -7.1018, -7.1018, -7.1018, -7.1018, -7.1018, -7.1021, -7.1027, -6.2904, -5.8667, -5.9201, -6.3303, -6.3403, -6.6028, -6.4522, -5.7775, -6.603, -5.7722, -5.7713, -4.9649, -4.6417, -5.7092, -5.6456, -5.7147, -4.0075, -5.029, -5.8568, -4.9166, -5.1936, -5.0718, -4.8646, -4.9209, -5.2291, -5.7398, -5.3592, -5.3913, -5.4834, -5.3793, -4.6981, -4.8092, -4.9916, -5.2837, -5.4539, -5.0169, -5.0731, -5.0965, -5.3744, -4.8971, -5.1283, -5.2865, -5.4598, -5.2923, -5.3978, -5.6108, -5.5319, -5.7053, -5.7054, -2.9388, -5.9263, -6.2101, -6.2101, -6.2102, -6.3894, -6.3894, -6.3894, -6.3894, -6.3895, -6.3895, -4.7244, -6.6081, -6.6088, -5.9267, -4.6292, -6.0581, -6.8884, -6.8884, -6.8884, -6.8884, -6.8884, -6.8884, -6.8884, -6.8884, -6.8885, -5.8278, -6.3895, -5.0928, -4.8629, -4.7784, -5.3349, -5.374, -4.915, -6.391, -5.9411, -4.9148, -5.2055, -5.5169, -4.3983, -5.5983, -4.9513, -5.2936, -4.6207, -5.2203, -4.8565, -5.5791, -5.6518, -4.9918, -4.816, -5.3621, -5.3843, -5.4382, -5.5487, -5.5073, -5.5984, -5.5398, -5.4345, -5.5665, -5.7185, -5.7185, -5.1191, -5.8979, -6.1165, -6.1165, -6.3968, -6.3969, -6.3969, -6.397, -6.3971, -6.3973, -6.3982, -5.0356, -6.7877, -6.7877, -6.7877, -6.7877, -6.7877, -6.7877, -6.7877, -6.7877, -6.7878, -6.7878, -6.7878, -6.7878, -6.7878, -6.7879, -4.5359, -5.3436, -5.2474, -6.3969, -5.3545, -5.0435, -4.65, -5.4974, -4.973, -5.318, -6.4138, -5.9347, -5.4933, -4.5102, -4.1247, -4.9983, -5.9523, -5.0465, -5.8978, -4.5271, -5.8069, -5.504, -4.8711, -5.4639, -5.5045, -5.0319, -5.1232, -5.3866, -5.3622, -5.3821, -5.3936, -5.2925, -5.3525, -5.4691, -5.4741, -5.4915], \"loglift\": [30.0, 29.0, 28.0, 27.0, 26.0, 25.0, 24.0, 23.0, 22.0, 21.0, 20.0, 19.0, 18.0, 17.0, 16.0, 15.0, 14.0, 13.0, 12.0, 11.0, 10.0, 9.0, 8.0, 7.0, 6.0, 5.0, 4.0, 3.0, 2.0, 1.0, 1.3482, 1.3453, 1.3409, 1.3194, 1.3192, 1.3112, 1.3054, 1.3038, 1.3015, 1.3014, 1.3011, 1.3011, 1.2942, 1.2905, 1.2888, 1.2888, 1.2886, 1.287, 1.2824, 1.282, 1.2723, 1.2723, 1.2722, 1.2722, 1.2721, 1.272, 1.2719, 1.2703, 1.266, 1.2634, 1.245, 1.2452, 1.2619, 1.2268, 1.2509, 1.2318, 1.2398, 1.1707, 1.178, 1.0969, 1.0605, 1.0716, 1.1392, 1.021, 1.0763, 1.0936, 0.8862, 0.8887, 1.0538, 0.585, 0.8576, 0.675, 0.7816, 0.817, 0.5508, 0.4763, 0.7497, 0.6045, 0.6531, 0.6627, 0.6526, 0.3767, 0.8357, 0.2209, 0.8508, 0.373, 0.6555, 0.4601, 0.1993, 0.6939, 0.5891, 0.0711, -0.0791, 0.3968, -0.1361, -0.3892, 1.5561, 1.548, 1.5266, 1.5222, 1.5206, 1.5205, 1.4953, 1.4873, 1.4871, 1.4869, 1.4772, 1.4769, 1.4758, 1.4643, 1.4642, 1.4635, 1.4624, 1.4609, 1.4562, 1.4475, 1.4474, 1.4474, 1.4474, 1.4474, 1.4473, 1.4464, 1.4323, 1.4291, 1.4245, 1.4245, 1.4203, 1.4187, 1.3926, 1.2542, 1.3489, 1.1403, 1.2023, 1.171, 0.9395, 1.0527, 0.9174, 0.7695, 0.9982, 0.6531, 0.9566, 1.2649, 0.6376, 0.8905, 1.1118, 0.9995, 0.8199, 0.7463, 1.0207, 0.4916, 0.6267, 0.6893, 0.5869, 0.7294, 0.2878, 0.2119, 0.3265, 0.4924, 0.8304, 0.5697, 0.3607, 0.0472, -0.0321, 0.0365, -0.0133, -0.5508, 0.3808, 2.0977, 2.0631, 2.0335, 2.0244, 2.0182, 2.0073, 2.0073, 2.0073, 2.0073, 2.0073, 2.0072, 2.0072, 1.9947, 1.9887, 1.9863, 1.984, 1.9839, 1.9839, 1.9839, 1.9839, 1.9838, 1.9836, 1.9749, 1.9728, 1.9625, 1.956, 1.9502, 1.9501, 1.9501, 1.9501, 1.9439, 1.9383, 1.9484, 1.8862, 1.8911, 1.8185, 1.8493, 1.7244, 1.7343, 1.8953, 1.7213, 1.6726, 1.6127, 1.5203, 1.115, 1.7142, 1.6665, 1.4201, 1.7813, 1.3105, 1.2853, 1.1561, 1.397, 1.2376, 1.218, 0.9574, 0.8537, 1.1474, 1.1605, 1.0034, 0.4355, 1.2571, 1.2872, 1.4412, 0.7387, 0.1897, 0.6108, 0.5385, -0.0569, 0.056, 0.0684, 0.1357, -0.0726, 0.8326, -0.2954, 0.2904, 2.3926, 2.3855, 2.3755, 2.3734, 2.3662, 2.3662, 2.3662, 2.3426, 2.3426, 2.3345, 2.3344, 2.3344, 2.3099, 2.3099, 2.3098, 2.3098, 2.3098, 2.3097, 2.3064, 2.2781, 2.275, 2.2744, 2.2744, 2.2744, 2.2744, 2.2744, 2.2744, 2.2409, 2.2345, 2.2187, 2.1938, 2.1934, 2.1227, 2.1329, 2.1681, 1.9017, 2.1086, 1.9123, 1.992, 1.2984, 1.2854, 1.522, 1.8376, 1.1863, 1.7513, 1.2394, 1.7856, 1.1334, 1.4567, 1.0974, 1.3155, 0.9044, 1.6937, 0.9476, 1.5653, 0.7599, 0.3388, 0.4395, 1.4101, 0.0646, 0.012, 1.1936, 0.8387, 0.0029, -0.0567, -0.1229, 1.0701, -0.3967, -0.0262, 0.2363, -0.2583, -0.2259, -0.095, 0.9969, -0.3637, 0.2782, 0.7597, 2.4405, 2.398, 2.398, 2.3977, 2.3736, 2.3735, 2.3735, 2.3735, 2.3735, 2.3735, 2.3735, 2.3664, 2.353, 2.3382, 2.3382, 2.3382, 2.3382, 2.3382, 2.3382, 2.3382, 2.3381, 2.3379, 2.3377, 2.3376, 2.3362, 2.2826, 2.2826, 2.2826, 2.2826, 2.2826, 2.2553, 2.1819, 2.1968, 2.1224, 2.1449, 1.9146, 2.0542, 1.9656, 2.0127, 2.0387, 2.0647, 1.8874, 1.9658, 1.0432, 1.8977, 1.8112, 2.0931, 1.3246, 1.0353, 1.4835, 1.2647, 1.6049, 0.5851, 1.6907, 1.5334, 0.4036, 0.8139, 0.9203, -0.2189, 1.0098, 1.1919, 0.1429, 0.6654, 0.4954, 0.453, 0.8102, 0.5883, -0.0873, -0.0154, 0.513, -0.1538, 0.7613, -0.3889, -0.0566, -0.1438, 0.2743, -0.6726, -0.6289, 0.3655, 0.0931, -0.5591, -1.1868, 2.5216, 2.512, 2.5033, 2.5033, 2.4889, 2.4713, 2.4713, 2.4713, 2.4711, 2.4465, 2.4351, 2.4329, 2.426, 2.4173, 2.411, 2.411, 2.4109, 2.4109, 2.4109, 2.4108, 2.407, 2.4053, 2.4018, 2.3991, 2.3873, 2.3574, 2.3549, 2.3549, 2.3549, 2.3549, 2.2847, 2.2822, 2.2332, 2.2527, 2.2069, 1.6883, 2.0684, 2.1447, 2.1745, 2.0088, 1.903, 2.2019, 1.4241, 1.9224, 1.9298, 0.7935, 1.6807, 1.0252, 1.4727, 1.8022, 1.5483, 0.486, 1.6805, 1.1807, 1.1887, 1.3761, 1.2303, 1.2173, 1.5829, -0.0876, -0.0783, 0.1184, -0.0679, 0.4731, -0.9316, 0.3022, 0.5333, -0.248, 0.6522, -0.1353, 0.2243, 0.3638, 0.1037, -0.4266, 0.3513, 2.7993, 2.7993, 2.7991, 2.7803, 2.7544, 2.7542, 2.7212, 2.7169, 2.7169, 2.7169, 2.7169, 2.7168, 2.7168, 2.7165, 2.7159, 2.6692, 2.6582, 2.6582, 2.6581, 2.6581, 2.6581, 2.6581, 2.6581, 2.6581, 2.6581, 2.6581, 2.6581, 2.658, 2.658, 2.658, 2.6266, 2.1927, 2.4334, 2.1558, 2.3108, 2.3266, 2.1009, 2.274, 2.0984, 2.3607, 2.3673, 2.3339, 2.4519, 0.8601, 0.7654, 1.8767, 1.0751, 1.0158, 1.1538, 0.6982, 0.9994, 1.6018, 1.1432, 0.2075, 0.4167, 0.3697, 1.0905, 0.7489, 0.595, 0.8927, -0.0377, 0.6984, 0.0628, 0.3837, -0.0274, 0.0755, 0.5109, 0.583, 0.3544, -0.1774, 0.264, -0.1643, 0.0346, -1.3334, 0.6134, 3.0335, 2.9998, 2.9926, 2.9838, 2.9725, 2.9725, 2.9396, 2.9393, 2.9139, 2.9064, 2.8776, 2.8776, 2.8776, 2.8776, 2.8776, 2.8776, 2.8775, 2.8775, 2.8775, 2.877, 2.854, 2.8432, 2.8428, 2.8208, 2.8201, 2.8201, 2.8201, 2.8201, 2.8201, 2.8201, 2.7611, 2.7219, 2.5001, 2.5806, 2.5685, 2.6348, 2.4368, 2.3255, 2.0971, 2.5941, 1.8316, 2.2142, 2.5099, 1.9554, 2.076, 2.5495, 1.9591, 2.0173, 2.3526, 1.8015, 1.2312, 1.6769, 1.5997, 1.8958, 0.944, 1.2102, 0.7098, 0.7344, 0.3798, 0.5187, 0.8061, 1.5348, -0.0167, -0.4208, -0.1517, 0.2462, -0.5569, -0.4696, 3.0924, 3.0523, 3.0423, 3.0422, 3.0392, 3.0162, 3.0161, 3.0161, 3.0159, 3.0151, 2.9785, 2.9785, 2.9785, 2.9781, 2.9668, 2.9668, 2.9643, 2.9325, 2.9196, 2.9195, 2.9195, 2.9195, 2.9195, 2.9195, 2.9194, 2.9194, 2.9191, 2.9185, 2.9165, 2.8967, 2.8389, 2.8663, 2.8595, 2.8622, 2.7482, 2.4646, 2.713, 2.3376, 2.2939, 1.8495, 1.6082, 2.1575, 2.1096, 2.0609, 0.6554, 1.4979, 2.1511, 1.2978, 1.4691, 1.3247, 1.0393, 1.0788, 1.3811, 1.901, 1.3769, 1.3865, 1.5154, 1.3318, 0.1912, 0.2681, 0.4921, 0.9561, 1.2367, 0.0587, -0.2383, -0.1589, 0.7941, -1.2168, -0.3542, 0.3603, 0.8966, -0.3484, -0.2297, 3.3658, 3.3638, 3.3576, 3.3575, 3.3407, 3.3355, 3.3, 3.3, 3.2999, 3.2727, 3.2727, 3.2726, 3.2726, 3.2726, 3.2725, 3.2572, 3.2333, 3.2325, 3.2253, 3.1977, 3.1971, 3.1715, 3.1715, 3.1715, 3.1715, 3.1715, 3.1715, 3.1715, 3.1714, 3.1714, 3.1214, 3.1124, 2.9234, 2.8777, 2.8549, 2.661, 2.6651, 2.3967, 2.9693, 2.7426, 1.863, 2.054, 2.0851, 0.2646, 2.0084, 0.7016, 1.2771, -0.1509, 0.9955, 0.0811, 1.5271, 1.6521, -0.3862, -1.1357, 0.7607, 0.1783, 0.3607, 1.0251, 0.174, 1.2539, -0.4626, 3.9686, 3.9505, 3.9272, 3.9272, 3.9075, 3.8954, 3.8501, 3.85, 3.7794, 3.7793, 3.7793, 3.7791, 3.7791, 3.7789, 3.7778, 3.6598, 3.6542, 3.6542, 3.6542, 3.6542, 3.6541, 3.6541, 3.6541, 3.6541, 3.6541, 3.6541, 3.6541, 3.6541, 3.654, 3.6539, 3.4351, 3.4312, 3.1271, 3.5097, 3.1224, 2.9788, 2.741, 3.0869, 2.8225, 2.9425, 3.4698, 3.2168, 2.8604, 2.0073, 1.5281, 1.8896, 2.9547, 1.2272, 2.8259, 0.1358, 2.6222, 1.9105, 0.0728, 1.3488, 1.4834, -0.1971, 0.1115, 0.9182, 0.8063, 0.8678, 0.9114, -0.2169, -0.1844, 0.6438, -0.0433, -1.0585]}, \"token.table\": {\"Topic\": [8, 1, 3, 6, 7, 3, 6, 9, 1, 7, 1, 2, 3, 6, 11, 10, 8, 9, 2, 10, 11, 1, 2, 3, 4, 5, 6, 7, 8, 9, 11, 1, 2, 11, 1, 2, 3, 4, 5, 6, 7, 8, 9, 10, 11, 1, 2, 4, 5, 9, 9, 2, 3, 9, 3, 11, 2, 1, 2, 3, 4, 5, 6, 7, 8, 9, 10, 11, 7, 10, 1, 2, 6, 7, 11, 11, 5, 5, 6, 8, 1, 2, 3, 4, 5, 6, 7, 8, 10, 1, 2, 3, 4, 5, 6, 7, 8, 9, 10, 1, 3, 4, 5, 7, 8, 10, 3, 10, 1, 1, 2, 3, 4, 5, 6, 7, 9, 10, 11, 1, 2, 3, 4, 6, 1, 2, 3, 4, 5, 6, 7, 8, 9, 10, 4, 5, 1, 2, 3, 4, 5, 6, 7, 9, 11, 1, 6, 7, 3, 4, 5, 7, 1, 2, 3, 4, 5, 8, 10, 11, 4, 2, 3, 4, 6, 7, 8, 9, 7, 2, 1, 2, 3, 4, 5, 6, 7, 8, 9, 10, 1, 1, 2, 6, 7, 8, 1, 2, 6, 4, 9, 5, 11, 1, 2, 8, 1, 2, 3, 4, 5, 6, 7, 8, 10, 2, 3, 6, 1, 3, 4, 5, 6, 8, 9, 11, 2, 4, 5, 10, 11, 5, 6, 9, 9, 3, 7, 10, 1, 2, 4, 5, 6, 7, 9, 10, 7, 1, 2, 3, 4, 5, 6, 7, 8, 9, 10, 11, 7, 3, 7, 3, 5, 3, 6, 8, 9, 5, 6, 1, 2, 3, 4, 5, 6, 7, 10, 11, 1, 2, 3, 4, 6, 7, 8, 10, 11, 3, 6, 10, 10, 1, 2, 5, 1, 2, 3, 4, 5, 6, 7, 8, 9, 10, 2, 2, 5, 8, 7, 10, 9, 4, 1, 2, 2, 3, 4, 6, 8, 9, 10, 11, 11, 2, 4, 7, 8, 1, 2, 3, 4, 7, 8, 9, 10, 1, 2, 3, 4, 5, 6, 7, 9, 3, 4, 5, 6, 7, 8, 11, 1, 2, 3, 4, 5, 7, 8, 9, 10, 11, 1, 9, 1, 2, 4, 5, 2, 1, 4, 5, 6, 7, 7, 10, 1, 10, 1, 2, 3, 4, 5, 6, 7, 9, 10, 1, 6, 3, 7, 9, 11, 1, 1, 2, 3, 4, 5, 6, 7, 8, 10, 11, 1, 2, 3, 6, 2, 3, 7, 2, 3, 4, 7, 1, 2, 4, 5, 11, 2, 9, 6, 7, 3, 4, 6, 9, 3, 5, 6, 9, 11, 1, 4, 5, 6, 6, 6, 1, 2, 3, 4, 5, 6, 7, 8, 9, 10, 1, 5, 6, 7, 8, 9, 10, 1, 2, 4, 5, 6, 9, 10, 11, 1, 2, 4, 5, 6, 7, 8, 9, 2, 3, 6, 7, 8, 11, 4, 2, 6, 5, 5, 6, 2, 3, 4, 5, 6, 8, 6, 1, 3, 4, 5, 9, 5, 8, 10, 9, 1, 2, 3, 4, 5, 6, 7, 8, 9, 10, 11, 1, 2, 3, 4, 5, 6, 7, 10, 11, 1, 2, 3, 4, 5, 6, 7, 9, 10, 3, 2, 3, 4, 6, 9, 10, 11, 1, 2, 2, 4, 6, 7, 1, 2, 9, 4, 2, 5, 8, 6, 7, 1, 2, 6, 1, 2, 3, 4, 5, 8, 9, 10, 11, 3, 5, 11, 2, 9, 9, 4, 9, 2, 1, 2, 4, 6, 7, 8, 11, 1, 2, 3, 4, 5, 6, 7, 8, 9, 10, 5, 11, 5, 4, 1, 2, 3, 4, 5, 6, 7, 8, 9, 10, 11, 8, 1, 2, 3, 4, 5, 6, 7, 8, 9, 10, 11, 10, 1, 4, 5, 7, 6, 5, 9, 7, 11, 1, 2, 5, 7, 8, 11, 2, 11, 1, 2, 3, 4, 5, 6, 7, 9, 10, 9, 1, 5, 6, 9, 10, 1, 6, 2, 5, 11, 1, 2, 4, 6, 7, 4, 6, 8, 11, 3, 4, 5, 6, 7, 8, 9, 10, 3, 4, 5, 6, 10, 3, 5, 10, 1, 2, 3, 4, 5, 6, 7, 8, 9, 1, 2, 5, 6, 7, 11, 1, 2, 3, 4, 5, 6, 7, 8, 9, 10, 7, 1, 2, 3, 4, 5, 6, 7, 8, 9, 6, 1, 5, 10, 7, 3, 5, 6, 7, 9, 10, 1, 2, 3, 4, 5, 6, 7, 9, 1, 2, 3, 4, 6, 8, 10, 1, 3, 4, 5, 6, 9, 5, 3, 9, 9, 1, 2, 3, 4, 5, 6, 7, 8, 9, 10, 1, 2, 3, 4, 5, 6, 8, 9, 10, 2, 6, 1, 4, 10, 9, 7, 10, 9, 3, 8, 1, 2, 3, 4, 5, 6, 7, 9, 10, 11, 1, 2, 3, 4, 5, 6, 7, 8, 9, 10, 1, 2, 3, 4, 5, 6, 7, 8, 11, 9, 4, 9, 10, 11, 5, 7, 4, 2, 1, 1, 2, 3, 4, 5, 6, 7, 8, 9, 11, 1, 2, 4, 11, 5, 8, 4, 1, 2, 4, 5, 6, 7, 10, 3, 2, 1, 2, 4, 5, 7, 8, 9, 10, 1, 8, 1, 2, 4, 5, 6, 7, 8, 9, 10, 11, 1, 5, 9, 1, 1, 2, 3, 4, 6, 7, 9, 10, 4, 1, 2, 5, 6, 9, 2, 8, 1, 5, 5, 7, 8, 2, 3, 11, 1, 2, 4, 5, 6, 6, 5, 7, 2, 4, 7, 8, 1, 2, 3, 4, 5, 6, 3, 4, 5, 6, 8, 9, 10, 11, 6, 1, 4, 5, 6, 9, 1, 2, 3, 4, 5, 6, 7, 8, 9, 10, 11, 4, 1, 2, 3, 4, 5, 6, 7, 8, 9, 11, 1, 2, 3, 4, 5, 6, 9, 11, 2, 5, 3, 6, 10, 2, 8, 4, 6, 9, 3, 9, 4, 5, 6, 9, 10, 3, 5, 7, 8, 1, 2, 3, 4, 5, 6, 7, 8, 10, 7, 8, 2, 3, 6, 7, 8, 9, 10, 2, 2, 4, 7, 3, 1, 2, 3, 4, 5, 6, 7, 8, 10, 1, 2, 5, 7, 4, 1, 2, 3, 4, 5, 6, 7, 8, 9, 10, 11, 1, 2, 3, 4, 5, 6, 7, 8, 9, 8, 8, 1, 2, 3, 4, 5, 6, 7, 8, 9, 10, 11, 10, 1, 2, 10, 3, 3, 4, 5, 6, 8, 9, 10, 11, 4, 11, 8, 1, 2, 3, 4, 5, 6, 7, 8, 9, 10, 11, 3, 10, 3, 8, 5, 3, 5, 7, 3, 4, 5, 8, 3, 4, 6, 1, 2, 3, 4, 6, 7, 8, 4, 4, 1, 6, 1, 2, 3, 4, 5, 6, 7, 8, 9, 10, 1, 2, 3, 5, 6, 7, 9, 10, 11, 10, 1, 2, 3, 4, 5, 6, 7, 8, 9, 10, 2, 8, 1, 2, 7, 1, 2, 3, 6, 8, 10, 11, 1, 2, 5, 7, 1, 4, 7, 6, 1, 2, 3, 4, 5, 6, 7, 8, 9, 10, 11, 10, 11, 3, 9, 5, 11, 5, 3, 4, 2, 8, 9, 1, 2, 3, 4, 5, 6, 7, 8, 9, 10, 11, 2, 3, 4, 5, 6, 8, 10, 11, 9, 10, 11, 6, 3, 4, 5, 6, 9, 9, 9, 1, 1, 1, 2, 3, 4, 5, 6, 7, 8, 9, 11, 5, 2, 11, 2, 5, 6, 7, 9, 11, 8, 8, 10, 3, 4, 5, 6, 8, 9, 7, 9, 1, 2, 3, 4, 5, 6, 7, 8, 9, 10, 11, 6, 1, 1, 2, 4, 5, 6, 8, 10, 11, 1, 2, 3, 4, 5, 6, 7, 8, 9, 10, 11, 7, 8, 10, 11, 4, 1, 7, 1, 2, 3, 4, 6, 9, 10, 4, 2, 3, 4, 5, 6, 7, 8, 9, 10, 1, 2, 3, 4, 5, 6, 7, 8, 9, 10, 11, 1, 4, 6, 9, 11, 1, 4, 9, 10, 3, 2, 3, 4, 6, 7, 8, 9, 11, 1, 5, 3, 5, 6, 1, 2, 3, 4, 5, 6, 7, 8, 9, 10, 8, 1, 2, 3, 4, 5, 6, 7, 8, 9, 10, 11, 6, 2, 4, 3, 1, 2, 6, 7, 1, 7, 3, 6, 7, 10, 2, 3, 4, 8, 9, 10, 11, 6, 11, 1, 2, 3, 4, 5, 6, 7, 8, 9, 10, 11, 3, 6, 1, 2, 7, 7, 9, 8, 2, 3, 4, 5, 6, 7, 11, 1, 2, 3, 4, 5, 6, 7, 2, 3, 4, 10, 11, 1, 2, 8, 7, 1, 1, 2, 3, 4, 5, 6, 7, 8, 9, 10, 11, 2, 3, 4, 5, 6, 8, 9, 10, 11, 3, 8, 5, 9, 1, 2, 5, 8, 10, 11, 1, 11, 6, 11, 1, 2, 3, 4, 5, 6, 7, 3, 1, 2, 3, 4, 5, 6, 7, 9, 10, 3, 5, 1, 2, 3, 4, 5, 6, 7, 8, 9, 10, 11, 1, 2, 3, 4, 5, 6, 7, 8, 9, 10, 6, 4, 5, 6, 2, 3, 4, 5, 6, 7, 8, 9, 10, 11, 4, 1, 2, 3, 4, 5, 6, 7, 8, 9, 10, 11, 9, 6, 8, 9, 2, 7, 10, 1, 2, 10, 10, 3, 1, 2, 3, 4, 5, 6, 7, 8, 9, 10, 11, 3, 6, 8, 9, 10, 1, 2, 5, 6, 7, 8, 10, 1, 2, 3, 4, 5, 6, 7, 8, 9, 10, 3, 4, 8, 10, 11, 6, 1, 2, 3, 4, 5, 7, 8, 9, 10, 7, 2, 3, 5, 8, 10, 11, 1, 2, 3, 4, 5, 6, 7, 8, 11, 8, 5, 7, 11, 1, 3, 5, 6, 4, 5, 7, 10, 2, 3, 5, 7, 8, 3, 4, 9, 2, 3, 4, 2, 3, 4, 5, 6, 11, 1, 2, 3, 5, 6, 7, 8, 9, 10, 11, 2, 1, 10, 1, 2, 3, 4, 5, 6, 7, 9, 10, 1, 2, 3, 4, 5, 6, 7, 8, 9, 10, 11, 4, 3, 1, 2, 3, 4, 5, 6, 7, 8, 1, 7, 9, 1, 2, 3, 4, 5, 6, 7, 8, 9, 10, 11, 7, 9, 2, 3, 4, 5, 6, 11, 11, 8, 7, 3, 4, 5, 11, 1, 2, 3, 4, 5, 6, 7, 9, 9, 2, 10, 3, 9, 1, 11, 9, 10, 1, 2, 3, 4, 5, 6, 7, 8, 9, 10, 6, 1, 3, 5, 6, 8, 1, 4, 3, 4, 5, 10, 11, 1, 6, 7, 1, 2, 4, 6, 7, 8, 11, 9, 1, 2, 3, 4, 7, 8, 9, 1, 2, 4, 7, 1, 2, 11, 1, 2, 7, 7, 1, 2, 3, 4, 5, 7, 11, 3, 5, 6, 9, 10, 1, 3, 4, 5, 7, 10, 11, 4, 3, 5, 8, 5, 5, 1, 2, 3, 4, 5, 6, 7, 8, 9, 10, 11, 5, 1, 3, 1, 3, 4, 5, 6, 9, 10, 1, 3, 4, 5, 6, 8, 2, 3, 4, 11, 7, 1, 2, 3, 7, 9, 10, 1, 2, 3, 4, 5, 6, 9, 10, 10, 5, 1, 2, 3, 4, 5, 6, 7, 8, 9, 10, 11, 4, 5, 6, 10, 1, 2, 3, 4, 5, 6, 7, 9, 10, 11, 1, 2, 3, 4, 5, 6, 7, 9, 10, 11, 6, 2, 4, 6, 7, 8, 3, 8, 7, 1, 3, 4, 1, 2, 3, 4, 5, 6, 7, 8, 9, 10, 3, 5, 5, 1, 2, 1, 2, 3, 6, 10, 1, 2, 3, 7, 8, 1, 2, 3, 4, 5, 6, 7, 8, 9, 10, 7, 1, 2, 3, 4, 5, 6, 7, 8, 9, 9, 1, 2, 3, 4, 5, 6, 7, 8, 9, 10, 11, 4, 2, 5, 4, 3, 10, 8, 4, 5, 6, 8, 1, 2, 4, 8, 4, 11, 2, 3, 4, 6, 9, 10, 11, 7, 8, 8, 5, 11, 5, 5, 6, 7, 8, 8, 1, 2, 3, 4, 5, 6, 7, 8, 9, 10, 11, 10, 2, 1, 2, 3, 4, 5, 6, 7, 8, 9, 11, 8, 7, 2, 1, 2, 3, 4, 5, 6, 7, 8, 9, 10, 11, 3, 6, 7, 9, 9, 11, 1, 2, 4, 5, 6, 7, 8, 10, 5, 3, 4, 6, 9, 8, 1, 2, 3, 4, 5, 6, 7, 8, 9, 10, 11, 5, 3, 9, 10, 1, 2, 3, 4, 5, 6, 7, 8, 9, 10, 11, 1, 2, 3, 4, 6, 7, 9, 3, 4, 9, 11, 5, 2, 4, 1, 2, 3, 5, 6, 7, 9, 11, 1, 2, 3, 4, 5, 11, 2, 3, 5, 7, 1, 2, 3, 5, 7, 9, 10, 1, 2, 1, 2, 3, 8, 9, 5, 3, 6, 1, 3, 6, 2, 4, 10, 1, 2, 3, 4, 5, 6, 7, 8, 9, 10, 11, 2, 3, 4, 5, 8, 10, 1, 2, 3, 4, 5, 6, 7, 8, 9, 10, 11, 1, 2, 4, 6, 7, 6, 7, 8, 11, 1, 2, 3, 4, 5, 6, 7, 8, 9, 10, 11, 3, 4, 3, 4, 5, 6, 11, 4, 8, 10, 2, 1, 4, 5, 6, 8, 9, 10, 11, 7, 4, 6, 3, 3, 11, 1, 3, 4, 8, 9, 6, 9, 2, 4, 6, 9, 11, 1, 2, 1, 2, 7, 8, 10, 11, 1, 2, 3, 4, 5, 6, 7, 8, 9, 10, 5, 7, 8, 9, 10, 1, 2, 3, 4, 5, 6, 8, 9, 10, 11, 7], \"Freq\": [0.9169265563866019, 0.9018974100183499, 0.1587376732844802, 0.714319529780161, 0.0793688366422401, 0.3030342672917124, 0.21645304806550886, 0.4329060961310177, 0.1274929188756123, 0.7649575132536738, 0.12091206348091221, 0.04030402116030407, 0.16121608464121628, 0.564256296244257, 0.12091206348091221, 0.608621535463954, 0.13026489131498237, 0.7815893478898942, 0.9285518647470548, 0.6086199129241342, 0.4458696414091203, 0.013480125034653167, 0.06740062517326582, 0.2696025006930633, 0.1954618130024709, 0.13480125034653165, 0.013480125034653167, 0.020220187551979747, 0.040440375103959494, 0.20894193803712408, 0.040440375103959494, 0.2383271445133229, 0.5362360751549765, 0.2383271445133229, 0.03759319500790949, 0.021929363754613868, 0.30701109256459413, 0.30701109256459413, 0.12531065002636496, 0.006265532501318248, 0.03759319500790949, 0.05952255876252335, 0.06892085751450072, 0.021929363754613868, 0.012531065002636496, 0.7668338436755364, 0.15685237711545064, 0.017428041901716738, 0.017428041901716738, 0.017428041901716738, 0.8783281416598954, 0.02917846974522724, 0.7586402133759083, 0.2042492882165907, 0.8730826098330551, 0.10913532622913188, 0.9815165018566461, 0.27357543619321206, 0.22629079290055812, 0.12158908275253869, 0.10807918466892327, 0.054039592334461636, 0.08105938850169246, 0.054039592334461636, 0.03039727068813467, 0.027019796167230818, 0.020264847125423115, 0.0033774745209038523, 0.8751095514398864, 0.7336539810822891, 0.7433511569762264, 0.15034068343339413, 0.050113561144464705, 0.016704520381488234, 0.03340904076297647, 0.6836737841846682, 0.9249396600916202, 0.6678165319382173, 0.11130275532303623, 0.11130275532303623, 0.14713559797505937, 0.1177084783800475, 0.21860145984865964, 0.1807665917979301, 0.06305811341788259, 0.1177084783800475, 0.0966891072407533, 0.04203874227858839, 0.012611622683576518, 0.22914363746093624, 0.3388743934281451, 0.08875281732641897, 0.0806843793876536, 0.09198019250192511, 0.06938856627338211, 0.056479065571357526, 0.01613687587753072, 0.01613687587753072, 0.012909500702024576, 0.027362852499380624, 0.4788499187391609, 0.218902819995045, 0.013681426249690312, 0.041044278749070934, 0.19153996749566435, 0.027362852499380624, 0.46111211424298665, 0.46111211424298665, 0.9019021208851814, 0.13344788002780283, 0.32694730606811695, 0.21351660804448452, 0.07339633401529155, 0.040034364008340845, 0.05337915201112113, 0.040034364008340845, 0.10675830402224226, 0.006672394001390141, 0.006672394001390141, 0.40687828174647583, 0.05085978521830948, 0.07628967782746421, 0.07628967782746421, 0.40687828174647583, 0.47516183118706695, 0.29735933951706767, 0.02759004181086195, 0.0367867224144826, 0.03985228261568948, 0.024524481609655067, 0.07050788462775832, 0.006131120402413767, 0.012262240804827533, 0.00919668060362065, 0.6947305149410757, 0.13894610298821516, 0.1523531546961896, 0.7249908740715229, 0.05253557058489296, 0.021014228233957183, 0.005253557058489296, 0.021014228233957183, 0.010507114116978591, 0.010507114116978591, 0.005253557058489296, 0.4841150109467298, 0.050959474836497876, 0.43315553611023194, 0.7626232226169529, 0.05084154817446353, 0.10168309634892705, 0.05084154817446353, 0.044755832431796885, 0.13426749729539064, 0.06713374864769532, 0.044755832431796885, 0.13426749729539064, 0.5146920729656641, 0.044755832431796885, 0.8315825235027441, 0.8646487283589053, 0.06365376182655769, 0.6365376182655769, 0.04243584121770512, 0.02121792060885256, 0.06365376182655769, 0.08487168243541024, 0.08487168243541024, 0.875110833922378, 0.8980606757090679, 0.47706521244159095, 0.32128881654229596, 0.024340061859264843, 0.014604037115558906, 0.058416148462235626, 0.004868012371852969, 0.0778881979496475, 0.004868012371852969, 0.004868012371852969, 0.009736024743705938, 0.9023636903066404, 0.582704205931196, 0.3631345051455279, 0.025334965475269387, 0.016889976983512925, 0.008444988491756462, 0.09963443453152437, 0.8842556064672789, 0.7413921086711994, 0.7463091368459799, 0.12438485614099666, 0.9506727923740792, 0.6836635152417998, 0.8442976131079923, 0.07341718374852108, 0.03670859187426054, 0.01933845708517409, 0.05801537125552227, 0.5027998842145264, 0.05801537125552227, 0.03867691417034818, 0.07735382834069636, 0.01933845708517409, 0.05801537125552227, 0.1740461137665668, 0.08817482070867881, 0.8817482070867881, 0.7991068585098691, 0.04875458832141194, 0.3778480594909425, 0.19501835328564776, 0.04875458832141194, 0.02437729416070597, 0.2437729416070597, 0.060943235401764925, 0.44587098570834505, 0.9749318121700247, 0.7140089785974156, 0.10200128265677366, 0.10200128265677366, 0.9467829454841812, 0.5473634346610602, 0.07819477638015146, 0.3518764937106815, 0.7830978077008909, 0.11424286166185768, 0.0380809538872859, 0.8377809855202897, 0.3514500963978291, 0.07398949397849033, 0.1294816144623581, 0.05549212048386775, 0.03699474698924517, 0.03699474698924517, 0.05549212048386775, 0.24046585543009358, 0.7011897352194745, 0.12607578613665163, 0.08405052409110109, 0.18911367920497743, 0.22063262573914033, 0.14183525940373307, 0.057784735312631993, 0.03677210428985672, 0.03151894653416291, 0.05253157755693818, 0.04727841980124436, 0.010506315511387636, 0.7012280533240323, 0.1285622226260466, 0.7713733357562796, 0.8884798382328384, 0.8888471849604362, 0.2297613264160038, 0.4595226528320076, 0.08616049740600143, 0.2297613264160038, 0.577478715795974, 0.35537151741290707, 0.31330030328071595, 0.24209568889873503, 0.09968646013477325, 0.12816830588756561, 0.07120461438198089, 0.06408415294378281, 0.021361384314594268, 0.021361384314594268, 0.042722768629188536, 0.27339276471255936, 0.5964933048274021, 0.018640415775856317, 0.037280831551712634, 0.031067359626427198, 0.024853887701141757, 0.006213471925285439, 0.006213471925285439, 0.006213471925285439, 0.9119419144836618, 0.8409383849994626, 0.8780626932820996, 0.6086241253092536, 0.13743727870177125, 0.41231183610531374, 0.44667115578075656, 0.3191950835457462, 0.09119859529878464, 0.05211348302787694, 0.25405322976090006, 0.039085112270907704, 0.05211348302787694, 0.058627668406361556, 0.03257092689242309, 0.013028370756969235, 0.08468440992030002, 0.9152404606361813, 0.0557447432799922, 0.6131921760799143, 0.278723716399961, 0.17416531016719086, 0.6966612406687634, 0.8783291062478978, 0.7947467260913477, 0.14363332410015137, 0.833073279780878, 0.033903096893069064, 0.48594438880065655, 0.15821445216765562, 0.13561238757227626, 0.05650516148844844, 0.033903096893069064, 0.04520412919075875, 0.04520412919075875, 0.8044382028856925, 0.3274245555317443, 0.5093270863827134, 0.03638050617019381, 0.10914151851058145, 0.12562996494245166, 0.08697459111400499, 0.23193224297067996, 0.20294071259934499, 0.009663843457111665, 0.14495765185667497, 0.16428533877089832, 0.03865537382844666, 0.022476673121125303, 0.10114502904506387, 0.30343508713519163, 0.24724340433237835, 0.08990669248450121, 0.12362170216618917, 0.03371500968168795, 0.0674300193633759, 0.2213850382151607, 0.1475900254767738, 0.1291412722921771, 0.3874238168765312, 0.03689750636919345, 0.03689750636919345, 0.018448753184596725, 0.03869133671546428, 0.02579422447697619, 0.42560470387010707, 0.06448556119244046, 0.07738267343092856, 0.14186823462336903, 0.02579422447697619, 0.11607401014639285, 0.02579422447697619, 0.06448556119244046, 0.9148307429475991, 0.7031221287721672, 0.9148661344092945, 0.1463318898204101, 0.7316594491020505, 0.07316594491020505, 0.8980626573849875, 0.479349130331065, 0.06847844719015214, 0.02282614906338405, 0.3652183850141448, 0.06847844719015214, 0.136107607377066, 0.8166456442623962, 0.9335885447549104, 0.898318335748832, 0.04487750778186502, 0.033658130836398764, 0.37023943920038643, 0.033658130836398764, 0.2804844236366564, 0.033658130836398764, 0.033658130836398764, 0.08975501556373004, 0.07853563861826379, 0.07592489863334387, 0.9110987836001264, 0.09607856378013434, 0.38431425512053735, 0.09607856378013434, 0.288235691340403, 0.9663915426164744, 0.08695007424499022, 0.16599559628589042, 0.37941850579632097, 0.02371365661227006, 0.22132746171452058, 0.055331865428630146, 0.015809104408180043, 0.007904552204090021, 0.015809104408180043, 0.031618208816360086, 0.06480046213647576, 0.06480046213647576, 0.06480046213647576, 0.7128050835012334, 0.8980694301123273, 0.8551301453289358, 0.8751099855335822, 0.9285805564488134, 0.2977191421516166, 0.11908765686064664, 0.5358944558729098, 0.6908012055079195, 0.25704230902620256, 0.00803257215706883, 0.04016286078534415, 0.00803257215706883, 0.08347225252192908, 0.8347225252192908, 0.8409365272998821, 0.779977283872636, 0.6229122745826384, 0.13113942622792388, 0.13113942622792388, 0.09835456967094292, 0.2260989364987187, 0.11304946824935935, 0.037683156083119784, 0.07536631216623957, 0.527564185163677, 0.8852088680872899, 0.09290042162564846, 0.18580084325129692, 0.6503029513795392, 0.8960594898016275, 0.8960658444957995, 0.4295832107617885, 0.11932866965605236, 0.03409390561601496, 0.056823176026691596, 0.040912686739217954, 0.16251428343633798, 0.11591927909445086, 0.010228171684804489, 0.0034093905616014958, 0.027275124492811966, 0.34611949105961554, 0.07286726127570853, 0.34611949105961554, 0.036433630637854264, 0.12751770723248992, 0.018216815318927132, 0.036433630637854264, 0.5834279087320396, 0.3048881329502917, 0.00752810204815535, 0.03387645921669908, 0.05646076536116513, 0.003764051024077675, 0.00752810204815535, 0.003764051024077675, 0.5996901290999086, 0.3392186588847968, 0.015143690128785572, 0.009086214077271343, 0.015143690128785572, 0.015143690128785572, 0.0030287380257571143, 0.0030287380257571143, 0.169481791019607, 0.11298786067973801, 0.11298786067973801, 0.5084453730588211, 0.056493930339869006, 0.44588008755962166, 0.9278020808619296, 0.09234562697641696, 0.8311106427877526, 0.9506709288016305, 0.3479248722067305, 0.626264769972115, 0.0939032894515481, 0.15650548241924683, 0.4695164472577405, 0.12520438593539746, 0.0939032894515481, 0.06260219296769873, 0.8960757948102023, 0.054170536262205415, 0.24376741317992437, 0.21668214504882166, 0.18959687691771895, 0.2708526813110271, 0.4140095095444102, 0.46576069823746147, 0.10350237738610255, 0.8782896123563109, 0.10014049603422145, 0.09537190098497281, 0.3767190088906426, 0.04291735544323776, 0.10490909108347009, 0.10014049603422145, 0.00953719009849728, 0.01907438019699456, 0.11444628118196737, 0.03338016534474048, 0.00476859504924864, 0.271260655517682, 0.2932547627218184, 0.04398821440827276, 0.00733136906804546, 0.16862148856504558, 0.08797642881654552, 0.0733136906804546, 0.01466273813609092, 0.0366568453402273, 0.11079780938860237, 0.08617607396891296, 0.09848694167875767, 0.20928475106736005, 0.1354195448082918, 0.1600412802279812, 0.024621735419689417, 0.049243470839378835, 0.11079780938860237, 0.9438695971349426, 0.022853621463641175, 0.34280432195461763, 0.12569491805002647, 0.11426810731820589, 0.15997535024548823, 0.2056825931727706, 0.011426810731820588, 0.8604577308136434, 0.1312562640224202, 0.17656511893766422, 0.007062604757506569, 0.8051369423557488, 0.007062604757506569, 0.8474733563315692, 0.10272404319170536, 0.02568101079792634, 0.9279199443583419, 0.16042254677197854, 0.16042254677197854, 0.6416901870879141, 0.7991043246052296, 0.8786761668615173, 0.09769836916618241, 0.8141530763848533, 0.09769836916618241, 0.3520453301597696, 0.2692111348280591, 0.2070854883292762, 0.013805699221951746, 0.03451424805487937, 0.006902849610975873, 0.027611398443903493, 0.02070854883292762, 0.055222796887806985, 0.8710076092289548, 0.09677862324766165, 0.44587325635579916, 0.06877069544483642, 0.8940190407828735, 0.7039806634459473, 0.2892458407138127, 0.5784916814276254, 0.915432346195496, 0.5056230931776312, 0.35607260082931774, 0.007121452016586355, 0.02848580806634542, 0.04985016411610449, 0.007121452016586355, 0.04272871209951813, 0.47939026983096406, 0.15777401285576031, 0.009102346895524634, 0.054614081373147806, 0.01820469379104927, 0.20631986296522503, 0.054614081373147806, 0.009102346895524634, 0.003034115631841545, 0.00606823126368309, 0.8888229259875791, 0.44587559382573266, 0.888851242437076, 0.8914907673534922, 0.22026241482364606, 0.19683024303389646, 0.11716085894874789, 0.06561008101129882, 0.042177909221549244, 0.042177909221549244, 0.10778799023284806, 0.15933876817029713, 0.028118606147699496, 0.018745737431799664, 0.004686434357949916, 0.9385601857839873, 0.06675058224505429, 0.01668764556126357, 0.03337529112252714, 0.5673799490829614, 0.03337529112252714, 0.050062936683790714, 0.050062936683790714, 0.13350116449010857, 0.01668764556126357, 0.01668764556126357, 0.01668764556126357, 0.8219313018601231, 0.08780461949144212, 0.17560923898288425, 0.17560923898288425, 0.5268277169486527, 0.896035232632027, 0.12968020553573606, 0.7780812332144164, 0.10828864253363729, 0.8663091402690983, 0.4607497511328737, 0.3367017412124846, 0.008860572137170647, 0.15949029846907165, 0.03544228854868259, 0.4458774039873111, 0.9724793675385915, 0.8841817177246222, 0.2761943824715538, 0.22095550597724306, 0.0460323970785923, 0.00920647941571846, 0.06444535591002923, 0.11968423240433998, 0.16571662948293228, 0.03682591766287384, 0.055238876494310765, 0.7030763132776326, 0.10753243987899029, 0.053766219939495145, 0.21506487975798058, 0.08064932990924271, 0.5376621993949514, 0.8729248375064075, 0.07935680340967341, 0.3680864644503022, 0.12269548815010073, 0.3680864644503022, 0.15443021303242854, 0.3448941424390904, 0.005147673767747617, 0.015443021303242854, 0.47873366040052845, 0.12425413324219933, 0.12425413324219933, 0.559143599589897, 0.12425413324219933, 0.14331940846657223, 0.3105253850109065, 0.23886568077762038, 0.01194328403888102, 0.10748955634992918, 0.03582985211664306, 0.09554627231104816, 0.03582985211664306, 0.6693591105070149, 0.17461542013226475, 0.05820514004408825, 0.029102570022044125, 0.029102570022044125, 0.16313017542962077, 0.032626035085924154, 0.7830248420621797, 0.5246470560867367, 0.20906987949321088, 0.07494957944096238, 0.04733657648902888, 0.019723573537095366, 0.03944714707419073, 0.01183414412225722, 0.0433918617816098, 0.02366828824451444, 0.7134229834840103, 0.036585794024821046, 0.04268342636229122, 0.07317158804964209, 0.10365974973699296, 0.018292897012410523, 0.49636800624253485, 0.18909257380667993, 0.07681885810896373, 0.04136400052021124, 0.06500057224604623, 0.02954571465729374, 0.03545485758875249, 0.04727314345166998, 0.011818285862917496, 0.011818285862917496, 0.8751106948968077, 0.3978761521068478, 0.3662269127347122, 0.02260659955152544, 0.054255838923661065, 0.027127919461830532, 0.054255838923661065, 0.054255838923661065, 0.009042639820610177, 0.009042639820610177, 0.838721235412851, 0.08588551077575253, 0.6870840862060202, 0.17177102155150506, 0.8751146934471531, 0.09399494551393622, 0.09399494551393622, 0.5013063760743265, 0.18798989102787245, 0.09399494551393622, 0.031331648504645405, 0.21392328462965646, 0.5742151324269725, 0.04503648097466452, 0.06755472146199677, 0.02251824048733226, 0.033777360730998386, 0.02251824048733226, 0.01125912024366613, 0.17433445386555976, 0.199239375846354, 0.16188199287516264, 0.08716722693277988, 0.12452460990397125, 0.21169183683675113, 0.03735738297119138, 0.06198917173150651, 0.18596751519451954, 0.2789512727917793, 0.09298375759725977, 0.030994585865753255, 0.30994585865753255, 0.9249469200052768, 0.04694630924093851, 0.8919798755778318, 0.7039540933981554, 0.25959298162392724, 0.33170214318612923, 0.04807277437480134, 0.07691643899968215, 0.17786926518676496, 0.03365094206236094, 0.019229109749920537, 0.009614554874960268, 0.028843664624880805, 0.009614554874960268, 0.04658915977501791, 0.07454265564002865, 0.05590699173002149, 0.3913489421101505, 0.03727132782001433, 0.17703880714506806, 0.03727132782001433, 0.1024961515050394, 0.08386048759503224, 0.10082364520811858, 0.8065891616649487, 0.07884550875866586, 0.31538203503466344, 0.5913413156899939, 0.839878755268985, 0.7777002808784421, 0.8177340448369799, 0.8783160190089485, 0.1993408903267525, 0.7309165978647592, 0.23283312961226438, 0.293904114428596, 0.11069115997960109, 0.03435242895918655, 0.10305728687755963, 0.07252179446939382, 0.09924035032653891, 0.015267746204082909, 0.038169365510207276, 0.6837133181163336, 0.025761023377772755, 0.05152204675554551, 0.3245888945599367, 0.2936756665066094, 0.06697866078220917, 0.12365291221330922, 0.005152204675554551, 0.06182645610665461, 0.025761023377772755, 0.020608818702218205, 0.16739836093516033, 0.14879854305347584, 0.17979823952295, 0.11159890729010688, 0.04339957505726379, 0.14259860375958103, 0.05579945364505344, 0.15499848234737068, 0.006199939293894827, 0.7039785450011471, 0.0763688727456211, 0.013885249590112926, 0.8955985985622837, 0.013885249590112926, 0.8888513876427944, 0.7799905715824055, 0.9090469792142427, 0.9793698867343906, 0.8852188499208952, 0.33416580561296294, 0.4721908122791868, 0.003632237017532206, 0.025425659122725444, 0.010896711052596618, 0.0581157922805153, 0.06901250333311192, 0.01816118508766103, 0.003632237017532206, 0.003632237017532206, 0.16836376749903512, 0.25254565124855266, 0.08418188374951756, 0.5050913024971053, 0.1754385016993408, 0.7894732576470337, 0.864648496555808, 0.7304944049251759, 0.12643172392935736, 0.028095938650968304, 0.042143907976452455, 0.014047969325484152, 0.05619187730193661, 0.014047969325484152, 0.8884851132365621, 0.8980697376106133, 0.2992982059100111, 0.21378443279286508, 0.12827065967571905, 0.09976606863667037, 0.014252295519524338, 0.028504591039048677, 0.1852798417538164, 0.014252295519524338, 0.9230288021598322, 0.9168691154827944, 0.012731283086396867, 0.4360464457090927, 0.308733614845124, 0.00954846231479765, 0.025462566172793733, 0.0763876985183812, 0.0954846231479765, 0.012731283086396867, 0.00954846231479765, 0.006365641543198433, 0.8852702751851994, 0.9249338133913391, 0.7039790015249695, 0.8852236392795949, 0.015181639343523763, 0.04554491803057129, 0.2125429508093327, 0.27326950818342777, 0.2884511475269515, 0.04554491803057129, 0.10627147540466635, 0.015181639343523763, 0.7947465938164943, 0.09109898386997374, 0.4554949193498687, 0.09109898386997374, 0.03036632795665791, 0.334029607523237, 0.9285648663559384, 0.8592846783804287, 0.8852116620800039, 0.888850461125969, 0.8345803429811489, 0.8751114452555399, 0.6870449703966408, 0.8445361499523457, 0.08736580861575989, 0.029121936205253298, 0.7420383449828752, 0.08628352848638084, 0.06902682278910467, 0.08628352848638084, 0.017256705697276168, 0.74555466512774, 0.9249607345983275, 0.7012298007486212, 0.9392013340471755, 0.8914956065683679, 0.7012299409931412, 0.8920743157014277, 0.3910261872822332, 0.19283483208438898, 0.13926960094983648, 0.042852184907642, 0.22497397076512046, 0.0107130462269105, 0.28860492251221553, 0.06413442722493679, 0.29929399371637166, 0.03206721361246839, 0.04275628481662453, 0.16033606806234196, 0.08551256963324906, 0.021378142408312265, 0.8960634190297181, 0.09882699683021479, 0.04941349841510739, 0.29648099049064436, 0.04941349841510739, 0.49413498415107393, 0.20025961334030165, 0.5177443661968775, 0.05617037935154802, 0.07815009301084942, 0.009768761626356178, 0.014653142439534266, 0.05617037935154802, 0.019537523252712356, 0.0219797136593014, 0.009768761626356178, 0.019537523252712356, 0.9278027149487992, 0.22362621946199238, 0.3140283081806701, 0.08564408404927368, 0.10943410739629414, 0.03806403735523274, 0.01903201867761637, 0.11419211206569822, 0.06185406070225321, 0.028548028016424556, 0.009516009338808185, 0.2378217724375313, 0.3082874827893924, 0.01761642758796528, 0.1321232069097396, 0.07046571035186112, 0.061657496557878486, 0.0440410689699132, 0.12331499311575697, 0.8750636508292249, 0.8888498548704986, 0.834498363807565, 0.1335197382092104, 0.0333799345523026, 0.9565763796258449, 0.8920732301688533, 0.12883722626676958, 0.12883722626676958, 0.6441861313338479, 0.9669537377542439, 0.02248729622684288, 0.09041431767457013, 0.13562147651185522, 0.5876930648847059, 0.09041431767457013, 0.09041431767457013, 0.2006653854732492, 0.6019961564197476, 0.1003326927366246, 0.9169288171011787, 0.16271316410589076, 0.04218489439782353, 0.07231696182484033, 0.012052826970806722, 0.03615848091242017, 0.06629054833943697, 0.012052826970806722, 0.5604564541425127, 0.03615848091242017, 0.12778157223170072, 0.7666894333902043, 0.9152453996403302, 0.3476771577487562, 0.038630795305417354, 0.038630795305417354, 0.038630795305417354, 0.038630795305417354, 0.4635695436650082, 0.9392066650897588, 0.9152337117914254, 0.9030633026908573, 0.06020422017939049, 0.9711182767382871, 0.19507178176047385, 0.647283639477936, 0.020689431398838134, 0.05615702808256065, 0.02660069751279189, 0.029556330569768766, 0.011822532227907506, 0.0029556330569768764, 0.00886689917093063, 0.2316602302777866, 0.668250664262846, 0.008910008856837947, 0.07128007085470357, 0.9278020735001731, 0.486366040332956, 0.44802637499139414, 0.0010954190097589099, 0.0054770950487945495, 0.0021908380195178197, 0.008763352078071279, 0.006572514058553459, 0.030671732273249475, 0.0010954190097589099, 0.006572514058553459, 0.0054770950487945495, 0.14633102700472023, 0.5595009856062833, 0.04303853735432948, 0.03443082988346358, 0.03443082988346358, 0.06025395229606127, 0.03443082988346358, 0.01721541494173179, 0.06025395229606127, 0.8190487751366813, 0.9388388919517804, 0.2411382206067928, 0.2633971332781891, 0.11871420091411339, 0.014839275114264174, 0.04451782534279252, 0.09274546946415108, 0.04080800656422648, 0.025968731449962302, 0.018549093892830215, 0.06306691923562273, 0.07419637557132086, 0.8177317002954777, 0.8706951331038358, 0.10243472154162775, 0.9500257159823304, 0.8884839126991666, 0.27515647292801987, 0.04344575888337156, 0.07240959813895259, 0.057927678511162074, 0.27515647292801987, 0.17378303553348623, 0.10137343739453362, 0.4458656763194337, 0.794745304330615, 0.44588153092142174, 0.859284462121893, 0.5588962819840452, 0.15835394656214613, 0.06520456623147194, 0.03725975213226968, 0.08383444229760678, 0.0465746901653371, 0.00931493803306742, 0.00465746901653371, 0.00931493803306742, 0.02328734508266855, 0.00465746901653371, 0.9121979474500514, 0.6086253399091711, 0.8884842605662198, 0.9169246403437361, 0.8345801230827575, 0.6696284228182501, 0.22320947427275004, 0.11160473713637502, 0.038947893495710345, 0.11684368048713104, 0.23368736097426207, 0.5842184024356551, 0.6771609152358952, 0.11286015253931586, 0.1692902288089738, 0.03701382611859237, 0.05552073917788855, 0.1480553044743695, 0.3516313481266275, 0.03701382611859237, 0.03701382611859237, 0.3516313481266275, 0.9256872277306276, 0.8345230594293916, 0.9137148064482775, 0.07614290053735646, 0.45714613674604576, 0.0937735665120094, 0.0468867832560047, 0.02344339162800235, 0.011721695814001174, 0.24615561209402465, 0.011721695814001174, 0.05860847907000587, 0.011721695814001174, 0.02344339162800235, 0.12375332963018223, 0.1965494058832306, 0.40037841939176605, 0.0800756838783532, 0.058236861002438696, 0.021838822875914512, 0.07279607625304838, 0.029118430501219348, 0.014559215250609674, 0.608625022441242, 0.013010755970220125, 0.039032267910660376, 0.37080654515127354, 0.14962369365753142, 0.019516133955330188, 0.09758066977665093, 0.13010755970220125, 0.013010755970220125, 0.14962369365753142, 0.013010755970220125, 0.8980663408689993, 0.8190466281425086, 0.47179453003792793, 0.05897431625474099, 0.44230737191055747, 0.10800195330247793, 0.1728031252839647, 0.1728031252839647, 0.12960234396297352, 0.1512027346234691, 0.1512027346234691, 0.10800195330247793, 0.13111003581754563, 0.721105196996501, 0.03277750895438641, 0.09833252686315923, 0.09507081507907328, 0.28521244523721984, 0.5704248904744397, 0.9142603281630323, 0.30850654814380346, 0.2564379324233303, 0.11194752379901729, 0.08591321593878071, 0.053370331113484985, 0.06768920043661511, 0.05206861572047316, 0.02603430786023658, 0.01301715393011829, 0.022129161681201093, 0.003905146179035487, 0.6086247684304431, 0.8315759335136292, 0.12834932514619501, 0.77009595087717, 0.9249394638849985, 0.6992870886853852, 0.9249368680578899, 0.9122012781815291, 0.927806290759738, 0.8921093257803013, 0.052477019163547134, 0.052477019163547134, 0.4443453118335181, 0.39841414719567475, 0.011353771034073633, 0.011869851535622434, 0.0639939821920514, 0.028900508086732883, 0.01393417354181764, 0.0036125635108416104, 0.012385932037171235, 0.010321610030976031, 0.0005160805015488015, 0.6853455917344907, 0.06853455917344907, 0.06853455917344907, 0.05711213264454089, 0.06853455917344907, 0.011422426528908179, 0.011422426528908179, 0.022844853057816358, 0.12275208724313028, 0.7365125234587817, 0.44587592048705427, 0.8960663584824217, 0.46227392005046547, 0.027192583532380323, 0.4078887529857048, 0.027192583532380323, 0.08157775059714097, 0.8783271074191377, 0.8783263255100124, 0.9720349750272325, 0.9036334334362977, 0.2108462849325201, 0.4319777544958949, 0.09256666167769176, 0.0257129615771366, 0.03599814620799124, 0.05656851546970052, 0.09770925399311908, 0.01028518463085464, 0.01542777694628196, 0.0257129615771366, 0.9249389742640232, 0.9785206687420769, 0.44585025106996223, 0.039665062043546515, 0.23799037226127906, 0.2776554343048256, 0.07933012408709303, 0.039665062043546515, 0.3173204963483721, 0.9169304459154011, 0.9169293823965861, 0.8983428949281328, 0.2671392668352383, 0.08904642227841278, 0.13356963341761915, 0.04452321113920639, 0.4229705058224607, 0.04452321113920639, 0.7012248951284916, 0.7031303679107489, 0.02916225719001778, 0.5311696845324667, 0.13539619409651113, 0.05832451438003556, 0.07915469808719111, 0.02083018370715556, 0.07707167971647556, 0.006249055112146667, 0.04374338578502667, 0.006249055112146667, 0.012498110224293334, 0.9320795897857378, 0.9601579274539908, 0.026176704402905315, 0.3141204528348638, 0.07853011320871595, 0.05235340880581063, 0.07853011320871595, 0.10470681761162126, 0.23559033962614784, 0.07853011320871595, 0.1143063547932917, 0.047934922977832, 0.20280159721390464, 0.2765476325644154, 0.08849524242061294, 0.02581111237267877, 0.04424762121030647, 0.11799365656081724, 0.05899682828040862, 0.018436508837627694, 0.003687301767525539, 0.15117809818970687, 0.15117809818970687, 0.6047123927588275, 0.6837074543147441, 0.8914931142196025, 0.901911772826525, 0.836349452514352, 0.031736810603635326, 0.11107883711272365, 0.2538944848290826, 0.36497332194180626, 0.015868405301817663, 0.07934202650908832, 0.142815647716359, 0.8914932244644757, 0.04682492713587808, 0.40581603517761006, 0.12486647236234157, 0.08584569974910983, 0.11706231783969522, 0.015608309045292696, 0.015608309045292696, 0.15608309045292695, 0.03121661809058539, 0.14383004077862366, 0.1835072934072095, 0.2479828289286615, 0.09423347499289136, 0.11407210130718429, 0.059515878942878755, 0.01983862631429292, 0.0495965657857323, 0.0495965657857323, 0.029757939471439378, 0.00495965657857323, 0.05524932503523033, 0.16574797510569098, 0.4419946002818426, 0.05524932503523033, 0.2762466251761516, 0.12876211219040723, 0.12876211219040723, 0.7725726731424435, 0.608622113867663, 0.9298687822206281, 0.22790838035435132, 0.016279170025310808, 0.06511668010124323, 0.016279170025310808, 0.16279170025310807, 0.3744209105821486, 0.09767502015186486, 0.04883751007593243, 0.0915918082454922, 0.8243262742094299, 0.8345377044901695, 0.07586706404456087, 0.932744361182216, 0.7217366467550261, 0.13122484486455022, 0.007290269159141678, 0.07290269159141678, 0.007290269159141678, 0.014580538318283357, 0.014580538318283357, 0.014580538318283357, 0.007290269159141678, 0.007290269159141678, 0.859284255179595, 0.2161008307168678, 0.20136668316799045, 0.12442169041274206, 0.08513063028240248, 0.11951030789644962, 0.11951030789644962, 0.04420244264663205, 0.029468295097754702, 0.03274255010861633, 0.014734147548877351, 0.013097020043446534, 0.8409367635297338, 0.1380830589788075, 0.8284983538728449, 0.9122010424133515, 0.8150711238508483, 0.04528172910282491, 0.022640864551412454, 0.11320432275706227, 0.3730037091787378, 0.606131027415449, 0.12101970730582333, 0.32271921948219556, 0.040339902435274445, 0.44373892678801885, 0.08600157497300351, 0.08600157497300351, 0.28257660348272584, 0.3685781784557293, 0.07371563569114586, 0.049143757127430576, 0.049143757127430576, 0.79910331534537, 0.683700734845957, 0.36055661425526564, 0.2758104015029596, 0.10939965646206777, 0.07550117136114537, 0.041602686260222954, 0.03081680463720219, 0.052388567883243725, 0.004622520695580328, 0.02927596440534208, 0.012326721854880877, 0.006163360927440438, 0.9121996959946488, 0.7445810173712638, 0.9072165805386556, 0.02387412054049094, 0.04774824108098188, 0.1678571633789869, 0.6714286535159476, 0.9176406253262934, 0.06212436300499581, 0.8697410820699414, 0.12498662064414676, 0.18747993096622015, 0.18747993096622015, 0.12498662064414676, 0.3749598619324403, 0.05497563766569281, 0.03665042511046187, 0.16492691299707843, 0.18325212555230935, 0.34817903854938775, 0.10995127533138561, 0.10995127533138561, 0.03137717543906391, 0.18826305263438345, 0.5334119824640864, 0.18826305263438345, 0.03137717543906391, 0.23639351131033193, 0.07879783710344397, 0.5515848597241079, 0.875112465181867, 0.9148559748828083, 0.09990730492172985, 0.12341490607978392, 0.10578420521124336, 0.1175380057902704, 0.0587690028951352, 0.05289210260562168, 0.05289210260562168, 0.28796811418616247, 0.04701520231610816, 0.02350760115805408, 0.0293845014475676, 0.08754882173249348, 0.6675597657102628, 0.05471801358280843, 0.02188720543312337, 0.03283080814968506, 0.010943602716561685, 0.05471801358280843, 0.03283080814968506, 0.02188720543312337, 0.9019525341652787, 0.08199568492411624, 0.8888304523845157, 0.8783263565668581, 0.17540319909961533, 0.25336017647722214, 0.09744622172200851, 0.0389784886888034, 0.35080639819923065, 0.0779569773776068, 0.2551230690551766, 0.5102461381103532, 0.8409368601868528, 0.44587051136304545, 0.37862423353195906, 0.5415764353052073, 0.009585423633720482, 0.023963559084301204, 0.009585423633720482, 0.009585423633720482, 0.028756270901161448, 0.8884867495620963, 0.26655014561490875, 0.563856077262307, 0.01025192867749649, 0.01025192867749649, 0.025629821693741228, 0.02050385735499298, 0.06663753640372719, 0.01025192867749649, 0.025629821693741228, 0.820456327327628, 0.1640912654655256, 0.14878570732835994, 0.09435191196432581, 0.361077509248093, 0.11793988995540726, 0.07257839381871216, 0.019959058300145844, 0.0453614961366951, 0.06713501428230875, 0.034474737063888275, 0.034474737063888275, 0.001814459845467804, 0.2361686385254393, 0.22042406262374334, 0.12595660721356763, 0.05248191967231985, 0.1049638393446397, 0.08921926344294373, 0.02099276786892794, 0.02099276786892794, 0.12070841524633565, 0.005248191967231985, 0.9321348640360325, 0.07958346360124278, 0.23875039080372834, 0.6366677088099423, 0.03555559115579418, 0.08296304603018642, 0.03555559115579418, 0.1185186371859806, 0.02370372743719612, 0.13037050090457866, 0.1777779557789709, 0.2607410018091573, 0.09481490974878448, 0.03555559115579418, 0.7412400352690715, 0.1814502534681732, 0.17419224332944627, 0.10887015208090392, 0.03629005069363464, 0.1814502534681732, 0.10161214194217699, 0.029032040554907712, 0.10887015208090392, 0.014516020277453856, 0.03629005069363464, 0.029032040554907712, 0.8783253029002595, 0.7027494892640922, 0.03904163829244957, 0.2342498297546974, 0.10021672918567795, 0.10021672918567795, 0.7015171042997456, 0.8035445951631686, 0.18262377162799284, 0.9270587402793463, 0.8177140667870143, 0.8551302748853654, 0.4017964068029315, 0.1861983348598951, 0.06859938652732976, 0.06369943034680621, 0.07839929888837688, 0.10289907979099465, 0.03429969326366488, 0.01959982472209422, 0.024499780902617774, 0.004899956180523555, 0.00979991236104711, 0.26054035536287967, 0.26054035536287967, 0.02605403553628797, 0.18237824875401576, 0.26054035536287967, 0.24152695569931942, 0.06502648807289368, 0.02786849488838301, 0.1857899659225534, 0.04644749148063835, 0.3251324403644684, 0.11147397955353204, 0.6032692037719894, 0.259470625278275, 0.03243382815978438, 0.012973531263913752, 0.012973531263913752, 0.04216397660771969, 0.003243382815978438, 0.022703679711849067, 0.003243382815978438, 0.006486765631956876, 0.45303256360537947, 0.10067390302341767, 0.05033695151170883, 0.10067390302341767, 0.302021709070253, 0.7991002315032119, 0.05737175658356516, 0.02868587829178258, 0.24382996548015193, 0.02868587829178258, 0.043028817437673866, 0.01434293914589129, 0.47331699181441256, 0.10040057402123903, 0.02868587829178258, 0.8751179717805512, 0.07999136605948595, 0.23997409817845783, 0.1599827321189719, 0.07999136605948595, 0.07999136605948595, 0.23997409817845783, 0.13016097267120155, 0.16565941976334744, 0.4141485494083686, 0.07099689418429175, 0.0591640784869098, 0.02366563139476392, 0.04733126278952784, 0.03549844709214588, 0.0591640784869098, 0.9169199217515124, 0.2882080741954963, 0.5764161483909926, 0.8044381978267209, 0.2039759322512449, 0.03399598870854082, 0.6119277967537348, 0.13598395483416328, 0.7343653505343523, 0.056489642348796325, 0.11297928469759265, 0.11297928469759265, 0.03911200828747483, 0.19556004143737418, 0.15644803314989933, 0.5475681160246477, 0.03911200828747483, 0.07426699160777414, 0.7426699160777414, 0.14853398321554828, 0.10898277647994957, 0.2724569411998739, 0.5994052706397226, 0.23777269590871794, 0.16644088713610256, 0.40421358304482047, 0.11888634795435897, 0.023777269590871793, 0.023777269590871793, 0.17325796218821926, 0.22276023709913903, 0.01650075830363993, 0.024751137455459895, 0.03300151660727986, 0.462021232501918, 0.024751137455459895, 0.01650075830363993, 0.008250379151819965, 0.008250379151819965, 0.8980754892500172, 0.8852309491849814, 0.7337055779451621, 0.3908038998836288, 0.3731736487610591, 0.032322127058044485, 0.01763025112256972, 0.014691875935474767, 0.0029383751870949533, 0.1586722601031275, 0.0029383751870949533, 0.0058767503741899065, 0.22600264209392643, 0.1748322325632261, 0.03837780714802524, 0.08528401588450053, 0.09381241747295059, 0.3070224571842019, 0.004264200794225027, 0.004264200794225027, 0.025585204765350162, 0.029849405559575187, 0.004264200794225027, 0.8646484648954229, 0.9299331830781982, 0.1473046784867386, 0.18606906756219613, 0.1473046784867386, 0.06202302252073204, 0.038764389075457525, 0.39539676856966677, 0.01550575563018301, 0.007752877815091505, 0.26061311335832327, 0.6080972645027544, 0.08687103778610776, 0.3025453067560276, 0.21783262086433985, 0.14349291691857308, 0.06569555232416599, 0.06742438264848614, 0.057051400702565196, 0.032847776162082995, 0.0449495884323241, 0.05013607940528457, 0.012101812270241102, 0.00691532129728063, 0.7012254998442569, 0.783183323472428, 0.16331746908971423, 0.054439156363238074, 0.4899524072691427, 0.08165873454485711, 0.16331746908971423, 0.054439156363238074, 0.4458709994883189, 0.91692602139988, 0.6995249832307858, 0.3164697518938371, 0.2320778180554805, 0.18988185113630224, 0.25317580151506963, 0.32028124590357493, 0.23724536733598145, 0.011862268366799072, 0.05931134183399536, 0.04744907346719629, 0.24910763570278052, 0.03558680510039722, 0.03558680510039722, 0.7831743949730443, 0.8750644856065457, 0.8177305541664167, 0.8551317062884634, 0.7831839971875526, 0.9148377405583571, 0.44587861078570273, 0.8783289802137804, 0.6086221319567935, 0.023307832443331223, 0.09323132977332489, 0.5360801461966181, 0.034961748664996836, 0.023307832443331223, 0.12819307843832173, 0.023307832443331223, 0.06992349732999367, 0.011653916221665611, 0.05826958110832806, 0.8695657760198249, 0.04716834880302988, 0.04716834880302988, 0.14150504640908965, 0.7311094064469632, 0.02358417440151494, 0.9335840794989092, 0.9278063587054503, 0.7247676279018894, 0.05721849693962285, 0.1144369938792457, 0.038145664626415235, 0.038145664626415235, 0.8797941490946467, 0.030337729279125748, 0.060675458558251495, 0.2227012550872206, 0.6235635142442177, 0.044540251017444125, 0.044540251017444125, 0.014846750339148042, 0.014846750339148042, 0.029693500678296084, 0.878332786022117, 0.38464084384171926, 0.15838152393482557, 0.04525186398137874, 0.02262593199068937, 0.27151118388827244, 0.09050372796275748, 0.04525186398137874, 0.8584147352231648, 0.1118241417532092, 0.0065778906913652475, 0.01973367207409574, 0.5357244564144612, 0.3806463242944856, 0.07049006005453437, 0.04551553818149663, 0.864795225448436, 0.06827330727224495, 0.8786670470885416, 0.32709828306473937, 0.34927443784878953, 0.09424865783221305, 0.03880827087208773, 0.03880827087208773, 0.14414500609632583, 0.005544038696012532, 0.7758306674066928, 0.0554164762433352, 0.0277082381216676, 0.0277082381216676, 0.0831247143650028, 0.025514630906194383, 0.663380403561054, 0.025514630906194383, 0.03827194635929158, 0.05102926181238877, 0.07654389271858315, 0.11481583907787472, 0.8335913043484101, 0.33373399302495094, 0.515770716493106, 0.1213578156454367, 0.9506713324931677, 0.9249400686430075, 0.26657903938292943, 0.28666376152821865, 0.12598598436590502, 0.06755770176142732, 0.045647095784748196, 0.04747297961613812, 0.05842828260447769, 0.04016944429057841, 0.029214141302238844, 0.014607070651119422, 0.018258838313899278, 0.8345797674607324, 0.8852919354115762, 0.9121978737808061, 0.01018390121858455, 0.30551703655753654, 0.23422972802744468, 0.20367802437169102, 0.0203678024371691, 0.18331022193452193, 0.050919506092922756, 0.05776993549382668, 0.05776993549382668, 0.11553987098765336, 0.6354692904320935, 0.05776993549382668, 0.764295709738224, 0.15550962144756209, 0.07775481072378104, 0.07775481072378104, 0.6220384857902483, 0.8751131925435022, 0.15288818587616831, 0.10192545725077887, 0.33125773606503134, 0.35673910037772605, 0.050962728625389433, 0.8780458711483708, 0.010959525959126486, 0.010959525959126486, 0.05479762979563243, 0.19727146726427675, 0.1534333634277708, 0.3178262528146681, 0.16439288938689728, 0.08767620767301189, 0.8780609854116381, 0.8888544478666431, 0.10104087538991077, 0.015544750059986274, 0.43525300167961567, 0.17876462568984214, 0.0621790002399451, 0.03886187514996568, 0.007772375029993137, 0.03886187514996568, 0.08549612532992451, 0.015544750059986274, 0.007772375029993137, 0.0738292473535793, 0.18457311838394824, 0.5168047314750551, 0.2214877420607379, 0.4485372693535208, 0.22668012537220944, 0.01446894417269422, 0.1061055905997576, 0.13504347894514604, 0.02893788834538844, 0.009645962781796146, 0.004822981390898073, 0.03376086973628651, 0.004822981390898073, 0.36035988981010153, 0.062131015484500264, 0.06834411703295029, 0.04970481238760021, 0.19881924955040084, 0.04970481238760021, 0.04970481238760021, 0.0931965232267504, 0.024852406193800105, 0.03727860929070016, 0.8695635415473929, 0.06046282566781057, 0.5743968438442004, 0.09069423850171585, 0.12092565133562114, 0.12092565133562114, 0.8892918397895041, 0.7621817342660062, 0.8751105292162418, 0.9259182783315244, 0.9121978587027615, 0.8369111535230476, 0.4533662370642736, 0.21463715571158845, 0.06789542680672696, 0.037232975990785754, 0.07446595198157151, 0.03504280093250424, 0.08103647715641604, 0.002190175058281515, 0.019711575524533634, 0.010950875291407574, 0.8884804422148034, 0.8345803710845552, 0.8888351744757869, 0.07425131055963842, 0.8910157267156611, 0.02992791588912939, 0.05985583177825878, 0.20949541122390575, 0.08978374766738817, 0.5686304018934585, 0.4343133744263546, 0.2171566872131773, 0.019741517019379755, 0.019741517019379755, 0.3158642723100761, 0.1958655880038847, 0.1483830212150642, 0.11277109612344878, 0.26115411733851296, 0.11277109612344878, 0.035611925091615405, 0.017805962545807703, 0.011870641697205135, 0.029676604243012834, 0.06528852933462824, 0.8751143999909707, 0.1222752126229735, 0.5032095288714679, 0.06113760631148675, 0.06113760631148675, 0.09876074865701706, 0.047028927931912885, 0.056434713518295467, 0.03292024955233902, 0.018811571172765156, 0.7831830156042805, 0.23730427565043163, 0.2034036648432271, 0.15933287079386124, 0.044070794049365876, 0.12882232106737718, 0.0983117713408931, 0.013560244322881807, 0.027120488645763614, 0.030510549726484065, 0.03729067188792497, 0.016950305403602258, 0.8914971915849383, 0.1373892055490914, 0.8243352332945484, 0.927797786042784, 0.8114863362255681, 0.10819817816340907, 0.8592861643350819, 0.22714360283609497, 0.07571453427869833, 0.07571453427869833, 0.6057162742295866, 0.7151081556142598, 0.23403539638284865, 0.03900589939714144, 0.013001966465713813, 0.8889805781236532, 0.6835572092286374, 0.1953210303136496, 0.5859630909409489, 0.017756457301240876, 0.05326937190372262, 0.0710258292049635, 0.03551291460248175, 0.03551291460248175, 0.7012220981287023, 0.8592847679272209, 0.9169232567937224, 0.2610426220426371, 0.5220852440852742, 0.8888669088955771, 0.6691791322248607, 0.14870647382774682, 0.07435323691387341, 0.07435323691387341, 0.916927896084578, 0.168188321358087, 0.05376511912266716, 0.18335284213627517, 0.08960853187111192, 0.2260892188748055, 0.06755104710283823, 0.06617245430482112, 0.006892963990085533, 0.07995838228499218, 0.0413577839405132, 0.019300299172239493, 0.8177263039508729, 0.8980618137701224, 0.39843208972144534, 0.3922388448034954, 0.010322074863249878, 0.01961194224017477, 0.023740772185474723, 0.01961194224017477, 0.12696152081797352, 0.0030966224589749638, 0.004128829945299952, 0.001032207486324988, 0.8592839415198166, 0.8751100263880022, 0.974930942679473, 0.14597380198605903, 0.20178731451014043, 0.1288004135171109, 0.21037400874461448, 0.07728024811026654, 0.07728024811026654, 0.03864012405513327, 0.02146673558618515, 0.03864012405513327, 0.047226818289607335, 0.01288004135171109, 0.33947773536309467, 0.23763441475416627, 0.03394777353630947, 0.3734255088994041, 0.7457516561648596, 0.24858388538828652, 0.36996452931659746, 0.4139207110175794, 0.00366301514174849, 0.00366301514174849, 0.01465206056699396, 0.08791236340196376, 0.10256442396895772, 0.00366301514174849, 0.8861256999828481, 0.3726301722521158, 0.12421005741737194, 0.041403352472457314, 0.4140335247245731, 0.764130457061264, 0.08225247440864376, 0.05255019198330019, 0.27645970565127487, 0.13023308448035265, 0.14165703925933093, 0.06397414676227849, 0.10738517492239603, 0.07768289249705244, 0.03198707338113924, 0.01599353669056962, 0.013708745734773962, 0.888850882370358, 0.16644829149982707, 0.7490173117492217, 0.08322414574991353, 0.04189018955917152, 0.04189018955917152, 0.09425292650813592, 0.2199234951856505, 0.12567056867751455, 0.24086858996523625, 0.03141764216937864, 0.01047254738979288, 0.14661566345710034, 0.03141764216937864, 0.01047254738979288, 0.044455685794748165, 0.47123026942433055, 0.008891137158949633, 0.03556454863579853, 0.2400607032916401, 0.008891137158949633, 0.1867138803379423, 0.2820586718751724, 0.11282346875006896, 0.16923520312510343, 0.39488214062524135, 0.8345870995854644, 0.1003492314003329, 0.8027938512026632, 0.47466794571300164, 0.38783844344842816, 0.005788633484304898, 0.04052043439013429, 0.005788633484304898, 0.07814655203811612, 0.002894316742152449, 0.002894316742152449, 0.03247368145059068, 0.09742104435177204, 0.19484208870354408, 0.12989472580236272, 0.4871052217588602, 0.03247368145059068, 0.06403294220253733, 0.2561317688101493, 0.6403294220253732, 0.8786748253281945, 0.3825913015642759, 0.4782391269553449, 0.07357525030082228, 0.029430100120328914, 0.014715050060164457, 0.0073575250300822286, 0.014715050060164457, 0.5747628296590689, 0.41942152434580704, 0.8944954621955653, 0.05233750044761286, 0.014273863758439871, 0.028547727516879742, 0.004757954586146623, 0.8888500683410073, 0.8870253626600942, 0.08870253626600942, 0.8852419020493008, 0.0924592944878203, 0.8321336503903827, 0.9479006718685095, 0.8914926347260924, 0.8177358576301954, 0.29684611858595444, 0.08039582378369599, 0.10513300033252553, 0.12987017688135508, 0.03092147068603692, 0.09276441205811076, 0.17316023584180676, 0.024737176548829537, 0.024737176548829537, 0.03092147068603692, 0.018552882411622153, 0.38570436920998474, 0.04821304615124809, 0.09642609230249619, 0.3615978461343607, 0.024106523075624046, 0.07231956922687215, 0.27918218017652197, 0.21510758144748413, 0.05949784167696369, 0.10984216924977913, 0.15560973977052042, 0.105265412197705, 0.013730271156222391, 0.009153514104148261, 0.027460542312444783, 0.009153514104148261, 0.009153514104148261, 0.18241110994233695, 0.15635237995057452, 0.02605872999176242, 0.495115869843486, 0.1302936499588121, 0.03285956531023536, 0.01642978265511768, 0.9200678286865901, 0.01642978265511768, 0.09746571885159751, 0.007497362988584424, 0.42734969034931214, 0.10496308184018194, 0.044984177931506546, 0.11246044482876635, 0.029989451954337696, 0.037486814942922116, 0.10496308184018194, 0.029989451954337696, 0.007497362988584424, 0.13809591441959718, 0.6904795720979858, 0.06323508446992873, 0.06323508446992873, 0.5691157602293585, 0.031617542234964366, 0.28455788011467925, 0.3642866416575758, 0.6071444027626263, 0.6086248133765939, 0.9155364279165029, 0.09545114459573155, 0.010605682732859062, 0.5408898193758122, 0.010605682732859062, 0.2227193373900403, 0.05302841366429531, 0.010605682732859062, 0.03181704819857718, 0.7012027862380985, 0.3096239615435194, 0.6811727153957426, 0.8884838934956107, 0.8551315101661139, 0.4458770036102134, 0.8852091620012035, 0.15431686531289077, 0.05143895510429693, 0.720145371460157, 0.05143895510429693, 0.8960591270293002, 0.8398823789917884, 0.13915649993555881, 0.06957824996777941, 0.13915649993555881, 0.27831299987111763, 0.347891249838897, 0.8888949094162346, 0.0683765314935565, 0.5407924586168119, 0.19908293806223293, 0.1485693567628604, 0.09211300119297344, 0.002971387135257208, 0.01485693567628604, 0.35884398016130753, 0.20445761660353567, 0.07510687956864576, 0.0834520884096064, 0.06884797293792527, 0.0834520884096064, 0.0312945331536024, 0.0208630221024016, 0.05424385746624416, 0.0208630221024016, 0.5472931701290135, 0.04975392455718305, 0.0995078491143661, 0.04975392455718305, 0.1990156982287322, 0.9251681314877643, 0.037290246640737844, 0.08701057549505496, 0.049720328854317125, 0.2610317264851649, 0.049720328854317125, 0.3231821375530613, 0.12430082213579281, 0.062150411067896406, 0.6836627835608516, 0.8751020390661014], \"Term\": [\"ab\", \"absa\", \"acceleration\", \"acceleration\", \"acceleration\", \"accelerator\", \"accelerator\", \"accelerator\", \"acsa\", \"acsa\", \"act\", \"act\", \"act\", \"act\", \"act\", \"actuation\", \"ad\", \"ad\", \"adapter\", \"admission\", \"adr\", \"agent\", \"agent\", \"agent\", \"agent\", \"agent\", \"agent\", \"agent\", \"agent\", \"agent\", \"agent\", \"aggregation\", \"aggregation\", \"aggregation\", \"algorithm\", \"algorithm\", \"algorithm\", \"algorithm\", \"algorithm\", \"algorithm\", \"algorithm\", \"algorithm\", \"algorithm\", \"algorithm\", \"algorithm\", \"alignment\", \"alignment\", \"alignment\", \"alignment\", \"alignment\", \"allocate\", \"allocation\", \"allocation\", \"allocation\", \"alpha\", \"alpha\", \"amr\", \"analysis\", \"analysis\", \"analysis\", \"analysis\", \"analysis\", \"analysis\", \"analysis\", \"analysis\", \"analysis\", \"analysis\", \"analysis\", \"analyzer\", \"anarchy\", \"annotation\", \"annotation\", \"annotation\", \"annotation\", \"annotation\", \"anonymity\", \"ao\", \"ape\", \"ape\", \"ape\", \"application\", \"application\", \"application\", \"application\", \"application\", \"application\", \"application\", \"application\", \"application\", \"approach\", \"approach\", \"approach\", \"approach\", \"approach\", \"approach\", \"approach\", \"approach\", \"approach\", \"approach\", \"approximation\", \"approximation\", \"approximation\", \"approximation\", \"approximation\", \"approximation\", \"approximation\", \"apps\", \"apps\", \"appstreamer\", \"architecture\", \"architecture\", \"architecture\", \"architecture\", \"architecture\", \"architecture\", \"architecture\", \"architecture\", \"architecture\", \"architecture\", \"argument\", \"argument\", \"argument\", \"argument\", \"argument\", \"art\", \"art\", \"art\", \"art\", \"art\", \"art\", \"art\", \"art\", \"art\", \"art\", \"assembly\", \"assembly\", \"attention\", \"attention\", \"attention\", \"attention\", \"attention\", \"attention\", \"attention\", \"attention\", \"attention\", \"augmentation\", \"augmentation\", \"augmentation\", \"automaton\", \"automaton\", \"automaton\", \"automaton\", \"b\", \"b\", \"b\", \"b\", \"b\", \"b\", \"b\", \"backhaul\", \"bandit\", \"basis\", \"basis\", \"basis\", \"basis\", \"basis\", \"basis\", \"basis\", \"beesl\", \"belfis\", \"benchmark\", \"benchmark\", \"benchmark\", \"benchmark\", \"benchmark\", \"benchmark\", \"benchmark\", \"benchmark\", \"benchmark\", \"benchmark\", \"bengali\", \"bert\", \"bert\", \"bert\", \"bert\", \"bert\", \"bias\", \"bias\", \"biology\", \"bipartite\", \"bipartite\", \"bitstream\", \"blank\", \"bleu\", \"bleu\", \"bleu\", \"block\", \"block\", \"block\", \"block\", \"block\", \"block\", \"block\", \"block\", \"block\", \"blockchain\", \"blockchain\", \"bot\", \"bound\", \"bound\", \"bound\", \"bound\", \"bound\", \"bound\", \"bound\", \"brson\", \"btc\", \"bug\", \"bug\", \"bug\", \"bulk\", \"business\", \"business\", \"business\", \"byzantine\", \"cache\", \"cache\", \"cache\", \"candidate\", \"candidate\", \"candidate\", \"candidate\", \"candidate\", \"candidate\", \"candidate\", \"candidate\", \"carryover\", \"case\", \"case\", \"case\", \"case\", \"case\", \"case\", \"case\", \"case\", \"case\", \"case\", \"case\", \"cfr\", \"chapter\", \"chapter\", \"chart\", \"chattopadhyay\", \"circuit\", \"circuit\", \"circuit\", \"circuit\", \"citation\", \"citation\", \"class\", \"class\", \"class\", \"class\", \"class\", \"class\", \"class\", \"class\", \"class\", \"classification\", \"classification\", \"classification\", \"classification\", \"classification\", \"classification\", \"classification\", \"classification\", \"classification\", \"client\", \"cm\", \"cna\", \"cnet\", \"cnn\", \"cnn\", \"cnn\", \"code\", \"code\", \"code\", \"code\", \"code\", \"code\", \"code\", \"code\", \"code\", \"code\", \"codex\", \"collision\", \"collision\", \"collision\", \"collocation\", \"collocation\", \"colony\", \"commit\", \"commonsense\", \"commonsense\", \"communication\", \"communication\", \"communication\", \"communication\", \"communication\", \"communication\", \"communication\", \"communication\", \"communicator\", \"completion\", \"completion\", \"completion\", \"completion\", \"complexity\", \"complexity\", \"complexity\", \"complexity\", \"complexity\", \"complexity\", \"complexity\", \"complexity\", \"computation\", \"computation\", \"computation\", \"computation\", \"computation\", \"computation\", \"computation\", \"computation\", \"computer\", \"computer\", \"computer\", \"computer\", \"computer\", \"computer\", \"computer\", \"condition\", \"condition\", \"condition\", \"condition\", \"condition\", \"condition\", \"condition\", \"condition\", \"condition\", \"condition\", \"condolence\", \"conductance\", \"conll\", \"connectivity\", \"connectivity\", \"connectivity\", \"connotation\", \"consistency\", \"consistency\", \"consistency\", \"consistency\", \"consistency\", \"constellation\", \"constellation\", \"constituency\", \"contention\", \"control\", \"control\", \"control\", \"control\", \"control\", \"control\", \"control\", \"control\", \"control\", \"conversation\", \"conversation\", \"coordination\", \"coordination\", \"coordination\", \"coordination\", \"coreference\", \"cost\", \"cost\", \"cost\", \"cost\", \"cost\", \"cost\", \"cost\", \"cost\", \"cost\", \"cost\", \"country\", \"country\", \"country\", \"country\", \"cqa\", \"crack\", \"crc\", \"crf\", \"criticality\", \"criticality\", \"criticality\", \"cross\", \"cross\", \"cross\", \"cross\", \"cross\", \"crossbar\", \"crossbar\", \"crqda\", \"csp\", \"curve\", \"curve\", \"curve\", \"curve\", \"customer\", \"customer\", \"customer\", \"customer\", \"customer\", \"cws\", \"cyber\", \"cyber\", \"cyber\", \"cybercrime\", \"da\", \"data\", \"data\", \"data\", \"data\", \"data\", \"data\", \"data\", \"data\", \"data\", \"data\", \"database\", \"database\", \"database\", \"database\", \"database\", \"database\", \"database\", \"dataset\", \"dataset\", \"dataset\", \"dataset\", \"dataset\", \"dataset\", \"dataset\", \"dataset\", \"datasets\", \"datasets\", \"datasets\", \"datasets\", \"datasets\", \"datasets\", \"datasets\", \"datasets\", \"date\", \"date\", \"date\", \"date\", \"date\", \"dbms\", \"dcc\", \"debate\", \"debate\", \"debt\", \"deception\", \"deception\", \"decomposition\", \"decomposition\", \"decomposition\", \"decomposition\", \"decomposition\", \"decomposition\", \"deduction\", \"degree\", \"degree\", \"degree\", \"degree\", \"degree\", \"delta\", \"delta\", \"delta\", \"dependability\", \"design\", \"design\", \"design\", \"design\", \"design\", \"design\", \"design\", \"design\", \"design\", \"design\", \"design\", \"detection\", \"detection\", \"detection\", \"detection\", \"detection\", \"detection\", \"detection\", \"detection\", \"detection\", \"development\", \"development\", \"development\", \"development\", \"development\", \"development\", \"development\", \"development\", \"development\", \"deviation\", \"device\", \"device\", \"device\", \"device\", \"device\", \"device\", \"device\", \"dialog\", \"dialog\", \"dialogue\", \"dialogue\", \"dialogue\", \"dialogue\", \"discourse\", \"discourse\", \"discourse\", \"discretizations\", \"disease\", \"disease\", \"disease\", \"disentanglement\", \"disfluency\", \"distillation\", \"distillation\", \"distillation\", \"distribution\", \"distribution\", \"distribution\", \"distribution\", \"distribution\", \"distribution\", \"distribution\", \"distribution\", \"distribution\", \"division\", \"division\", \"dmsc\", \"dnn\", \"dnn\", \"dnnexplorer\", \"dnns\", \"dnns\", \"doctor\", \"document\", \"document\", \"document\", \"document\", \"document\", \"document\", \"document\", \"domain\", \"domain\", \"domain\", \"domain\", \"domain\", \"domain\", \"domain\", \"domain\", \"domain\", \"domain\", \"driving\", \"dsrc\", \"dtw\", \"dysarthria\", \"e\", \"e\", \"e\", \"e\", \"e\", \"e\", \"e\", \"e\", \"e\", \"e\", \"e\", \"eccentricity\", \"edge\", \"edge\", \"edge\", \"edge\", \"edge\", \"edge\", \"edge\", \"edge\", \"edge\", \"edge\", \"edge\", \"election\", \"ell\", \"ell\", \"ell\", \"ell\", \"ellipsis\", \"em\", \"em\", \"email\", \"email\", \"embeddings\", \"embeddings\", \"embeddings\", \"embeddings\", \"embeddings\", \"emoji\", \"emotion\", \"employee\", \"end\", \"end\", \"end\", \"end\", \"end\", \"end\", \"end\", \"end\", \"end\", \"endurance\", \"engine\", \"engine\", \"engine\", \"engine\", \"engine\", \"entailment\", \"entailment\", \"enterprise\", \"enterprise\", \"enterprise\", \"entity\", \"entity\", \"entity\", \"entity\", \"entity\", \"entropy\", \"entropy\", \"entropy\", \"entropy\", \"environment\", \"environment\", \"environment\", \"environment\", \"environment\", \"environment\", \"environment\", \"environment\", \"equation\", \"equation\", \"equation\", \"equation\", \"equation\", \"equilibrium\", \"equilibrium\", \"equilibrium\", \"evaluation\", \"evaluation\", \"evaluation\", \"evaluation\", \"evaluation\", \"evaluation\", \"evaluation\", \"evaluation\", \"evaluation\", \"event\", \"event\", \"event\", \"event\", \"event\", \"event\", \"example\", \"example\", \"example\", \"example\", \"example\", \"example\", \"example\", \"example\", \"example\", \"example\", \"excitation\", \"experiment\", \"experiment\", \"experiment\", \"experiment\", \"experiment\", \"experiment\", \"experiment\", \"experiment\", \"experiment\", \"expertise\", \"extractor\", \"extractor\", \"extractor\", \"fa\", \"face\", \"face\", \"face\", \"face\", \"face\", \"face\", \"fact\", \"fact\", \"fact\", \"fact\", \"fact\", \"fact\", \"fact\", \"fact\", \"factor\", \"factor\", \"factor\", \"factor\", \"factor\", \"factor\", \"factor\", \"failure\", \"failure\", \"failure\", \"failure\", \"failure\", \"failure\", \"familiarization\", \"fault\", \"fault\", \"faulty\", \"feature\", \"feature\", \"feature\", \"feature\", \"feature\", \"feature\", \"feature\", \"feature\", \"feature\", \"feature\", \"field\", \"field\", \"field\", \"field\", \"field\", \"field\", \"field\", \"field\", \"field\", \"figure\", \"figure\", \"file\", \"file\", \"file\", \"filterbanks\", \"fingerprint\", \"firecracker\", \"fom\", \"frac\", \"frac\", \"framework\", \"framework\", \"framework\", \"framework\", \"framework\", \"framework\", \"framework\", \"framework\", \"framework\", \"frp\", \"function\", \"function\", \"function\", \"function\", \"function\", \"function\", \"function\", \"function\", \"function\", \"function\", \"g\", \"g\", \"g\", \"g\", \"g\", \"g\", \"g\", \"g\", \"g\", \"gacela\", \"game\", \"game\", \"game\", \"game\", \"gang\", \"gazp\", \"gec\", \"gender\", \"generalizability\", \"generation\", \"generation\", \"generation\", \"generation\", \"generation\", \"generation\", \"generation\", \"generation\", \"generation\", \"generation\", \"genre\", \"genre\", \"genre\", \"genre\", \"geq\", \"geq\", \"git\", \"github\", \"github\", \"github\", \"github\", \"github\", \"github\", \"github\", \"gittins\", \"gnn\", \"goal\", \"goal\", \"goal\", \"goal\", \"goal\", \"goal\", \"goal\", \"goal\", \"gpt\", \"grammaticality\", \"graph\", \"graph\", \"graph\", \"graph\", \"graph\", \"graph\", \"graph\", \"graph\", \"graph\", \"graph\", \"grounding\", \"gtopx\", \"gu\", \"hac\", \"hardware\", \"hardware\", \"hardware\", \"hardware\", \"hardware\", \"hardware\", \"hardware\", \"hardware\", \"hcm\", \"head\", \"head\", \"head\", \"head\", \"head\", \"headline\", \"hermes\", \"hero\", \"hk\", \"hmms\", \"hodge\", \"hole\", \"hop\", \"hop\", \"hop\", \"http\", \"http\", \"http\", \"http\", \"http\", \"humanity\", \"hybridization\", \"hypervisor\", \"ideality\", \"idiom\", \"igt\", \"ilas\", \"image\", \"image\", \"image\", \"image\", \"image\", \"image\", \"implementation\", \"implementation\", \"implementation\", \"implementation\", \"implementation\", \"implementation\", \"implementation\", \"implementation\", \"ind\", \"industry\", \"industry\", \"industry\", \"industry\", \"industry\", \"information\", \"information\", \"information\", \"information\", \"information\", \"information\", \"information\", \"information\", \"information\", \"information\", \"information\", \"inger\", \"input\", \"input\", \"input\", \"input\", \"input\", \"input\", \"input\", \"input\", \"input\", \"input\", \"interaction\", \"interaction\", \"interaction\", \"interaction\", \"interaction\", \"interaction\", \"interaction\", \"interaction\", \"intimacy\", \"intrusion\", \"iot\", \"iot\", \"iot\", \"ir\", \"j\", \"jacobi\", \"jacobi\", \"jacobi\", \"job\", \"job\", \"journal\", \"journal\", \"journal\", \"journal\", \"journal\", \"jump\", \"jump\", \"jump\", \"junction\", \"k\", \"k\", \"k\", \"k\", \"k\", \"k\", \"k\", \"k\", \"k\", \"kappa\", \"kappa\", \"kb\", \"kernel\", \"kernel\", \"kernel\", \"kernel\", \"kernel\", \"kernel\", \"keyphrase\", \"keyphrases\", \"kg\", \"kg\", \"kljn\", \"knowledge\", \"knowledge\", \"knowledge\", \"knowledge\", \"knowledge\", \"knowledge\", \"knowledge\", \"knowledge\", \"knowledge\", \"label\", \"label\", \"label\", \"label\", \"lada\", \"language\", \"language\", \"language\", \"language\", \"language\", \"language\", \"language\", \"language\", \"language\", \"language\", \"language\", \"layer\", \"layer\", \"layer\", \"layer\", \"layer\", \"layer\", \"layer\", \"layer\", \"layer\", \"legislator\", \"leq\", \"level\", \"level\", \"level\", \"level\", \"level\", \"level\", \"level\", \"level\", \"level\", \"level\", \"level\", \"llc\", \"lm\", \"lm\", \"lock\", \"locomotion\", \"log\", \"log\", \"log\", \"log\", \"log\", \"log\", \"log\", \"lrl\", \"lts\", \"lyndon\", \"macd\", \"machine\", \"machine\", \"machine\", \"machine\", \"machine\", \"machine\", \"machine\", \"machine\", \"machine\", \"machine\", \"machine\", \"mahler\", \"malice\", \"manna\", \"marriage\", \"masker\", \"material\", \"material\", \"material\", \"mathbb\", \"mathbb\", \"mathbb\", \"mathbb\", \"mathrm\", \"mathrm\", \"mathrm\", \"matrix\", \"matrix\", \"matrix\", \"matrix\", \"matrix\", \"matrix\", \"matrix\", \"mcts\", \"md\", \"meaning\", \"meaning\", \"measure\", \"measure\", \"measure\", \"measure\", \"measure\", \"measure\", \"measure\", \"measure\", \"measure\", \"measure\", \"mechanism\", \"mechanism\", \"mechanism\", \"mechanism\", \"mechanism\", \"mechanism\", \"mechanism\", \"mechanism\", \"mechanism\", \"membrane\", \"memory\", \"memory\", \"memory\", \"memory\", \"memory\", \"memory\", \"memory\", \"memory\", \"memory\", \"memory\", \"memristor\", \"men\", \"mention\", \"mention\", \"mention\", \"message\", \"message\", \"message\", \"message\", \"message\", \"message\", \"message\", \"meta\", \"meta\", \"meta\", \"meta\", \"metadata\", \"metadata\", \"metadata\", \"metastability\", \"method\", \"method\", \"method\", \"method\", \"method\", \"method\", \"method\", \"method\", \"method\", \"method\", \"method\", \"mf\", \"mim\", \"mimo\", \"mimo\", \"miner\", \"mir\", \"mission\", \"mm\", \"mmr\", \"modality\", \"modality\", \"modality\", \"model\", \"model\", \"model\", \"model\", \"model\", \"model\", \"model\", \"model\", \"model\", \"model\", \"model\", \"module\", \"module\", \"module\", \"module\", \"module\", \"module\", \"module\", \"module\", \"molecule\", \"molecule\", \"mood\", \"mosaicsim\", \"motion\", \"motion\", \"motion\", \"motion\", \"motion\", \"mr\", \"mram\", \"mt\", \"mtl\", \"multi\", \"multi\", \"multi\", \"multi\", \"multi\", \"multi\", \"multi\", \"multi\", \"multi\", \"multi\", \"multicore\", \"multimodal\", \"multisource\", \"music\", \"music\", \"music\", \"music\", \"music\", \"music\", \"mwe\", \"mwes\", \"mwps\", \"n\", \"n\", \"n\", \"n\", \"n\", \"n\", \"nae\", \"nanowire\", \"network\", \"network\", \"network\", \"network\", \"network\", \"network\", \"network\", \"network\", \"network\", \"network\", \"network\", \"neuroscience\", \"nmt\", \"node\", \"node\", \"node\", \"node\", \"node\", \"node\", \"node\", \"node\", \"number\", \"number\", \"number\", \"number\", \"number\", \"number\", \"number\", \"number\", \"number\", \"number\", \"number\", \"o\", \"o\", \"o\", \"oi\", \"oix\", \"ood\", \"openie\", \"operation\", \"operation\", \"operation\", \"operation\", \"operation\", \"operation\", \"operation\", \"opf\", \"optimization\", \"optimization\", \"optimization\", \"optimization\", \"optimization\", \"optimization\", \"optimization\", \"optimization\", \"optimization\", \"order\", \"order\", \"order\", \"order\", \"order\", \"order\", \"order\", \"order\", \"order\", \"order\", \"order\", \"organization\", \"organization\", \"organization\", \"organization\", \"organization\", \"orientation\", \"orientation\", \"orientation\", \"orkg\", \"outage\", \"p\", \"p\", \"p\", \"p\", \"p\", \"p\", \"p\", \"p\", \"package\", \"package\", \"packet\", \"packet\", \"pagerank\", \"pair\", \"pair\", \"pair\", \"pair\", \"pair\", \"pair\", \"pair\", \"pair\", \"pair\", \"pair\", \"palindrome\", \"paper\", \"paper\", \"paper\", \"paper\", \"paper\", \"paper\", \"paper\", \"paper\", \"paper\", \"paper\", \"paper\", \"parade\", \"parallelization\", \"parallelization\", \"pareto\", \"parser\", \"parser\", \"parser\", \"parser\", \"parsing\", \"parsing\", \"party\", \"party\", \"party\", \"party\", \"path\", \"path\", \"path\", \"path\", \"path\", \"path\", \"path\", \"payment\", \"percent\", \"performance\", \"performance\", \"performance\", \"performance\", \"performance\", \"performance\", \"performance\", \"performance\", \"performance\", \"performance\", \"performance\", \"permutation\", \"persuasion\", \"phrase\", \"phrase\", \"phrase\", \"pilot\", \"pilot\", \"pl\", \"placement\", \"placement\", \"plan\", \"plan\", \"plan\", \"plan\", \"plan\", \"platform\", \"platform\", \"platform\", \"platform\", \"platform\", \"platform\", \"platform\", \"player\", \"player\", \"player\", \"player\", \"player\", \"plot\", \"plot\", \"plot\", \"podge\", \"poem\", \"point\", \"point\", \"point\", \"point\", \"point\", \"point\", \"point\", \"point\", \"point\", \"point\", \"point\", \"policy\", \"policy\", \"policy\", \"policy\", \"policy\", \"policy\", \"policy\", \"policy\", \"policy\", \"poly\", \"poly\", \"pomdps\", \"port\", \"position\", \"position\", \"position\", \"position\", \"position\", \"position\", \"positioning\", \"positioning\", \"ppr\", \"pps\", \"pre\", \"pre\", \"pre\", \"pre\", \"pre\", \"pre\", \"pre\", \"precoder\", \"prediction\", \"prediction\", \"prediction\", \"prediction\", \"prediction\", \"prediction\", \"prediction\", \"prediction\", \"prediction\", \"prisoner\", \"prisoner\", \"problem\", \"problem\", \"problem\", \"problem\", \"problem\", \"problem\", \"problem\", \"problem\", \"problem\", \"problem\", \"problem\", \"process\", \"process\", \"process\", \"process\", \"process\", \"process\", \"process\", \"process\", \"process\", \"process\", \"producer\", \"profile\", \"profile\", \"profile\", \"program\", \"program\", \"program\", \"program\", \"program\", \"program\", \"program\", \"program\", \"program\", \"program\", \"prolog\", \"property\", \"property\", \"property\", \"property\", \"property\", \"property\", \"property\", \"property\", \"property\", \"property\", \"property\", \"psnr\", \"publication\", \"publication\", \"publication\", \"pure\", \"pure\", \"pure\", \"qa\", \"qa\", \"qb\", \"qbricks\", \"qc\", \"quality\", \"quality\", \"quality\", \"quality\", \"quality\", \"quality\", \"quality\", \"quality\", \"quality\", \"quality\", \"quality\", \"quantum\", \"quantum\", \"quantum\", \"quantum\", \"quantum\", \"query\", \"query\", \"query\", \"query\", \"query\", \"query\", \"query\", \"question\", \"question\", \"question\", \"question\", \"question\", \"question\", \"question\", \"question\", \"question\", \"question\", \"queue\", \"queue\", \"queue\", \"queue\", \"queue\", \"quotation\", \"r\", \"r\", \"r\", \"r\", \"r\", \"r\", \"r\", \"r\", \"r\", \"ra\", \"radio\", \"radio\", \"radio\", \"radio\", \"radio\", \"radio\", \"rate\", \"rate\", \"rate\", \"rate\", \"rate\", \"rate\", \"rate\", \"rate\", \"rate\", \"rdma\", \"recipe\", \"recipe\", \"recipient\", \"recommendation\", \"recommendation\", \"recommendation\", \"recommendation\", \"recovery\", \"recovery\", \"recovery\", \"recovery\", \"refinement\", \"refinement\", \"refinement\", \"refinement\", \"refinement\", \"register\", \"register\", \"register\", \"regression\", \"regression\", \"regression\", \"reinforcement\", \"reinforcement\", \"reinforcement\", \"reinforcement\", \"reinforcement\", \"reinforcement\", \"relation\", \"relation\", \"relation\", \"relation\", \"relation\", \"relation\", \"relation\", \"relation\", \"relation\", \"relation\", \"relay\", \"reliance\", \"repairer\", \"representation\", \"representation\", \"representation\", \"representation\", \"representation\", \"representation\", \"representation\", \"representation\", \"representation\", \"research\", \"research\", \"research\", \"research\", \"research\", \"research\", \"research\", \"research\", \"research\", \"research\", \"research\", \"reservoir\", \"resistor\", \"response\", \"response\", \"response\", \"response\", \"response\", \"response\", \"response\", \"response\", \"restriction\", \"restriction\", \"restriction\", \"result\", \"result\", \"result\", \"result\", \"result\", \"result\", \"result\", \"result\", \"result\", \"result\", \"result\", \"resume\", \"revolution\", \"reward\", \"reward\", \"reward\", \"reward\", \"reward\", \"reward\", \"rfid\", \"rfloor\", \"rm\", \"robot\", \"robot\", \"robot\", \"robot\", \"role\", \"role\", \"role\", \"role\", \"role\", \"role\", \"role\", \"role\", \"rom\", \"router\", \"rpimc\", \"rpl\", \"rram\", \"rumor\", \"sae\", \"sagiv\", \"sau\", \"scheme\", \"scheme\", \"scheme\", \"scheme\", \"scheme\", \"scheme\", \"scheme\", \"scheme\", \"scheme\", \"scheme\", \"schmitt\", \"science\", \"science\", \"science\", \"science\", \"science\", \"scoring\", \"sd\", \"security\", \"security\", \"security\", \"security\", \"security\", \"segmentation\", \"segmentation\", \"segmentation\", \"self\", \"self\", \"self\", \"self\", \"self\", \"self\", \"self\", \"sensation\", \"sense\", \"sense\", \"sense\", \"sense\", \"sense\", \"sense\", \"sense\", \"sentence\", \"sentence\", \"sentence\", \"sentence\", \"sentiment\", \"sentiment\", \"sentiment\", \"seq\", \"seq\", \"seq\", \"seqmix\", \"sequence\", \"sequence\", \"sequence\", \"sequence\", \"sequence\", \"sequence\", \"sequence\", \"server\", \"server\", \"server\", \"server\", \"server\", \"service\", \"service\", \"service\", \"service\", \"service\", \"service\", \"service\", \"sgx\", \"shape\", \"shape\", \"shape\", \"sheet\", \"shield\", \"show\", \"show\", \"show\", \"show\", \"show\", \"show\", \"show\", \"show\", \"show\", \"show\", \"show\", \"sift\", \"significance\", \"simile\", \"simulation\", \"simulation\", \"simulation\", \"simulation\", \"simulation\", \"simulation\", \"simulation\", \"site\", \"site\", \"site\", \"site\", \"site\", \"sketch\", \"skill\", \"skill\", \"skill\", \"skill\", \"slack\", \"slot\", \"slot\", \"slot\", \"slot\", \"slot\", \"smell\", \"software\", \"software\", \"software\", \"software\", \"software\", \"software\", \"software\", \"software\", \"solap\", \"solidification\", \"solution\", \"solution\", \"solution\", \"solution\", \"solution\", \"solution\", \"solution\", \"solution\", \"solution\", \"solution\", \"solution\", \"solver\", \"solver\", \"solver\", \"solver\", \"source\", \"source\", \"source\", \"source\", \"source\", \"source\", \"source\", \"source\", \"source\", \"source\", \"space\", \"space\", \"space\", \"space\", \"space\", \"space\", \"space\", \"space\", \"space\", \"space\", \"spam\", \"sparse\", \"sparse\", \"sparse\", \"sparse\", \"sparse\", \"spline\", \"sqrt\", \"squeeze\", \"srl\", \"ssd\", \"stare\", \"state\", \"state\", \"state\", \"state\", \"state\", \"state\", \"state\", \"state\", \"state\", \"state\", \"stego\", \"stereo\", \"stiffness\", \"stock\", \"stock\", \"storage\", \"storage\", \"storage\", \"storage\", \"storage\", \"story\", \"story\", \"story\", \"story\", \"story\", \"strategy\", \"strategy\", \"strategy\", \"strategy\", \"strategy\", \"strategy\", \"strategy\", \"strategy\", \"strategy\", \"strategy\", \"struct\", \"structure\", \"structure\", \"structure\", \"structure\", \"structure\", \"structure\", \"structure\", \"structure\", \"structure\", \"stt\", \"study\", \"study\", \"study\", \"study\", \"study\", \"study\", \"study\", \"study\", \"study\", \"study\", \"study\", \"suas\", \"subjectivity\", \"subjectivity\", \"subpacketization\", \"subspace\", \"subspace\", \"subtrees\", \"sum\", \"sum\", \"sum\", \"sum\", \"summarization\", \"summarization\", \"summarization\", \"summarization\", \"summary\", \"supervisor\", \"surface\", \"surface\", \"surface\", \"surface\", \"surface\", \"surface\", \"surface\", \"surgery\", \"surprisal\", \"svd\", \"swap\", \"swap\", \"swarm\", \"synchronization\", \"synchronization\", \"synchronization\", \"synchronization\", \"synopsis\", \"system\", \"system\", \"system\", \"system\", \"system\", \"system\", \"system\", \"system\", \"system\", \"system\", \"system\", \"t\", \"tanh\", \"task\", \"task\", \"task\", \"task\", \"task\", \"task\", \"task\", \"task\", \"task\", \"task\", \"tasm\", \"taxon\", \"teacher\", \"technique\", \"technique\", \"technique\", \"technique\", \"technique\", \"technique\", \"technique\", \"technique\", \"technique\", \"technique\", \"technique\", \"tensor\", \"tensor\", \"tensor\", \"tensor\", \"termination\", \"termination\", \"text\", \"text\", \"text\", \"text\", \"text\", \"text\", \"text\", \"text\", \"texture\", \"throughput\", \"throughput\", \"throughput\", \"throughput\", \"tilde\", \"time\", \"time\", \"time\", \"time\", \"time\", \"time\", \"time\", \"time\", \"time\", \"time\", \"time\", \"tm\", \"tolerance\", \"tolerance\", \"tolerance\", \"tool\", \"tool\", \"tool\", \"tool\", \"tool\", \"tool\", \"tool\", \"tool\", \"tool\", \"tool\", \"tool\", \"topic\", \"topic\", \"topic\", \"topic\", \"topic\", \"topic\", \"topic\", \"topology\", \"topology\", \"topology\", \"topology\", \"tour\", \"tower\", \"tower\", \"training\", \"training\", \"training\", \"training\", \"training\", \"training\", \"training\", \"training\", \"trajectory\", \"trajectory\", \"trajectory\", \"trajectory\", \"trajectory\", \"trajectory\", \"transaction\", \"transaction\", \"transaction\", \"transducer\", \"transfer\", \"transfer\", \"transfer\", \"transfer\", \"transfer\", \"transfer\", \"transfer\", \"transformer\", \"transformer\", \"translation\", \"translation\", \"translation\", \"translation\", \"translation\", \"transshipment\", \"travel\", \"travel\", \"treebank\", \"triangulation\", \"triangulation\", \"triplet\", \"tss\", \"tx\", \"type\", \"type\", \"type\", \"type\", \"type\", \"type\", \"type\", \"type\", \"type\", \"type\", \"type\", \"uncertainty\", \"uncertainty\", \"uncertainty\", \"uncertainty\", \"uncertainty\", \"uncertainty\", \"use\", \"use\", \"use\", \"use\", \"use\", \"use\", \"use\", \"use\", \"use\", \"use\", \"use\", \"utterance\", \"utterance\", \"utterance\", \"utterance\", \"utterance\", \"v\", \"v\", \"v\", \"v\", \"value\", \"value\", \"value\", \"value\", \"value\", \"value\", \"value\", \"value\", \"value\", \"value\", \"value\", \"varepsilon\", \"varepsilon\", \"vehicle\", \"vehicle\", \"vehicle\", \"vehicle\", \"vehicle\", \"vertex\", \"vertex\", \"vesicle\", \"victim\", \"video\", \"video\", \"video\", \"video\", \"video\", \"video\", \"video\", \"video\", \"viscoll\", \"visualization\", \"visualization\", \"vmg\", \"vn\", \"vp\", \"vqa\", \"w\", \"w\", \"w\", \"w\", \"welfare\", \"wheeze\", \"wireless\", \"wireless\", \"wireless\", \"wireless\", \"wireless\", \"wmt\", \"wmt\", \"word\", \"word\", \"word\", \"word\", \"word\", \"word\", \"work\", \"work\", \"work\", \"work\", \"work\", \"work\", \"work\", \"work\", \"work\", \"work\", \"workload\", \"workload\", \"workload\", \"workload\", \"workload\", \"wsd\", \"x\", \"x\", \"x\", \"x\", \"x\", \"x\", \"x\", \"x\", \"xel\", \"xglue\"]}, \"R\": 30, \"lambda.step\": 0.01, \"plot.opts\": {\"xlab\": \"PC1\", \"ylab\": \"PC2\"}, \"topic.order\": [1, 2, 6, 10, 4, 9, 11, 8, 7, 3, 5]};\n",
              "\n",
              "function LDAvis_load_lib(url, callback){\n",
              "  var s = document.createElement('script');\n",
              "  s.src = url;\n",
              "  s.async = true;\n",
              "  s.onreadystatechange = s.onload = callback;\n",
              "  s.onerror = function(){console.warn(\"failed to load library \" + url);};\n",
              "  document.getElementsByTagName(\"head\")[0].appendChild(s);\n",
              "}\n",
              "\n",
              "if(typeof(LDAvis) !== \"undefined\"){\n",
              "   // already loaded: just create the visualization\n",
              "   !function(LDAvis){\n",
              "       new LDAvis(\"#\" + \"ldavis_el1381396954732981284681078186\", ldavis_el1381396954732981284681078186_data);\n",
              "   }(LDAvis);\n",
              "}else if(typeof define === \"function\" && define.amd){\n",
              "   // require.js is available: use it to load d3/LDAvis\n",
              "   require.config({paths: {d3: \"https://d3js.org/d3.v5\"}});\n",
              "   require([\"d3\"], function(d3){\n",
              "      window.d3 = d3;\n",
              "      LDAvis_load_lib(\"https://cdn.jsdelivr.net/gh/bmabey/pyLDAvis@3.3.1/pyLDAvis/js/ldavis.v3.0.0.js\", function(){\n",
              "        new LDAvis(\"#\" + \"ldavis_el1381396954732981284681078186\", ldavis_el1381396954732981284681078186_data);\n",
              "      });\n",
              "    });\n",
              "}else{\n",
              "    // require.js not available: dynamically load d3 & LDAvis\n",
              "    LDAvis_load_lib(\"https://d3js.org/d3.v5.js\", function(){\n",
              "         LDAvis_load_lib(\"https://cdn.jsdelivr.net/gh/bmabey/pyLDAvis@3.3.1/pyLDAvis/js/ldavis.v3.0.0.js\", function(){\n",
              "                 new LDAvis(\"#\" + \"ldavis_el1381396954732981284681078186\", ldavis_el1381396954732981284681078186_data);\n",
              "            })\n",
              "         });\n",
              "}\n",
              "</script>"
            ],
            "text/plain": [
              "PreparedData(topic_coordinates=              x         y  topics  cluster       Freq\n",
              "topic                                                \n",
              "0     -0.197909  0.006879       1        1  24.759680\n",
              "1     -0.183825  0.009255       2        1  20.735191\n",
              "5      0.082144 -0.059629       3        1  11.817808\n",
              "9      0.034895 -0.044864       4        1   8.460808\n",
              "3      0.012964 -0.062326       5        1   7.943849\n",
              "8     -0.025013 -0.080682       6        1   7.371619\n",
              "10    -0.100846  0.047791       7        1   5.371090\n",
              "7      0.063052  0.183977       8        1   4.596480\n",
              "6      0.094423 -0.066425       9        1   4.130299\n",
              "2      0.105557 -0.027123      10        1   3.166557\n",
              "4      0.114558  0.093147      11        1   1.646619, topic_info=         Term        Freq       Total Category  logprob  loglift\n",
              "23       task  968.000000  968.000000  Default  30.0000  30.0000\n",
              "216      game  144.000000  144.000000  Default  29.0000  29.0000\n",
              "4        data  879.000000  879.000000  Default  28.0000  28.0000\n",
              "83     system  725.000000  725.000000  Default  27.0000  27.0000\n",
              "10   language  912.000000  912.000000  Default  26.0000  26.0000\n",
              "..        ...         ...         ...      ...      ...      ...\n",
              "198   network    6.363853  480.072578  Topic11  -5.2925  -0.2169\n",
              "189      time    5.993156  437.676803  Topic11  -5.3525  -0.1844\n",
              "136     point    5.333771  170.157728  Topic11  -5.4691   0.6438\n",
              "28       word    5.306895  336.543155  Topic11  -5.4741  -0.0433\n",
              "10   language    5.215490  912.892684  Topic11  -5.4915  -1.0585\n",
              "\n",
              "[830 rows x 6 columns], token_table=      Topic      Freq          Term\n",
              "term                               \n",
              "5469      8  0.916927            ab\n",
              "1402      1  0.901897          absa\n",
              "4506      3  0.158738  acceleration\n",
              "4506      6  0.714320  acceleration\n",
              "4506      7  0.079369  acceleration\n",
              "...     ...       ...           ...\n",
              "433       8  0.323182             x\n",
              "433       9  0.124301             x\n",
              "433      10  0.062150             x\n",
              "2210     11  0.683663           xel\n",
              "2277      7  0.875102         xglue\n",
              "\n",
              "[2216 rows x 3 columns], R=30, lambda_step=0.01, plot_opts={'xlab': 'PC1', 'ylab': 'PC2'}, topic_order=[1, 2, 6, 10, 4, 9, 11, 8, 7, 3, 5])"
            ]
          },
          "metadata": {
            "tags": []
          },
          "execution_count": 46
        }
      ]
    },
    {
      "cell_type": "code",
      "metadata": {
        "id": "Je87VFwTLsFG",
        "colab": {
          "base_uri": "https://localhost:8080/"
        },
        "outputId": "12d2032e-4e77-46ce-90f1-e8805d9d9a0d"
      },
      "source": [
        "# Compute Perplexity\n",
        "print('\\nPerplexity: ', lda_model.log_perplexity(doc_term_matrix))  \n",
        "# a measure of how good the model is. lower the better.\n",
        "\n",
        "# Compute Coherence Score\n",
        "coherence_model_lda = CoherenceModel(model=lda_model, texts=doc_clean, dictionary=dictionary, coherence='c_v')\n",
        "coherence_lda = coherence_model_lda.get_coherence()\n",
        "print('\\nCoherence Score: ', coherence_lda)"
      ],
      "execution_count": 47,
      "outputs": [
        {
          "output_type": "stream",
          "text": [
            "/usr/local/lib/python3.7/dist-packages/gensim/models/ldamodel.py:1077: DeprecationWarning: Calling np.sum(generator) is deprecated, and in the future will give a different result. Use np.sum(np.fromiter(generator)) or the python sum builtin instead.\n",
            "  score += np.sum(cnt * logsumexp(Elogthetad + Elogbeta[:, int(id)]) for id, cnt in doc)\n"
          ],
          "name": "stderr"
        },
        {
          "output_type": "stream",
          "text": [
            "\n",
            "Perplexity:  -7.162368263755333\n",
            "\n",
            "Coherence Score:  0.3349221464707734\n"
          ],
          "name": "stdout"
        }
      ]
    },
    {
      "cell_type": "code",
      "metadata": {
        "id": "2hmy53MhNE8n"
      },
      "source": [
        "import numpy as np"
      ],
      "execution_count": 54,
      "outputs": []
    },
    {
      "cell_type": "markdown",
      "metadata": {
        "id": "ChsNtVNqRmSb"
      },
      "source": [
        "### SVM on LDA output\n",
        "The probability distribution for each abstract over the 11 topics can be used as a feature representation of the abstract\n",
        "\n",
        "Try SVM on this engineered feature to see its performance"
      ]
    },
    {
      "cell_type": "code",
      "metadata": {
        "colab": {
          "base_uri": "https://localhost:8080/"
        },
        "id": "_4kSFy7hSMUQ",
        "outputId": "b413c8b7-0fc1-425c-8e53-393de31b4a5c"
      },
      "source": [
        "doc2topic = lda_model.get_document_topics(doc_term_matrix, minimum_probability=0)\n",
        "doc2topic[0]"
      ],
      "execution_count": 48,
      "outputs": [
        {
          "output_type": "execute_result",
          "data": {
            "text/plain": [
              "[(0, 0.44728807),\n",
              " (1, 0.0011041806),\n",
              " (2, 0.000253319),\n",
              " (3, 0.00045880914),\n",
              " (4, 0.2971512),\n",
              " (5, 0.0019241971),\n",
              " (6, 0.0012755963),\n",
              " (7, 0.00033436264),\n",
              " (8, 0.0004657108),\n",
              " (9, 0.00051435427),\n",
              " (10, 0.24923019)]"
            ]
          },
          "metadata": {
            "tags": []
          },
          "execution_count": 48
        }
      ]
    },
    {
      "cell_type": "code",
      "metadata": {
        "colab": {
          "base_uri": "https://localhost:8080/"
        },
        "id": "fruFGrQbSQV6",
        "outputId": "82d15e06-fd56-4c51-98d3-cb8aaa7a0b76"
      },
      "source": [
        "#get doc2topic into correct form for using sklearn\n",
        "docTopicList = [[col[1] for col in row] for row in doc2topic]\n",
        "docTopicList[0]"
      ],
      "execution_count": 52,
      "outputs": [
        {
          "output_type": "execute_result",
          "data": {
            "text/plain": [
              "[0.44733825,\n",
              " 0.0011041806,\n",
              " 0.000253319,\n",
              " 0.00045880914,\n",
              " 0.2971482,\n",
              " 0.0019241971,\n",
              " 0.0012755963,\n",
              " 0.00033436264,\n",
              " 0.0004657108,\n",
              " 0.00051435427,\n",
              " 0.24918304]"
            ]
          },
          "metadata": {
            "tags": []
          },
          "execution_count": 52
        }
      ]
    },
    {
      "cell_type": "code",
      "metadata": {
        "colab": {
          "base_uri": "https://localhost:8080/"
        },
        "id": "tb4JeECOTT75",
        "outputId": "5ed75f48-42aa-45eb-eb9e-92493eed3624"
      },
      "source": [
        "docTopicArr = np.array(docTopicList)\n",
        "#get labels\n",
        "labels = data['label1'].values\n",
        "docTopicArr.shape, labels.shape"
      ],
      "execution_count": 59,
      "outputs": [
        {
          "output_type": "execute_result",
          "data": {
            "text/plain": [
              "((1450, 11), (1450,))"
            ]
          },
          "metadata": {
            "tags": []
          },
          "execution_count": 59
        }
      ]
    },
    {
      "cell_type": "code",
      "metadata": {
        "colab": {
          "base_uri": "https://localhost:8080/"
        },
        "id": "G10pwujeXFd4",
        "outputId": "56f6da3f-1135-4f45-85d3-6a1693c67ea8"
      },
      "source": [
        "#store in pandas dataframe to clean data if needed\n",
        "docTopicDf = pd.DataFrame(np.hstack((docTopicArr, labels.reshape(-1,1))))\n",
        "docTopicDf.dropna(inplace=True)\n",
        "docTopicDf.info()"
      ],
      "execution_count": 76,
      "outputs": [
        {
          "output_type": "stream",
          "text": [
            "<class 'pandas.core.frame.DataFrame'>\n",
            "Int64Index: 1327 entries, 0 to 1449\n",
            "Data columns (total 12 columns):\n",
            " #   Column  Non-Null Count  Dtype  \n",
            "---  ------  --------------  -----  \n",
            " 0   0       1327 non-null   float64\n",
            " 1   1       1327 non-null   float64\n",
            " 2   2       1327 non-null   float64\n",
            " 3   3       1327 non-null   float64\n",
            " 4   4       1327 non-null   float64\n",
            " 5   5       1327 non-null   float64\n",
            " 6   6       1327 non-null   float64\n",
            " 7   7       1327 non-null   float64\n",
            " 8   8       1327 non-null   float64\n",
            " 9   9       1327 non-null   float64\n",
            " 10  10      1327 non-null   float64\n",
            " 11  11      1327 non-null   float64\n",
            "dtypes: float64(12)\n",
            "memory usage: 134.8 KB\n"
          ],
          "name": "stdout"
        }
      ]
    },
    {
      "cell_type": "code",
      "metadata": {
        "id": "qgD1HG-daiFk"
      },
      "source": [
        "#there are some null classes "
      ],
      "execution_count": null,
      "outputs": []
    },
    {
      "cell_type": "code",
      "metadata": {
        "id": "SKyf4vT0UQjB"
      },
      "source": [
        "from sklearn import svm\n",
        "from sklearn.model_selection import train_test_split\n",
        "from sklearn import metrics"
      ],
      "execution_count": 65,
      "outputs": []
    },
    {
      "cell_type": "code",
      "metadata": {
        "id": "3mOl10FHWSuy"
      },
      "source": [
        "#split data into test and train\n",
        "X_train, X_test, y_train, y_test = train_test_split(docTopicDf.iloc[:, :11].values, docTopicDf.iloc[:, 11].values, test_size=0.2, random_state=1)"
      ],
      "execution_count": 78,
      "outputs": []
    },
    {
      "cell_type": "code",
      "metadata": {
        "colab": {
          "base_uri": "https://localhost:8080/"
        },
        "id": "HzggySbQV5tH",
        "outputId": "7151b5b9-c33e-454c-8bc1-351f037af2aa"
      },
      "source": [
        "#Create a svm Classifier\n",
        "clf = svm.SVC(kernel='rbf') # Linear Kernel\n",
        "\n",
        "#Train the model using the training sets\n",
        "clf.fit(X_train, y_train)\n",
        "\n",
        "#predict response for training set\n",
        "y_pred_train = clf.predict(X_train)\n",
        "\n",
        "\n",
        "# Model Accuracy: how often is the classifier correct?\n",
        "print(\"Train Accuracy:\",metrics.accuracy_score(y_train, y_pred_train))\n",
        "\n",
        "#classification report\n",
        "print(metrics.classification_report(y_train, y_pred_train))\n",
        "\n",
        "# confusion matrix\n",
        "metrics.confusion_matrix(y_train, y_pred_train)"
      ],
      "execution_count": 94,
      "outputs": [
        {
          "output_type": "stream",
          "text": [
            "Train Accuracy: 0.6098020735155514\n",
            "              precision    recall  f1-score   support\n",
            "\n",
            "         1.0       0.00      0.00      0.00        50\n",
            "         2.0       0.28      0.63      0.39       110\n",
            "         3.0       0.00      0.00      0.00        22\n",
            "         4.0       0.26      0.41      0.31        93\n",
            "         5.0       0.00      0.00      0.00        46\n",
            "         6.0       0.00      0.00      0.00        40\n",
            "         7.0       0.00      0.00      0.00        21\n",
            "         8.0       0.00      0.00      0.00        48\n",
            "         9.0       0.00      0.00      0.00         9\n",
            "        10.0       0.00      0.00      0.00        57\n",
            "        11.0       0.81      0.96      0.88       565\n",
            "\n",
            "    accuracy                           0.61      1061\n",
            "   macro avg       0.12      0.18      0.14      1061\n",
            "weighted avg       0.48      0.61      0.53      1061\n",
            "\n"
          ],
          "name": "stdout"
        },
        {
          "output_type": "stream",
          "text": [
            "/usr/local/lib/python3.7/dist-packages/sklearn/metrics/_classification.py:1272: UndefinedMetricWarning: Precision and F-score are ill-defined and being set to 0.0 in labels with no predicted samples. Use `zero_division` parameter to control this behavior.\n",
            "  _warn_prf(average, modifier, msg_start, len(result))\n"
          ],
          "name": "stderr"
        },
        {
          "output_type": "execute_result",
          "data": {
            "text/plain": [
              "array([[  0,  25,   0,  10,   0,   0,   0,   0,   0,   0,  15],\n",
              "       [  0,  69,   0,  22,   0,   0,   0,   0,   0,   0,  19],\n",
              "       [  0,  10,   0,   4,   0,   0,   0,   0,   0,   0,   8],\n",
              "       [  0,  33,   0,  38,   0,   0,   0,   0,   0,   0,  22],\n",
              "       [  0,  21,   0,  11,   0,   0,   0,   0,   0,   0,  14],\n",
              "       [  0,  15,   0,   9,   0,   0,   0,   0,   0,   0,  16],\n",
              "       [  0,   5,   0,  11,   0,   0,   0,   0,   0,   0,   5],\n",
              "       [  0,  22,   0,  17,   0,   0,   0,   0,   0,   0,   9],\n",
              "       [  0,   2,   0,   3,   0,   0,   0,   0,   0,   0,   4],\n",
              "       [  0,  31,   0,  11,   0,   0,   0,   0,   0,   0,  15],\n",
              "       [  0,  12,   0,  13,   0,   0,   0,   0,   0,   0, 540]])"
            ]
          },
          "metadata": {
            "tags": []
          },
          "execution_count": 94
        }
      ]
    },
    {
      "cell_type": "code",
      "metadata": {
        "colab": {
          "base_uri": "https://localhost:8080/"
        },
        "id": "qZCkavpWW7VD",
        "outputId": "dd5682dd-3f4c-4a0f-be56-d7723983d36e"
      },
      "source": [
        "#Predict the response for test dataset\n",
        "y_pred_test = clf.predict(X_test)\n",
        "\n",
        "# Model Accuracy: how often is the classifier correct?\n",
        "print(\"Test Accuracy:\",metrics.accuracy_score(y_test, y_pred_test))\n",
        "\n",
        "#classification report\n",
        "print(metrics.classification_report(y_test, y_pred_test))\n",
        "\n",
        "# confusion matrix\n",
        "metrics.confusion_matrix(y_test, y_pred_test)"
      ],
      "execution_count": 95,
      "outputs": [
        {
          "output_type": "stream",
          "text": [
            "Test Accuracy: 0.5789473684210527\n",
            "              precision    recall  f1-score   support\n",
            "\n",
            "         1.0       0.00      0.00      0.00        20\n",
            "         2.0       0.33      0.54      0.41        39\n",
            "         3.0       0.00      0.00      0.00         8\n",
            "         4.0       0.17      0.26      0.20        23\n",
            "         5.0       0.00      0.00      0.00        10\n",
            "         6.0       0.00      0.00      0.00         9\n",
            "         7.0       0.00      0.00      0.00         2\n",
            "         8.0       0.00      0.00      0.00        11\n",
            "        10.0       0.00      0.00      0.00         9\n",
            "        11.0       0.77      0.94      0.84       135\n",
            "\n",
            "    accuracy                           0.58       266\n",
            "   macro avg       0.13      0.17      0.15       266\n",
            "weighted avg       0.45      0.58      0.51       266\n",
            "\n"
          ],
          "name": "stdout"
        },
        {
          "output_type": "stream",
          "text": [
            "/usr/local/lib/python3.7/dist-packages/sklearn/metrics/_classification.py:1272: UndefinedMetricWarning: Precision and F-score are ill-defined and being set to 0.0 in labels with no predicted samples. Use `zero_division` parameter to control this behavior.\n",
            "  _warn_prf(average, modifier, msg_start, len(result))\n"
          ],
          "name": "stderr"
        },
        {
          "output_type": "execute_result",
          "data": {
            "text/plain": [
              "array([[  0,   7,   0,   4,   0,   0,   0,   0,   0,   9],\n",
              "       [  0,  21,   0,  11,   0,   0,   0,   0,   0,   7],\n",
              "       [  0,   3,   0,   4,   0,   0,   0,   0,   0,   1],\n",
              "       [  0,   8,   0,   6,   0,   0,   0,   0,   0,   9],\n",
              "       [  0,   4,   0,   2,   0,   0,   0,   0,   0,   4],\n",
              "       [  0,   4,   0,   3,   0,   0,   0,   0,   0,   2],\n",
              "       [  0,   1,   0,   0,   0,   0,   0,   0,   0,   1],\n",
              "       [  0,   5,   0,   2,   0,   0,   0,   0,   0,   4],\n",
              "       [  0,   5,   0,   2,   0,   0,   0,   0,   0,   2],\n",
              "       [  0,   6,   0,   2,   0,   0,   0,   0,   0, 127]])"
            ]
          },
          "metadata": {
            "tags": []
          },
          "execution_count": 95
        }
      ]
    },
    {
      "cell_type": "code",
      "metadata": {
        "id": "MbjG0Kclfe1b"
      },
      "source": [
        ""
      ],
      "execution_count": null,
      "outputs": []
    }
  ]
}
