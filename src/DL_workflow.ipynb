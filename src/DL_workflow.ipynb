{
 "cells": [
  {
   "cell_type": "code",
   "execution_count": 36,
   "id": "3d7152e9",
   "metadata": {},
   "outputs": [],
   "source": [
    "import torch\n",
    "import torch.nn as nn\n",
    "import torch.nn.functional as F\n",
    "from torch import optim\n",
    "import numpy as np\n",
    "from LanguageModels.Word2Vec import Word2Vec\n",
    "from Preprocessing.LemmatizerPreprocessor import LemmatizerPreprocessor\n",
    "from Preprocessing.DataLoader import DataLoader\n",
    "from sklearn.model_selection import train_test_split\n",
    "import random\n",
    "import tqdm"
   ]
  },
  {
   "cell_type": "code",
   "execution_count": 5,
   "id": "ebd956c1",
   "metadata": {},
   "outputs": [],
   "source": [
    "data = DataLoader('../data/EMNLP2020.csv').load()\n",
    "lp = LemmatizerPreprocessor()\n",
    "w2v = Word2Vec(path='../data/glove.6B/glove.6B.200d.txt')"
   ]
  },
  {
   "cell_type": "code",
   "execution_count": 6,
   "id": "b41f2bae",
   "metadata": {},
   "outputs": [
    {
     "name": "stdout",
     "output_type": "stream",
     "text": [
      "1450\n",
      "1450\n"
     ]
    }
   ],
   "source": [
    "# multiclass case\n",
    "data, label = w2v.featurize(data, lp, mode='multiclass')\n",
    "print(len(data))\n",
    "print(len(label))\n",
    "label = label.ravel()"
   ]
  },
  {
   "cell_type": "code",
   "execution_count": 9,
   "id": "1fb8d7a5",
   "metadata": {},
   "outputs": [
    {
     "name": "stdout",
     "output_type": "stream",
     "text": [
      "(1160, 200) (290, 200) (1160,) (290,)\n"
     ]
    }
   ],
   "source": [
    "X_train, X_test, y_train, y_test = train_test_split(data, label, test_size=0.2, random_state=42, stratify=label)\n",
    "print(X_train.shape, X_test.shape, y_train.shape, y_test.shape)"
   ]
  },
  {
   "cell_type": "code",
   "execution_count": 24,
   "id": "7297fe4c",
   "metadata": {},
   "outputs": [
    {
     "data": {
      "text/plain": [
       "array([ 1,  2,  3,  4,  5,  6,  7,  8,  9, 10, 11])"
      ]
     },
     "execution_count": 24,
     "metadata": {},
     "output_type": "execute_result"
    }
   ],
   "source": [
    "np.unique(y_train)"
   ]
  },
  {
   "cell_type": "code",
   "execution_count": 135,
   "id": "772cdcde",
   "metadata": {},
   "outputs": [],
   "source": [
    "class FeedForward(nn.Module):\n",
    "    def __init__(self, dim_i, dim_h, dim_o):\n",
    "        super(FeedForward, self).__init__()\n",
    "        self.linear1 = nn.Linear(dim_i, dim_h)\n",
    "        self.relu = nn.ReLU()\n",
    "        self.tanh = nn.Tanh()   \n",
    "        self.linear2 = nn.Linear(dim_h, 100)\n",
    "        self.linear3 = nn.Linear(100, dim_o)\n",
    "        self.logsoftmax = nn.LogSoftmax(dim=0)\n",
    "        self.dropout1 = nn.Dropout(0.5)\n",
    "        self.dropout2 = nn.Dropout(0.2)\n",
    "    \n",
    "    def forward(self, x):\n",
    "        out = self.linear1(x)\n",
    "        out = self.dropout1(self.relu(out))\n",
    "        out = self.linear2(out)\n",
    "        out = self.dropout2(self.relu(out))\n",
    "        out = self.linear3(out)\n",
    "        output = self.logsoftmax(out)\n",
    "        return output\n",
    "    \n",
    "num_classes  = 11\n",
    "num_hidden   = 500\n",
    "num_features = 200\n",
    "\n",
    "ffnn = FeedForward(num_features, num_hidden, num_classes)\n",
    "optimizer = optim.SGD(ffnn.parameters(), lr=0.001, momentum=0.9)"
   ]
  },
  {
   "cell_type": "code",
   "execution_count": 139,
   "id": "a27071ac",
   "metadata": {},
   "outputs": [
    {
     "name": "stdout",
     "output_type": "stream",
     "text": [
      "loss on epoch 0: 788.932251\n",
      "loss on epoch 10: 779.399597\n",
      "loss on epoch 20: 706.478577\n",
      "loss on epoch 30: 640.999207\n",
      "loss on epoch 40: 670.406128\n",
      "loss on epoch 50: 571.681824\n",
      "loss on epoch 60: 527.598938\n",
      "loss on epoch 70: 517.100647\n",
      "loss on epoch 80: 446.766144\n",
      "loss on epoch 90: 430.587891\n",
      "loss on epoch 100: 387.150879\n",
      "loss on epoch 110: 392.147644\n",
      "loss on epoch 120: 369.389984\n",
      "loss on epoch 130: 362.253418\n",
      "loss on epoch 140: 269.341736\n",
      "loss on epoch 150: 299.595825\n",
      "loss on epoch 160: 282.319580\n",
      "loss on epoch 170: 244.171799\n",
      "loss on epoch 180: 251.633331\n",
      "loss on epoch 190: 288.169037\n",
      "loss on epoch 200: 219.008392\n",
      "loss on epoch 210: 207.348801\n",
      "loss on epoch 220: 175.197266\n",
      "loss on epoch 230: 196.610489\n",
      "loss on epoch 240: 194.478577\n",
      "loss on epoch 250: 103.167023\n",
      "loss on epoch 260: 142.024399\n",
      "loss on epoch 270: 152.400650\n",
      "loss on epoch 280: 153.823532\n",
      "loss on epoch 290: 119.545250\n",
      "loss on epoch 300: 105.711578\n",
      "loss on epoch 310: 161.403122\n",
      "loss on epoch 320: 92.535728\n",
      "loss on epoch 330: 96.332237\n",
      "loss on epoch 340: 95.575729\n",
      "loss on epoch 350: 93.762321\n",
      "loss on epoch 360: 76.139252\n",
      "loss on epoch 370: 125.287437\n",
      "loss on epoch 380: 105.632378\n",
      "loss on epoch 390: 116.094940\n",
      "loss on epoch 400: 51.758682\n",
      "loss on epoch 410: 86.795685\n",
      "loss on epoch 420: 100.974693\n",
      "loss on epoch 430: 86.180222\n",
      "loss on epoch 440: 133.337372\n",
      "loss on epoch 450: 86.430580\n",
      "loss on epoch 460: 106.481964\n",
      "loss on epoch 470: 113.584770\n",
      "loss on epoch 480: 142.578033\n",
      "loss on epoch 490: 62.911129\n"
     ]
    }
   ],
   "source": [
    "for epoch in range(500):\n",
    "    total_loss = 0.0\n",
    "    shuffled_i = list(range(0,len(y_train)))\n",
    "    random.shuffle(shuffled_i)\n",
    "    \n",
    "    for i in shuffled_i:\n",
    "        x = torch.from_numpy(X_train[i]).float()\n",
    "        y_onehot = torch.zeros(num_classes)\n",
    "        y_onehot[y_train[i]-1] = 1\n",
    "\n",
    "        ffnn.zero_grad()\n",
    "        logProbs = ffnn.forward(x)\n",
    "        loss = torch.neg(logProbs).dot(y_onehot)\n",
    "        total_loss += loss\n",
    "        \n",
    "        loss.backward()\n",
    "        optimizer.step()\n",
    "    if epoch % 10 == 0:    \n",
    "      print(\"loss on epoch %i: %f\" % (epoch, total_loss))"
   ]
  },
  {
   "cell_type": "code",
   "execution_count": 140,
   "id": "406fa5dc",
   "metadata": {},
   "outputs": [
    {
     "name": "stdout",
     "output_type": "stream",
     "text": [
      "number of errors: 37 out of 1160\n",
      "Accuracy: 96.8103448275862\n"
     ]
    }
   ],
   "source": [
    "# Evaluate on the training set:\n",
    "num_errors = 0\n",
    "for i in range(len(y_train)):\n",
    "    x = torch.from_numpy(X_train[i]).float()\n",
    "    y = y_train[i]\n",
    "    logProbs = ffnn.forward(x)\n",
    "    prediction = torch.argmax(logProbs) + 1\n",
    "    if y != prediction:\n",
    "        num_errors += 1\n",
    "        \n",
    "print(\"number of errors: {} out of {}\".format(num_errors, len(y_train)))\n",
    "print('Accuracy: {}'.format(((len(y_train)-num_errors)/len(y_train)) * 100))"
   ]
  },
  {
   "cell_type": "code",
   "execution_count": 141,
   "id": "b271ad96",
   "metadata": {},
   "outputs": [
    {
     "name": "stdout",
     "output_type": "stream",
     "text": [
      "number of errors: 112 out of 290\n",
      "Accuracy: 61.37931034482759\n"
     ]
    }
   ],
   "source": [
    "# Evaluate on the testing set:\n",
    "num_errors = 0\n",
    "for i in range(len(y_test)):\n",
    "    x = torch.from_numpy(X_test[i]).float()\n",
    "    y = y_test[i]\n",
    "    logProbs = ffnn.forward(x)\n",
    "    prediction = torch.argmax(logProbs) + 1\n",
    "    if y != prediction:\n",
    "        num_errors += 1\n",
    "        \n",
    "print(\"number of errors: {} out of {}\".format(num_errors, len(y_test)))\n",
    "print('Accuracy: {}'.format(((len(y_test)-num_errors)/len(y_test)) * 100))"
   ]
  },
  {
   "cell_type": "code",
   "execution_count": null,
   "id": "3e085be7",
   "metadata": {},
   "outputs": [],
   "source": []
  }
 ],
 "metadata": {
  "kernelspec": {
   "display_name": "Python 3",
   "language": "python",
   "name": "python3"
  },
  "language_info": {
   "codemirror_mode": {
    "name": "ipython",
    "version": 3
   },
   "file_extension": ".py",
   "mimetype": "text/x-python",
   "name": "python",
   "nbconvert_exporter": "python",
   "pygments_lexer": "ipython3",
   "version": "3.6.13"
  }
 },
 "nbformat": 4,
 "nbformat_minor": 5
}
