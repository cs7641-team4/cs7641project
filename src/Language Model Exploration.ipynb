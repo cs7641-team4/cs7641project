{
 "cells": [
  {
   "cell_type": "code",
   "execution_count": 8,
   "id": "provincial-failing",
   "metadata": {},
   "outputs": [],
   "source": [
    "from LanguageModels.BERT import BERT\n",
    "from LanguageModels.Word2Vec import Word2Vec\n",
    "from LanguageModels.BagOfWords import BagOfWords\n",
    "from LanguageModels.CustomWord2Vec import CustomWord2Vec\n",
    "from Preprocessing.LemmatizerPreprocessor import LemmatizerPreprocessor\n",
    "from Preprocessing.DataLoader import DataLoader\n",
    "import numpy as np\n",
    "import matplotlib.pyplot as plt\n",
    "\n",
    "from sklearn.svm import SVC\n",
    "from sklearn.svm import LinearSVC\n",
    "from sklearn.pipeline import make_pipeline\n",
    "from sklearn.preprocessing import StandardScaler\n",
    "from sklearn.metrics import accuracy_score\n",
    "\n",
    "from sklearn.model_selection import train_test_split\n",
    "from sklearn.metrics import classification_report\n",
    "\n",
    "from sklearn.manifold import TSNE\n",
    "import umap\n",
    "\n",
    "import torch\n",
    "\n",
    "%matplotlib notebook"
   ]
  },
  {
   "cell_type": "code",
   "execution_count": 9,
   "id": "disabled-cigarette",
   "metadata": {},
   "outputs": [],
   "source": [
    "is_cuda = True\n",
    "is_cuda = is_cuda and torch.cuda.is_available() # will turn off cuda if the machine doesnt have a GPU"
   ]
  },
  {
   "cell_type": "code",
   "execution_count": 10,
   "id": "future-manor",
   "metadata": {},
   "outputs": [],
   "source": [
    "# Load data\n",
    "data = DataLoader('../data/EMNLP2020.csv').load()"
   ]
  },
  {
   "cell_type": "code",
   "execution_count": 11,
   "id": "reduced-battlefield",
   "metadata": {},
   "outputs": [],
   "source": [
    "# Load preprocessor\n",
    "lp = LemmatizerPreprocessor()"
   ]
  },
  {
   "cell_type": "code",
   "execution_count": 93,
   "id": "alpine-proof",
   "metadata": {},
   "outputs": [],
   "source": [
    "## Bag Of Words\n",
    "lm = BagOfWords()\n",
    "\n",
    "## Custom word2vec\n",
    "# lm = CustomWord2Vec('../data/customw2v.p')\n",
    "\n",
    "## Custom word2vec\n",
    "# lm = CustomWord2Vec('../data/customw2v_50.p')\n",
    "\n",
    "## W2V\n",
    "# lm = Word2Vec(path='../data/glove.6B/glove.6B.200d.txt') \n",
    "\n",
    "## Word2Vec Pretrained + Finetuned\n",
    "# lm = CustomWord2Vec('../data/glove.6B/glove.6B.200d.finetuned.p')\n",
    "\n",
    "## Bert\n",
    "# lm = BERT(cuda = is_cuda)\n",
    "\n",
    "## SciBert\n",
    "# lm = BERT(cuda = is_cuda, path = 'allenai/scibert_scivocab_uncased')\n"
   ]
  },
  {
   "cell_type": "code",
   "execution_count": 94,
   "id": "technological-tuner",
   "metadata": {
    "scrolled": true
   },
   "outputs": [
    {
     "name": "stdout",
     "output_type": "stream",
     "text": [
      "(1450, 10861) (1450, 1)\n",
      "(750, 6202) (750, 1) [10]\n",
      "(1450, 10861) (1450, 1) [1]\n"
     ]
    }
   ],
   "source": [
    "# apply preprocessing and vectorization to create text features\n",
    "\n",
    "#### multilabel case\n",
    "X_multiclass_full, y_multiclass_full = lm.featurize(data, lp, mode='multiclass', remove_neg_samples=False)\n",
    "# X, y = bow.featurize(data, lp, mode='multilabel')\n",
    "\n",
    "print(X_multiclass_full.shape, y_multiclass_full.shape)\n",
    "\n",
    "#### multiclass case\n",
    "X_multiclass, y_multiclass = lm.featurize(data, lp, mode='multiclass', remove_neg_samples=True)\n",
    "# X, y = bow.featurize(data, lp, mode='multiclass')\n",
    "\n",
    "print(X_multiclass.shape, y_multiclass.shape, max(y_multiclass))\n",
    "\n",
    "#### binary case (note 0=in conference, 1=not in conference)\n",
    "X_binary, y_binary = lm.featurize(data, lp, mode='binary')\n",
    "# X, y = bow.featurize(data, lp, mode='binary')\n",
    "\n",
    "print(X_binary.shape, y_binary.shape, max(y_binary))"
   ]
  },
  {
   "cell_type": "markdown",
   "id": "younger-basics",
   "metadata": {},
   "source": [
    "## Test model expressiveness"
   ]
  },
  {
   "cell_type": "markdown",
   "id": "friendly-chemistry",
   "metadata": {},
   "source": [
    "### Binary"
   ]
  },
  {
   "cell_type": "code",
   "execution_count": 95,
   "id": "fifty-bearing",
   "metadata": {},
   "outputs": [],
   "source": [
    "X, y = (X_binary, y_binary)"
   ]
  },
  {
   "cell_type": "code",
   "execution_count": 96,
   "id": "dependent-harrison",
   "metadata": {},
   "outputs": [
    {
     "name": "stdout",
     "output_type": "stream",
     "text": [
      "Training Accuracy:  0.9824922760041195\n",
      "Testing Accuracy:  0.778705636743215\n",
      "              precision    recall  f1-score   support\n",
      "\n",
      "           0       0.79      0.78      0.78       248\n",
      "           1       0.77      0.78      0.77       231\n",
      "\n",
      "    accuracy                           0.78       479\n",
      "   macro avg       0.78      0.78      0.78       479\n",
      "weighted avg       0.78      0.78      0.78       479\n",
      "\n"
     ]
    }
   ],
   "source": [
    "X_train, X_test, y_train, y_test = train_test_split(X, y.reshape(-1,), test_size=0.33, random_state=42, stratify=y)\n",
    "\n",
    "clf = make_pipeline(StandardScaler(), SVC(gamma='auto'))\n",
    "clf.fit(X_train, y_train)\n",
    "print(\"Training Accuracy: \", accuracy_score(y_train, clf.predict(X_train)))\n",
    "print(\"Testing Accuracy: \", accuracy_score(y_test, clf.predict(X_test)))\n",
    "print(classification_report(y_test, clf.predict(X_test)))"
   ]
  },
  {
   "cell_type": "code",
   "execution_count": 97,
   "id": "hollywood-verification",
   "metadata": {},
   "outputs": [],
   "source": [
    "# X_embedded2d = TSNE(n_components=2).fit_transform(X)\n",
    "# X_embedded3d = TSNE(n_components=3).fit_transform(X)\n",
    "\n",
    "# X_embedded2d = umap.UMAP(n_components=2).fit_transform(X)\n",
    "# X_embedded3d = umap.UMAP(n_components=3).fit_transform(X)"
   ]
  },
  {
   "cell_type": "code",
   "execution_count": 98,
   "id": "existing-dealing",
   "metadata": {},
   "outputs": [],
   "source": [
    "# plt.scatter(X_embedded2d[:,0], X_embedded2d[:,1], c=y)"
   ]
  },
  {
   "cell_type": "code",
   "execution_count": 99,
   "id": "returning-dispute",
   "metadata": {},
   "outputs": [],
   "source": [
    "# fig = plt.figure()\n",
    "# ax = fig.add_subplot(projection='3d')\n",
    "# ax.scatter(X_embedded3d[:,0], X_embedded3d[:,1], X_embedded3d[:,2], c=y)"
   ]
  },
  {
   "cell_type": "markdown",
   "id": "spanish-qatar",
   "metadata": {},
   "source": [
    "### Multiclass PO"
   ]
  },
  {
   "cell_type": "code",
   "execution_count": 100,
   "id": "informal-routine",
   "metadata": {},
   "outputs": [],
   "source": [
    "X, y = (X_multiclass, y_multiclass)"
   ]
  },
  {
   "cell_type": "code",
   "execution_count": 101,
   "id": "published-demonstration",
   "metadata": {},
   "outputs": [
    {
     "name": "stdout",
     "output_type": "stream",
     "text": [
      "Training Accuracy:  0.8446215139442231\n",
      "Testing Accuracy:  0.2217741935483871\n",
      "              precision    recall  f1-score   support\n",
      "\n",
      "           1       0.00      0.00      0.00        27\n",
      "           2       0.22      1.00      0.36        55\n",
      "           3       0.00      0.00      0.00        12\n",
      "           4       0.00      0.00      0.00        46\n",
      "           5       0.00      0.00      0.00        21\n",
      "           6       0.00      0.00      0.00        19\n",
      "           7       0.00      0.00      0.00         9\n",
      "           8       0.00      0.00      0.00        23\n",
      "           9       0.00      0.00      0.00         4\n",
      "          10       0.00      0.00      0.00        32\n",
      "\n",
      "    accuracy                           0.22       248\n",
      "   macro avg       0.02      0.10      0.04       248\n",
      "weighted avg       0.05      0.22      0.08       248\n",
      "\n"
     ]
    },
    {
     "name": "stderr",
     "output_type": "stream",
     "text": [
      "C:\\Users\\Ryan\\anaconda3\\envs\\python3_env\\lib\\site-packages\\sklearn\\metrics\\_classification.py:1245: UndefinedMetricWarning: Precision and F-score are ill-defined and being set to 0.0 in labels with no predicted samples. Use `zero_division` parameter to control this behavior.\n",
      "  _warn_prf(average, modifier, msg_start, len(result))\n",
      "C:\\Users\\Ryan\\anaconda3\\envs\\python3_env\\lib\\site-packages\\sklearn\\metrics\\_classification.py:1245: UndefinedMetricWarning: Precision and F-score are ill-defined and being set to 0.0 in labels with no predicted samples. Use `zero_division` parameter to control this behavior.\n",
      "  _warn_prf(average, modifier, msg_start, len(result))\n",
      "C:\\Users\\Ryan\\anaconda3\\envs\\python3_env\\lib\\site-packages\\sklearn\\metrics\\_classification.py:1245: UndefinedMetricWarning: Precision and F-score are ill-defined and being set to 0.0 in labels with no predicted samples. Use `zero_division` parameter to control this behavior.\n",
      "  _warn_prf(average, modifier, msg_start, len(result))\n"
     ]
    }
   ],
   "source": [
    "X_train, X_test, y_train, y_test = train_test_split(X, y.reshape(-1,), test_size=0.33, random_state=42, stratify=y)\n",
    "\n",
    "clf = make_pipeline(StandardScaler(), SVC(gamma='auto'))\n",
    "clf.fit(X_train, y_train)\n",
    "print(\"Training Accuracy: \", accuracy_score(y_train, clf.predict(X_train)))\n",
    "print(\"Testing Accuracy: \", accuracy_score(y_test, clf.predict(X_test)))\n",
    "print(classification_report(y_test, clf.predict(X_test)))"
   ]
  },
  {
   "cell_type": "markdown",
   "id": "involved-folder",
   "metadata": {},
   "source": [
    "### Multiclass Full"
   ]
  },
  {
   "cell_type": "code",
   "execution_count": 102,
   "id": "treated-candidate",
   "metadata": {},
   "outputs": [],
   "source": [
    "X, y = (X_multiclass_full, y_multiclass_full)"
   ]
  },
  {
   "cell_type": "code",
   "execution_count": 103,
   "id": "composite-techno",
   "metadata": {},
   "outputs": [
    {
     "name": "stdout",
     "output_type": "stream",
     "text": [
      "Training Accuracy:  0.756951596292482\n",
      "Testing Accuracy:  0.4968684759916493\n",
      "              precision    recall  f1-score   support\n",
      "\n",
      "           1       0.00      0.00      0.00        27\n",
      "           2       0.88      0.13      0.22        55\n",
      "           3       0.00      0.00      0.00        12\n",
      "           4       0.00      0.00      0.00        46\n",
      "           5       0.00      0.00      0.00        21\n",
      "           6       0.00      0.00      0.00        19\n",
      "           7       0.00      0.00      0.00         9\n",
      "           8       0.00      0.00      0.00        23\n",
      "           9       0.00      0.00      0.00         4\n",
      "          10       0.00      0.00      0.00        32\n",
      "          11       0.49      1.00      0.66       231\n",
      "\n",
      "    accuracy                           0.50       479\n",
      "   macro avg       0.12      0.10      0.08       479\n",
      "weighted avg       0.34      0.50      0.34       479\n",
      "\n"
     ]
    },
    {
     "name": "stderr",
     "output_type": "stream",
     "text": [
      "C:\\Users\\Ryan\\anaconda3\\envs\\python3_env\\lib\\site-packages\\sklearn\\metrics\\_classification.py:1245: UndefinedMetricWarning: Precision and F-score are ill-defined and being set to 0.0 in labels with no predicted samples. Use `zero_division` parameter to control this behavior.\n",
      "  _warn_prf(average, modifier, msg_start, len(result))\n",
      "C:\\Users\\Ryan\\anaconda3\\envs\\python3_env\\lib\\site-packages\\sklearn\\metrics\\_classification.py:1245: UndefinedMetricWarning: Precision and F-score are ill-defined and being set to 0.0 in labels with no predicted samples. Use `zero_division` parameter to control this behavior.\n",
      "  _warn_prf(average, modifier, msg_start, len(result))\n",
      "C:\\Users\\Ryan\\anaconda3\\envs\\python3_env\\lib\\site-packages\\sklearn\\metrics\\_classification.py:1245: UndefinedMetricWarning: Precision and F-score are ill-defined and being set to 0.0 in labels with no predicted samples. Use `zero_division` parameter to control this behavior.\n",
      "  _warn_prf(average, modifier, msg_start, len(result))\n"
     ]
    }
   ],
   "source": [
    "X_train, X_test, y_train, y_test = train_test_split(X, y.reshape(-1,), test_size=0.33, random_state=42, stratify=y)\n",
    "\n",
    "clf = make_pipeline(StandardScaler(), SVC(gamma='auto'))\n",
    "clf.fit(X_train, y_train)\n",
    "print(\"Training Accuracy: \", accuracy_score(y_train, clf.predict(X_train)))\n",
    "print(\"Testing Accuracy: \", accuracy_score(y_test, clf.predict(X_test)))\n",
    "print(classification_report(y_test, clf.predict(X_test)))"
   ]
  },
  {
   "cell_type": "code",
   "execution_count": null,
   "id": "prescription-dominican",
   "metadata": {},
   "outputs": [],
   "source": []
  },
  {
   "cell_type": "code",
   "execution_count": null,
   "id": "compound-evans",
   "metadata": {},
   "outputs": [],
   "source": []
  }
 ],
 "metadata": {
  "kernelspec": {
   "display_name": "Python 3",
   "language": "python",
   "name": "python3"
  },
  "language_info": {
   "codemirror_mode": {
    "name": "ipython",
    "version": 3
   },
   "file_extension": ".py",
   "mimetype": "text/x-python",
   "name": "python",
   "nbconvert_exporter": "python",
   "pygments_lexer": "ipython3",
   "version": "3.6.12"
  }
 },
 "nbformat": 4,
 "nbformat_minor": 5
}
