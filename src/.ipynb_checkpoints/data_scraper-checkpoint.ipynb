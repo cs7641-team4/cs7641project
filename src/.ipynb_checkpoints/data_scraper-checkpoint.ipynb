{
 "cells": [
  {
   "cell_type": "code",
   "execution_count": 8,
   "metadata": {},
   "outputs": [],
   "source": [
    "import requests\n",
    "from bs4 import BeautifulSoup\n",
    "from time import sleep\n",
    "from tqdm.notebook import tqdm\n",
    "import csv\n",
    "import random"
   ]
  },
  {
   "cell_type": "code",
   "execution_count": 21,
   "metadata": {},
   "outputs": [],
   "source": [
    "# url_template = 'https://www.aclweb.org/anthology/2020.emnlp-main.%d/'\n",
    "def get_url(i):\n",
    "    url_template = f'https://www.aclweb.org/anthology/D19-1' + str(format(i, '03')) ## 2019\n",
    "    # url_template = 'https://www.aclweb.org/anthology/2020.emnlp-main.' + str(i) + '/' ## 2020\n",
    "    return url_template"
   ]
  },
  {
   "cell_type": "code",
   "execution_count": 3,
   "metadata": {},
   "outputs": [],
   "source": [
    "headers = {\n",
    "    'accept': 'text/html,application/xhtml+xml,application/xml;q=0.9,image/avif,image/webp,image/apng,*/*;q=0.8,application/signed-exchange;v=b3;q=0.9',\n",
    "    'accept-encoding': 'gzip, deflate, br',\n",
    "    'accept-language': 'en-US,en;q=0.9',\n",
    "    'cache-control': 'no-cache',\n",
    "    'pragma': 'no-cache',\n",
    "    'sec-ch-ua': '\"Google Chrome\";v=\"89\", \"Chromium\";v=\"89\", \";Not A Brand\";v=\"99\"',\n",
    "    'sec-ch-ua-mobile': '?0',\n",
    "    'sec-fetch-dest': 'document',\n",
    "    'sec-fetch-mode': 'navigate',\n",
    "    'sec-fetch-site': 'none',\n",
    "    'sec-fetch-user': '?1',\n",
    "    'upgrade-insecure-requests': '1',\n",
    "    'user-agent': 'Mozilla/5.0 (Windows NT 10.0; Win64; x64) AppleWebKit/537.36 (KHTML, like Gecko) Chrome/89.0.4389.82 Safari/537.36'\n",
    "}"
   ]
  },
  {
   "cell_type": "code",
   "execution_count": 22,
   "metadata": {},
   "outputs": [
    {
     "data": {
      "application/vnd.jupyter.widget-view+json": {
       "model_id": "8f6e8a460bfe4ca6953cafb0465d7fd4",
       "version_major": 2,
       "version_minor": 0
      },
      "text/plain": [
       "HBox(children=(HTML(value=''), FloatProgress(value=0.0, max=682.0), HTML(value='')))"
      ]
     },
     "metadata": {},
     "output_type": "display_data"
    },
    {
     "name": "stdout",
     "output_type": "stream",
     "text": [
      "https://www.aclweb.org/anthology/D19-1479'NoneType' object is not subscriptable\n",
      "\n"
     ]
    }
   ],
   "source": [
    "data = []\n",
    "for i in tqdm(range(1,683)):\n",
    "    try:\n",
    "        r = requests.get(get_url(i), headers=headers)\n",
    "        soup = BeautifulSoup(r.content, 'html.parser')\n",
    "        title = soup.find('meta', {'name': 'citation_title'})['content']\n",
    "        abstract = soup.find('div', {'class':'acl-abstract'}).text[8:]\n",
    "        author_list = soup.find_all('meta', {'name':'citation_author'})\n",
    "        authors = [author['content'] for author in author_list]\n",
    "        pdf_url = soup.find('meta', {'name': 'citation_pdf_url'})['content']\n",
    "\n",
    "        data.append({\n",
    "            'title': title,\n",
    "            'abstract': abstract,\n",
    "            'authors': authors,\n",
    "            'pdf_url': pdf_url,\n",
    "            'url' : r.url\n",
    "        })\n",
    "\n",
    "        sleep(0.2)\n",
    "    except Exception as e:\n",
    "        print(str(r.url) + str(e))"
   ]
  },
  {
   "cell_type": "code",
   "execution_count": 14,
   "metadata": {},
   "outputs": [],
   "source": [
    "with open('../data/EMNLP2019.csv', 'w', newline='', encoding=\"utf-8\") as f:\n",
    "    dict_writer = csv.DictWriter(f, data[0].keys())\n",
    "    dict_writer.writeheader()\n",
    "    dict_writer.writerows(data)"
   ]
  },
  {
   "cell_type": "code",
   "execution_count": 13,
   "metadata": {},
   "outputs": [],
   "source": [
    "## data shuffling per discussion\n",
    "with open('../data/EMNLP2019.csv', 'r', newline='', encoding=\"utf-8\") as f:\n",
    "     data = [{k: v for k, v in row.items()} for row in csv.DictReader(f, skipinitialspace=True)]\n",
    "        \n",
    "random.shuffle(data)"
   ]
  },
  {
   "cell_type": "code",
   "execution_count": null,
   "metadata": {},
   "outputs": [],
   "source": []
  }
 ],
 "metadata": {
  "kernelspec": {
   "display_name": "Python 3",
   "language": "python",
   "name": "python3"
  },
  "language_info": {
   "codemirror_mode": {
    "name": "ipython",
    "version": 3
   },
   "file_extension": ".py",
   "mimetype": "text/x-python",
   "name": "python",
   "nbconvert_exporter": "python",
   "pygments_lexer": "ipython3",
   "version": "3.8.5"
  }
 },
 "nbformat": 4,
 "nbformat_minor": 4
}
