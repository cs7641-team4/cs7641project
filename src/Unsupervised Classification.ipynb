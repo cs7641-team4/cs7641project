{
 "cells": [
  {
   "cell_type": "code",
   "execution_count": 81,
   "id": "signed-triangle",
   "metadata": {},
   "outputs": [],
   "source": [
    "from LanguageModels.BERT import BERT\n",
    "from LanguageModels.Word2Vec import Word2Vec\n",
    "from Preprocessing.DataLoader import DataLoader\n",
    "from Preprocessing.LemmatizerPreprocessor import LemmatizerPreprocessor\n",
    "import torch\n",
    "from sklearn.model_selection import train_test_split\n",
    "from sklearn.svm import SVC\n",
    "from sklearn.svm import LinearSVC\n",
    "from sklearn.pipeline import make_pipeline\n",
    "from sklearn.preprocessing import StandardScaler\n",
    "from sklearn.metrics import accuracy_score\n",
    "\n",
    "from sklearn.model_selection import train_test_split\n",
    "from sklearn.metrics import classification_report\n",
    "import numpy as np\n",
    "\n",
    "from sklearn.manifold import TSNE\n",
    "import umap\n",
    "import matplotlib.pyplot as plt\n",
    "\n",
    "from tqdm.notebook import tqdm\n"
   ]
  },
  {
   "cell_type": "code",
   "execution_count": 6,
   "id": "first-fifty",
   "metadata": {},
   "outputs": [],
   "source": [
    "is_cuda = True\n",
    "is_cuda = is_cuda and torch.cuda.is_available() # will turn off cuda if the machine doesnt have a GPU"
   ]
  },
  {
   "cell_type": "code",
   "execution_count": 2,
   "id": "correct-attachment",
   "metadata": {},
   "outputs": [],
   "source": [
    "lp = LemmatizerPreprocessor()"
   ]
  },
  {
   "cell_type": "code",
   "execution_count": 3,
   "id": "important-upset",
   "metadata": {},
   "outputs": [],
   "source": [
    "# Load data\n",
    "data = DataLoader('../data/EMNLP2020.csv').load()"
   ]
  },
  {
   "cell_type": "code",
   "execution_count": 7,
   "id": "structured-semiconductor",
   "metadata": {},
   "outputs": [],
   "source": [
    "## Bert\n",
    "bert = BERT(cuda = is_cuda)\n",
    "\n",
    "## W2V\n",
    "w2v = Word2Vec(path='../data/glove.6B/glove.6B.200d.txt') "
   ]
  },
  {
   "cell_type": "markdown",
   "id": "surrounded-airline",
   "metadata": {},
   "source": [
    "# Multiclass using class descriptions"
   ]
  },
  {
   "cell_type": "code",
   "execution_count": 8,
   "id": "round-updating",
   "metadata": {},
   "outputs": [
    {
     "name": "stderr",
     "output_type": "stream",
     "text": [
      "100%|██████████████████████████████████████████████████████████████████████████████████████████████████████████████████████████████████████████████████████████████████████████████████████████████████████████████████████████████████████████████████████████████████████████████████| 1450/1450 [01:33<00:00, 15.50it/s]\n"
     ]
    }
   ],
   "source": [
    "X_multiclass_bert, y_multiclass_bert = bert.featurize(data, lp, mode='multiclass', remove_neg_samples=True)"
   ]
  },
  {
   "cell_type": "code",
   "execution_count": 10,
   "id": "religious-generator",
   "metadata": {},
   "outputs": [
    {
     "data": {
      "text/plain": [
       "(750, 1)"
      ]
     },
     "execution_count": 10,
     "metadata": {},
     "output_type": "execute_result"
    }
   ],
   "source": [
    "X_multiclass_bert.shape\n",
    "y_multiclass_bert.shape"
   ]
  },
  {
   "cell_type": "code",
   "execution_count": 28,
   "id": "sticky-powell",
   "metadata": {},
   "outputs": [],
   "source": [
    "class_descriptions = [\n",
    "    'Syntax, Phonology, Morphology and Word Segmentation, Linguistic Theories, Cognitive Modeling and Psycholinguistics, Discourse and Pragmatics',\n",
    "    'Generation & Summarization & Machine Translation and Multilinguality' ,\n",
    "    'Sentiment Analysis, Stylistic Analysis, and Argument Mining',\n",
    "    'Machine Learning for NLP and Interpretability and Analysis of Models for NLP',\n",
    "    'Dialogue, Speech and Interactive Systems + Question Answering',\n",
    "    'NLP Applications, Language Grounding to Vision, Robotics and Beyond',\n",
    "    'Computational Social Science and Social Media',\n",
    "    'Information Extraction & Information Retrieval and Text Mining',\n",
    "    'Speech and Multimodality',\n",
    "    'Resources and Evaluation',\n",
    "]"
   ]
  },
  {
   "cell_type": "code",
   "execution_count": 22,
   "id": "equipped-radius",
   "metadata": {},
   "outputs": [
    {
     "data": {
      "text/plain": [
       "(10, 768)"
      ]
     },
     "execution_count": 22,
     "metadata": {},
     "output_type": "execute_result"
    }
   ],
   "source": [
    "class_features = []\n",
    "for i, desc in enumerate(class_descriptions):\n",
    "    desc_clean = lp.clean(desc)\n",
    "    class_features.append(bert.convert(desc_clean, method='average'))\n",
    "\n",
    "class_features = np.array(class_features)\n",
    "class_features.shape"
   ]
  },
  {
   "cell_type": "code",
   "execution_count": 26,
   "id": "failing-office",
   "metadata": {},
   "outputs": [
    {
     "data": {
      "text/plain": [
       "(750,)"
      ]
     },
     "execution_count": 26,
     "metadata": {},
     "output_type": "execute_result"
    }
   ],
   "source": [
    "# find closest class\n",
    "\n",
    "y_pred = []\n",
    "for i, x in enumerate(X_multiclass_bert):\n",
    "    closest_class = None\n",
    "    best_dist = np.inf\n",
    "    \n",
    "    for j, clas in enumerate(class_features):\n",
    "        dist = np.linalg.norm(x - clas)\n",
    "        \n",
    "        if dist < best_dist:\n",
    "            best_dist = dist\n",
    "            closest_class = j + 1\n",
    "            \n",
    "    y_pred.append(closest_class)\n",
    "    \n",
    "y_pred = np.array(y_pred)\n",
    "y_pred.shape"
   ]
  },
  {
   "cell_type": "code",
   "execution_count": 27,
   "id": "crazy-conviction",
   "metadata": {},
   "outputs": [
    {
     "name": "stdout",
     "output_type": "stream",
     "text": [
      "Accuracy:  0.2773333333333333\n"
     ]
    }
   ],
   "source": [
    "print(\"Accuracy: \", accuracy_score(y_multiclass_bert, y_pred))"
   ]
  },
  {
   "cell_type": "markdown",
   "id": "proprietary-chassis",
   "metadata": {},
   "source": [
    "# Binary classification with threshold classification"
   ]
  },
  {
   "cell_type": "code",
   "execution_count": 32,
   "id": "generic-specific",
   "metadata": {},
   "outputs": [
    {
     "name": "stderr",
     "output_type": "stream",
     "text": [
      "100%|█████████████████████████████████████████████████████████████████████████████████████████████████████████████████████████████████████████████████████| 1450/1450 [02:58<00:00,  8.11it/s]\n"
     ]
    }
   ],
   "source": [
    "X_multiclass_bert, y_multiclass_bert = bert.featurize(data, lp, mode='binary', remove_neg_samples=False)"
   ]
  },
  {
   "cell_type": "code",
   "execution_count": 42,
   "id": "dressed-lodge",
   "metadata": {},
   "outputs": [
    {
     "data": {
      "text/plain": [
       "(768,)"
      ]
     },
     "execution_count": 42,
     "metadata": {},
     "output_type": "execute_result"
    }
   ],
   "source": [
    "# generate one centroid to use for classification\n",
    "\n",
    "centroid = class_features.mean(axis=0)\n",
    "centroid.shape"
   ]
  },
  {
   "cell_type": "code",
   "execution_count": 56,
   "id": "forward-bankruptcy",
   "metadata": {},
   "outputs": [],
   "source": [
    "X_multiclass_bert_vis = np.vstack((X_multiclass_bert, centroid))\n",
    "y_multiclass_bert_vis = np.vstack((y_multiclass_bert, 2))"
   ]
  },
  {
   "cell_type": "code",
   "execution_count": 57,
   "id": "foreign-passion",
   "metadata": {},
   "outputs": [],
   "source": [
    "# reduce to 2 dimensions\n",
    "X_embedded2d = umap.UMAP(n_components=2).fit_transform(X_multiclass_bert_vis)"
   ]
  },
  {
   "cell_type": "code",
   "execution_count": 63,
   "id": "connected-restoration",
   "metadata": {},
   "outputs": [
    {
     "data": {
      "text/plain": [
       "<matplotlib.collections.PathCollection at 0x20c45bf3748>"
      ]
     },
     "execution_count": 63,
     "metadata": {},
     "output_type": "execute_result"
    },
    {
     "data": {
      "image/png": "[encoded data removed]",
      "text/plain": [
       "<Figure size 432x288 with 1 Axes>"
      ]
     },
     "metadata": {
      "needs_background": "light"
     },
     "output_type": "display_data"
    }
   ],
   "source": [
    "# visualize the space\n",
    "plt.scatter(X_embedded2d[:,0], X_embedded2d[:,1], c=y_multiclass_bert_vis)"
   ]
  },
  {
   "cell_type": "code",
   "execution_count": 68,
   "id": "numerical-armor",
   "metadata": {},
   "outputs": [],
   "source": [
    "dists = []\n",
    "for x in X_multiclass_bert:\n",
    "    dists.append(np.linalg.norm(x - centroid))\n",
    "dists = np.array(dists)"
   ]
  },
  {
   "cell_type": "code",
   "execution_count": 78,
   "id": "visible-variable",
   "metadata": {},
   "outputs": [],
   "source": [
    "y_pred = []\n",
    "\n",
    "for dist in dists:\n",
    "    if dist < dists.mean():\n",
    "        y_pred.append(0)\n",
    "    else:\n",
    "        y_pred.append(1)\n",
    "y_pred = np.array(y_pred)"
   ]
  },
  {
   "cell_type": "code",
   "execution_count": 79,
   "id": "racial-mongolia",
   "metadata": {},
   "outputs": [
    {
     "name": "stdout",
     "output_type": "stream",
     "text": [
      "Accuracy:  0.7462068965517241\n"
     ]
    }
   ],
   "source": [
    "print(\"Accuracy: \", accuracy_score(y_multiclass_bert, y_pred))"
   ]
  },
  {
   "cell_type": "markdown",
   "id": "lyric-fisher",
   "metadata": {},
   "source": [
    "## Tuning the threshold value"
   ]
  },
  {
   "cell_type": "code",
   "execution_count": 83,
   "id": "statistical-struggle",
   "metadata": {},
   "outputs": [
    {
     "data": {
      "application/vnd.jupyter.widget-view+json": {
       "model_id": "77371ea84d2c4e5aa8cbf4ca0773994e",
       "version_major": 2,
       "version_minor": 0
      },
      "text/plain": [
       "  0%|          | 0/10000 [00:00<?, ?it/s]"
      ]
     },
     "metadata": {},
     "output_type": "display_data"
    }
   ],
   "source": [
    "best_acc = -np.inf\n",
    "best_threshold = None\n",
    "\n",
    "for threshold in tqdm(np.linspace(min(dists), max(dists), 10000)):\n",
    "    y_pred = []\n",
    "\n",
    "    for dist in dists:\n",
    "        if dist < threshold:\n",
    "            y_pred.append(0)\n",
    "        else:\n",
    "            y_pred.append(1)\n",
    "    y_pred = np.array(y_pred)\n",
    "    \n",
    "    acc = accuracy_score(y_multiclass_bert, y_pred)\n",
    "    \n",
    "    if (acc > best_acc):\n",
    "        best_acc = acc\n",
    "        best_threshold = threshold\n",
    "    "
   ]
  },
  {
   "cell_type": "code",
   "execution_count": 86,
   "id": "usual-third",
   "metadata": {},
   "outputs": [
    {
     "name": "stdout",
     "output_type": "stream",
     "text": [
      "Best accuracy: 0.7489655172413793 Best threshold: 6.372888352277458\n"
     ]
    }
   ],
   "source": [
    "print('Best accuracy:', best_acc, 'Best threshold:', best_threshold)"
   ]
  },
  {
   "cell_type": "code",
   "execution_count": null,
   "id": "beautiful-biotechnology",
   "metadata": {},
   "outputs": [],
   "source": []
  }
 ],
 "metadata": {
  "kernelspec": {
   "display_name": "Python 3",
   "language": "python",
   "name": "python3"
  },
  "language_info": {
   "codemirror_mode": {
    "name": "ipython",
    "version": 3
   },
   "file_extension": ".py",
   "mimetype": "text/x-python",
   "name": "python",
   "nbconvert_exporter": "python",
   "pygments_lexer": "ipython3",
   "version": "3.6.12"
  }
 },
 "nbformat": 4,
 "nbformat_minor": 5
}
