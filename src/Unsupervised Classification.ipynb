{
 "cells": [
  {
   "cell_type": "code",
   "execution_count": 92,
   "id": "signed-triangle",
   "metadata": {},
   "outputs": [],
   "source": [
    "from LanguageModels.BERT import BERT\n",
    "from LanguageModels.Word2Vec import Word2Vec\n",
    "from LanguageModels.BagOfWords import BagOfWords\n",
    "from LanguageModels.CustomWord2Vec import CustomWord2Vec\n",
    "from Preprocessing.DataLoader import DataLoader\n",
    "from Preprocessing.LemmatizerPreprocessor import LemmatizerPreprocessor\n",
    "import torch\n",
    "from sklearn.model_selection import train_test_split\n",
    "from sklearn.svm import SVC\n",
    "from sklearn.svm import LinearSVC\n",
    "from sklearn.pipeline import make_pipeline\n",
    "from sklearn.preprocessing import StandardScaler\n",
    "from sklearn.metrics import accuracy_score\n",
    "\n",
    "from sklearn.model_selection import train_test_split\n",
    "from sklearn.metrics import classification_report, confusion_matrix\n",
    "import numpy as np\n",
    "\n",
    "from sklearn.manifold import TSNE\n",
    "import umap\n",
    "import matplotlib.pyplot as plt\n",
    "\n",
    "from tqdm.notebook import tqdm\n"
   ]
  },
  {
   "cell_type": "code",
   "execution_count": 107,
   "id": "compact-secondary",
   "metadata": {},
   "outputs": [],
   "source": [
    "def cos_sim(a, b):\n",
    "    dot_product = np.dot(a, b)\n",
    "    norm_a = np.linalg.norm(a)\n",
    "    norm_b = np.linalg.norm(b)\n",
    "    return 1 / (dot_product / (norm_a * norm_b))\n",
    "\n",
    "use_cos_sim = True"
   ]
  },
  {
   "cell_type": "code",
   "execution_count": 108,
   "id": "first-fifty",
   "metadata": {},
   "outputs": [],
   "source": [
    "is_cuda = True\n",
    "is_cuda = is_cuda and torch.cuda.is_available() # will turn off cuda if the machine doesnt have a GPU"
   ]
  },
  {
   "cell_type": "code",
   "execution_count": 109,
   "id": "correct-attachment",
   "metadata": {},
   "outputs": [],
   "source": [
    "lp = LemmatizerPreprocessor()"
   ]
  },
  {
   "cell_type": "code",
   "execution_count": 110,
   "id": "important-upset",
   "metadata": {},
   "outputs": [],
   "source": [
    "# Load data\n",
    "data = DataLoader('../data/EMNLP2020.csv').load()"
   ]
  },
  {
   "cell_type": "code",
   "execution_count": 111,
   "id": "structured-semiconductor",
   "metadata": {},
   "outputs": [],
   "source": [
    "## Bag Of Words\n",
    "# lm = BagOfWords()\n",
    "\n",
    "## Custom word2vec\n",
    "lm = CustomWord2Vec('../data/customw2v.p')\n",
    "\n",
    "## Custom word2vec\n",
    "# lm = CustomWord2Vec('../data/customw2v_50.p')\n",
    "\n",
    "## W2V\n",
    "# lm = Word2Vec(path='../data/glove.6B/glove.6B.200d.txt') \n",
    "\n",
    "## Word2Vec Pretrained + Finetuned\n",
    "# lm = CustomWord2Vec('../data/glove.6B/glove.6B.200d.finetuned.p')\n",
    "\n",
    "## Bert\n",
    "# lm = BERT(cuda = is_cuda)\n",
    "\n",
    "## SciBert\n",
    "# lm = BERT(cuda = is_cuda, path = 'allenai/scibert_scivocab_uncased')\n"
   ]
  },
  {
   "cell_type": "markdown",
   "id": "surrounded-airline",
   "metadata": {},
   "source": [
    "# Multiclass using class descriptions"
   ]
  },
  {
   "cell_type": "code",
   "execution_count": 112,
   "id": "round-updating",
   "metadata": {},
   "outputs": [],
   "source": [
    "X_multiclass_bert, y_multiclass_bert = lm.featurize(data, lp, mode='multiclass', remove_neg_samples=False)"
   ]
  },
  {
   "cell_type": "code",
   "execution_count": 113,
   "id": "religious-generator",
   "metadata": {},
   "outputs": [
    {
     "data": {
      "text/plain": [
       "(1450, 1)"
      ]
     },
     "execution_count": 113,
     "metadata": {},
     "output_type": "execute_result"
    }
   ],
   "source": [
    "X_multiclass_bert.shape\n",
    "y_multiclass_bert.shape"
   ]
  },
  {
   "cell_type": "code",
   "execution_count": 114,
   "id": "sticky-powell",
   "metadata": {},
   "outputs": [],
   "source": [
    "class_descriptions = [\n",
    "    'Syntax, Phonology, Morphology and Word Segmentation, Linguistic Theories, Cognitive Modeling and Psycholinguistics, Discourse and Pragmatics',\n",
    "    'Generation & Summarization & Machine Translation and Multilinguality' ,\n",
    "    'Sentiment Analysis, Stylistic Analysis, and Argument Mining',\n",
    "    'Machine Learning for NLP and Interpretability and Analysis of Models for NLP',\n",
    "    'Dialogue, Speech and Interactive Systems + Question Answering',\n",
    "    'NLP Applications, Language Grounding to Vision, Robotics and Beyond',\n",
    "    'Computational Social Science and Social Media',\n",
    "    'Information Extraction & Information Retrieval and Text Mining',\n",
    "    'Speech and Multimodality',\n",
    "    'Resources and Evaluation',\n",
    "]"
   ]
  },
  {
   "cell_type": "code",
   "execution_count": 115,
   "id": "equipped-radius",
   "metadata": {},
   "outputs": [
    {
     "data": {
      "text/plain": [
       "(10, 13)"
      ]
     },
     "execution_count": 115,
     "metadata": {},
     "output_type": "execute_result"
    }
   ],
   "source": [
    "class_features = []\n",
    "for i, desc in enumerate(class_descriptions):\n",
    "    desc_clean = lp.clean(desc)\n",
    "    class_features.append(lm.convert(desc_clean, method='average'))\n",
    "\n",
    "class_features = np.array(class_features)\n",
    "class_features.shape"
   ]
  },
  {
   "cell_type": "code",
   "execution_count": 116,
   "id": "failing-office",
   "metadata": {},
   "outputs": [
    {
     "data": {
      "text/plain": [
       "(1450,)"
      ]
     },
     "execution_count": 116,
     "metadata": {},
     "output_type": "execute_result"
    }
   ],
   "source": [
    "# find closest class\n",
    "\n",
    "y_pred = []\n",
    "for i, x in enumerate(X_multiclass_bert):\n",
    "    closest_class = None\n",
    "    best_dist = np.inf\n",
    "    \n",
    "    for j, clas in enumerate(class_features):\n",
    "        if use_cos_sim:\n",
    "            dist = cos_sim(x, clas)\n",
    "        else:\n",
    "            dist = np.linalg.norm(x - clas)\n",
    "        \n",
    "        if dist < best_dist:\n",
    "            best_dist = dist\n",
    "            closest_class = j + 1\n",
    "            \n",
    "    y_pred.append(closest_class)\n",
    "    \n",
    "y_pred = np.array(y_pred)\n",
    "y_pred.shape"
   ]
  },
  {
   "cell_type": "code",
   "execution_count": 117,
   "id": "crazy-conviction",
   "metadata": {},
   "outputs": [
    {
     "name": "stdout",
     "output_type": "stream",
     "text": [
      "Accuracy:  0.06137931034482759\n"
     ]
    }
   ],
   "source": [
    "print(\"Accuracy: \", accuracy_score(y_multiclass_bert, y_pred))"
   ]
  },
  {
   "cell_type": "markdown",
   "id": "acute-corps",
   "metadata": {},
   "source": [
    "# Multiclass using derived class descriptions"
   ]
  },
  {
   "cell_type": "code",
   "execution_count": 104,
   "id": "minimal-rotation",
   "metadata": {},
   "outputs": [
    {
     "data": {
      "text/plain": [
       "(11, 13)"
      ]
     },
     "execution_count": 104,
     "metadata": {},
     "output_type": "execute_result"
    }
   ],
   "source": [
    "def getSummary(abstracts):\n",
    "    \n",
    "    sim_arr = []\n",
    "    \n",
    "    #for each abstract calculate the cosine similarity to every other abstract\n",
    "    for ab in abstracts:\n",
    "        cos_num = np.dot(abstracts, ab)\n",
    "        cos_denom = np.linalg.norm(ab) * np.sqrt(np.sum(np.square(abstracts), axis= 1))\n",
    "        sim_arr.append(np.divide(cos_num, cos_denom))\n",
    "    \n",
    "    #for each abstract calculate the average similarity\n",
    "    sim_avg_arr = np.mean(np.array(sim_arr), axis = 1)\n",
    "    #get the indices of the top 5 abstracts that are most similar to the rest of the abstracts\n",
    "    top_5_abstract_inds = sim_avg_arr.argsort()[::-1][:5]\n",
    "    #take the average of these top 5 abstracts\n",
    "    class_summary = np.mean(abstracts[top_5_abstract_inds], axis = 0)\n",
    "    \n",
    "    return class_summary\n",
    "    \n",
    "\n",
    "\n",
    "#for each class generate a summary vector\n",
    "topic_summaries = []\n",
    "for i in range(1,12):\n",
    "    inds = y_multiclass_bert.flatten() == i\n",
    "    abstracts_i_class = X_multiclass_bert[inds, :]\n",
    "    i_class_summary = getSummary(abstracts_i_class)\n",
    "    topic_summaries.append(i_class_summary)\n",
    "    \n",
    "topic_summaries = np.array(topic_summaries)\n",
    "\n",
    "topic_summaries.shape"
   ]
  },
  {
   "cell_type": "code",
   "execution_count": 105,
   "id": "julian-softball",
   "metadata": {},
   "outputs": [
    {
     "data": {
      "text/plain": [
       "(1450,)"
      ]
     },
     "execution_count": 105,
     "metadata": {},
     "output_type": "execute_result"
    }
   ],
   "source": [
    "# find closest class\n",
    "\n",
    "y_pred = []\n",
    "for i, x in enumerate(X_multiclass_bert):\n",
    "    closest_class = None\n",
    "    best_dist = np.inf\n",
    "    \n",
    "    for j, clas in enumerate(topic_summaries):\n",
    "        if use_cos_sim:\n",
    "            dist = cos_sim(x, clas)\n",
    "        else:\n",
    "            dist = np.linalg.norm(x - clas)\n",
    "        \n",
    "        if dist < best_dist:\n",
    "            best_dist = dist\n",
    "            closest_class = j + 1\n",
    "            \n",
    "    y_pred.append(closest_class)\n",
    "    \n",
    "y_pred = np.array(y_pred)\n",
    "y_pred.shape"
   ]
  },
  {
   "cell_type": "code",
   "execution_count": 106,
   "id": "encouraging-following",
   "metadata": {},
   "outputs": [
    {
     "name": "stdout",
     "output_type": "stream",
     "text": [
      "Accuracy:  0.3931034482758621\n"
     ]
    }
   ],
   "source": [
    "print(\"Accuracy: \", accuracy_score(y_multiclass_bert, y_pred))"
   ]
  },
  {
   "cell_type": "markdown",
   "id": "proprietary-chassis",
   "metadata": {},
   "source": [
    "# Binary classification with threshold classification"
   ]
  },
  {
   "cell_type": "code",
   "execution_count": null,
   "id": "generic-specific",
   "metadata": {},
   "outputs": [],
   "source": [
    "X_multiclass_bert, y_multiclass_bert = lm.featurize(data, lp, mode='binary', remove_neg_samples=False)"
   ]
  },
  {
   "cell_type": "code",
   "execution_count": null,
   "id": "dressed-lodge",
   "metadata": {},
   "outputs": [],
   "source": [
    "# generate one centroid to use for classification\n",
    "\n",
    "centroid = class_features.mean(axis=0)\n",
    "centroid.shape"
   ]
  },
  {
   "cell_type": "code",
   "execution_count": null,
   "id": "forward-bankruptcy",
   "metadata": {},
   "outputs": [],
   "source": [
    "X_multiclass_bert_vis = np.vstack((X_multiclass_bert, centroid))\n",
    "y_multiclass_bert_vis = np.vstack((y_multiclass_bert, 2))"
   ]
  },
  {
   "cell_type": "code",
   "execution_count": null,
   "id": "foreign-passion",
   "metadata": {},
   "outputs": [],
   "source": [
    "# reduce to 2 dimensions\n",
    "X_embedded2d = umap.UMAP(n_components=2).fit_transform(X_multiclass_bert_vis)"
   ]
  },
  {
   "cell_type": "code",
   "execution_count": null,
   "id": "connected-restoration",
   "metadata": {},
   "outputs": [],
   "source": [
    "# visualize the space\n",
    "plt.scatter(X_embedded2d[:,0], X_embedded2d[:,1], c=y_multiclass_bert_vis)"
   ]
  },
  {
   "cell_type": "code",
   "execution_count": null,
   "id": "numerical-armor",
   "metadata": {},
   "outputs": [],
   "source": [
    "dists = []\n",
    "for x in X_multiclass_bert:\n",
    "    if use_cos_sim:\n",
    "        dists.append(cos_sim(x, centroid))\n",
    "    else:\n",
    "        dists.append(np.linalg.norm(x - centroid))\n",
    "dists = np.array(dists)"
   ]
  },
  {
   "cell_type": "markdown",
   "id": "lyric-fisher",
   "metadata": {},
   "source": [
    "## Tuning the threshold value"
   ]
  },
  {
   "cell_type": "code",
   "execution_count": null,
   "id": "statistical-struggle",
   "metadata": {},
   "outputs": [],
   "source": [
    "best_acc = -np.inf\n",
    "best_threshold = None\n",
    "best_ypred = None\n",
    "\n",
    "for threshold in tqdm(np.linspace(min(dists), max(dists), 1000)):\n",
    "    y_pred = []\n",
    "\n",
    "    for dist in dists:\n",
    "        if dist < threshold:\n",
    "            y_pred.append(0)\n",
    "        else:\n",
    "            y_pred.append(1)\n",
    "    y_pred = np.array(y_pred)\n",
    "    \n",
    "    acc = accuracy_score(y_multiclass_bert, y_pred)\n",
    "    \n",
    "    if (acc > best_acc):\n",
    "        best_acc = acc\n",
    "        best_threshold = threshold\n",
    "        best_ypred = y_pred\n",
    "    "
   ]
  },
  {
   "cell_type": "code",
   "execution_count": null,
   "id": "usual-third",
   "metadata": {},
   "outputs": [],
   "source": [
    "print('Best accuracy:', best_acc, 'Best threshold:', best_threshold)"
   ]
  },
  {
   "cell_type": "code",
   "execution_count": null,
   "id": "worthy-judge",
   "metadata": {},
   "outputs": [],
   "source": [
    "plt.figure(figsize=(8, 7))\n",
    "plt.imshow(confusion_matrix(y_multiclass_bert, best_ypred))\n",
    "plt.title('Confusion matrix', fontsize=16)\n",
    "plt.xticks(np.arange(len(np.unique(y_multiclass_bert))), np.unique(y_multiclass_bert), rotation=90, fontsize=12)\n",
    "plt.yticks(np.arange(len(np.unique(y_multiclass_bert))), np.unique(y_multiclass_bert), fontsize=12)\n",
    "plt.colorbar()\n",
    "plt.show()"
   ]
  },
  {
   "cell_type": "markdown",
   "id": "uniform-looking",
   "metadata": {},
   "source": [
    "# Binary classification with threshold classification (using derived class descriptions)"
   ]
  },
  {
   "cell_type": "code",
   "execution_count": null,
   "id": "compact-shelter",
   "metadata": {},
   "outputs": [],
   "source": [
    "centroid = topic_summaries.mean(axis=0)\n",
    "centroid.shape"
   ]
  },
  {
   "cell_type": "code",
   "execution_count": null,
   "id": "diagnostic-spiritual",
   "metadata": {},
   "outputs": [],
   "source": [
    "X_multiclass_bert_vis = np.vstack((X_multiclass_bert, centroid))\n",
    "y_multiclass_bert_vis = np.vstack((y_multiclass_bert, 2))"
   ]
  },
  {
   "cell_type": "code",
   "execution_count": null,
   "id": "desperate-german",
   "metadata": {},
   "outputs": [],
   "source": [
    "# reduce to 2 dimensions\n",
    "X_embedded2d = umap.UMAP(n_components=2).fit_transform(X_multiclass_bert_vis)"
   ]
  },
  {
   "cell_type": "code",
   "execution_count": null,
   "id": "capital-camel",
   "metadata": {},
   "outputs": [],
   "source": [
    "# visualize the space\n",
    "plt.scatter(X_embedded2d[:,0], X_embedded2d[:,1], c=y_multiclass_bert_vis)"
   ]
  },
  {
   "cell_type": "code",
   "execution_count": null,
   "id": "received-rhythm",
   "metadata": {},
   "outputs": [],
   "source": [
    "dists = []\n",
    "for x in X_multiclass_bert:\n",
    "    if use_cos_sim:\n",
    "        dists.append(cos_sim(x, centroid))\n",
    "    else:\n",
    "        dists.append(np.linalg.norm(x - centroid))\n",
    "dists = np.array(dists)"
   ]
  },
  {
   "cell_type": "code",
   "execution_count": null,
   "id": "arabic-schedule",
   "metadata": {},
   "outputs": [],
   "source": [
    "best_acc = -np.inf\n",
    "best_threshold = None\n",
    "best_ypred = None\n",
    "\n",
    "for threshold in tqdm(np.linspace(min(dists), max(dists), 1000)):\n",
    "    y_pred = []\n",
    "\n",
    "    for dist in dists:\n",
    "        if dist < threshold:\n",
    "            y_pred.append(0)\n",
    "        else:\n",
    "            y_pred.append(1)\n",
    "    y_pred = np.array(y_pred)\n",
    "    \n",
    "    acc = accuracy_score(y_multiclass_bert, y_pred)\n",
    "    \n",
    "    if (acc > best_acc):\n",
    "        best_acc = acc\n",
    "        best_threshold = threshold\n",
    "        best_ypred = y_pred\n"
   ]
  },
  {
   "cell_type": "code",
   "execution_count": null,
   "id": "downtown-kentucky",
   "metadata": {},
   "outputs": [],
   "source": [
    "print('Best accuracy:', best_acc, 'Best threshold:', best_threshold)"
   ]
  },
  {
   "cell_type": "code",
   "execution_count": null,
   "id": "educational-front",
   "metadata": {},
   "outputs": [],
   "source": [
    "plt.figure(figsize=(8, 7))\n",
    "plt.imshow(confusion_matrix(y_multiclass_bert, best_ypred))\n",
    "plt.title('Confusion matrix', fontsize=16)\n",
    "plt.xticks(np.arange(len(np.unique(y_multiclass_bert))), np.unique(y_multiclass_bert), rotation=90, fontsize=12)\n",
    "plt.yticks(np.arange(len(np.unique(y_multiclass_bert))), np.unique(y_multiclass_bert), fontsize=12)\n",
    "plt.colorbar()\n",
    "plt.show()"
   ]
  },
  {
   "cell_type": "code",
   "execution_count": null,
   "id": "flush-establishment",
   "metadata": {},
   "outputs": [],
   "source": []
  },
  {
   "cell_type": "code",
   "execution_count": null,
   "id": "lyric-portland",
   "metadata": {},
   "outputs": [],
   "source": []
  },
  {
   "cell_type": "code",
   "execution_count": null,
   "id": "heavy-amazon",
   "metadata": {},
   "outputs": [],
   "source": []
  }
 ],
 "metadata": {
  "kernelspec": {
   "display_name": "Python 3",
   "language": "python",
   "name": "python3"
  },
  "language_info": {
   "codemirror_mode": {
    "name": "ipython",
    "version": 3
   },
   "file_extension": ".py",
   "mimetype": "text/x-python",
   "name": "python",
   "nbconvert_exporter": "python",
   "pygments_lexer": "ipython3",
   "version": "3.6.12"
  }
 },
 "nbformat": 4,
 "nbformat_minor": 5
}
