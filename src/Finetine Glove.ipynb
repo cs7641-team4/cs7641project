{
 "cells": [
  {
   "cell_type": "code",
   "execution_count": 1,
   "id": "hidden-terror",
   "metadata": {},
   "outputs": [
    {
     "name": "stderr",
     "output_type": "stream",
     "text": [
      "[nltk_data] Downloading package wordnet to\n",
      "[nltk_data]     C:\\Users\\Ryan\\AppData\\Roaming\\nltk_data...\n",
      "[nltk_data]   Package wordnet is already up-to-date!\n",
      "[nltk_data] Downloading package punkt to\n",
      "[nltk_data]     C:\\Users\\Ryan\\AppData\\Roaming\\nltk_data...\n",
      "[nltk_data]   Package punkt is already up-to-date!\n",
      "[nltk_data] Downloading package stopwords to\n",
      "[nltk_data]     C:\\Users\\Ryan\\AppData\\Roaming\\nltk_data...\n",
      "[nltk_data]   Package stopwords is already up-to-date!\n",
      "[nltk_data] Downloading package averaged_perceptron_tagger to\n",
      "[nltk_data]     C:\\Users\\Ryan\\AppData\\Roaming\\nltk_data...\n",
      "[nltk_data]   Package averaged_perceptron_tagger is already up-to-\n",
      "[nltk_data]       date!\n"
     ]
    }
   ],
   "source": [
    "import csv\n",
    "import numpy as np\n",
    "from collections import Counter\n",
    "from nltk.corpus import brown\n",
    "from mittens import GloVe, Mittens\n",
    "# from sklearn.feature_extraction import stop_words\n",
    "from sklearn.feature_extraction.text import CountVectorizer\n",
    "from tqdm.notebook import tqdm\n",
    "import pickle\n",
    "\n",
    "from LanguageModels.Word2Vec import Word2Vec\n",
    "from Preprocessing.LemmatizerPreprocessor import LemmatizerPreprocessor\n",
    "from Preprocessing.DataLoader import DataLoader"
   ]
  },
  {
   "cell_type": "code",
   "execution_count": 2,
   "id": "rural-plenty",
   "metadata": {},
   "outputs": [],
   "source": [
    "# Load data\n",
    "data = DataLoader('../data/EMNLP2020.csv').load()\n",
    "\n",
    "# Load preprocessor\n",
    "lp = LemmatizerPreprocessor()\n",
    "\n",
    "clean_abstracts = []\n",
    "words = []\n",
    "for row in data:\n",
    "    abstract = row['abstract']\n",
    "    abstract_clean = lp.clean(abstract)\n",
    "    words.extend(abstract_clean)\n",
    "    clean_abstracts.append(' '.join(abstract_clean))\n",
    "    \n",
    "words = set(words)"
   ]
  },
  {
   "cell_type": "code",
   "execution_count": 3,
   "id": "macro-geography",
   "metadata": {},
   "outputs": [],
   "source": [
    "def glove2dict(glove_filename):\n",
    "    with open(glove_filename, encoding='utf-8') as f:\n",
    "        reader = csv.reader(f, delimiter=' ', quoting=csv.QUOTE_NONE)\n",
    "        embed = {line[0]: np.array(list(map(float, line[1:])))\n",
    "                for line in reader}\n",
    "    return embed\n",
    "\n",
    "def get_rareoov(xdict, val):\n",
    "    return [k for (k,v) in Counter(xdict).items() if v<=val]"
   ]
  },
  {
   "cell_type": "code",
   "execution_count": 20,
   "id": "mental-oxford",
   "metadata": {},
   "outputs": [],
   "source": [
    "dim = 200\n",
    "glove_path = \"../data/glove.6B/glove.6B.%dd.txt\" % dim\n",
    "pre_glove = glove2dict(glove_path)"
   ]
  },
  {
   "cell_type": "code",
   "execution_count": 9,
   "id": "perfect-license",
   "metadata": {},
   "outputs": [
    {
     "name": "stdout",
     "output_type": "stream",
     "text": [
      "1446\n"
     ]
    }
   ],
   "source": [
    "oov = [token for token in words if token not in pre_glove.keys()]\n",
    "print(len(oov))"
   ]
  },
  {
   "cell_type": "code",
   "execution_count": 10,
   "id": "frozen-mileage",
   "metadata": {},
   "outputs": [],
   "source": [
    "corp_vocab = list(set(oov))\n",
    "brown_doc = [' '.join(words)]\n",
    "\n",
    "cv = CountVectorizer(ngram_range=(1,1), vocabulary=corp_vocab)\n",
    "X = cv.fit_transform(brown_doc)\n",
    "Xc = (X.T * X)\n",
    "Xc.setdiag(0)\n",
    "coocc_ar = Xc.toarray()"
   ]
  },
  {
   "cell_type": "code",
   "execution_count": 11,
   "id": "deadly-daughter",
   "metadata": {},
   "outputs": [
    {
     "name": "stderr",
     "output_type": "stream",
     "text": [
      "Iteration 1000: error 0.0061"
     ]
    }
   ],
   "source": [
    "mittens_model = Mittens(n=dim, max_iter=1000)\n",
    "\n",
    "new_embeddings = mittens_model.fit(\n",
    "    coocc_ar,\n",
    "    vocab=corp_vocab,\n",
    "    initial_embedding_dict= pre_glove)"
   ]
  },
  {
   "cell_type": "code",
   "execution_count": 22,
   "id": "everyday-concrete",
   "metadata": {},
   "outputs": [
    {
     "name": "stdout",
     "output_type": "stream",
     "text": [
      "1446\n",
      "400000\n",
      "401446\n"
     ]
    }
   ],
   "source": [
    "oov_glove = dict(zip(corp_vocab, new_embeddings))\n",
    "finetuned = {}\n",
    "finetuned.update(oov_glove)\n",
    "finetuned.update(pre_glove)\n",
    "\n",
    "print(len(oov_glove))\n",
    "print(len(pre_glove))\n",
    "print(len(finetuned))\n",
    "\n",
    "f = open(\"../data/glove.6B/glove.6B.%dd.finetuned.p\" % dim,\"wb\")\n",
    "pickle.dump(finetuned, f)\n",
    "f.close()"
   ]
  },
  {
   "cell_type": "code",
   "execution_count": 50,
   "id": "assured-music",
   "metadata": {},
   "outputs": [],
   "source": [
    "# newglove = dict(zip(corp_vocab, new_embeddings))\n"
   ]
  }
 ],
 "metadata": {
  "kernelspec": {
   "display_name": "Python 3",
   "language": "python",
   "name": "python3"
  },
  "language_info": {
   "codemirror_mode": {
    "name": "ipython",
    "version": 3
   },
   "file_extension": ".py",
   "mimetype": "text/x-python",
   "name": "python",
   "nbconvert_exporter": "python",
   "pygments_lexer": "ipython3",
   "version": "3.6.12"
  }
 },
 "nbformat": 4,
 "nbformat_minor": 5
}
