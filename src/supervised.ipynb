{
 "cells": [
  {
   "cell_type": "markdown",
   "metadata": {
    "id": "8oAFT3fveI9A"
   },
   "source": [
    "- (Gaussian) Multinomial Naive Bayes with Grid Search\n",
    "- Logistic Regression\n",
    "- Support Vector Machines\n",
    "- Decision Tree\n",
    "- Random Forest & Bagging Classifier\n",
    "- Boosting XGBoost\n",
    "- Neural Nets\n",
    "\n"
   ]
  },
  {
   "cell_type": "code",
   "execution_count": 41,
   "metadata": {
    "id": "IQk1WIEveOgs"
   },
   "outputs": [],
   "source": [
    "import numpy as np\n",
    "from sklearn.naive_bayes import MultinomialNB\n",
    "from sklearn.naive_bayes import GaussianNB\n",
    "from sklearn.datasets import load_iris\n",
    "from sklearn.linear_model import LogisticRegression, LinearRegression, Ridge, Lasso, ElasticNet\n",
    "from sklearn.svm import SVC\n",
    "from sklearn.svm import LinearSVC\n",
    "from sklearn.pipeline import make_pipeline\n",
    "from sklearn.preprocessing import StandardScaler\n",
    "import sklearn.datasets as datasets\n",
    "from sklearn.kernel_approximation import Nystroem\n",
    "from sklearn.ensemble import RandomForestClassifier, AdaBoostClassifier\n",
    "from sklearn.datasets import make_classification\n",
    "from sklearn.ensemble import BaggingClassifier\n",
    "from sklearn.model_selection import cross_val_score\n",
    "from sklearn.neural_network import MLPClassifier\n",
    "from sklearn.discriminant_analysis import QuadraticDiscriminantAnalysis\n",
    "from sklearn.gaussian_process import GaussianProcessClassifier\n",
    "from sklearn.gaussian_process.kernels import RBF\n",
    "from sklearn.tree import DecisionTreeClassifier\n",
    "from sklearn.datasets import make_hastie_10_2\n",
    "from sklearn.ensemble import GradientBoostingClassifier\n",
    "import pickle\n",
    "from sklearn.model_selection import train_test_split\n",
    "from sklearn.model_selection import GridSearchCV\n",
    "from sklearn.metrics import accuracy_score\n",
    "from sklearn.metrics import confusion_matrix"
   ]
  },
  {
   "cell_type": "markdown",
   "metadata": {},
   "source": [
    "### Load Dataset"
   ]
  },
  {
   "cell_type": "code",
   "execution_count": 3,
   "metadata": {},
   "outputs": [],
   "source": [
    "file = open(\"../data/processed/data.p\",'rb')\n",
    "data = pickle.load(file)\n",
    "file.close()\n",
    "\n",
    "file = open(\"../data/processed/labels.p\",'rb')\n",
    "labels = pickle.load(file)\n",
    "file.close()"
   ]
  },
  {
   "cell_type": "code",
   "execution_count": 4,
   "metadata": {},
   "outputs": [
    {
     "name": "stdout",
     "output_type": "stream",
     "text": [
      "embeddings: (1450, 200)\n",
      "label: (1450,)\n"
     ]
    }
   ],
   "source": [
    "label = labels[:,0]\n",
    "print('embeddings: {}'.format(data.shape))\n",
    "print('label: {}'.format(label.shape))"
   ]
  },
  {
   "cell_type": "code",
   "execution_count": 5,
   "metadata": {},
   "outputs": [],
   "source": [
    "# get rid of Nones\n",
    "# for i in range(label.shape[0]):\n",
    "#     print(label[i])\n",
    "#     if label[i] == None:\n",
    "#         print(i)\n",
    "# 299 -> 448"
   ]
  },
  {
   "cell_type": "code",
   "execution_count": 6,
   "metadata": {},
   "outputs": [
    {
     "name": "stdout",
     "output_type": "stream",
     "text": [
      "embeddings: (1299, 200)\n",
      "label: (1299,)\n"
     ]
    }
   ],
   "source": [
    "label = np.concatenate((label[:298], label[449::]), 0)\n",
    "label=label.astype('int')\n",
    "data = np.concatenate((data[:298], data[449::]), 0)\n",
    "print('embeddings: {}'.format(data.shape))\n",
    "print('label: {}'.format(label.shape))"
   ]
  },
  {
   "cell_type": "markdown",
   "metadata": {},
   "source": [
    "### Support Vector Machine: Multi-Class Classification"
   ]
  },
  {
   "cell_type": "code",
   "execution_count": 7,
   "metadata": {},
   "outputs": [
    {
     "name": "stdout",
     "output_type": "stream",
     "text": [
      "(1039, 200) (260, 200) (1039,) (260,)\n"
     ]
    }
   ],
   "source": [
    "X_train, X_test, y_train, y_test = train_test_split(data, label, test_size=0.2, random_state=42, stratify=label)\n",
    "print(X_train.shape, X_test.shape, y_train.shape, y_test.shape)"
   ]
  },
  {
   "cell_type": "code",
   "execution_count": 8,
   "metadata": {},
   "outputs": [
    {
     "data": {
      "text/plain": [
       "GridSearchCV(estimator=SVC(),\n",
       "             param_grid={'C': [1, 10], 'kernel': ('linear', 'rbf')})"
      ]
     },
     "execution_count": 8,
     "metadata": {},
     "output_type": "execute_result"
    }
   ],
   "source": [
    "parameters = {'kernel':('linear', 'rbf'), 'C':[1, 10]}\n",
    "svc = SVC()\n",
    "clf = GridSearchCV(svc, parameters)\n",
    "clf.fit(X_train, y_train)"
   ]
  },
  {
   "cell_type": "markdown",
   "metadata": {},
   "source": [
    "### Test on Training Data"
   ]
  },
  {
   "cell_type": "code",
   "execution_count": 9,
   "metadata": {},
   "outputs": [
    {
     "data": {
      "text/plain": [
       "0.7247353224254091"
      ]
     },
     "execution_count": 9,
     "metadata": {},
     "output_type": "execute_result"
    }
   ],
   "source": [
    "pred_train = clf.predict(X_train)\n",
    "accuracy_score(y_train, pred_train)"
   ]
  },
  {
   "cell_type": "code",
   "execution_count": 10,
   "metadata": {},
   "outputs": [
    {
     "data": {
      "text/plain": [
       "array([[ 20,  13,   0,   5,   1,   0,   0,   2,   0,   0,  13],\n",
       "       [  1,  95,   0,   4,   1,   0,   0,   0,   0,   0,  12],\n",
       "       [  2,  13,   2,   1,   0,   0,   0,   0,   0,   0,   5],\n",
       "       [  2,  19,   0,  41,   1,   0,   0,   0,   0,   0,  23],\n",
       "       [  1,  11,   0,   2,  20,   0,   0,   0,   0,   1,   9],\n",
       "       [  2,  12,   0,   5,   0,   3,   0,   0,   0,   0,  14],\n",
       "       [  0,   4,   0,   2,   0,   0,   6,   1,   0,   1,   4],\n",
       "       [  2,   9,   0,   9,   1,   0,   0,   4,   0,   1,  21],\n",
       "       [  0,   5,   0,   1,   0,   0,   0,   0,   0,   0,   0],\n",
       "       [  3,  18,   0,   5,   0,   0,   0,   0,   0,   9,  17],\n",
       "       [  1,   3,   0,   3,   0,   0,   0,   0,   0,   0, 553]],\n",
       "      dtype=int64)"
      ]
     },
     "execution_count": 10,
     "metadata": {},
     "output_type": "execute_result"
    }
   ],
   "source": [
    "confusion_matrix(y_train, pred_train)"
   ]
  },
  {
   "cell_type": "markdown",
   "metadata": {},
   "source": [
    "### Test on Testing Data"
   ]
  },
  {
   "cell_type": "code",
   "execution_count": 11,
   "metadata": {},
   "outputs": [
    {
     "data": {
      "text/plain": [
       "0.6538461538461539"
      ]
     },
     "execution_count": 11,
     "metadata": {},
     "output_type": "execute_result"
    }
   ],
   "source": [
    "pred_test = clf.predict(X_test)\n",
    "accuracy_score(y_test, pred_test)"
   ]
  },
  {
   "cell_type": "code",
   "execution_count": 12,
   "metadata": {},
   "outputs": [
    {
     "data": {
      "text/plain": [
       "array([[  6,   4,   0,   1,   0,   0,   0,   0,   0,   1,   1],\n",
       "       [  0,  19,   0,   2,   0,   0,   0,   0,   0,   0,   7],\n",
       "       [  0,   2,   0,   0,   2,   0,   0,   0,   0,   0,   2],\n",
       "       [  0,   8,   0,   4,   1,   0,   0,   0,   0,   0,   9],\n",
       "       [  0,   3,   0,   1,   5,   0,   0,   0,   0,   0,   2],\n",
       "       [  0,   2,   0,   1,   1,   0,   0,   0,   0,   0,   5],\n",
       "       [  1,   1,   1,   0,   0,   0,   0,   0,   0,   0,   1],\n",
       "       [  0,   7,   0,   0,   0,   0,   0,   1,   0,   0,   4],\n",
       "       [  0,   1,   0,   0,   0,   0,   0,   0,   0,   0,   1],\n",
       "       [  0,   3,   0,   1,   1,   0,   0,   0,   0,   0,   8],\n",
       "       [  0,   3,   0,   2,   0,   0,   0,   0,   0,   0, 135]],\n",
       "      dtype=int64)"
      ]
     },
     "execution_count": 12,
     "metadata": {},
     "output_type": "execute_result"
    }
   ],
   "source": [
    "confusion_matrix(y_test, pred_test)"
   ]
  },
  {
   "cell_type": "markdown",
   "metadata": {},
   "source": [
    "## Linear Regression & Evaluation of Different Types of Regularization"
   ]
  },
  {
   "cell_type": "markdown",
   "metadata": {},
   "source": [
    "## Vanilla Linear Regression (No Regularization)"
   ]
  },
  {
   "cell_type": "code",
   "execution_count": 86,
   "metadata": {},
   "outputs": [
    {
     "name": "stdout",
     "output_type": "stream",
     "text": [
      "Training Accuracy: 0.6195824242931637\n",
      "Training Accuracy: 0.4464623202341178\n"
     ]
    }
   ],
   "source": [
    "reg = LinearRegression().fit(X_train, y_train)\n",
    "print(\"Training Accuracy: \" + str(reg.score(X_train, y_train)))\n",
    "print(\"Training Accuracy: \" + str(reg.score(X_test, y_test)))"
   ]
  },
  {
   "cell_type": "markdown",
   "metadata": {},
   "source": [
    "## Ridge Regression (L2 Regularization)"
   ]
  },
  {
   "cell_type": "code",
   "execution_count": 98,
   "metadata": {},
   "outputs": [
    {
     "name": "stdout",
     "output_type": "stream",
     "text": [
      "Fitting 10 folds for each of 10 candidates, totalling 100 fits\n",
      "Training Accuracy: 0.5454773677585926\n",
      "Testing Accuracy: 0.5169477873199229\n",
      "{'alpha': 2}\n"
     ]
    }
   ],
   "source": [
    "parameters = {'alpha':[1e-4, 1e-3, 1e-2, 0.1, 0.2, 0.5, 1, 2, 5, 10]}\n",
    "rid = Ridge()\n",
    "clf = GridSearchCV(rid, parameters, cv=10, verbose=1)\n",
    "clf.fit(X_train, y_train)\n",
    "print(\"Training Accuracy: \" + str(clf.score(X_train, y_train)))\n",
    "print(\"Testing Accuracy: \" + str(clf.score(X_test, y_test)))\n",
    "print(clf.best_params_)"
   ]
  },
  {
   "cell_type": "markdown",
   "metadata": {},
   "source": [
    "## Lasso Regression (L1 Regularization)"
   ]
  },
  {
   "cell_type": "code",
   "execution_count": 99,
   "metadata": {},
   "outputs": [
    {
     "name": "stdout",
     "output_type": "stream",
     "text": [
      "Fitting 10 folds for each of 12 candidates, totalling 120 fits\n",
      "Training Accuracy: 0.5869160640569879\n",
      "Testing Accuracy: 0.49856041968169207\n",
      "{'alpha': 0.001}\n"
     ]
    }
   ],
   "source": [
    "parameters = {'alpha':[1e-5, 1e-4, 1e-3, 1e-2, 0.1, 0.2, 0.5, 1, 2, 5, 10, 100]}\n",
    "\n",
    "las = Lasso(max_iter = 10000)\n",
    "clf = GridSearchCV(las, parameters, cv=10, verbose=1)\n",
    "clf.fit(X_train, y_train)\n",
    "print(\"Training Accuracy: \" + str(clf.score(X_train, y_train)))\n",
    "print(\"Testing Accuracy: \" + str(clf.score(X_test, y_test)))\n",
    "print(clf.best_params_)"
   ]
  },
  {
   "cell_type": "markdown",
   "metadata": {},
   "source": [
    "## ElasticNet Regression (L1 + L2 Regularization)"
   ]
  },
  {
   "cell_type": "code",
   "execution_count": 103,
   "metadata": {},
   "outputs": [
    {
     "name": "stdout",
     "output_type": "stream",
     "text": [
      "Fitting 10 folds for each of 84 candidates, totalling 840 fits\n",
      "Training Accuracy: 0.5675894103664105\n",
      "Testing Accuracy: 0.520764478468223\n",
      "{'alpha': 0.001, 'l1_ratio': 0.05}\n"
     ]
    }
   ],
   "source": [
    "parameters = {'alpha':[1e-5, 1e-4, 1e-3, 1e-2, 0.1, 0.2, 0.5, 1, 2, 5, 10, 100], 'l1_ratio':[0.05, 0.1, 0.15, 0.25, 0.5, 0.75, 1]}\n",
    "\n",
    "las = ElasticNet(max_iter = 10000)\n",
    "clf = GridSearchCV(las, parameters, cv=10, verbose=1)\n",
    "clf.fit(X_train, y_train)\n",
    "print(\"Training Accuracy: \" + str(clf.score(X_train, y_train)))\n",
    "print(\"Testing Accuracy: \" + str(clf.score(X_test, y_test)))\n",
    "print(clf.best_params_)"
   ]
  },
  {
   "cell_type": "markdown",
   "metadata": {},
   "source": [
    "## Train/Test on Multiple Classifiers"
   ]
  },
  {
   "cell_type": "code",
   "execution_count": 30,
   "metadata": {},
   "outputs": [
    {
     "name": "stdout",
     "output_type": "stream",
     "text": [
      "{'Linear SVM': 0.5384615384615384, 'RBF SVM': 0.6461538461538462, 'Gaussian Process': 0.6615384615384615, 'Logistic RegressionDecision Tree': 0.6192307692307693, 'Random Forest': 0.5, 'Neural Net': 0.5384615384615384, 'AdaBoost': 0.5769230769230769, 'Naive Bayes': 0.5384615384615384, 'Bagging Classifier': 0.5884615384615385}\n"
     ]
    }
   ],
   "source": [
    "names = [\"Linear SVM\", \"RBF SVM\", \"Gaussian Process\", \"Logistic Regression\"\n",
    "         \"Decision Tree\", \"Random Forest\", \"Neural Net\", \"AdaBoost\",\n",
    "         \"Naive Bayes\", \"Bagging Classifier\"]\n",
    "         \n",
    "classifiers = [\n",
    "    SVC(kernel=\"linear\", C=0.025),\n",
    "    SVC(gamma=2, C=1),\n",
    "    GaussianProcessClassifier(1.0 * RBF(1.0)),\n",
    "    LogisticRegression(random_state=0, max_iter = 5000),\n",
    "    DecisionTreeClassifier(max_depth=5),\n",
    "    RandomForestClassifier(max_depth=5, n_estimators=10, max_features=1),\n",
    "    MLPClassifier(alpha=1, max_iter=5000),\n",
    "    AdaBoostClassifier(),\n",
    "    GaussianNB(),\n",
    "    BaggingClassifier(base_estimator=SVC(),\n",
    "                        n_estimators=10, random_state=0)]\n",
    "\n",
    "score_dict = dict()\n",
    "for name, clf in zip(names, classifiers):\n",
    "        clf.fit(X_train, y_train)\n",
    "        score = clf.score(X_test, y_test)\n",
    "        score_dict[name] = score\n",
    "print(score_dict)"
   ]
  },
  {
   "cell_type": "code",
   "execution_count": 22,
   "metadata": {
    "colab": {
     "base_uri": "https://localhost:8080/"
    },
    "id": "Jx7DzWnAimTq",
    "outputId": "24ec0751-06f8-4a80-9af2-b8387e4cf9e5"
   },
   "outputs": [
    {
     "name": "stdout",
     "output_type": "stream",
     "text": [
      "[1]\n"
     ]
    }
   ],
   "source": [
    "# Vanilla SVM, https://scikit-learn.org/stable/modules/generated/sklearn.svm.SVC.html\n",
    "X = np.array([[-1, -1], [-2, -1], [1, 1], [2, 1]])\n",
    "y = np.array([1, 1, 2, 2])\n",
    "clf = make_pipeline(StandardScaler(), SVC(gamma='auto'))\n",
    "clf.fit(X, y)\n",
    "print(clf.predict([[-0.8, -1]]))"
   ]
  },
  {
   "cell_type": "code",
   "execution_count": 2,
   "metadata": {
    "colab": {
     "base_uri": "https://localhost:8080/"
    },
    "id": "jhztfSqVeTgk",
    "outputId": "75675487-7eb7-4e16-e466-f768414b02dd"
   },
   "outputs": [
    {
     "name": "stdout",
     "output_type": "stream",
     "text": [
      "[3]\n"
     ]
    }
   ],
   "source": [
    "# Multinomial Naive Bayes\n",
    "rng = np.random.RandomState(1)\n",
    "X = rng.randint(5, size=(6, 100))\n",
    "y = np.array([1, 2, 3, 4, 5, 6])\n",
    "clf = MultinomialNB()\n",
    "clf.fit(X, y)\n",
    "print(clf.predict(X[2:3]))"
   ]
  },
  {
   "cell_type": "code",
   "execution_count": 3,
   "metadata": {
    "colab": {
     "base_uri": "https://localhost:8080/"
    },
    "id": "kN85KiXXedmH",
    "outputId": "3ff8ead1-ec50-42b5-aa19-dd3dd880e9b6"
   },
   "outputs": [
    {
     "name": "stdout",
     "output_type": "stream",
     "text": [
      "[1]\n",
      "[1]\n"
     ]
    }
   ],
   "source": [
    "# Gaussian NB\n",
    "X = np.array([[-1, -1], [-2, -1], [-3, -2], [1, 1], [2, 1], [3, 2]])\n",
    "Y = np.array([1, 1, 1, 2, 2, 2])\n",
    "clf = GaussianNB()\n",
    "clf.fit(X, Y)\n",
    "print(clf.predict([[-0.8, -1]]))\n",
    "\n",
    "clf_pf = GaussianNB()\n",
    "clf_pf.partial_fit(X, Y, np.unique(Y))\n",
    "print(clf_pf.predict([[-0.8, -1]]))"
   ]
  },
  {
   "cell_type": "code",
   "execution_count": 4,
   "metadata": {
    "colab": {
     "base_uri": "https://localhost:8080/"
    },
    "id": "mS0VeOXTf3o_",
    "outputId": "aa5e8046-6733-41df-c997-197215a76886"
   },
   "outputs": [
    {
     "name": "stdout",
     "output_type": "stream",
     "text": [
      "[0 0]\n",
      "[[9.81579028e-01 1.84209573e-02 1.44796627e-08]\n",
      " [9.71349907e-01 2.86500630e-02 3.01442199e-08]]\n",
      "0.9733333333333334\n"
     ]
    }
   ],
   "source": [
    "# Logistic Regression, https://scikit-learn.org/stable/modules/generated/sklearn.linear_model.LogisticRegression.html\n",
    "X, y = load_iris(return_X_y=True)\n",
    "clf = LogisticRegression(random_state=0, max_iter = 50000).fit(X, y)\n",
    "print(clf.predict(X[:2, :]))\n",
    "\n",
    "print(clf.predict_proba(X[:2, :]))\n",
    "print(clf.score(X, y))"
   ]
  },
  {
   "cell_type": "code",
   "execution_count": 32,
   "metadata": {
    "colab": {
     "base_uri": "https://localhost:8080/"
    },
    "id": "M70ytPdOn7E2",
    "outputId": "a8377286-ae78-48ec-b13c-7eb68ed3d56f"
   },
   "outputs": [
    {
     "data": {
      "text/plain": [
       "1.0"
      ]
     },
     "execution_count": 32,
     "metadata": {
      "tags": []
     },
     "output_type": "execute_result"
    }
   ],
   "source": [
    "# Linear SVM for large datasets, https://scikit-learn.org/stable/modules/generated/sklearn.svm.LinearSVC.html#sklearn.svm.LinearSVC\n",
    "X, y = datasets.load_digits(n_class=9, return_X_y=True)\n",
    "data = X / 16\n",
    "feature_map_nystroem = Nystroem(gamma=.2,\n",
    "                                random_state=1,\n",
    "                                n_components=300)\n",
    "data_transformed = feature_map_nystroem.fit_transform(data)\n",
    "\n",
    "clf = make_pipeline(StandardScaler(),\n",
    "                  LinearSVC(random_state=0, tol=1e-5, max_iter = 50000))\n",
    "clf.fit(data_transformed, y)\n",
    "clf.score(data_transformed, y)"
   ]
  },
  {
   "cell_type": "code",
   "execution_count": 35,
   "metadata": {
    "colab": {
     "base_uri": "https://localhost:8080/"
    },
    "id": "6frSiipjo0y2",
    "outputId": "a842098b-fc12-405a-d97c-290b34469f24"
   },
   "outputs": [
    {
     "name": "stdout",
     "output_type": "stream",
     "text": [
      "[1]\n"
     ]
    }
   ],
   "source": [
    "# Random Forest Classification, https://scikit-learn.org/stable/modules/generated/sklearn.ensemble.RandomForestClassifier.html\n",
    "X, y = make_classification(n_samples=1000, n_features=4,\n",
    "                           n_informative=2, n_redundant=0,\n",
    "                           random_state=0, shuffle=False)\n",
    "clf = RandomForestClassifier(max_depth=2, random_state=0)\n",
    "clf.fit(X, y)\n",
    "print(clf.predict([[0, 0, 0, 0]]))"
   ]
  },
  {
   "cell_type": "code",
   "execution_count": 40,
   "metadata": {
    "colab": {
     "base_uri": "https://localhost:8080/"
    },
    "id": "MWRILYeStNbb",
    "outputId": "ace8e7e9-6851-4327-902c-38d175cd0d4c"
   },
   "outputs": [
    {
     "data": {
      "text/plain": [
       "array([1.        , 0.93333333, 1.        , 0.93333333, 0.93333333,\n",
       "       0.86666667, 0.93333333, 1.        , 1.        , 1.        ])"
      ]
     },
     "execution_count": 40,
     "metadata": {
      "tags": []
     },
     "output_type": "execute_result"
    }
   ],
   "source": [
    "# Decision Tree Classifier, https://scikit-learn.org/stable/modules/generated/sklearn.tree.DecisionTreeClassifier.html#sklearn.tree.DecisionTreeClassifier\n",
    "clf = DecisionTreeClassifier(random_state=0)\n",
    "iris = load_iris()\n",
    "cross_val_score(clf, iris.data, iris.target, cv=10)"
   ]
  },
  {
   "cell_type": "code",
   "execution_count": 38,
   "metadata": {
    "colab": {
     "base_uri": "https://localhost:8080/"
    },
    "id": "QkLbsnHLqi8X",
    "outputId": "47372b8e-7647-42de-b796-1e96088031fe"
   },
   "outputs": [
    {
     "data": {
      "text/plain": [
       "array([1])"
      ]
     },
     "execution_count": 38,
     "metadata": {
      "tags": []
     },
     "output_type": "execute_result"
    }
   ],
   "source": [
    "# Bagging Classifier, https://scikit-learn.org/stable/modules/generated/sklearn.ensemble.BaggingClassifier.html\n",
    "X, y = make_classification(n_samples=100, n_features=4,\n",
    "                           n_informative=2, n_redundant=0,\n",
    "                           random_state=0, shuffle=False)\n",
    "clf = BaggingClassifier(base_estimator=SVC(),\n",
    "                        n_estimators=10, random_state=0).fit(X, y)\n",
    "clf.predict([[0, 0, 0, 0]])"
   ]
  },
  {
   "cell_type": "code",
   "execution_count": 43,
   "metadata": {
    "colab": {
     "base_uri": "https://localhost:8080/"
    },
    "id": "W32gGIvGsWli",
    "outputId": "f1385b58-3e2c-404c-9c13-20c2a28d3b92"
   },
   "outputs": [
    {
     "data": {
      "text/plain": [
       "0.913"
      ]
     },
     "execution_count": 43,
     "metadata": {
      "tags": []
     },
     "output_type": "execute_result"
    }
   ],
   "source": [
    "# Gradient Boosting Classifier, https://scikit-learn.org/stable/modules/generated/sklearn.ensemble.GradientBoostingClassifier.html\n",
    "X, y = make_hastie_10_2(random_state=0)\n",
    "X_train, X_test = X[:2000], X[2000:]\n",
    "y_train, y_test = y[:2000], y[2000:]\n",
    "\n",
    "clf = GradientBoostingClassifier(n_estimators=100, learning_rate=1.0,\n",
    "      max_depth=1, random_state=0).fit(X_train, y_train)\n",
    "clf.score(X_test, y_test)"
   ]
  },
  {
   "cell_type": "code",
   "execution_count": 19,
   "metadata": {
    "colab": {
     "base_uri": "https://localhost:8080/"
    },
    "id": "nKka6VdKt2vU",
    "outputId": "ba87a29d-0eff-4825-86ec-ffe7c6803f5f"
   },
   "outputs": [
    {
     "data": {
      "text/plain": [
       "array([1, 0])"
      ]
     },
     "execution_count": 19,
     "metadata": {},
     "output_type": "execute_result"
    }
   ],
   "source": [
    "# MLP Classifier, https://scikit-learn.org/stable/modules/neural_networks_supervised.html\n",
    "X = [[0., 0.], [1., 1.]]\n",
    "y = [0, 1]\n",
    "clf = MLPClassifier(solver='lbfgs', alpha=1e-5,\n",
    "                    hidden_layer_sizes=(5, 2), random_state=1)\n",
    "\n",
    "clf.fit(X, y)\n",
    "clf.predict([[2., 2.], [-1., -2.]])"
   ]
  },
  {
   "cell_type": "code",
   "execution_count": null,
   "metadata": {
    "id": "SIhPUyNTu3QD"
   },
   "outputs": [],
   "source": []
  }
 ],
 "metadata": {
  "colab": {
   "name": "supervised.ipynb",
   "provenance": []
  },
  "kernelspec": {
   "display_name": "Python 3",
   "language": "python",
   "name": "python3"
  },
  "language_info": {
   "codemirror_mode": {
    "name": "ipython",
    "version": 3
   },
   "file_extension": ".py",
   "mimetype": "text/x-python",
   "name": "python",
   "nbconvert_exporter": "python",
   "pygments_lexer": "ipython3",
   "version": "3.9.0"
  }
 },
 "nbformat": 4,
 "nbformat_minor": 4
}
