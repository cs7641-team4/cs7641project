{
 "cells": [
  {
   "cell_type": "markdown",
   "metadata": {
    "id": "8oAFT3fveI9A"
   },
   "source": [
    "- (Gaussian) Multinomial Naive Bayes with Grid Search\n",
    "- Logistic Regression\n",
    "- Support Vector Machines\n",
    "- Decision Tree\n",
    "- Random Forest & Bagging Classifier\n",
    "- Boosting XGBoost\n",
    "- Neural Nets\n",
    "\n"
   ]
  },
  {
   "cell_type": "code",
   "execution_count": 33,
   "metadata": {
    "id": "IQk1WIEveOgs"
   },
   "outputs": [],
   "source": [
    "import numpy as np\n",
    "from sklearn.naive_bayes import MultinomialNB\n",
    "from sklearn.naive_bayes import GaussianNB\n",
    "from sklearn.datasets import load_iris\n",
    "from sklearn.linear_model import LogisticRegression, LinearRegression, Ridge, Lasso, ElasticNet\n",
    "from sklearn.svm import SVC\n",
    "from sklearn.svm import LinearSVC\n",
    "from sklearn.pipeline import make_pipeline\n",
    "from sklearn.preprocessing import StandardScaler\n",
    "import sklearn.datasets as datasets\n",
    "from sklearn.kernel_approximation import Nystroem\n",
    "from sklearn.ensemble import RandomForestClassifier, AdaBoostClassifier\n",
    "from sklearn.datasets import make_classification\n",
    "from sklearn.ensemble import BaggingClassifier\n",
    "from sklearn.model_selection import cross_val_score\n",
    "from sklearn.neural_network import MLPClassifier\n",
    "from sklearn.discriminant_analysis import QuadraticDiscriminantAnalysis\n",
    "from sklearn.gaussian_process import GaussianProcessClassifier\n",
    "from sklearn.gaussian_process.kernels import RBF\n",
    "from sklearn.tree import DecisionTreeClassifier\n",
    "from sklearn.datasets import make_hastie_10_2\n",
    "from sklearn.ensemble import GradientBoostingClassifier\n",
    "import pickle\n",
    "from sklearn.model_selection import train_test_split\n",
    "from sklearn.model_selection import GridSearchCV\n",
    "from sklearn.metrics import accuracy_score, classification_report\n",
    "from sklearn.metrics import confusion_matrix\n",
    "from collections import Counter\n",
    "from imblearn.over_sampling import SMOTE"
   ]
  },
  {
   "cell_type": "code",
   "execution_count": 21,
   "metadata": {},
   "outputs": [],
   "source": [
    "# from LanguageModels.Word2Vec import Word2Vec\n",
    "# from Preprocessing.LemmatizerPreprocessor import LemmatizerPreprocessor\n",
    "# from Preprocessing.DataLoader import DataLoader"
   ]
  },
  {
   "cell_type": "markdown",
   "metadata": {},
   "source": [
    "### Load Dataset"
   ]
  },
  {
   "cell_type": "code",
   "execution_count": 22,
   "metadata": {},
   "outputs": [],
   "source": [
    "file = open(\"../data/processed/data.p\",'rb')\n",
    "data = pickle.load(file)\n",
    "file.close()\n",
    "\n",
    "file = open(\"../data/processed/labels.p\",'rb')\n",
    "labels = pickle.load(file)\n",
    "file.close()"
   ]
  },
  {
   "cell_type": "code",
   "execution_count": 23,
   "metadata": {},
   "outputs": [
    {
     "name": "stdout",
     "output_type": "stream",
     "text": [
      "embeddings: (1450, 200)\n",
      "label: (1450,)\n"
     ]
    }
   ],
   "source": [
    "label = labels[:,0]\n",
    "print('embeddings: {}'.format(data.shape))\n",
    "print('label: {}'.format(label.shape))"
   ]
  },
  {
   "cell_type": "code",
   "execution_count": 24,
   "metadata": {},
   "outputs": [],
   "source": [
    "# get rid of Nones\n",
    "# for i in range(label.shape[0]):\n",
    "#     print(label[i])\n",
    "#     if label[i] == None:\n",
    "#         print(i)\n",
    "# 299 -> 448"
   ]
  },
  {
   "cell_type": "code",
   "execution_count": 25,
   "metadata": {},
   "outputs": [
    {
     "name": "stdout",
     "output_type": "stream",
     "text": [
      "embeddings: (1299, 200)\n",
      "label: (1299,)\n"
     ]
    }
   ],
   "source": [
    "label = np.concatenate((label[:298], label[449::]), 0)\n",
    "label=label.astype('int')\n",
    "data = np.concatenate((data[:298], data[449::]), 0)\n",
    "print('embeddings: {}'.format(data.shape))\n",
    "print('label: {}'.format(label.shape))"
   ]
  },
  {
   "cell_type": "code",
   "execution_count": 26,
   "metadata": {},
   "outputs": [
    {
     "name": "stdout",
     "output_type": "stream",
     "text": [
      "(1039, 200) (260, 200) (1039,) (260,)\n",
      "Counter({11: 560, 2: 113, 4: 86, 1: 54, 10: 52, 8: 47, 5: 44, 6: 36, 3: 23, 7: 18, 9: 6})\n",
      "Counter({11: 140, 2: 28, 4: 22, 10: 13, 1: 13, 8: 12, 5: 11, 6: 9, 3: 6, 7: 4, 9: 2})\n"
     ]
    }
   ],
   "source": [
    "def f(i):\n",
    "    if i == 11:\n",
    "        return 0\n",
    "    else:\n",
    "        return 1\n",
    "X_train, X_test, y_train, y_test = train_test_split(data, label, test_size=0.2, random_state=42, stratify=label)\n",
    "print(X_train.shape, X_test.shape, y_train.shape, y_test.shape)\n",
    "print(Counter(y_train.tolist()))\n",
    "print(Counter(y_test.tolist()))\n",
    "\n",
    "##\n",
    "y_train_binary = np.array([f(i) for i in y_train])\n",
    "y_test_binary = np.array([f(i) for i in y_test])\n",
    "##"
   ]
  },
  {
   "cell_type": "markdown",
   "metadata": {},
   "source": [
    "### Support Vector Machine: Multi-Class Classification"
   ]
  },
  {
   "cell_type": "code",
   "execution_count": 97,
   "metadata": {},
   "outputs": [
    {
     "data": {
      "text/plain": [
       "GridSearchCV(estimator=SVC(),\n",
       "             param_grid={'C': [1, 10], 'kernel': ('linear', 'rbf')})"
      ]
     },
     "execution_count": 97,
     "metadata": {},
     "output_type": "execute_result"
    }
   ],
   "source": [
    "parameters = {'kernel':('linear', 'rbf'), 'C':[1, 10]}\n",
    "svc = SVC()\n",
    "clf = GridSearchCV(svc, parameters)\n",
    "clf.fit(X_train, y_train)"
   ]
  },
  {
   "cell_type": "markdown",
   "metadata": {},
   "source": [
    "### Test on Training Data"
   ]
  },
  {
   "cell_type": "code",
   "execution_count": 98,
   "metadata": {},
   "outputs": [
    {
     "data": {
      "text/plain": [
       "0.9938311688311688"
      ]
     },
     "execution_count": 98,
     "metadata": {},
     "output_type": "execute_result"
    }
   ],
   "source": [
    "pred_train = clf.predict(X_train)\n",
    "accuracy_score(y_train, pred_train)"
   ]
  },
  {
   "cell_type": "code",
   "execution_count": 99,
   "metadata": {},
   "outputs": [
    {
     "data": {
      "text/plain": [
       "array([[560,   0,   0,   0,   0,   0,   0,   0,   0,   0,   0],\n",
       "       [  2, 554,   0,   2,   1,   0,   0,   0,   0,   0,   1],\n",
       "       [  0,   0, 560,   0,   0,   0,   0,   0,   0,   0,   0],\n",
       "       [  1,   2,   2, 553,   0,   0,   0,   1,   0,   0,   1],\n",
       "       [  0,   0,   0,   0, 560,   0,   0,   0,   0,   0,   0],\n",
       "       [  0,   0,   0,   0,   0, 560,   0,   0,   0,   0,   0],\n",
       "       [  0,   0,   0,   0,   0,   0, 560,   0,   0,   0,   0],\n",
       "       [  0,   0,   0,   0,   0,   0,   0, 560,   0,   0,   0],\n",
       "       [  0,   0,   0,   0,   0,   0,   0,   0, 560,   0,   0],\n",
       "       [  0,   0,   0,   0,   0,   0,   0,   0,   0, 560,   0],\n",
       "       [  4,   6,   0,   9,   2,   0,   0,   1,   0,   3, 535]],\n",
       "      dtype=int64)"
      ]
     },
     "execution_count": 99,
     "metadata": {},
     "output_type": "execute_result"
    }
   ],
   "source": [
    "confusion_matrix(y_train, pred_train)"
   ]
  },
  {
   "cell_type": "markdown",
   "metadata": {},
   "source": [
    "### Test on Testing Data"
   ]
  },
  {
   "cell_type": "code",
   "execution_count": 100,
   "metadata": {},
   "outputs": [
    {
     "data": {
      "text/plain": [
       "0.5884615384615385"
      ]
     },
     "execution_count": 100,
     "metadata": {},
     "output_type": "execute_result"
    }
   ],
   "source": [
    "pred_test = clf.predict(X_test)\n",
    "accuracy_score(y_test, pred_test)"
   ]
  },
  {
   "cell_type": "code",
   "execution_count": 101,
   "metadata": {},
   "outputs": [
    {
     "data": {
      "text/plain": [
       "array([[  6,   1,   0,   1,   0,   1,   1,   2,   0,   1,   0],\n",
       "       [  4,  16,   1,   0,   0,   0,   0,   1,   0,   2,   4],\n",
       "       [  0,   1,   0,   1,   2,   0,   0,   1,   0,   0,   1],\n",
       "       [  4,   4,   0,   3,   1,   4,   0,   4,   0,   0,   2],\n",
       "       [  0,   2,   0,   3,   5,   0,   0,   0,   0,   1,   0],\n",
       "       [  3,   2,   1,   0,   1,   0,   1,   0,   0,   1,   0],\n",
       "       [  1,   0,   1,   1,   0,   0,   0,   0,   0,   0,   1],\n",
       "       [  5,   3,   0,   0,   1,   2,   0,   0,   0,   0,   1],\n",
       "       [  0,   1,   0,   0,   1,   0,   0,   0,   0,   0,   0],\n",
       "       [  2,   3,   0,   1,   1,   2,   0,   0,   0,   1,   3],\n",
       "       [  0,   1,   2,   6,   1,   3,   1,   1,   0,   3, 122]],\n",
       "      dtype=int64)"
      ]
     },
     "execution_count": 101,
     "metadata": {},
     "output_type": "execute_result"
    }
   ],
   "source": [
    "confusion_matrix(y_test, pred_test)"
   ]
  },
  {
   "cell_type": "markdown",
   "metadata": {},
   "source": [
    "## Linear Regression & Evaluation of Different Types of Regularization"
   ]
  },
  {
   "cell_type": "markdown",
   "metadata": {},
   "source": [
    "## Vanilla Linear Regression (No Regularization)"
   ]
  },
  {
   "cell_type": "code",
   "execution_count": 88,
   "metadata": {},
   "outputs": [
    {
     "name": "stdout",
     "output_type": "stream",
     "text": [
      "Training Accuracy: 0.6195824242931637\n",
      "Training Accuracy: 0.4464623202341178\n",
      "Counter({11: 560, 2: 113, 4: 86, 1: 54, 10: 52, 8: 47, 5: 44, 6: 36, 3: 23, 7: 18, 9: 6})\n"
     ]
    }
   ],
   "source": [
    "reg = LinearRegression().fit(X_train, y_train)\n",
    "print(\"Training Accuracy: \" + str(reg.score(X_train, y_train)))\n",
    "print(\"Training Accuracy: \" + str(reg.score(X_test, y_test)))\n",
    "print(Counter(y_train.tolist()))"
   ]
  },
  {
   "cell_type": "markdown",
   "metadata": {},
   "source": [
    "## Ridge Regression (L2 Regularization)"
   ]
  },
  {
   "cell_type": "code",
   "execution_count": 86,
   "metadata": {},
   "outputs": [
    {
     "name": "stdout",
     "output_type": "stream",
     "text": [
      "Fitting 10 folds for each of 10 candidates, totalling 100 fits\n",
      "Training Accuracy: 0.5454773677585926\n",
      "Testing Accuracy: 0.5169477873199229\n",
      "{'alpha': 2}\n"
     ]
    }
   ],
   "source": [
    "parameters = {'alpha':[1e-4, 1e-3, 1e-2, 0.1, 0.2, 0.5, 1, 2, 5, 10]}\n",
    "rid = Ridge()\n",
    "clf = GridSearchCV(rid, parameters, cv=10, verbose=1)\n",
    "clf.fit(X_train, y_train)\n",
    "print(\"Training Accuracy: \" + str(clf.score(X_train, y_train)))\n",
    "print(\"Testing Accuracy: \" + str(clf.score(X_test, y_test)))\n",
    "print(clf.best_params_)"
   ]
  },
  {
   "cell_type": "markdown",
   "metadata": {},
   "source": [
    "## Lasso Regression (L1 Regularization)"
   ]
  },
  {
   "cell_type": "code",
   "execution_count": 17,
   "metadata": {},
   "outputs": [
    {
     "name": "stdout",
     "output_type": "stream",
     "text": [
      "Fitting 10 folds for each of 12 candidates, totalling 120 fits\n",
      "Training Accuracy: 0.5869160640569879\n",
      "Testing Accuracy: 0.49856041968169207\n",
      "{'alpha': 0.001}\n"
     ]
    }
   ],
   "source": [
    "parameters = {'alpha':[1e-5, 1e-4, 1e-3, 1e-2, 0.1, 0.2, 0.5, 1, 2, 5, 10, 100]}\n",
    "\n",
    "las = Lasso(max_iter = 10000)\n",
    "clf = GridSearchCV(las, parameters, cv=10, verbose=1)\n",
    "clf.fit(X_train, y_train)\n",
    "print(\"Training Accuracy: \" + str(clf.score(X_train, y_train)))\n",
    "print(\"Testing Accuracy: \" + str(clf.score(X_test, y_test)))\n",
    "print(clf.best_params_)"
   ]
  },
  {
   "cell_type": "markdown",
   "metadata": {},
   "source": [
    "## ElasticNet Regression (L1 + L2 Regularization)"
   ]
  },
  {
   "cell_type": "code",
   "execution_count": 18,
   "metadata": {},
   "outputs": [
    {
     "name": "stdout",
     "output_type": "stream",
     "text": [
      "Fitting 10 folds for each of 84 candidates, totalling 840 fits\n",
      "Training Accuracy: 0.5675894103664105\n",
      "Testing Accuracy: 0.520764478468223\n",
      "{'alpha': 0.001, 'l1_ratio': 0.05}\n"
     ]
    }
   ],
   "source": [
    "parameters = {'alpha':[1e-5, 1e-4, 1e-3, 1e-2, 0.1, 0.2, 0.5, 1, 2, 5, 10, 100], 'l1_ratio':[0.05, 0.1, 0.15, 0.25, 0.5, 0.75, 1]}\n",
    "\n",
    "las = ElasticNet(max_iter = 10000)\n",
    "clf = GridSearchCV(las, parameters, cv=10, verbose=1)\n",
    "clf.fit(X_train, y_train)\n",
    "print(\"Training Accuracy: \" + str(clf.score(X_train, y_train)))\n",
    "print(\"Testing Accuracy: \" + str(clf.score(X_test, y_test)))\n",
    "print(clf.best_params_)"
   ]
  },
  {
   "cell_type": "markdown",
   "metadata": {},
   "source": [
    "## Train/Test on Multiple Classifiers"
   ]
  },
  {
   "cell_type": "code",
   "execution_count": 19,
   "metadata": {},
   "outputs": [
    {
     "name": "stderr",
     "output_type": "stream",
     "text": [
      "c:\\users\\cuong\\appdata\\local\\programs\\python\\python39\\lib\\site-packages\\sklearn\\metrics\\_classification.py:1245: UndefinedMetricWarning: Recall and F-score are ill-defined and being set to 0.0 in labels with no true samples. Use `zero_division` parameter to control this behavior.\n",
      "  _warn_prf(average, modifier, msg_start, len(result))\n",
      "c:\\users\\cuong\\appdata\\local\\programs\\python\\python39\\lib\\site-packages\\sklearn\\metrics\\_classification.py:1245: UndefinedMetricWarning: Recall and F-score are ill-defined and being set to 0.0 in labels with no true samples. Use `zero_division` parameter to control this behavior.\n",
      "  _warn_prf(average, modifier, msg_start, len(result))\n",
      "c:\\users\\cuong\\appdata\\local\\programs\\python\\python39\\lib\\site-packages\\sklearn\\metrics\\_classification.py:1245: UndefinedMetricWarning: Recall and F-score are ill-defined and being set to 0.0 in labels with no true samples. Use `zero_division` parameter to control this behavior.\n",
      "  _warn_prf(average, modifier, msg_start, len(result))\n"
     ]
    },
    {
     "name": "stdout",
     "output_type": "stream",
     "text": [
      "              precision    recall  f1-score   support\n",
      "\n",
      "           1       0.00      0.00      0.00         0\n",
      "           2       0.00      0.00      0.00         0\n",
      "           3       0.00      0.00      0.00         0\n",
      "           4       0.00      0.00      0.00         0\n",
      "           5       0.00      0.00      0.00         0\n",
      "           6       0.00      0.00      0.00         0\n",
      "           7       0.00      0.00      0.00         0\n",
      "           8       0.00      0.00      0.00         0\n",
      "           9       0.00      0.00      0.00         0\n",
      "          10       0.00      0.00      0.00         0\n",
      "          11       1.00      0.54      0.70       260\n",
      "\n",
      "    accuracy                           0.54       260\n",
      "   macro avg       0.09      0.05      0.06       260\n",
      "weighted avg       1.00      0.54      0.70       260\n",
      "\n"
     ]
    },
    {
     "name": "stderr",
     "output_type": "stream",
     "text": [
      "c:\\users\\cuong\\appdata\\local\\programs\\python\\python39\\lib\\site-packages\\sklearn\\metrics\\_classification.py:1245: UndefinedMetricWarning: Recall and F-score are ill-defined and being set to 0.0 in labels with no true samples. Use `zero_division` parameter to control this behavior.\n",
      "  _warn_prf(average, modifier, msg_start, len(result))\n",
      "c:\\users\\cuong\\appdata\\local\\programs\\python\\python39\\lib\\site-packages\\sklearn\\metrics\\_classification.py:1245: UndefinedMetricWarning: Recall and F-score are ill-defined and being set to 0.0 in labels with no true samples. Use `zero_division` parameter to control this behavior.\n",
      "  _warn_prf(average, modifier, msg_start, len(result))\n",
      "c:\\users\\cuong\\appdata\\local\\programs\\python\\python39\\lib\\site-packages\\sklearn\\metrics\\_classification.py:1245: UndefinedMetricWarning: Recall and F-score are ill-defined and being set to 0.0 in labels with no true samples. Use `zero_division` parameter to control this behavior.\n",
      "  _warn_prf(average, modifier, msg_start, len(result))\n"
     ]
    },
    {
     "name": "stdout",
     "output_type": "stream",
     "text": [
      "              precision    recall  f1-score   support\n",
      "\n",
      "           1       0.38      0.62      0.48         8\n",
      "           2       0.68      0.35      0.46        54\n",
      "           3       0.00      0.00      0.00         0\n",
      "           4       0.14      0.21      0.17        14\n",
      "           5       0.27      0.50      0.35         6\n",
      "           6       0.00      0.00      0.00         0\n",
      "           7       0.00      0.00      0.00         0\n",
      "           8       0.08      1.00      0.15         1\n",
      "           9       0.00      0.00      0.00         0\n",
      "          10       0.08      1.00      0.14         1\n",
      "          11       0.97      0.77      0.86       176\n",
      "\n",
      "    accuracy                           0.65       260\n",
      "   macro avg       0.24      0.41      0.24       260\n",
      "weighted avg       0.82      0.65      0.71       260\n",
      "\n"
     ]
    },
    {
     "name": "stderr",
     "output_type": "stream",
     "text": [
      "c:\\users\\cuong\\appdata\\local\\programs\\python\\python39\\lib\\site-packages\\sklearn\\metrics\\_classification.py:1245: UndefinedMetricWarning: Recall and F-score are ill-defined and being set to 0.0 in labels with no true samples. Use `zero_division` parameter to control this behavior.\n",
      "  _warn_prf(average, modifier, msg_start, len(result))\n",
      "c:\\users\\cuong\\appdata\\local\\programs\\python\\python39\\lib\\site-packages\\sklearn\\metrics\\_classification.py:1245: UndefinedMetricWarning: Recall and F-score are ill-defined and being set to 0.0 in labels with no true samples. Use `zero_division` parameter to control this behavior.\n",
      "  _warn_prf(average, modifier, msg_start, len(result))\n",
      "c:\\users\\cuong\\appdata\\local\\programs\\python\\python39\\lib\\site-packages\\sklearn\\metrics\\_classification.py:1245: UndefinedMetricWarning: Recall and F-score are ill-defined and being set to 0.0 in labels with no true samples. Use `zero_division` parameter to control this behavior.\n",
      "  _warn_prf(average, modifier, msg_start, len(result))\n"
     ]
    },
    {
     "name": "stdout",
     "output_type": "stream",
     "text": [
      "              precision    recall  f1-score   support\n",
      "\n",
      "           1       0.46      0.67      0.55         9\n",
      "           2       0.61      0.41      0.49        41\n",
      "           3       0.00      0.00      0.00         0\n",
      "           4       0.18      0.44      0.26         9\n",
      "           5       0.55      0.43      0.48        14\n",
      "           6       0.00      0.00      0.00         0\n",
      "           7       0.00      0.00      0.00         0\n",
      "           8       0.00      0.00      0.00         0\n",
      "           9       0.00      0.00      0.00         0\n",
      "          10       0.23      0.43      0.30         7\n",
      "          11       0.97      0.76      0.85       180\n",
      "\n",
      "    accuracy                           0.66       260\n",
      "   macro avg       0.27      0.29      0.27       260\n",
      "weighted avg       0.83      0.66      0.73       260\n",
      "\n"
     ]
    },
    {
     "name": "stderr",
     "output_type": "stream",
     "text": [
      "c:\\users\\cuong\\appdata\\local\\programs\\python\\python39\\lib\\site-packages\\sklearn\\metrics\\_classification.py:1245: UndefinedMetricWarning: Recall and F-score are ill-defined and being set to 0.0 in labels with no true samples. Use `zero_division` parameter to control this behavior.\n",
      "  _warn_prf(average, modifier, msg_start, len(result))\n",
      "c:\\users\\cuong\\appdata\\local\\programs\\python\\python39\\lib\\site-packages\\sklearn\\metrics\\_classification.py:1245: UndefinedMetricWarning: Recall and F-score are ill-defined and being set to 0.0 in labels with no true samples. Use `zero_division` parameter to control this behavior.\n",
      "  _warn_prf(average, modifier, msg_start, len(result))\n",
      "c:\\users\\cuong\\appdata\\local\\programs\\python\\python39\\lib\\site-packages\\sklearn\\metrics\\_classification.py:1245: UndefinedMetricWarning: Recall and F-score are ill-defined and being set to 0.0 in labels with no true samples. Use `zero_division` parameter to control this behavior.\n",
      "  _warn_prf(average, modifier, msg_start, len(result))\n"
     ]
    },
    {
     "name": "stdout",
     "output_type": "stream",
     "text": [
      "              precision    recall  f1-score   support\n",
      "\n",
      "           1       0.46      0.86      0.60         7\n",
      "           2       0.50      0.32      0.39        44\n",
      "           3       0.00      0.00      0.00         0\n",
      "           4       0.05      0.12      0.07         8\n",
      "           5       0.18      0.40      0.25         5\n",
      "           6       0.00      0.00      0.00         0\n",
      "           7       0.00      0.00      0.00         0\n",
      "           8       0.08      1.00      0.15         1\n",
      "           9       0.00      0.00      0.00         0\n",
      "          10       0.00      0.00      0.00         1\n",
      "          11       0.98      0.71      0.82       194\n",
      "\n",
      "    accuracy                           0.62       260\n",
      "   macro avg       0.20      0.31      0.21       260\n",
      "weighted avg       0.83      0.62      0.70       260\n",
      "\n",
      "              precision    recall  f1-score   support\n",
      "\n",
      "           1       0.15      0.13      0.14        15\n",
      "           2       0.29      0.30      0.29        27\n",
      "           3       0.00      0.00      0.00         9\n",
      "           4       0.23      0.26      0.24        19\n",
      "           5       0.09      0.11      0.10         9\n",
      "           6       0.00      0.00      0.00        10\n",
      "           7       0.00      0.00      0.00         4\n",
      "           8       0.00      0.00      0.00        11\n",
      "           9       0.00      0.00      0.00         3\n",
      "          10       0.00      0.00      0.00         8\n",
      "          11       0.73      0.70      0.72       145\n",
      "\n",
      "    accuracy                           0.45       260\n",
      "   macro avg       0.14      0.14      0.14       260\n",
      "weighted avg       0.46      0.45      0.46       260\n",
      "\n"
     ]
    },
    {
     "name": "stderr",
     "output_type": "stream",
     "text": [
      "c:\\users\\cuong\\appdata\\local\\programs\\python\\python39\\lib\\site-packages\\sklearn\\metrics\\_classification.py:1245: UndefinedMetricWarning: Recall and F-score are ill-defined and being set to 0.0 in labels with no true samples. Use `zero_division` parameter to control this behavior.\n",
      "  _warn_prf(average, modifier, msg_start, len(result))\n",
      "c:\\users\\cuong\\appdata\\local\\programs\\python\\python39\\lib\\site-packages\\sklearn\\metrics\\_classification.py:1245: UndefinedMetricWarning: Recall and F-score are ill-defined and being set to 0.0 in labels with no true samples. Use `zero_division` parameter to control this behavior.\n",
      "  _warn_prf(average, modifier, msg_start, len(result))\n",
      "c:\\users\\cuong\\appdata\\local\\programs\\python\\python39\\lib\\site-packages\\sklearn\\metrics\\_classification.py:1245: UndefinedMetricWarning: Recall and F-score are ill-defined and being set to 0.0 in labels with no true samples. Use `zero_division` parameter to control this behavior.\n",
      "  _warn_prf(average, modifier, msg_start, len(result))\n"
     ]
    },
    {
     "name": "stdout",
     "output_type": "stream",
     "text": [
      "              precision    recall  f1-score   support\n",
      "\n",
      "           1       0.08      1.00      0.14         1\n",
      "           2       0.25      0.29      0.27        24\n",
      "           3       0.00      0.00      0.00         0\n",
      "           4       0.05      0.12      0.07         8\n",
      "           5       0.18      1.00      0.31         2\n",
      "           6       0.00      0.00      0.00         0\n",
      "           7       0.00      0.00      0.00         0\n",
      "           8       0.00      0.00      0.00         0\n",
      "           9       0.00      0.00      0.00         0\n",
      "          10       0.00      0.00      0.00         0\n",
      "          11       0.99      0.61      0.76       225\n",
      "\n",
      "    accuracy                           0.57       260\n",
      "   macro avg       0.14      0.28      0.14       260\n",
      "weighted avg       0.88      0.57      0.68       260\n",
      "\n"
     ]
    },
    {
     "name": "stderr",
     "output_type": "stream",
     "text": [
      "c:\\users\\cuong\\appdata\\local\\programs\\python\\python39\\lib\\site-packages\\sklearn\\metrics\\_classification.py:1245: UndefinedMetricWarning: Recall and F-score are ill-defined and being set to 0.0 in labels with no true samples. Use `zero_division` parameter to control this behavior.\n",
      "  _warn_prf(average, modifier, msg_start, len(result))\n",
      "c:\\users\\cuong\\appdata\\local\\programs\\python\\python39\\lib\\site-packages\\sklearn\\metrics\\_classification.py:1245: UndefinedMetricWarning: Recall and F-score are ill-defined and being set to 0.0 in labels with no true samples. Use `zero_division` parameter to control this behavior.\n",
      "  _warn_prf(average, modifier, msg_start, len(result))\n",
      "c:\\users\\cuong\\appdata\\local\\programs\\python\\python39\\lib\\site-packages\\sklearn\\metrics\\_classification.py:1245: UndefinedMetricWarning: Recall and F-score are ill-defined and being set to 0.0 in labels with no true samples. Use `zero_division` parameter to control this behavior.\n",
      "  _warn_prf(average, modifier, msg_start, len(result))\n"
     ]
    },
    {
     "name": "stdout",
     "output_type": "stream",
     "text": [
      "              precision    recall  f1-score   support\n",
      "\n",
      "           1       0.00      0.00      0.00         0\n",
      "           2       0.57      0.23      0.33        70\n",
      "           3       0.00      0.00      0.00         0\n",
      "           4       0.00      0.00      0.00         2\n",
      "           5       0.00      0.00      0.00         0\n",
      "           6       0.00      0.00      0.00         0\n",
      "           7       0.00      0.00      0.00         0\n",
      "           8       0.00      0.00      0.00         0\n",
      "           9       0.00      0.00      0.00         0\n",
      "          10       0.00      0.00      0.00         0\n",
      "          11       0.97      0.72      0.83       188\n",
      "\n",
      "    accuracy                           0.58       260\n",
      "   macro avg       0.14      0.09      0.11       260\n",
      "weighted avg       0.86      0.58      0.69       260\n",
      "\n",
      "              precision    recall  f1-score   support\n",
      "\n",
      "           1       0.00      0.00      0.00         0\n",
      "           2       0.00      0.00      0.00         0\n",
      "           3       0.00      0.00      0.00         0\n",
      "           4       0.00      0.00      0.00         0\n",
      "           5       0.00      0.00      0.00         0\n",
      "           6       0.00      0.00      0.00         0\n",
      "           7       0.00      0.00      0.00         0\n",
      "           8       0.00      0.00      0.00         0\n",
      "           9       0.00      0.00      0.00         1\n",
      "          10       0.00      0.00      0.00         0\n",
      "          11       1.00      0.54      0.70       259\n",
      "\n",
      "    accuracy                           0.54       260\n",
      "   macro avg       0.09      0.05      0.06       260\n",
      "weighted avg       1.00      0.54      0.70       260\n",
      "\n",
      "              precision    recall  f1-score   support\n",
      "\n",
      "           1       0.54      0.44      0.48        16\n",
      "           2       0.43      0.44      0.44        27\n",
      "           3       0.00      0.00      0.00         4\n",
      "           4       0.23      0.23      0.23        22\n",
      "           5       0.45      0.45      0.45        11\n",
      "           6       0.11      0.07      0.08        15\n",
      "           7       0.00      0.00      0.00         4\n",
      "           8       0.33      0.24      0.28        17\n",
      "           9       0.00      0.00      0.00         0\n",
      "          10       0.54      0.32      0.40        22\n",
      "          11       0.80      0.92      0.85       122\n",
      "\n",
      "    accuracy                           0.59       260\n",
      "   macro avg       0.31      0.28      0.29       260\n",
      "weighted avg       0.57      0.59      0.57       260\n",
      "\n",
      "{'Linear SVM': 0.5384615384615384, 'RBF SVM': 0.6461538461538462, 'Gaussian Process': 0.6615384615384615, 'Logistic RegressionDecision Tree': 0.6192307692307693, 'Random Forest': 0.45384615384615384, 'Neural Net': 0.573076923076923, 'AdaBoost': 0.5846153846153846, 'Naive Bayes': 0.5384615384615384, 'Bagging Classifier': 0.5884615384615385}\n"
     ]
    },
    {
     "name": "stderr",
     "output_type": "stream",
     "text": [
      "c:\\users\\cuong\\appdata\\local\\programs\\python\\python39\\lib\\site-packages\\sklearn\\metrics\\_classification.py:1245: UndefinedMetricWarning: Recall and F-score are ill-defined and being set to 0.0 in labels with no true samples. Use `zero_division` parameter to control this behavior.\n",
      "  _warn_prf(average, modifier, msg_start, len(result))\n",
      "c:\\users\\cuong\\appdata\\local\\programs\\python\\python39\\lib\\site-packages\\sklearn\\metrics\\_classification.py:1245: UndefinedMetricWarning: Recall and F-score are ill-defined and being set to 0.0 in labels with no true samples. Use `zero_division` parameter to control this behavior.\n",
      "  _warn_prf(average, modifier, msg_start, len(result))\n",
      "c:\\users\\cuong\\appdata\\local\\programs\\python\\python39\\lib\\site-packages\\sklearn\\metrics\\_classification.py:1245: UndefinedMetricWarning: Recall and F-score are ill-defined and being set to 0.0 in labels with no true samples. Use `zero_division` parameter to control this behavior.\n",
      "  _warn_prf(average, modifier, msg_start, len(result))\n",
      "c:\\users\\cuong\\appdata\\local\\programs\\python\\python39\\lib\\site-packages\\sklearn\\metrics\\_classification.py:1245: UndefinedMetricWarning: Recall and F-score are ill-defined and being set to 0.0 in labels with no true samples. Use `zero_division` parameter to control this behavior.\n",
      "  _warn_prf(average, modifier, msg_start, len(result))\n",
      "c:\\users\\cuong\\appdata\\local\\programs\\python\\python39\\lib\\site-packages\\sklearn\\metrics\\_classification.py:1245: UndefinedMetricWarning: Recall and F-score are ill-defined and being set to 0.0 in labels with no true samples. Use `zero_division` parameter to control this behavior.\n",
      "  _warn_prf(average, modifier, msg_start, len(result))\n",
      "c:\\users\\cuong\\appdata\\local\\programs\\python\\python39\\lib\\site-packages\\sklearn\\metrics\\_classification.py:1245: UndefinedMetricWarning: Recall and F-score are ill-defined and being set to 0.0 in labels with no true samples. Use `zero_division` parameter to control this behavior.\n",
      "  _warn_prf(average, modifier, msg_start, len(result))\n"
     ]
    }
   ],
   "source": [
    "names = [\"Linear SVM\", \"RBF SVM\", \"Gaussian Process\", \"Logistic Regression\"\n",
    "         \"Decision Tree\", \"Random Forest\", \"Neural Net\", \"AdaBoost\",\n",
    "         \"Naive Bayes\", \"Bagging Classifier\"]\n",
    "         \n",
    "classifiers = [\n",
    "    SVC(kernel=\"linear\", C=0.025),\n",
    "    SVC(gamma=2, C=1),\n",
    "    GaussianProcessClassifier(1.0 * RBF(1.0)),\n",
    "    LogisticRegression(random_state=0, max_iter = 5000),\n",
    "    DecisionTreeClassifier(),\n",
    "    RandomForestClassifier(),\n",
    "    MLPClassifier(alpha=1, max_iter=5000),\n",
    "    AdaBoostClassifier(),\n",
    "    GaussianNB(),\n",
    "    BaggingClassifier(base_estimator=SVC(),\n",
    "                        n_estimators=10, random_state=0)]\n",
    "\n",
    "score_dict = dict()\n",
    "for name, clf in zip(names, classifiers):\n",
    "        clf.fit(X_train, y_train)\n",
    "        score = clf.score(X_test, y_test)\n",
    "        score_dict[name] = score\n",
    "        print(classification_report(clf.predict(X_test), y_test))\n",
    "print(score_dict)"
   ]
  },
  {
   "cell_type": "code",
   "execution_count": 20,
   "metadata": {},
   "outputs": [
    {
     "name": "stdout",
     "output_type": "stream",
     "text": [
      "Linear SVM\n",
      "              precision    recall  f1-score   support\n",
      "\n",
      "           0       0.89      0.82      0.86       152\n",
      "           1       0.78      0.86      0.82       108\n",
      "\n",
      "    accuracy                           0.84       260\n",
      "   macro avg       0.83      0.84      0.84       260\n",
      "weighted avg       0.84      0.84      0.84       260\n",
      "\n",
      "RBF SVM\n",
      "              precision    recall  f1-score   support\n",
      "\n",
      "           0       0.94      0.92      0.93       142\n",
      "           1       0.91      0.92      0.92       118\n",
      "\n",
      "    accuracy                           0.92       260\n",
      "   macro avg       0.92      0.92      0.92       260\n",
      "weighted avg       0.92      0.92      0.92       260\n",
      "\n",
      "Gaussian Process\n",
      "              precision    recall  f1-score   support\n",
      "\n",
      "           0       0.91      0.91      0.91       141\n",
      "           1       0.89      0.90      0.90       119\n",
      "\n",
      "    accuracy                           0.90       260\n",
      "   macro avg       0.90      0.90      0.90       260\n",
      "weighted avg       0.90      0.90      0.90       260\n",
      "\n",
      "Logistic RegressionDecision Tree\n",
      "              precision    recall  f1-score   support\n",
      "\n",
      "           0       0.91      0.90      0.90       141\n",
      "           1       0.88      0.89      0.89       119\n",
      "\n",
      "    accuracy                           0.90       260\n",
      "   macro avg       0.90      0.90      0.90       260\n",
      "weighted avg       0.90      0.90      0.90       260\n",
      "\n",
      "Random Forest\n",
      "              precision    recall  f1-score   support\n",
      "\n",
      "           0       0.76      0.73      0.74       145\n",
      "           1       0.68      0.70      0.69       115\n",
      "\n",
      "    accuracy                           0.72       260\n",
      "   macro avg       0.72      0.72      0.72       260\n",
      "weighted avg       0.72      0.72      0.72       260\n",
      "\n",
      "Neural Net\n",
      "              precision    recall  f1-score   support\n",
      "\n",
      "           0       0.90      0.88      0.89       144\n",
      "           1       0.85      0.88      0.86       116\n",
      "\n",
      "    accuracy                           0.88       260\n",
      "   macro avg       0.88      0.88      0.88       260\n",
      "weighted avg       0.88      0.88      0.88       260\n",
      "\n",
      "AdaBoost\n",
      "              precision    recall  f1-score   support\n",
      "\n",
      "           0       0.89      0.95      0.92       130\n",
      "           1       0.95      0.88      0.91       130\n",
      "\n",
      "    accuracy                           0.92       260\n",
      "   macro avg       0.92      0.92      0.92       260\n",
      "weighted avg       0.92      0.92      0.92       260\n",
      "\n",
      "Naive Bayes\n",
      "              precision    recall  f1-score   support\n",
      "\n",
      "           0       0.91      0.86      0.89       149\n",
      "           1       0.82      0.89      0.86       111\n",
      "\n",
      "    accuracy                           0.87       260\n",
      "   macro avg       0.87      0.88      0.87       260\n",
      "weighted avg       0.88      0.87      0.87       260\n",
      "\n",
      "Bagging Classifier\n",
      "              precision    recall  f1-score   support\n",
      "\n",
      "           0       0.83      0.92      0.87       126\n",
      "           1       0.92      0.82      0.87       134\n",
      "\n",
      "    accuracy                           0.87       260\n",
      "   macro avg       0.87      0.87      0.87       260\n",
      "weighted avg       0.87      0.87      0.87       260\n",
      "\n",
      "{'Linear SVM': 0.8384615384615385, 'RBF SVM': 0.9230769230769231, 'Gaussian Process': 0.9038461538461539, 'Logistic RegressionDecision Tree': 0.8961538461538462, 'Random Forest': 0.7192307692307692, 'Neural Net': 0.8769230769230769, 'AdaBoost': 0.9153846153846154, 'Naive Bayes': 0.8730769230769231, 'Bagging Classifier': 0.8692307692307693}\n"
     ]
    }
   ],
   "source": [
    "names = [\"Linear SVM\", \"RBF SVM\", \"Gaussian Process\", \"Logistic Regression\"\n",
    "         \"Decision Tree\", \"Random Forest\", \"Neural Net\", \"AdaBoost\",\n",
    "         \"Naive Bayes\", \"Bagging Classifier\"]\n",
    "         \n",
    "classifiers = [\n",
    "    SVC(kernel=\"linear\", C=0.025),\n",
    "    SVC(gamma=2, C=1),\n",
    "    GaussianProcessClassifier(1.0 * RBF(1.0)),\n",
    "    LogisticRegression(random_state=0, max_iter = 5000),\n",
    "    DecisionTreeClassifier(),\n",
    "    RandomForestClassifier(),\n",
    "    MLPClassifier(alpha=1, max_iter=5000),\n",
    "    AdaBoostClassifier(),\n",
    "    GaussianNB(),\n",
    "    BaggingClassifier(base_estimator=SVC(),\n",
    "                        n_estimators=10, random_state=0)]\n",
    "\n",
    "score_dict = dict()\n",
    "for name, clf in zip(names, classifiers):\n",
    "        clf.fit(X_train, y_train_binary)\n",
    "        score = clf.score(X_test, y_test_binary)\n",
    "        score_dict[name] = score\n",
    "        print(name)\n",
    "        print(classification_report(clf.predict(X_test), y_test_binary))\n",
    "print(score_dict)"
   ]
  },
  {
   "cell_type": "code",
   "execution_count": 21,
   "metadata": {},
   "outputs": [
    {
     "name": "stdout",
     "output_type": "stream",
     "text": [
      "training data score 0.6535129932627527 \n",
      "testing data score 0.6192307692307693\n"
     ]
    }
   ],
   "source": [
    "#yet another logistic regression \n",
    "logReg = LogisticRegression(random_state=0, max_iter = 50000)\n",
    "logReg.fit(X_train, y_train)\n",
    "\n",
    "test_training= logReg.score(X_train, y_train)\n",
    "test_testing = logReg.score(X_test, y_test)\n",
    "\n",
    "print(\"training data score\", test_training, \"\\ntesting data score\", test_testing)"
   ]
  },
  {
   "cell_type": "code",
   "execution_count": 22,
   "metadata": {},
   "outputs": [
    {
     "name": "stdout",
     "output_type": "stream",
     "text": [
      "training data score 0.6323387872954764 \n",
      "testing data score 0.6076923076923076\n"
     ]
    }
   ],
   "source": [
    "#multiclass logistic regression\n",
    "multiclassLogReg = LogisticRegression(multi_class='ovr')\n",
    "multiclassLogReg.fit(X_train, y_train)\n",
    "\n",
    "multi_test_training= multiclassLogReg.score(X_train, y_train)\n",
    "multi_test_testing = multiclassLogReg.score(X_test, y_test)\n",
    "\n",
    "print(\"training data score\", multi_test_training, \"\\ntesting data score\", multi_test_testing)"
   ]
  },
  {
   "cell_type": "code",
   "execution_count": 23,
   "metadata": {
    "colab": {
     "base_uri": "https://localhost:8080/"
    },
    "id": "Jx7DzWnAimTq",
    "outputId": "24ec0751-06f8-4a80-9af2-b8387e4cf9e5"
   },
   "outputs": [
    {
     "name": "stdout",
     "output_type": "stream",
     "text": [
      "[1]\n"
     ]
    }
   ],
   "source": [
    "# Vanilla SVM, https://scikit-learn.org/stable/modules/generated/sklearn.svm.SVC.html\n",
    "X = np.array([[-1, -1], [-2, -1], [1, 1], [2, 1]])\n",
    "y = np.array([1, 1, 2, 2])\n",
    "clf = make_pipeline(StandardScaler(), SVC(gamma='auto'))\n",
    "clf.fit(X, y)\n",
    "print(clf.predict([[-0.8, -1]]))"
   ]
  },
  {
   "cell_type": "code",
   "execution_count": 24,
   "metadata": {
    "colab": {
     "base_uri": "https://localhost:8080/"
    },
    "id": "jhztfSqVeTgk",
    "outputId": "75675487-7eb7-4e16-e466-f768414b02dd"
   },
   "outputs": [
    {
     "name": "stdout",
     "output_type": "stream",
     "text": [
      "[3]\n"
     ]
    }
   ],
   "source": [
    "# Multinomial Naive Bayes\n",
    "rng = np.random.RandomState(1)\n",
    "X = rng.randint(5, size=(6, 100))\n",
    "y = np.array([1, 2, 3, 4, 5, 6])\n",
    "clf = MultinomialNB()\n",
    "clf.fit(X, y)\n",
    "print(clf.predict(X[2:3]))"
   ]
  },
  {
   "cell_type": "code",
   "execution_count": 25,
   "metadata": {
    "colab": {
     "base_uri": "https://localhost:8080/"
    },
    "id": "kN85KiXXedmH",
    "outputId": "3ff8ead1-ec50-42b5-aa19-dd3dd880e9b6"
   },
   "outputs": [
    {
     "name": "stdout",
     "output_type": "stream",
     "text": [
      "[1]\n",
      "[1]\n"
     ]
    }
   ],
   "source": [
    "# Gaussian NB\n",
    "X = np.array([[-1, -1], [-2, -1], [-3, -2], [1, 1], [2, 1], [3, 2]])\n",
    "Y = np.array([1, 1, 1, 2, 2, 2])\n",
    "clf = GaussianNB()\n",
    "clf.fit(X, Y)\n",
    "print(clf.predict([[-0.8, -1]]))\n",
    "\n",
    "clf_pf = GaussianNB()\n",
    "clf_pf.partial_fit(X, Y, np.unique(Y))\n",
    "print(clf_pf.predict([[-0.8, -1]]))"
   ]
  },
  {
   "cell_type": "code",
   "execution_count": 26,
   "metadata": {
    "colab": {
     "base_uri": "https://localhost:8080/"
    },
    "id": "mS0VeOXTf3o_",
    "outputId": "aa5e8046-6733-41df-c997-197215a76886"
   },
   "outputs": [
    {
     "name": "stdout",
     "output_type": "stream",
     "text": [
      "[0 0]\n",
      "[[9.81584563e-01 1.84154230e-02 1.45015560e-08]\n",
      " [9.71337814e-01 2.86621561e-02 3.01918305e-08]]\n",
      "0.9733333333333334\n"
     ]
    }
   ],
   "source": [
    "# Logistic Regression, https://scikit-learn.org/stable/modules/generated/sklearn.linear_model.LogisticRegression.html\n",
    "X, y = load_iris(return_X_y=True)\n",
    "clf = LogisticRegression(random_state=0, max_iter = 50000).fit(X, y)\n",
    "print(clf.predict(X[:2, :]))\n",
    "\n",
    "print(clf.predict_proba(X[:2, :]))\n",
    "print(clf.score(X, y))"
   ]
  },
  {
   "cell_type": "code",
   "execution_count": 27,
   "metadata": {
    "colab": {
     "base_uri": "https://localhost:8080/"
    },
    "id": "M70ytPdOn7E2",
    "outputId": "a8377286-ae78-48ec-b13c-7eb68ed3d56f"
   },
   "outputs": [
    {
     "data": {
      "text/plain": [
       "1.0"
      ]
     },
     "execution_count": 27,
     "metadata": {},
     "output_type": "execute_result"
    }
   ],
   "source": [
    "# Linear SVM for large datasets, https://scikit-learn.org/stable/modules/generated/sklearn.svm.LinearSVC.html#sklearn.svm.LinearSVC\n",
    "X, y = datasets.load_digits(n_class=9, return_X_y=True)\n",
    "data = X / 16\n",
    "feature_map_nystroem = Nystroem(gamma=.2,\n",
    "                                random_state=1,\n",
    "                                n_components=300)\n",
    "data_transformed = feature_map_nystroem.fit_transform(data)\n",
    "\n",
    "clf = make_pipeline(StandardScaler(),\n",
    "                  LinearSVC(random_state=0, tol=1e-5, max_iter = 50000))\n",
    "clf.fit(data_transformed, y)\n",
    "clf.score(data_transformed, y)"
   ]
  },
  {
   "cell_type": "code",
   "execution_count": 28,
   "metadata": {
    "colab": {
     "base_uri": "https://localhost:8080/"
    },
    "id": "6frSiipjo0y2",
    "outputId": "a842098b-fc12-405a-d97c-290b34469f24"
   },
   "outputs": [
    {
     "name": "stdout",
     "output_type": "stream",
     "text": [
      "[1]\n"
     ]
    }
   ],
   "source": [
    "# Random Forest Classification, https://scikit-learn.org/stable/modules/generated/sklearn.ensemble.RandomForestClassifier.html\n",
    "X, y = make_classification(n_samples=1000, n_features=4,\n",
    "                           n_informative=2, n_redundant=0,\n",
    "                           random_state=0, shuffle=False)\n",
    "clf = RandomForestClassifier(max_depth=2, random_state=0)\n",
    "clf.fit(X, y)\n",
    "print(clf.predict([[0, 0, 0, 0]]))"
   ]
  },
  {
   "cell_type": "code",
   "execution_count": 29,
   "metadata": {
    "colab": {
     "base_uri": "https://localhost:8080/"
    },
    "id": "MWRILYeStNbb",
    "outputId": "ace8e7e9-6851-4327-902c-38d175cd0d4c"
   },
   "outputs": [
    {
     "data": {
      "text/plain": [
       "array([1.        , 0.93333333, 1.        , 0.93333333, 0.93333333,\n",
       "       0.86666667, 0.93333333, 1.        , 1.        , 1.        ])"
      ]
     },
     "execution_count": 29,
     "metadata": {},
     "output_type": "execute_result"
    }
   ],
   "source": [
    "# Decision Tree Classifier, https://scikit-learn.org/stable/modules/generated/sklearn.tree.DecisionTreeClassifier.html#sklearn.tree.DecisionTreeClassifier\n",
    "clf = DecisionTreeClassifier(random_state=0)\n",
    "iris = load_iris()\n",
    "cross_val_score(clf, iris.data, iris.target, cv=10)"
   ]
  },
  {
   "cell_type": "code",
   "execution_count": 30,
   "metadata": {
    "colab": {
     "base_uri": "https://localhost:8080/"
    },
    "id": "QkLbsnHLqi8X",
    "outputId": "47372b8e-7647-42de-b796-1e96088031fe"
   },
   "outputs": [
    {
     "data": {
      "text/plain": [
       "array([1])"
      ]
     },
     "execution_count": 30,
     "metadata": {},
     "output_type": "execute_result"
    }
   ],
   "source": [
    "# Bagging Classifier, https://scikit-learn.org/stable/modules/generated/sklearn.ensemble.BaggingClassifier.html\n",
    "X, y = make_classification(n_samples=100, n_features=4,\n",
    "                           n_informative=2, n_redundant=0,\n",
    "                           random_state=0, shuffle=False)\n",
    "clf = BaggingClassifier(base_estimator=SVC(),\n",
    "                        n_estimators=10, random_state=0).fit(X, y)\n",
    "clf.predict([[0, 0, 0, 0]])"
   ]
  },
  {
   "cell_type": "code",
   "execution_count": 31,
   "metadata": {
    "colab": {
     "base_uri": "https://localhost:8080/"
    },
    "id": "W32gGIvGsWli",
    "outputId": "f1385b58-3e2c-404c-9c13-20c2a28d3b92"
   },
   "outputs": [
    {
     "data": {
      "text/plain": [
       "0.913"
      ]
     },
     "execution_count": 31,
     "metadata": {},
     "output_type": "execute_result"
    }
   ],
   "source": [
    "# Gradient Boosting Classifier, https://scikit-learn.org/stable/modules/generated/sklearn.ensemble.GradientBoostingClassifier.html\n",
    "X, y = make_hastie_10_2(random_state=0)\n",
    "X_train, X_test = X[:2000], X[2000:]\n",
    "y_train, y_test = y[:2000], y[2000:]\n",
    "\n",
    "clf = GradientBoostingClassifier(n_estimators=100, learning_rate=1.0,\n",
    "      max_depth=1, random_state=0).fit(X_train, y_train)\n",
    "clf.score(X_test, y_test)"
   ]
  },
  {
   "cell_type": "code",
   "execution_count": 32,
   "metadata": {
    "colab": {
     "base_uri": "https://localhost:8080/"
    },
    "id": "nKka6VdKt2vU",
    "outputId": "ba87a29d-0eff-4825-86ec-ffe7c6803f5f"
   },
   "outputs": [
    {
     "data": {
      "text/plain": [
       "array([1, 0])"
      ]
     },
     "execution_count": 32,
     "metadata": {},
     "output_type": "execute_result"
    }
   ],
   "source": [
    "# MLP Classifier, https://scikit-learn.org/stable/modules/neural_networks_supervised.html\n",
    "X = [[0., 0.], [1., 1.]]\n",
    "y = [0, 1]\n",
    "clf = MLPClassifier(solver='lbfgs', alpha=1e-5,\n",
    "                    hidden_layer_sizes=(5, 2), random_state=1)\n",
    "\n",
    "clf.fit(X, y)\n",
    "clf.predict([[2., 2.], [-1., -2.]])"
   ]
  },
  {
   "cell_type": "markdown",
   "metadata": {},
   "source": [
    "## Rebalancing the Dataset"
   ]
  },
  {
   "cell_type": "code",
   "execution_count": 32,
   "metadata": {},
   "outputs": [
    {
     "ename": "TypeError",
     "evalue": "__init__() got an unexpected keyword argument 'kind'",
     "output_type": "error",
     "traceback": [
      "\u001b[1;31m---------------------------------------------------------------------------\u001b[0m",
      "\u001b[1;31mTypeError\u001b[0m                                 Traceback (most recent call last)",
      "\u001b[1;32m<ipython-input-32-40d9e6330393>\u001b[0m in \u001b[0;36m<module>\u001b[1;34m\u001b[0m\n\u001b[1;32m----> 1\u001b[1;33m \u001b[0moversample\u001b[0m \u001b[1;33m=\u001b[0m \u001b[0mSMOTE\u001b[0m\u001b[1;33m(\u001b[0m\u001b[0mkind\u001b[0m\u001b[1;33m=\u001b[0m\u001b[1;34m'svm'\u001b[0m\u001b[1;33m)\u001b[0m\u001b[1;33m\u001b[0m\u001b[1;33m\u001b[0m\u001b[0m\n\u001b[0m\u001b[0;32m      2\u001b[0m \u001b[1;32mdef\u001b[0m \u001b[0mf\u001b[0m\u001b[1;33m(\u001b[0m\u001b[0mi\u001b[0m\u001b[1;33m)\u001b[0m\u001b[1;33m:\u001b[0m\u001b[1;33m\u001b[0m\u001b[1;33m\u001b[0m\u001b[0m\n\u001b[0;32m      3\u001b[0m     \u001b[1;32mif\u001b[0m \u001b[0mi\u001b[0m \u001b[1;33m==\u001b[0m \u001b[1;36m11\u001b[0m\u001b[1;33m:\u001b[0m\u001b[1;33m\u001b[0m\u001b[1;33m\u001b[0m\u001b[0m\n\u001b[0;32m      4\u001b[0m         \u001b[1;32mreturn\u001b[0m \u001b[1;36m0\u001b[0m\u001b[1;33m\u001b[0m\u001b[1;33m\u001b[0m\u001b[0m\n\u001b[0;32m      5\u001b[0m     \u001b[1;32melse\u001b[0m\u001b[1;33m:\u001b[0m\u001b[1;33m\u001b[0m\u001b[1;33m\u001b[0m\u001b[0m\n",
      "\u001b[1;32mc:\\users\\cuong\\appdata\\local\\programs\\python\\python39\\lib\\site-packages\\imblearn\\utils\\_validation.py\u001b[0m in \u001b[0;36minner_f\u001b[1;34m(*args, **kwargs)\u001b[0m\n\u001b[0;32m    592\u001b[0m             )\n\u001b[0;32m    593\u001b[0m         \u001b[0mkwargs\u001b[0m\u001b[1;33m.\u001b[0m\u001b[0mupdate\u001b[0m\u001b[1;33m(\u001b[0m\u001b[1;33m{\u001b[0m\u001b[0mk\u001b[0m\u001b[1;33m:\u001b[0m \u001b[0marg\u001b[0m \u001b[1;32mfor\u001b[0m \u001b[0mk\u001b[0m\u001b[1;33m,\u001b[0m \u001b[0marg\u001b[0m \u001b[1;32min\u001b[0m \u001b[0mzip\u001b[0m\u001b[1;33m(\u001b[0m\u001b[0msig\u001b[0m\u001b[1;33m.\u001b[0m\u001b[0mparameters\u001b[0m\u001b[1;33m,\u001b[0m \u001b[0margs\u001b[0m\u001b[1;33m)\u001b[0m\u001b[1;33m}\u001b[0m\u001b[1;33m)\u001b[0m\u001b[1;33m\u001b[0m\u001b[1;33m\u001b[0m\u001b[0m\n\u001b[1;32m--> 594\u001b[1;33m         \u001b[1;32mreturn\u001b[0m \u001b[0mf\u001b[0m\u001b[1;33m(\u001b[0m\u001b[1;33m**\u001b[0m\u001b[0mkwargs\u001b[0m\u001b[1;33m)\u001b[0m\u001b[1;33m\u001b[0m\u001b[1;33m\u001b[0m\u001b[0m\n\u001b[0m\u001b[0;32m    595\u001b[0m \u001b[1;33m\u001b[0m\u001b[0m\n\u001b[0;32m    596\u001b[0m     \u001b[1;32mreturn\u001b[0m \u001b[0minner_f\u001b[0m\u001b[1;33m\u001b[0m\u001b[1;33m\u001b[0m\u001b[0m\n",
      "\u001b[1;31mTypeError\u001b[0m: __init__() got an unexpected keyword argument 'kind'"
     ]
    }
   ],
   "source": [
    "oversample = SMOTE(kind='svm')\n",
    "def f(i):\n",
    "    if i == 11:\n",
    "        return 0\n",
    "    else:\n",
    "        return 1\n",
    "    \n",
    "a = np.where(label == 11)\n",
    "data_pos = np.delete(data, a, axis=0)\n",
    "label_pos = np.delete(label, a)\n",
    "print(data_pos.shape)\n",
    "print(label_pos.shape)\n",
    "\n",
    "X_train, X_test, y_train, y_test = train_test_split(data_pos, label_pos, test_size=0.2, random_state=42, stratify=label_pos)\n",
    "\n",
    "X_train_rebal, y_train_rebal = oversample.fit_resample(X_train, y_train)\n",
    "print(Counter(y_train_rebal.tolist()))"
   ]
  },
  {
   "cell_type": "markdown",
   "metadata": {},
   "source": [
    "## Multiclass classification, positive labels only, unbalanced"
   ]
  },
  {
   "cell_type": "code",
   "execution_count": 30,
   "metadata": {},
   "outputs": [
    {
     "name": "stdout",
     "output_type": "stream",
     "text": [
      "Linear SVM\n",
      "              precision    recall  f1-score   support\n",
      "\n",
      "           1       0.00      0.00      0.00         0\n",
      "           2       1.00      0.23      0.38       120\n",
      "           3       0.00      0.00      0.00         0\n",
      "           4       0.00      0.00      0.00         0\n",
      "           5       0.00      0.00      0.00         0\n",
      "           6       0.00      0.00      0.00         0\n",
      "           7       0.00      0.00      0.00         0\n",
      "           8       0.00      0.00      0.00         0\n",
      "           9       0.00      0.00      0.00         0\n",
      "          10       0.00      0.00      0.00         0\n",
      "\n",
      "    accuracy                           0.23       120\n",
      "   macro avg       0.10      0.02      0.04       120\n",
      "weighted avg       1.00      0.23      0.38       120\n",
      "\n",
      "RBF SVM\n",
      "              precision    recall  f1-score   support\n",
      "\n",
      "           1       0.38      0.62      0.48         8\n",
      "           2       0.89      0.31      0.46        80\n",
      "           3       0.00      0.00      0.00         0\n",
      "           4       0.32      0.32      0.32        22\n",
      "           5       0.18      0.40      0.25         5\n",
      "           6       0.00      0.00      0.00         0\n",
      "           7       0.00      0.00      0.00         0\n",
      "           8       0.08      0.50      0.14         2\n",
      "           9       0.00      0.00      0.00         0\n",
      "          10       0.08      0.33      0.12         3\n",
      "\n",
      "    accuracy                           0.34       120\n",
      "   macro avg       0.19      0.25      0.18       120\n",
      "weighted avg       0.69      0.34      0.41       120\n",
      "\n",
      "Logistic Regression\n",
      "              precision    recall  f1-score   support\n",
      "\n",
      "           1       0.46      0.75      0.57         8\n",
      "           2       0.93      0.34      0.50        76\n",
      "           3       0.00      0.00      0.00         0\n",
      "           4       0.36      0.35      0.36        23\n",
      "           5       0.27      0.43      0.33         7\n",
      "           6       0.00      0.00      0.00         0\n",
      "           7       0.00      0.00      0.00         0\n",
      "           8       0.08      1.00      0.15         1\n",
      "           9       0.00      0.00      0.00         0\n",
      "          10       0.08      0.20      0.11         5\n",
      "\n",
      "    accuracy                           0.38       120\n",
      "   macro avg       0.22      0.31      0.20       120\n",
      "weighted avg       0.71      0.38      0.45       120\n",
      "\n",
      "Decision Tree\n",
      "              precision    recall  f1-score   support\n",
      "\n",
      "           1       0.15      0.15      0.15        13\n",
      "           2       0.07      0.14      0.10        14\n",
      "           3       0.00      0.00      0.00        10\n",
      "           4       0.23      0.18      0.20        28\n",
      "           5       0.27      0.17      0.21        18\n",
      "           6       0.00      0.00      0.00         5\n",
      "           7       0.00      0.00      0.00         4\n",
      "           8       0.08      0.08      0.08        12\n",
      "           9       0.00      0.00      0.00         3\n",
      "          10       0.00      0.00      0.00        13\n",
      "\n",
      "    accuracy                           0.11       120\n",
      "   macro avg       0.08      0.07      0.07       120\n",
      "weighted avg       0.13      0.11      0.11       120\n",
      "\n",
      "Random Forest\n",
      "              precision    recall  f1-score   support\n",
      "\n",
      "           1       0.46      0.55      0.50        11\n",
      "           2       0.79      0.30      0.44        73\n",
      "           3       0.00      0.00      0.00         1\n",
      "           4       0.32      0.28      0.30        25\n",
      "           5       0.36      0.67      0.47         6\n",
      "           6       0.00      0.00      0.00         0\n",
      "           7       0.00      0.00      0.00         0\n",
      "           8       0.17      1.00      0.29         2\n",
      "           9       0.00      0.00      0.00         0\n",
      "          10       0.08      0.50      0.13         2\n",
      "\n",
      "    accuracy                           0.35       120\n",
      "   macro avg       0.22      0.33      0.21       120\n",
      "weighted avg       0.61      0.35      0.40       120\n",
      "\n",
      "Neural Net\n",
      "              precision    recall  f1-score   support\n",
      "\n",
      "           1       0.46      0.60      0.52        10\n",
      "           2       0.89      0.35      0.51        71\n",
      "           3       0.00      0.00      0.00         0\n",
      "           4       0.41      0.45      0.43        20\n",
      "           5       0.36      0.40      0.38        10\n",
      "           6       0.00      0.00      0.00         0\n",
      "           7       0.00      0.00      0.00         0\n",
      "           8       0.08      1.00      0.15         1\n",
      "           9       0.00      0.00      0.00         0\n",
      "          10       0.15      0.25      0.19         8\n",
      "\n",
      "    accuracy                           0.39       120\n",
      "   macro avg       0.24      0.31      0.22       120\n",
      "weighted avg       0.68      0.39      0.46       120\n",
      "\n",
      "AdaBoost\n",
      "              precision    recall  f1-score   support\n",
      "\n",
      "           1       0.00      0.00      0.00         1\n",
      "           2       0.64      0.26      0.37        69\n",
      "           3       0.00      0.00      0.00         3\n",
      "           4       0.27      0.21      0.24        28\n",
      "           5       0.00      0.00      0.00         0\n",
      "           6       0.00      0.00      0.00         3\n",
      "           7       0.00      0.00      0.00         7\n",
      "           8       0.08      0.12      0.10         8\n",
      "           9       0.00      0.00      0.00         0\n",
      "          10       0.00      0.00      0.00         1\n",
      "\n",
      "    accuracy                           0.21       120\n",
      "   macro avg       0.10      0.06      0.07       120\n",
      "weighted avg       0.44      0.21      0.28       120\n",
      "\n",
      "Naive Bayes\n",
      "              precision    recall  f1-score   support\n",
      "\n",
      "           1       0.54      0.41      0.47        17\n",
      "           2       0.43      0.43      0.43        28\n",
      "           3       0.00      0.00      0.00         4\n",
      "           4       0.23      0.31      0.26        16\n",
      "           5       0.45      0.45      0.45        11\n",
      "           6       0.11      0.10      0.11        10\n",
      "           7       0.00      0.00      0.00         1\n",
      "           8       0.33      0.25      0.29        16\n",
      "           9       0.00      0.00      0.00         0\n",
      "          10       0.54      0.41      0.47        17\n",
      "\n",
      "    accuracy                           0.34       120\n",
      "   macro avg       0.26      0.24      0.25       120\n",
      "weighted avg       0.38      0.34      0.36       120\n",
      "\n",
      "Bagging Classifier\n",
      "              precision    recall  f1-score   support\n",
      "\n",
      "           1       0.00      0.00      0.00         0\n",
      "           2       1.00      0.23      0.38       120\n",
      "           3       0.00      0.00      0.00         0\n",
      "           4       0.00      0.00      0.00         0\n",
      "           5       0.00      0.00      0.00         0\n",
      "           6       0.00      0.00      0.00         0\n",
      "           7       0.00      0.00      0.00         0\n",
      "           8       0.00      0.00      0.00         0\n",
      "           9       0.00      0.00      0.00         0\n",
      "          10       0.00      0.00      0.00         0\n",
      "\n",
      "    accuracy                           0.23       120\n",
      "   macro avg       0.10      0.02      0.04       120\n",
      "weighted avg       1.00      0.23      0.38       120\n",
      "\n",
      "{'Linear SVM': 0.23333333333333334, 'RBF SVM': 0.3416666666666667, 'Logistic Regression': 0.375, 'Decision Tree': 0.10833333333333334, 'Random Forest': 0.35, 'Neural Net': 0.39166666666666666, 'AdaBoost': 0.20833333333333334, 'Naive Bayes': 0.3416666666666667, 'Bagging Classifier': 0.23333333333333334}\n"
     ]
    }
   ],
   "source": [
    "names = [\"Linear SVM\", \"RBF SVM\", \"Logistic Regression\",\n",
    "         \"Decision Tree\", \"Random Forest\", \"Neural Net\", \"AdaBoost\",\n",
    "         \"Naive Bayes\", \"Bagging Classifier\"]\n",
    "         \n",
    "classifiers = [\n",
    "    SVC(kernel=\"linear\", C=0.025),\n",
    "    SVC(gamma=2, C=1),\n",
    "    # GaussianProcessClassifier(1.0 * RBF(1.0), n_jobs=-1),\n",
    "    LogisticRegression(random_state=0, max_iter = 5000),\n",
    "    DecisionTreeClassifier(),\n",
    "    RandomForestClassifier(),\n",
    "    MLPClassifier(alpha=1, max_iter=5000),\n",
    "    AdaBoostClassifier(),\n",
    "    GaussianNB(),\n",
    "    BaggingClassifier(base_estimator=SVC(),\n",
    "                        n_estimators=10, random_state=0)]\n",
    "\n",
    "score_dict = dict()\n",
    "for name, clf in zip(names, classifiers):\n",
    "        clf.fit(X_train, y_train)\n",
    "        score = clf.score(X_test, y_test)\n",
    "        score_dict[name] = score\n",
    "        print(name)\n",
    "        print(classification_report(clf.predict(X_test), y_test, zero_division=0))\n",
    "print(score_dict)"
   ]
  },
  {
   "cell_type": "markdown",
   "metadata": {},
   "source": [
    "## Multiclass classification, positive labels only, balanced"
   ]
  },
  {
   "cell_type": "code",
   "execution_count": 31,
   "metadata": {},
   "outputs": [
    {
     "name": "stdout",
     "output_type": "stream",
     "text": [
      "Linear SVM\n",
      "              precision    recall  f1-score   support\n",
      "\n",
      "           1       0.46      0.43      0.44        14\n",
      "           2       0.43      0.67      0.52        18\n",
      "           3       0.50      0.12      0.20        24\n",
      "           4       0.18      0.80      0.30         5\n",
      "           5       0.36      0.44      0.40         9\n",
      "           6       0.00      0.00      0.00         3\n",
      "           7       0.00      0.00      0.00         2\n",
      "           8       0.42      0.33      0.37        15\n",
      "           9       0.50      0.05      0.09        21\n",
      "          10       0.23      0.33      0.27         9\n",
      "\n",
      "    accuracy                           0.32       120\n",
      "   macro avg       0.31      0.32      0.26       120\n",
      "weighted avg       0.41      0.32      0.29       120\n",
      "\n",
      "RBF SVM\n",
      "              precision    recall  f1-score   support\n",
      "\n",
      "           1       0.38      0.38      0.38        13\n",
      "           2       0.64      0.34      0.44        53\n",
      "           3       0.00      0.00      0.00         3\n",
      "           4       0.36      0.36      0.36        22\n",
      "           5       0.45      0.45      0.45        11\n",
      "           6       0.00      0.00      0.00         3\n",
      "           7       0.00      0.00      0.00         1\n",
      "           8       0.08      0.25      0.12         4\n",
      "           9       0.00      0.00      0.00         0\n",
      "          10       0.38      0.50      0.43        10\n",
      "\n",
      "    accuracy                           0.35       120\n",
      "   macro avg       0.23      0.23      0.22       120\n",
      "weighted avg       0.47      0.35      0.39       120\n",
      "\n",
      "Logistic Regression\n",
      "              precision    recall  f1-score   support\n",
      "\n",
      "           1       0.54      0.44      0.48        16\n",
      "           2       0.29      0.67      0.40        12\n",
      "           3       0.33      0.15      0.21        13\n",
      "           4       0.32      0.58      0.41        12\n",
      "           5       0.55      0.38      0.44        16\n",
      "           6       0.00      0.00      0.00         6\n",
      "           7       0.00      0.00      0.00         5\n",
      "           8       0.50      0.27      0.35        22\n",
      "           9       0.00      0.00      0.00         6\n",
      "          10       0.46      0.50      0.48        12\n",
      "\n",
      "    accuracy                           0.35       120\n",
      "   macro avg       0.30      0.30      0.28       120\n",
      "weighted avg       0.38      0.35      0.34       120\n",
      "\n",
      "Decision Tree\n",
      "              precision    recall  f1-score   support\n",
      "\n",
      "           1       0.08      0.10      0.09        10\n",
      "           2       0.21      0.25      0.23        24\n",
      "           3       0.17      0.10      0.12        10\n",
      "           4       0.05      0.08      0.06        13\n",
      "           5       0.18      0.18      0.18        11\n",
      "           6       0.11      0.14      0.12         7\n",
      "           7       0.00      0.00      0.00         7\n",
      "           8       0.08      0.05      0.06        20\n",
      "           9       0.00      0.00      0.00         3\n",
      "          10       0.15      0.13      0.14        15\n",
      "\n",
      "    accuracy                           0.12       120\n",
      "   macro avg       0.10      0.10      0.10       120\n",
      "weighted avg       0.12      0.12      0.12       120\n",
      "\n",
      "Random Forest\n",
      "              precision    recall  f1-score   support\n",
      "\n",
      "           1       0.54      0.44      0.48        16\n",
      "           2       0.54      0.34      0.42        44\n",
      "           3       0.00      0.00      0.00         7\n",
      "           4       0.18      0.33      0.24        12\n",
      "           5       0.27      0.30      0.29        10\n",
      "           6       0.11      0.14      0.12         7\n",
      "           7       0.00      0.00      0.00         2\n",
      "           8       0.17      0.22      0.19         9\n",
      "           9       0.00      0.00      0.00         2\n",
      "          10       0.23      0.27      0.25        11\n",
      "\n",
      "    accuracy                           0.29       120\n",
      "   macro avg       0.20      0.20      0.20       120\n",
      "weighted avg       0.35      0.29      0.31       120\n",
      "\n",
      "Neural Net\n",
      "              precision    recall  f1-score   support\n",
      "\n",
      "           1       0.46      0.33      0.39        18\n",
      "           2       0.14      0.57      0.23         7\n",
      "           3       0.17      0.08      0.11        12\n",
      "           4       0.14      0.43      0.21         7\n",
      "           5       0.55      0.50      0.52        12\n",
      "           6       0.22      0.22      0.22         9\n",
      "           7       0.00      0.00      0.00         6\n",
      "           8       0.42      0.19      0.26        27\n",
      "           9       0.00      0.00      0.00         6\n",
      "          10       0.46      0.38      0.41        16\n",
      "\n",
      "    accuracy                           0.28       120\n",
      "   macro avg       0.26      0.27      0.23       120\n",
      "weighted avg       0.33      0.28      0.28       120\n",
      "\n",
      "AdaBoost\n",
      "              precision    recall  f1-score   support\n",
      "\n",
      "           1       0.23      0.23      0.23        13\n",
      "           2       0.11      0.21      0.14        14\n",
      "           3       0.50      0.08      0.14        37\n",
      "           4       0.09      0.15      0.11        13\n",
      "           5       0.00      0.00      0.00         1\n",
      "           6       0.11      0.09      0.10        11\n",
      "           7       0.25      0.10      0.14        10\n",
      "           8       0.00      0.00      0.00         6\n",
      "           9       0.00      0.00      0.00         9\n",
      "          10       0.00      0.00      0.00         6\n",
      "\n",
      "    accuracy                           0.11       120\n",
      "   macro avg       0.13      0.09      0.09       120\n",
      "weighted avg       0.23      0.11      0.12       120\n",
      "\n",
      "Naive Bayes\n",
      "              precision    recall  f1-score   support\n",
      "\n",
      "           1       0.38      0.38      0.38        13\n",
      "           2       0.46      0.34      0.39        38\n",
      "           3       0.00      0.00      0.00         0\n",
      "           4       0.36      0.32      0.34        25\n",
      "           5       0.27      0.38      0.32         8\n",
      "           6       0.00      0.00      0.00         7\n",
      "           7       0.00      0.00      0.00         1\n",
      "           8       0.17      0.22      0.19         9\n",
      "           9       0.00      0.00      0.00         0\n",
      "          10       0.46      0.32      0.37        19\n",
      "\n",
      "    accuracy                           0.31       120\n",
      "   macro avg       0.21      0.20      0.20       120\n",
      "weighted avg       0.37      0.31      0.33       120\n",
      "\n",
      "Bagging Classifier\n",
      "              precision    recall  f1-score   support\n",
      "\n",
      "           1       0.54      0.50      0.52        14\n",
      "           2       0.57      0.44      0.50        36\n",
      "           3       0.33      0.18      0.24        11\n",
      "           4       0.27      0.40      0.32        15\n",
      "           5       0.36      0.40      0.38        10\n",
      "           6       0.00      0.00      0.00         6\n",
      "           7       0.00      0.00      0.00         3\n",
      "           8       0.25      0.23      0.24        13\n",
      "           9       0.00      0.00      0.00        11\n",
      "          10       0.00      0.00      0.00         1\n",
      "\n",
      "    accuracy                           0.32       120\n",
      "   macro avg       0.23      0.22      0.22       120\n",
      "weighted avg       0.36      0.32      0.33       120\n",
      "\n",
      "{'Linear SVM': 0.31666666666666665, 'RBF SVM': 0.35, 'Logistic Regression': 0.35, 'Decision Tree': 0.125, 'Random Forest': 0.2916666666666667, 'Neural Net': 0.275, 'AdaBoost': 0.10833333333333334, 'Naive Bayes': 0.30833333333333335, 'Bagging Classifier': 0.31666666666666665}\n"
     ]
    }
   ],
   "source": [
    "names = [\"Linear SVM\", \"RBF SVM\", \"Logistic Regression\",\n",
    "         \"Decision Tree\", \"Random Forest\", \"Neural Net\", \"AdaBoost\",\n",
    "         \"Naive Bayes\", \"Bagging Classifier\"]\n",
    "         \n",
    "classifiers = [\n",
    "    SVC(kernel=\"linear\", C=0.025),\n",
    "    SVC(gamma=2, C=1),\n",
    "    # GaussianProcessClassifier(1.0 * RBF(1.0), n_jobs=-1),\n",
    "    LogisticRegression(random_state=0, max_iter = 5000),\n",
    "    DecisionTreeClassifier(),\n",
    "    RandomForestClassifier(),\n",
    "    MLPClassifier(alpha=1, max_iter=5000),\n",
    "    AdaBoostClassifier(),\n",
    "    GaussianNB(),\n",
    "    BaggingClassifier(base_estimator=SVC(),\n",
    "                        n_estimators=10, random_state=0)]\n",
    "\n",
    "score_dict = dict()\n",
    "for name, clf in zip(names, classifiers):\n",
    "        clf.fit(X_train_rebal, y_train_rebal)\n",
    "        score = clf.score(X_test, y_test)\n",
    "        score_dict[name] = score\n",
    "        print(name)\n",
    "        print(classification_report(clf.predict(X_test), y_test, zero_division=0))\n",
    "print(score_dict)"
   ]
  },
  {
   "cell_type": "markdown",
   "metadata": {},
   "source": [
    "### Using data pipeline for binary logistic regression"
   ]
  },
  {
   "cell_type": "code",
   "execution_count": 33,
   "metadata": {
    "id": "SIhPUyNTu3QD"
   },
   "outputs": [
    {
     "ename": "NameError",
     "evalue": "name 'DataLoader' is not defined",
     "output_type": "error",
     "traceback": [
      "\u001b[1;31m---------------------------------------------------------------------------\u001b[0m",
      "\u001b[1;31mNameError\u001b[0m                                 Traceback (most recent call last)",
      "\u001b[1;32m<ipython-input-33-0006b8ed3a93>\u001b[0m in \u001b[0;36m<module>\u001b[1;34m\u001b[0m\n\u001b[0;32m      1\u001b[0m \u001b[1;31m#Using data pipeline\u001b[0m\u001b[1;33m\u001b[0m\u001b[1;33m\u001b[0m\u001b[1;33m\u001b[0m\u001b[0m\n\u001b[0;32m      2\u001b[0m \u001b[1;33m\u001b[0m\u001b[0m\n\u001b[1;32m----> 3\u001b[1;33m \u001b[0mdata\u001b[0m \u001b[1;33m=\u001b[0m \u001b[0mDataLoader\u001b[0m\u001b[1;33m(\u001b[0m\u001b[1;34m'../data/EMNLP2020.csv'\u001b[0m\u001b[1;33m)\u001b[0m\u001b[1;33m.\u001b[0m\u001b[0mload\u001b[0m\u001b[1;33m(\u001b[0m\u001b[1;33m)\u001b[0m\u001b[1;33m\u001b[0m\u001b[1;33m\u001b[0m\u001b[0m\n\u001b[0m\u001b[0;32m      4\u001b[0m \u001b[1;33m\u001b[0m\u001b[0m\n\u001b[0;32m      5\u001b[0m \u001b[1;31m# Load preprocessor\u001b[0m\u001b[1;33m\u001b[0m\u001b[1;33m\u001b[0m\u001b[1;33m\u001b[0m\u001b[0m\n",
      "\u001b[1;31mNameError\u001b[0m: name 'DataLoader' is not defined"
     ]
    }
   ],
   "source": [
    "#Using data pipeline\n",
    "\n",
    "data = DataLoader('../data/EMNLP2020.csv').load()\n",
    "\n",
    "# Load preprocessor\n",
    "lp = LemmatizerPreprocessor()"
   ]
  },
  {
   "cell_type": "code",
   "execution_count": null,
   "metadata": {},
   "outputs": [],
   "source": [
    "w2v = Word2Vec(path='../data/glove.6B/glove.6B.200d.txt')"
   ]
  },
  {
   "cell_type": "code",
   "execution_count": null,
   "metadata": {},
   "outputs": [],
   "source": [
    "# binary case\n",
    "X, y = w2v.featurize(data, lp, mode='binary')\n",
    "\n"
   ]
  },
  {
   "cell_type": "code",
   "execution_count": null,
   "metadata": {},
   "outputs": [],
   "source": [
    "X_train, X_test, y_train, y_test = train_test_split(X, y, test_size=0.2, random_state=42)\n",
    "print(X_train.shape, X_test.shape, y_train.shape, y_test.shape)"
   ]
  },
  {
   "cell_type": "code",
   "execution_count": null,
   "metadata": {},
   "outputs": [],
   "source": [
    "#logistic regression with binary labels\n",
    "\n",
    "logReg = LogisticRegression(random_state=0, max_iter = 50000)\n",
    "y_train = np.ravel(y_train)\n",
    "y_test = np.ravel(y_test)\n",
    "logReg.fit(X_train, y_train)\n",
    "\n",
    "test_training= logReg.score(X_train, y_train)\n",
    "test_testing = logReg.score(X_test, y_test)\n",
    "\n",
    "print(\"training data score\", test_training, \"\\ntesting data score\", test_testing)"
   ]
  },
  {
   "cell_type": "code",
   "execution_count": null,
   "metadata": {},
   "outputs": [],
   "source": []
  }
 ],
 "metadata": {
  "colab": {
   "name": "supervised.ipynb",
   "provenance": []
  },
  "kernelspec": {
   "display_name": "Python 3",
   "language": "python",
   "name": "python3"
  },
  "language_info": {
   "codemirror_mode": {
    "name": "ipython",
    "version": 3
   },
   "file_extension": ".py",
   "mimetype": "text/x-python",
   "name": "python",
   "nbconvert_exporter": "python",
   "pygments_lexer": "ipython3",
   "version": "3.9.0"
  }
 },
 "nbformat": 4,
 "nbformat_minor": 4
}
