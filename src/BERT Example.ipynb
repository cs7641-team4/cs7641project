{
 "cells": [
  {
   "cell_type": "code",
   "execution_count": 74,
   "id": "coastal-situation",
   "metadata": {},
   "outputs": [],
   "source": [
    "from LanguageModels.BERT import BERT\n",
    "from LanguageModels.Word2Vec import Word2Vec\n",
    "from Preprocessing.DataLoader import DataLoader\n",
    "from Preprocessing.LemmatizerPreprocessor import LemmatizerPreprocessor\n",
    "import torch\n",
    "from sklearn.model_selection import train_test_split\n",
    "from sklearn.svm import SVC\n",
    "from sklearn.svm import LinearSVC\n",
    "from sklearn.pipeline import make_pipeline\n",
    "from sklearn.preprocessing import StandardScaler\n",
    "from sklearn.metrics import accuracy_score\n",
    "\n",
    "from sklearn.model_selection import train_test_split\n",
    "from sklearn.metrics import classification_report\n",
    "import numpy as np\n"
   ]
  },
  {
   "cell_type": "code",
   "execution_count": 75,
   "id": "furnished-restoration",
   "metadata": {},
   "outputs": [],
   "source": [
    "is_cuda = True\n",
    "is_cuda = is_cuda and torch.cuda.is_available() # will turn off cuda if the machine doesnt have a GPU"
   ]
  },
  {
   "cell_type": "code",
   "execution_count": 76,
   "id": "worth-shakespeare",
   "metadata": {},
   "outputs": [],
   "source": [
    "lp = LemmatizerPreprocessor()"
   ]
  },
  {
   "cell_type": "code",
   "execution_count": 77,
   "id": "fancy-reception",
   "metadata": {},
   "outputs": [],
   "source": [
    "# Load data\n",
    "data = DataLoader('../data/EMNLP2020.csv').load()"
   ]
  },
  {
   "cell_type": "code",
   "execution_count": 78,
   "id": "located-roommate",
   "metadata": {},
   "outputs": [],
   "source": [
    "## Bert\n",
    "bert = BERT(cuda = is_cuda)\n",
    "\n",
    "## W2V\n",
    "w2v = Word2Vec(path='../data/glove.6B/glove.6B.200d.txt') "
   ]
  },
  {
   "cell_type": "code",
   "execution_count": 79,
   "id": "related-collection",
   "metadata": {},
   "outputs": [],
   "source": [
    "#### multiclass case\n",
    "X_multiclass_w2v, y_multiclass_w2v = w2v.featurize(data, lp, mode='multiclass', remove_neg_samples=True)"
   ]
  },
  {
   "cell_type": "code",
   "execution_count": 80,
   "id": "married-fever",
   "metadata": {},
   "outputs": [
    {
     "name": "stderr",
     "output_type": "stream",
     "text": [
      "100%|██████████████████████████████████████████████████████████████████████████████████████████████████████████████████████████████████| 1450/1450 [01:31<00:00, 15.92it/s]\n"
     ]
    }
   ],
   "source": [
    "X_multiclass_bert, y_multiclass_bert = bert.featurize(data, lp, mode='multilabel', remove_neg_samples=True)"
   ]
  },
  {
   "cell_type": "code",
   "execution_count": 81,
   "id": "incomplete-cream",
   "metadata": {},
   "outputs": [],
   "source": [
    "X, y = X_multiclass_bert, y_multiclass_bert"
   ]
  },
  {
   "cell_type": "code",
   "execution_count": 82,
   "id": "civilian-encounter",
   "metadata": {},
   "outputs": [
    {
     "name": "stdout",
     "output_type": "stream",
     "text": [
      "(750, 768)\n",
      "(750, 2)\n"
     ]
    }
   ],
   "source": [
    "print(X.shape)\n",
    "print(y.shape)"
   ]
  },
  {
   "cell_type": "code",
   "execution_count": 133,
   "id": "great-collaboration",
   "metadata": {},
   "outputs": [],
   "source": [
    "X_train, X_test, y_train, y_test = train_test_split(X, y, test_size=0.33, random_state=42)"
   ]
  },
  {
   "cell_type": "code",
   "execution_count": 134,
   "id": "frequent-sherman",
   "metadata": {},
   "outputs": [
    {
     "name": "stdout",
     "output_type": "stream",
     "text": [
      "(502, 768)\n",
      "(248, 768)\n",
      "(502, 2)\n",
      "(248, 2)\n"
     ]
    }
   ],
   "source": [
    "print(X_train.shape)\n",
    "print(X_test.shape)\n",
    "print(y_train.shape)\n",
    "print(y_test.shape)"
   ]
  },
  {
   "cell_type": "code",
   "execution_count": 135,
   "id": "nonprofit-committee",
   "metadata": {},
   "outputs": [],
   "source": [
    "def ymax_2arg(y):\n",
    "    a, b = y\n",
    "    \n",
    "    if a == None:\n",
    "        return 0\n",
    "    elif b == None:\n",
    "        return 1\n",
    "    else:\n",
    "        return np.argmax(y)"
   ]
  },
  {
   "cell_type": "code",
   "execution_count": 136,
   "id": "leading-spoke",
   "metadata": {},
   "outputs": [],
   "source": [
    "y_train_classes = []\n",
    "for i in range(len(y_train)):\n",
    "    y_train_classes.append(ymax_2arg(y_train[i]))\n",
    "\n",
    "y_test_classes = []\n",
    "for i in range(len(y_test)):\n",
    "    y_test_classes.append(ymax_2arg(y_test[i]))\n"
   ]
  },
  {
   "cell_type": "code",
   "execution_count": 147,
   "id": "living-longer",
   "metadata": {},
   "outputs": [
    {
     "name": "stdout",
     "output_type": "stream",
     "text": [
      "Training Accuracy:  0.8844621513944223\n",
      "Testing Accuracy:  0.8790322580645161\n",
      "              precision    recall  f1-score   support\n",
      "\n",
      "           0       0.00      0.00      0.00        30\n",
      "           1       0.88      1.00      0.94       218\n",
      "\n",
      "    accuracy                           0.88       248\n",
      "   macro avg       0.44      0.50      0.47       248\n",
      "weighted avg       0.77      0.88      0.82       248\n",
      "\n"
     ]
    },
    {
     "name": "stderr",
     "output_type": "stream",
     "text": [
      "C:\\Users\\Ryan\\anaconda3\\envs\\python3_env\\lib\\site-packages\\sklearn\\metrics\\_classification.py:1245: UndefinedMetricWarning: Precision and F-score are ill-defined and being set to 0.0 in labels with no predicted samples. Use `zero_division` parameter to control this behavior.\n",
      "  _warn_prf(average, modifier, msg_start, len(result))\n",
      "C:\\Users\\Ryan\\anaconda3\\envs\\python3_env\\lib\\site-packages\\sklearn\\metrics\\_classification.py:1245: UndefinedMetricWarning: Precision and F-score are ill-defined and being set to 0.0 in labels with no predicted samples. Use `zero_division` parameter to control this behavior.\n",
      "  _warn_prf(average, modifier, msg_start, len(result))\n",
      "C:\\Users\\Ryan\\anaconda3\\envs\\python3_env\\lib\\site-packages\\sklearn\\metrics\\_classification.py:1245: UndefinedMetricWarning: Precision and F-score are ill-defined and being set to 0.0 in labels with no predicted samples. Use `zero_division` parameter to control this behavior.\n",
      "  _warn_prf(average, modifier, msg_start, len(result))\n"
     ]
    }
   ],
   "source": [
    "clf = make_pipeline(StandardScaler(), SVC(kernel='rbf', C=0.01, gamma='scale'))\n",
    "clf.fit(X_train, y_train_classes)\n",
    "print(\"Training Accuracy: \", accuracy_score(y_train_classes, clf.predict(X_train)))\n",
    "print(\"Testing Accuracy: \", accuracy_score(y_test_classes, clf.predict(X_test)))\n",
    "print(classification_report(y_test_classes, clf.predict(X_test)))"
   ]
  },
  {
   "cell_type": "code",
   "execution_count": null,
   "id": "lightweight-india",
   "metadata": {},
   "outputs": [],
   "source": []
  }
 ],
 "metadata": {
  "kernelspec": {
   "display_name": "Python 3",
   "language": "python",
   "name": "python3"
  },
  "language_info": {
   "codemirror_mode": {
    "name": "ipython",
    "version": 3
   },
   "file_extension": ".py",
   "mimetype": "text/x-python",
   "name": "python",
   "nbconvert_exporter": "python",
   "pygments_lexer": "ipython3",
   "version": "3.6.12"
  }
 },
 "nbformat": 4,
 "nbformat_minor": 5
}
